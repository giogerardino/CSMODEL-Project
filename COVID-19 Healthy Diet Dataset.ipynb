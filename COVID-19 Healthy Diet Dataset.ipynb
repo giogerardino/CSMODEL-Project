{
 "cells": [
  {
   "cell_type": "markdown",
   "id": "d2a5030b",
   "metadata": {
    "pycharm": {
     "name": "#%% md\n"
    }
   },
   "source": [
    "# COVID-19 Healthy Diet Dataset\n",
    "\n",
    "*CSMODEL S13 - Group 11: Philipe Chan, Gio Gerardino, Jaira Santos*"
   ]
  },
  {
   "cell_type": "markdown",
   "id": "da0b573e",
   "metadata": {
    "pycharm": {
     "name": "#%% md\n"
    }
   },
   "source": [
    "# I. Dataset Description"
   ]
  },
  {
   "cell_type": "markdown",
   "id": "a55151ce",
   "metadata": {
    "pycharm": {
     "name": "#%% md\n"
    }
   },
   "source": [
    "## About the Dataset\n",
    "\n",
    "The **Food Supply Quantity** dataset was created in 2020, right as the COVID-19 pandemic was just emerging to be a global health crisis. During this period, the exponentially rising number of cases of COVID-19 became a huge challenge for doctors, nurses, paramedics and thousands of medical workers, as they have placed their lives on the frontline to save a number patients who are infected. With this in mind, the researcher/author sought to identify methods by which people might help in protecting each another amidst the pandemic—one of which, would be **adopting healthy diets** as a means of looking after oneself and one's family. "
   ]
  },
  {
   "cell_type": "markdown",
   "id": "e2f8da9e",
   "metadata": {
    "pycharm": {
     "name": "#%% md\n"
    }
   },
   "source": [
    "## Collection Process \n",
    "\n",
    "\n",
    "The author obtained the data for different food group supply quantities, nutrition values, obesity, and undernourished percentages from Food and Agriculture Organization of the United Nations FAO website. The population count from each country was acquired from the Population Reference Bureau Website while the COVID-19 confirmed, deaths, recovered and active cases came from CSSE Website."
   ]
  },
  {
   "cell_type": "markdown",
   "id": "1b780ec1",
   "metadata": {
    "pycharm": {
     "name": "#%% md\n"
    }
   },
   "source": [
    "## Import\n",
    "\n",
    "Import **pandas**, **plotly.express**, and **scipy.stats**."
   ]
  },
  {
   "cell_type": "code",
   "execution_count": 2,
   "id": "fac6bba5-068c-4c70-9b0b-dfc4a55931fc",
   "metadata": {
    "pycharm": {
     "name": "#%%\n"
    }
   },
   "outputs": [],
   "source": [
    "import numpy as np\n",
    "import pandas as pd\n",
    "\n",
    "import plotly.express as px\n",
    "import scipy.stats as stats\n",
    "\n",
    "food_df = pd.read_csv(\"Food_Supply_Quantity_kg_Data.csv\")\n",
    "food_desc = pd.read_csv(\"Supply_Food_Data_Descriptions.csv\")"
   ]
  },
  {
   "cell_type": "markdown",
   "id": "153894d3",
   "metadata": {
    "pycharm": {
     "name": "#%% md\n"
    }
   },
   "source": [
    "## Structure of the Dataset File\n",
    "\n",
    "- The **rows** in the dataset represent the combined data of food categories intake, national population obesity and undernourished rates, national COVID-19 cases (confirmed, deaths, recovered, active), and population counts of **countries** around the world.\n",
    "- The **columns** represent the countries of the observations, and the food-supply related variables pertaining to the intake of certain food groups, such as grains, vegetables, fruits, and proteins, among others.  Additionally, variables representing the national obesity and undernutrition rates, COVID-19 confirmed cases, deaths, recovered cases, active cases, and country population counts are included. With the exception of the country name and the population count, each of these variables is represented as a **percentage**.\n",
    "- There are a total of **170 observations and 32 variables** in the dataset.\n",
    "\n",
    "## Variables\n",
    "\n",
    "- The first variable represents the country of an observation.\n",
    "- The succeeding 23 variables in the dataset represent the various **food categories** that individuals consume in each country.\n",
    "- Meanwhile, the 24th and 25th variables represent the **percentages of obese and undernourished people in each country**, respectively.\n",
    "- Finally, the remaining 6 variables of the dataset represent the **proportion of confirmed COVID-19 cases, deaths, recovered cases, active COVID-19 cases, population counts of each country, and the unit used for each of the variables (with the exception of the population)**.\n",
    "\n",
    "\n",
    "More comprehensive descriptions of each variable in the dataset are listed below:\n",
    "  - **Country:** Countries around the world\n",
    "  - **Alcoholic Beverages:** Percentage of food intake (kg) alcoholic beverages\n",
    "  - **Animal Fats:** Percentage of food intake (kg) animal fats\n",
    "  - **Animal Products:** Percentage of food intake (kg) animal products\n",
    "  - **Aquatic Products, Other:** Percentage of food intake (kg) aquatic products\n",
    "  - **Cereals — Excluding Beer:** Percentage of food intake (kg) cereals — excluding beer\n",
    "  - **Eggs:** Percentage of food intake (kg) eggs\n",
    "  - **Fish, Seafood:** Percentage of food intake (kg) fish, seafood\n",
    "  - **Fruits — Excluding Wine:** Percentage of food intake (kg) fruits — excluding wine\n",
    "  - **Meat:** Percentage of food intake (kg) meat\n",
    "  - **Milk — Excluding Butter:** Percentage of food intake (kg) milk — excluding butter\n",
    "  - **Miscellaneous:** Percentage of food intake (kg) miscellaneous\n",
    "  - **Offals:** Percentage of food intake (kg) offals\n",
    "  - **Oilcrops:** Percentage of food intake (kg) oilcrops\n",
    "  - **Pulses:** Percentage of food intake (kg) pulses\n",
    "  - **Spices:** Percentage of food intake (kg) spices\n",
    "  - **Starchy Roots:** Percentage of food intake (kg) starchy roots\n",
    "  - **Stimulants:** Percentage of food intake (kg) stimulants\n",
    "  - **Sugars & Sweeteners:** Percentage of food intake (kg) sugars and sweeteners\n",
    "  - **Sugar Crops:** Percentage of food intake (kg) sugar crops\n",
    "  - **Treenuts:** Percentage of food intake (kg) treenuts\n",
    "  - **Vegetable Oils:** Percentage of food intake (kg) vegetable oils\n",
    "  - **Vegetables:** Percentage of food intake (kg) vegetables\n",
    "  - **Vegetal Products:** Percentage of food intake (kg) vegetal products\n",
    "  - **Obesity:** Obesity rate of the population\n",
    "  - **Undernourished:** Undernourished rate of the population\n",
    "  - **Confirmed:** Percentage of confirmed COVID-19 cases of the population\n",
    "  - **Deaths:** Percentage of COVID-19 deaths of the population\n",
    "  - **Recovered:** Percentage of COVID-19 recovered of the population\n",
    "  - **Active:** Percentage of COVID-19 active cases of the population\n",
    "  - **Population:** Population count of the country\n",
    "  - **Unit (all except Population):** Unit for data (%)"
   ]
  },
  {
   "cell_type": "markdown",
   "id": "e59a6414",
   "metadata": {
    "pycharm": {
     "name": "#%% md\n"
    }
   },
   "source": [
    "Show the contents of the `Food Description` which contains:\n",
    "\n",
    "   - **Category:** the different categories of food; and\n",
    "   - **Items:** the different types of food that belong to each category."
   ]
  },
  {
   "cell_type": "code",
   "execution_count": 3,
   "id": "c20c77ce",
   "metadata": {
    "pycharm": {
     "name": "#%%\n"
    }
   },
   "outputs": [
    {
     "data": {
      "text/html": [
       "<div>\n",
       "<style scoped>\n",
       "    .dataframe tbody tr th:only-of-type {\n",
       "        vertical-align: middle;\n",
       "    }\n",
       "\n",
       "    .dataframe tbody tr th {\n",
       "        vertical-align: top;\n",
       "    }\n",
       "\n",
       "    .dataframe thead th {\n",
       "        text-align: right;\n",
       "    }\n",
       "</style>\n",
       "<table border=\"1\" class=\"dataframe\">\n",
       "  <thead>\n",
       "    <tr style=\"text-align: right;\">\n",
       "      <th></th>\n",
       "      <th>Categories</th>\n",
       "      <th>Items</th>\n",
       "    </tr>\n",
       "  </thead>\n",
       "  <tbody>\n",
       "    <tr>\n",
       "      <th>0</th>\n",
       "      <td>Alcoholic Beverages</td>\n",
       "      <td>Alcohol, Non-Food; Beer; Beverages, Alcoholic;...</td>\n",
       "    </tr>\n",
       "    <tr>\n",
       "      <th>1</th>\n",
       "      <td>Animal fats</td>\n",
       "      <td>Butter, Ghee; Cream; Fats, Animals, Raw; Fish,...</td>\n",
       "    </tr>\n",
       "    <tr>\n",
       "      <th>2</th>\n",
       "      <td>Animal Products</td>\n",
       "      <td>Aquatic Animals, Others; Aquatic Plants; Bovin...</td>\n",
       "    </tr>\n",
       "    <tr>\n",
       "      <th>3</th>\n",
       "      <td>Aquatic Products, Other</td>\n",
       "      <td>Aquatic Animals, Others; Aquatic Plants; Meat,...</td>\n",
       "    </tr>\n",
       "    <tr>\n",
       "      <th>4</th>\n",
       "      <td>Cereals - Excluding Beer</td>\n",
       "      <td>Barley and products; Cereals, Other; Maize and...</td>\n",
       "    </tr>\n",
       "    <tr>\n",
       "      <th>5</th>\n",
       "      <td>Eggs</td>\n",
       "      <td>Eggs</td>\n",
       "    </tr>\n",
       "    <tr>\n",
       "      <th>6</th>\n",
       "      <td>Fish, Seafood</td>\n",
       "      <td>Cephalopods; Crustaceans; Demersal Fish; Fresh...</td>\n",
       "    </tr>\n",
       "    <tr>\n",
       "      <th>7</th>\n",
       "      <td>Fruits - Excluding Wine</td>\n",
       "      <td>Apples and products; Bananas; Citrus, Other; D...</td>\n",
       "    </tr>\n",
       "    <tr>\n",
       "      <th>8</th>\n",
       "      <td>Meat</td>\n",
       "      <td>Bovine Meat; Meat, Other; Mutton &amp; Goat Meat; ...</td>\n",
       "    </tr>\n",
       "    <tr>\n",
       "      <th>9</th>\n",
       "      <td>Milk - Excluding Butter</td>\n",
       "      <td>Milk - Excluding Butter</td>\n",
       "    </tr>\n",
       "    <tr>\n",
       "      <th>10</th>\n",
       "      <td>Miscellaneous</td>\n",
       "      <td>Infant food; Miscellaneous</td>\n",
       "    </tr>\n",
       "    <tr>\n",
       "      <th>11</th>\n",
       "      <td>Offals</td>\n",
       "      <td>Offals, Edible</td>\n",
       "    </tr>\n",
       "    <tr>\n",
       "      <th>12</th>\n",
       "      <td>Oilcrops</td>\n",
       "      <td>Coconuts - Incl Copra; Cottonseed; Groundnuts ...</td>\n",
       "    </tr>\n",
       "    <tr>\n",
       "      <th>13</th>\n",
       "      <td>Pulses</td>\n",
       "      <td>Beans; Peas; Pulses, Other and products</td>\n",
       "    </tr>\n",
       "    <tr>\n",
       "      <th>14</th>\n",
       "      <td>Spices</td>\n",
       "      <td>Cloves; Pepper; Pimento; Spices, Other</td>\n",
       "    </tr>\n",
       "    <tr>\n",
       "      <th>15</th>\n",
       "      <td>Starchy Roots</td>\n",
       "      <td>Cassava and products; Potatoes and products; R...</td>\n",
       "    </tr>\n",
       "    <tr>\n",
       "      <th>16</th>\n",
       "      <td>Stimulants</td>\n",
       "      <td>Cocoa Beans and products; Coffee and products;...</td>\n",
       "    </tr>\n",
       "    <tr>\n",
       "      <th>17</th>\n",
       "      <td>Sugar &amp; Sweeteners</td>\n",
       "      <td>Honey; Sugar (Raw Equivalent); Sugar non-centr...</td>\n",
       "    </tr>\n",
       "    <tr>\n",
       "      <th>18</th>\n",
       "      <td>Sugar Crops</td>\n",
       "      <td>Sugar beet; Sugar cane</td>\n",
       "    </tr>\n",
       "    <tr>\n",
       "      <th>19</th>\n",
       "      <td>Treenuts</td>\n",
       "      <td>Nuts and products</td>\n",
       "    </tr>\n",
       "    <tr>\n",
       "      <th>20</th>\n",
       "      <td>Vegetable Oils</td>\n",
       "      <td>Coconut Oil; Cottonseed Oil; Groundnut Oil; Ma...</td>\n",
       "    </tr>\n",
       "    <tr>\n",
       "      <th>21</th>\n",
       "      <td>Vegetables</td>\n",
       "      <td>Onions; Tomatoes and products; Vegetables, Other</td>\n",
       "    </tr>\n",
       "    <tr>\n",
       "      <th>22</th>\n",
       "      <td>Vegetal Products</td>\n",
       "      <td>Alcohol, Non-Food; Apples and products; Banana...</td>\n",
       "    </tr>\n",
       "  </tbody>\n",
       "</table>\n",
       "</div>"
      ],
      "text/plain": [
       "                  Categories  \\\n",
       "0        Alcoholic Beverages   \n",
       "1                Animal fats   \n",
       "2            Animal Products   \n",
       "3    Aquatic Products, Other   \n",
       "4   Cereals - Excluding Beer   \n",
       "5                       Eggs   \n",
       "6              Fish, Seafood   \n",
       "7    Fruits - Excluding Wine   \n",
       "8                       Meat   \n",
       "9    Milk - Excluding Butter   \n",
       "10             Miscellaneous   \n",
       "11                    Offals   \n",
       "12                  Oilcrops   \n",
       "13                    Pulses   \n",
       "14                    Spices   \n",
       "15             Starchy Roots   \n",
       "16                Stimulants   \n",
       "17        Sugar & Sweeteners   \n",
       "18               Sugar Crops   \n",
       "19                  Treenuts   \n",
       "20            Vegetable Oils   \n",
       "21                Vegetables   \n",
       "22          Vegetal Products   \n",
       "\n",
       "                                                Items  \n",
       "0   Alcohol, Non-Food; Beer; Beverages, Alcoholic;...  \n",
       "1   Butter, Ghee; Cream; Fats, Animals, Raw; Fish,...  \n",
       "2   Aquatic Animals, Others; Aquatic Plants; Bovin...  \n",
       "3   Aquatic Animals, Others; Aquatic Plants; Meat,...  \n",
       "4   Barley and products; Cereals, Other; Maize and...  \n",
       "5                                                Eggs  \n",
       "6   Cephalopods; Crustaceans; Demersal Fish; Fresh...  \n",
       "7   Apples and products; Bananas; Citrus, Other; D...  \n",
       "8   Bovine Meat; Meat, Other; Mutton & Goat Meat; ...  \n",
       "9                             Milk - Excluding Butter  \n",
       "10                         Infant food; Miscellaneous  \n",
       "11                                     Offals, Edible  \n",
       "12  Coconuts - Incl Copra; Cottonseed; Groundnuts ...  \n",
       "13            Beans; Peas; Pulses, Other and products  \n",
       "14             Cloves; Pepper; Pimento; Spices, Other  \n",
       "15  Cassava and products; Potatoes and products; R...  \n",
       "16  Cocoa Beans and products; Coffee and products;...  \n",
       "17  Honey; Sugar (Raw Equivalent); Sugar non-centr...  \n",
       "18                             Sugar beet; Sugar cane  \n",
       "19                                  Nuts and products  \n",
       "20  Coconut Oil; Cottonseed Oil; Groundnut Oil; Ma...  \n",
       "21   Onions; Tomatoes and products; Vegetables, Other  \n",
       "22  Alcohol, Non-Food; Apples and products; Banana...  "
      ]
     },
     "execution_count": 3,
     "metadata": {},
     "output_type": "execute_result"
    }
   ],
   "source": [
    "food_desc"
   ]
  },
  {
   "cell_type": "markdown",
   "id": "301b9434",
   "metadata": {
    "pycharm": {
     "name": "#%% md\n"
    }
   },
   "source": [
    "Show the contents of the `Food DataFrame` which contains the combined data of various food categories intake, world population obesity and undernourished rates, national COVID-19 cases (confirmed, deaths, recovered, active), and population counts of countries around the world."
   ]
  },
  {
   "cell_type": "code",
   "execution_count": 4,
   "id": "032ace3c",
   "metadata": {
    "pycharm": {
     "name": "#%%\n"
    }
   },
   "outputs": [
    {
     "data": {
      "text/html": [
       "<div>\n",
       "<style scoped>\n",
       "    .dataframe tbody tr th:only-of-type {\n",
       "        vertical-align: middle;\n",
       "    }\n",
       "\n",
       "    .dataframe tbody tr th {\n",
       "        vertical-align: top;\n",
       "    }\n",
       "\n",
       "    .dataframe thead th {\n",
       "        text-align: right;\n",
       "    }\n",
       "</style>\n",
       "<table border=\"1\" class=\"dataframe\">\n",
       "  <thead>\n",
       "    <tr style=\"text-align: right;\">\n",
       "      <th></th>\n",
       "      <th>Country</th>\n",
       "      <th>Alcoholic Beverages</th>\n",
       "      <th>Animal fats</th>\n",
       "      <th>Animal Products</th>\n",
       "      <th>Aquatic Products, Other</th>\n",
       "      <th>Cereals - Excluding Beer</th>\n",
       "      <th>Eggs</th>\n",
       "      <th>Fish, Seafood</th>\n",
       "      <th>Fruits - Excluding Wine</th>\n",
       "      <th>Meat</th>\n",
       "      <th>...</th>\n",
       "      <th>Vegetables</th>\n",
       "      <th>Vegetal Products</th>\n",
       "      <th>Obesity</th>\n",
       "      <th>Undernourished</th>\n",
       "      <th>Confirmed</th>\n",
       "      <th>Deaths</th>\n",
       "      <th>Recovered</th>\n",
       "      <th>Active</th>\n",
       "      <th>Population</th>\n",
       "      <th>Unit (all except Population)</th>\n",
       "    </tr>\n",
       "  </thead>\n",
       "  <tbody>\n",
       "    <tr>\n",
       "      <th>0</th>\n",
       "      <td>Afghanistan</td>\n",
       "      <td>0.0014</td>\n",
       "      <td>0.1973</td>\n",
       "      <td>9.4341</td>\n",
       "      <td>0.0000</td>\n",
       "      <td>24.8097</td>\n",
       "      <td>0.2099</td>\n",
       "      <td>0.0350</td>\n",
       "      <td>5.3495</td>\n",
       "      <td>1.2020</td>\n",
       "      <td>...</td>\n",
       "      <td>6.7642</td>\n",
       "      <td>40.5645</td>\n",
       "      <td>4.5</td>\n",
       "      <td>29.8</td>\n",
       "      <td>0.142134</td>\n",
       "      <td>0.006186</td>\n",
       "      <td>0.123374</td>\n",
       "      <td>0.012574</td>\n",
       "      <td>38928000.0</td>\n",
       "      <td>%</td>\n",
       "    </tr>\n",
       "    <tr>\n",
       "      <th>1</th>\n",
       "      <td>Albania</td>\n",
       "      <td>1.6719</td>\n",
       "      <td>0.1357</td>\n",
       "      <td>18.7684</td>\n",
       "      <td>0.0000</td>\n",
       "      <td>5.7817</td>\n",
       "      <td>0.5815</td>\n",
       "      <td>0.2126</td>\n",
       "      <td>6.7861</td>\n",
       "      <td>1.8845</td>\n",
       "      <td>...</td>\n",
       "      <td>11.7753</td>\n",
       "      <td>31.2304</td>\n",
       "      <td>22.3</td>\n",
       "      <td>6.2</td>\n",
       "      <td>2.967301</td>\n",
       "      <td>0.050951</td>\n",
       "      <td>1.792636</td>\n",
       "      <td>1.123714</td>\n",
       "      <td>2838000.0</td>\n",
       "      <td>%</td>\n",
       "    </tr>\n",
       "    <tr>\n",
       "      <th>2</th>\n",
       "      <td>Algeria</td>\n",
       "      <td>0.2711</td>\n",
       "      <td>0.0282</td>\n",
       "      <td>9.6334</td>\n",
       "      <td>0.0000</td>\n",
       "      <td>13.6816</td>\n",
       "      <td>0.5277</td>\n",
       "      <td>0.2416</td>\n",
       "      <td>6.3801</td>\n",
       "      <td>1.1305</td>\n",
       "      <td>...</td>\n",
       "      <td>11.6484</td>\n",
       "      <td>40.3651</td>\n",
       "      <td>26.6</td>\n",
       "      <td>3.9</td>\n",
       "      <td>0.244897</td>\n",
       "      <td>0.006558</td>\n",
       "      <td>0.167572</td>\n",
       "      <td>0.070767</td>\n",
       "      <td>44357000.0</td>\n",
       "      <td>%</td>\n",
       "    </tr>\n",
       "    <tr>\n",
       "      <th>3</th>\n",
       "      <td>Angola</td>\n",
       "      <td>5.8087</td>\n",
       "      <td>0.0560</td>\n",
       "      <td>4.9278</td>\n",
       "      <td>0.0000</td>\n",
       "      <td>9.1085</td>\n",
       "      <td>0.0587</td>\n",
       "      <td>1.7707</td>\n",
       "      <td>6.0005</td>\n",
       "      <td>2.0571</td>\n",
       "      <td>...</td>\n",
       "      <td>2.3041</td>\n",
       "      <td>45.0722</td>\n",
       "      <td>6.8</td>\n",
       "      <td>25</td>\n",
       "      <td>0.061687</td>\n",
       "      <td>0.001461</td>\n",
       "      <td>0.056808</td>\n",
       "      <td>0.003419</td>\n",
       "      <td>32522000.0</td>\n",
       "      <td>%</td>\n",
       "    </tr>\n",
       "    <tr>\n",
       "      <th>4</th>\n",
       "      <td>Antigua and Barbuda</td>\n",
       "      <td>3.5764</td>\n",
       "      <td>0.0087</td>\n",
       "      <td>16.6613</td>\n",
       "      <td>0.0000</td>\n",
       "      <td>5.9960</td>\n",
       "      <td>0.2274</td>\n",
       "      <td>4.1489</td>\n",
       "      <td>10.7451</td>\n",
       "      <td>5.6888</td>\n",
       "      <td>...</td>\n",
       "      <td>5.4495</td>\n",
       "      <td>33.3233</td>\n",
       "      <td>19.1</td>\n",
       "      <td>NaN</td>\n",
       "      <td>0.293878</td>\n",
       "      <td>0.007143</td>\n",
       "      <td>0.190816</td>\n",
       "      <td>0.095918</td>\n",
       "      <td>98000.0</td>\n",
       "      <td>%</td>\n",
       "    </tr>\n",
       "    <tr>\n",
       "      <th>...</th>\n",
       "      <td>...</td>\n",
       "      <td>...</td>\n",
       "      <td>...</td>\n",
       "      <td>...</td>\n",
       "      <td>...</td>\n",
       "      <td>...</td>\n",
       "      <td>...</td>\n",
       "      <td>...</td>\n",
       "      <td>...</td>\n",
       "      <td>...</td>\n",
       "      <td>...</td>\n",
       "      <td>...</td>\n",
       "      <td>...</td>\n",
       "      <td>...</td>\n",
       "      <td>...</td>\n",
       "      <td>...</td>\n",
       "      <td>...</td>\n",
       "      <td>...</td>\n",
       "      <td>...</td>\n",
       "      <td>...</td>\n",
       "      <td>...</td>\n",
       "    </tr>\n",
       "    <tr>\n",
       "      <th>165</th>\n",
       "      <td>Venezuela (Bolivarian Republic of)</td>\n",
       "      <td>2.5952</td>\n",
       "      <td>0.0403</td>\n",
       "      <td>14.7565</td>\n",
       "      <td>0.0000</td>\n",
       "      <td>12.9253</td>\n",
       "      <td>0.3389</td>\n",
       "      <td>0.9456</td>\n",
       "      <td>7.6460</td>\n",
       "      <td>3.8328</td>\n",
       "      <td>...</td>\n",
       "      <td>4.1474</td>\n",
       "      <td>35.2416</td>\n",
       "      <td>25.2</td>\n",
       "      <td>21.2</td>\n",
       "      <td>0.452585</td>\n",
       "      <td>0.004287</td>\n",
       "      <td>0.424399</td>\n",
       "      <td>0.023899</td>\n",
       "      <td>28645000.0</td>\n",
       "      <td>%</td>\n",
       "    </tr>\n",
       "    <tr>\n",
       "      <th>166</th>\n",
       "      <td>Vietnam</td>\n",
       "      <td>1.4591</td>\n",
       "      <td>0.1640</td>\n",
       "      <td>8.5765</td>\n",
       "      <td>0.0042</td>\n",
       "      <td>16.8740</td>\n",
       "      <td>0.3077</td>\n",
       "      <td>2.6392</td>\n",
       "      <td>5.9029</td>\n",
       "      <td>4.4382</td>\n",
       "      <td>...</td>\n",
       "      <td>11.9508</td>\n",
       "      <td>41.4232</td>\n",
       "      <td>2.1</td>\n",
       "      <td>9.3</td>\n",
       "      <td>0.002063</td>\n",
       "      <td>0.000036</td>\n",
       "      <td>0.001526</td>\n",
       "      <td>0.000501</td>\n",
       "      <td>96209000.0</td>\n",
       "      <td>%</td>\n",
       "    </tr>\n",
       "    <tr>\n",
       "      <th>167</th>\n",
       "      <td>Yemen</td>\n",
       "      <td>0.0364</td>\n",
       "      <td>0.0446</td>\n",
       "      <td>5.7874</td>\n",
       "      <td>0.0000</td>\n",
       "      <td>27.2077</td>\n",
       "      <td>0.2579</td>\n",
       "      <td>0.5240</td>\n",
       "      <td>5.1344</td>\n",
       "      <td>2.7871</td>\n",
       "      <td>...</td>\n",
       "      <td>3.2135</td>\n",
       "      <td>44.2126</td>\n",
       "      <td>14.1</td>\n",
       "      <td>38.9</td>\n",
       "      <td>0.007131</td>\n",
       "      <td>0.002062</td>\n",
       "      <td>0.004788</td>\n",
       "      <td>0.000282</td>\n",
       "      <td>29826000.0</td>\n",
       "      <td>%</td>\n",
       "    </tr>\n",
       "    <tr>\n",
       "      <th>168</th>\n",
       "      <td>Zambia</td>\n",
       "      <td>5.7360</td>\n",
       "      <td>0.0829</td>\n",
       "      <td>6.0197</td>\n",
       "      <td>0.0000</td>\n",
       "      <td>21.1938</td>\n",
       "      <td>0.3399</td>\n",
       "      <td>1.6924</td>\n",
       "      <td>1.0183</td>\n",
       "      <td>1.8427</td>\n",
       "      <td>...</td>\n",
       "      <td>3.4649</td>\n",
       "      <td>43.9789</td>\n",
       "      <td>6.5</td>\n",
       "      <td>46.7</td>\n",
       "      <td>0.334133</td>\n",
       "      <td>0.004564</td>\n",
       "      <td>0.290524</td>\n",
       "      <td>0.039045</td>\n",
       "      <td>18384000.0</td>\n",
       "      <td>%</td>\n",
       "    </tr>\n",
       "    <tr>\n",
       "      <th>169</th>\n",
       "      <td>Zimbabwe</td>\n",
       "      <td>4.0552</td>\n",
       "      <td>0.0755</td>\n",
       "      <td>8.1489</td>\n",
       "      <td>0.0000</td>\n",
       "      <td>22.6240</td>\n",
       "      <td>0.2678</td>\n",
       "      <td>0.5518</td>\n",
       "      <td>2.2000</td>\n",
       "      <td>2.6142</td>\n",
       "      <td>...</td>\n",
       "      <td>2.3213</td>\n",
       "      <td>41.8526</td>\n",
       "      <td>12.3</td>\n",
       "      <td>51.3</td>\n",
       "      <td>0.232033</td>\n",
       "      <td>0.008854</td>\n",
       "      <td>0.190964</td>\n",
       "      <td>0.032214</td>\n",
       "      <td>14863000.0</td>\n",
       "      <td>%</td>\n",
       "    </tr>\n",
       "  </tbody>\n",
       "</table>\n",
       "<p>170 rows × 32 columns</p>\n",
       "</div>"
      ],
      "text/plain": [
       "                                Country  Alcoholic Beverages  Animal fats  \\\n",
       "0                           Afghanistan               0.0014       0.1973   \n",
       "1                               Albania               1.6719       0.1357   \n",
       "2                               Algeria               0.2711       0.0282   \n",
       "3                                Angola               5.8087       0.0560   \n",
       "4                   Antigua and Barbuda               3.5764       0.0087   \n",
       "..                                  ...                  ...          ...   \n",
       "165  Venezuela (Bolivarian Republic of)               2.5952       0.0403   \n",
       "166                             Vietnam               1.4591       0.1640   \n",
       "167                               Yemen               0.0364       0.0446   \n",
       "168                              Zambia               5.7360       0.0829   \n",
       "169                            Zimbabwe               4.0552       0.0755   \n",
       "\n",
       "     Animal Products  Aquatic Products, Other  Cereals - Excluding Beer  \\\n",
       "0             9.4341                   0.0000                   24.8097   \n",
       "1            18.7684                   0.0000                    5.7817   \n",
       "2             9.6334                   0.0000                   13.6816   \n",
       "3             4.9278                   0.0000                    9.1085   \n",
       "4            16.6613                   0.0000                    5.9960   \n",
       "..               ...                      ...                       ...   \n",
       "165          14.7565                   0.0000                   12.9253   \n",
       "166           8.5765                   0.0042                   16.8740   \n",
       "167           5.7874                   0.0000                   27.2077   \n",
       "168           6.0197                   0.0000                   21.1938   \n",
       "169           8.1489                   0.0000                   22.6240   \n",
       "\n",
       "       Eggs  Fish, Seafood  Fruits - Excluding Wine    Meat  ...  Vegetables  \\\n",
       "0    0.2099         0.0350                   5.3495  1.2020  ...      6.7642   \n",
       "1    0.5815         0.2126                   6.7861  1.8845  ...     11.7753   \n",
       "2    0.5277         0.2416                   6.3801  1.1305  ...     11.6484   \n",
       "3    0.0587         1.7707                   6.0005  2.0571  ...      2.3041   \n",
       "4    0.2274         4.1489                  10.7451  5.6888  ...      5.4495   \n",
       "..      ...            ...                      ...     ...  ...         ...   \n",
       "165  0.3389         0.9456                   7.6460  3.8328  ...      4.1474   \n",
       "166  0.3077         2.6392                   5.9029  4.4382  ...     11.9508   \n",
       "167  0.2579         0.5240                   5.1344  2.7871  ...      3.2135   \n",
       "168  0.3399         1.6924                   1.0183  1.8427  ...      3.4649   \n",
       "169  0.2678         0.5518                   2.2000  2.6142  ...      2.3213   \n",
       "\n",
       "     Vegetal Products  Obesity  Undernourished  Confirmed    Deaths  \\\n",
       "0             40.5645      4.5            29.8   0.142134  0.006186   \n",
       "1             31.2304     22.3             6.2   2.967301  0.050951   \n",
       "2             40.3651     26.6             3.9   0.244897  0.006558   \n",
       "3             45.0722      6.8              25   0.061687  0.001461   \n",
       "4             33.3233     19.1             NaN   0.293878  0.007143   \n",
       "..                ...      ...             ...        ...       ...   \n",
       "165           35.2416     25.2            21.2   0.452585  0.004287   \n",
       "166           41.4232      2.1             9.3   0.002063  0.000036   \n",
       "167           44.2126     14.1            38.9   0.007131  0.002062   \n",
       "168           43.9789      6.5            46.7   0.334133  0.004564   \n",
       "169           41.8526     12.3            51.3   0.232033  0.008854   \n",
       "\n",
       "     Recovered    Active  Population  Unit (all except Population)  \n",
       "0     0.123374  0.012574  38928000.0                             %  \n",
       "1     1.792636  1.123714   2838000.0                             %  \n",
       "2     0.167572  0.070767  44357000.0                             %  \n",
       "3     0.056808  0.003419  32522000.0                             %  \n",
       "4     0.190816  0.095918     98000.0                             %  \n",
       "..         ...       ...         ...                           ...  \n",
       "165   0.424399  0.023899  28645000.0                             %  \n",
       "166   0.001526  0.000501  96209000.0                             %  \n",
       "167   0.004788  0.000282  29826000.0                             %  \n",
       "168   0.290524  0.039045  18384000.0                             %  \n",
       "169   0.190964  0.032214  14863000.0                             %  \n",
       "\n",
       "[170 rows x 32 columns]"
      ]
     },
     "execution_count": 4,
     "metadata": {},
     "output_type": "execute_result"
    }
   ],
   "source": [
    "food_df"
   ]
  },
  {
   "cell_type": "markdown",
   "id": "88aa7ac5",
   "metadata": {
    "pycharm": {
     "name": "#%% md\n"
    }
   },
   "source": [
    "Display Food Dataset info using the `info` function."
   ]
  },
  {
   "cell_type": "code",
   "execution_count": 5,
   "id": "f7b2ba62",
   "metadata": {
    "pycharm": {
     "name": "#%%\n"
    }
   },
   "outputs": [
    {
     "name": "stdout",
     "output_type": "stream",
     "text": [
      "<class 'pandas.core.frame.DataFrame'>\n",
      "RangeIndex: 170 entries, 0 to 169\n",
      "Data columns (total 32 columns):\n",
      " #   Column                        Non-Null Count  Dtype  \n",
      "---  ------                        --------------  -----  \n",
      " 0   Country                       170 non-null    object \n",
      " 1   Alcoholic Beverages           170 non-null    float64\n",
      " 2   Animal fats                   170 non-null    float64\n",
      " 3   Animal Products               170 non-null    float64\n",
      " 4   Aquatic Products, Other       170 non-null    float64\n",
      " 5   Cereals - Excluding Beer      170 non-null    float64\n",
      " 6   Eggs                          170 non-null    float64\n",
      " 7   Fish, Seafood                 170 non-null    float64\n",
      " 8   Fruits - Excluding Wine       170 non-null    float64\n",
      " 9   Meat                          170 non-null    float64\n",
      " 10  Milk - Excluding Butter       170 non-null    float64\n",
      " 11  Miscellaneous                 170 non-null    float64\n",
      " 12  Offals                        170 non-null    float64\n",
      " 13  Oilcrops                      170 non-null    float64\n",
      " 14  Pulses                        170 non-null    float64\n",
      " 15  Spices                        170 non-null    float64\n",
      " 16  Starchy Roots                 170 non-null    float64\n",
      " 17  Stimulants                    170 non-null    float64\n",
      " 18  Sugar & Sweeteners            170 non-null    float64\n",
      " 19  Sugar Crops                   170 non-null    float64\n",
      " 20  Treenuts                      170 non-null    float64\n",
      " 21  Vegetable Oils                170 non-null    float64\n",
      " 22  Vegetables                    170 non-null    float64\n",
      " 23  Vegetal Products              170 non-null    float64\n",
      " 24  Obesity                       167 non-null    float64\n",
      " 25  Undernourished                163 non-null    object \n",
      " 26  Confirmed                     164 non-null    float64\n",
      " 27  Deaths                        164 non-null    float64\n",
      " 28  Recovered                     164 non-null    float64\n",
      " 29  Active                        162 non-null    float64\n",
      " 30  Population                    170 non-null    float64\n",
      " 31  Unit (all except Population)  170 non-null    object \n",
      "dtypes: float64(29), object(3)\n",
      "memory usage: 42.6+ KB\n"
     ]
    }
   ],
   "source": [
    "food_df.info()"
   ]
  },
  {
   "cell_type": "markdown",
   "id": "292d7bd8",
   "metadata": {
    "pycharm": {
     "name": "#%% md\n"
    }
   },
   "source": [
    "Display Food Dataset description using the `describe` function."
   ]
  },
  {
   "cell_type": "code",
   "execution_count": 6,
   "id": "02cdae39",
   "metadata": {
    "pycharm": {
     "name": "#%%\n"
    }
   },
   "outputs": [
    {
     "data": {
      "text/html": [
       "<div>\n",
       "<style scoped>\n",
       "    .dataframe tbody tr th:only-of-type {\n",
       "        vertical-align: middle;\n",
       "    }\n",
       "\n",
       "    .dataframe tbody tr th {\n",
       "        vertical-align: top;\n",
       "    }\n",
       "\n",
       "    .dataframe thead th {\n",
       "        text-align: right;\n",
       "    }\n",
       "</style>\n",
       "<table border=\"1\" class=\"dataframe\">\n",
       "  <thead>\n",
       "    <tr style=\"text-align: right;\">\n",
       "      <th></th>\n",
       "      <th>Alcoholic Beverages</th>\n",
       "      <th>Animal fats</th>\n",
       "      <th>Animal Products</th>\n",
       "      <th>Aquatic Products, Other</th>\n",
       "      <th>Cereals - Excluding Beer</th>\n",
       "      <th>Eggs</th>\n",
       "      <th>Fish, Seafood</th>\n",
       "      <th>Fruits - Excluding Wine</th>\n",
       "      <th>Meat</th>\n",
       "      <th>Milk - Excluding Butter</th>\n",
       "      <th>...</th>\n",
       "      <th>Treenuts</th>\n",
       "      <th>Vegetable Oils</th>\n",
       "      <th>Vegetables</th>\n",
       "      <th>Vegetal Products</th>\n",
       "      <th>Obesity</th>\n",
       "      <th>Confirmed</th>\n",
       "      <th>Deaths</th>\n",
       "      <th>Recovered</th>\n",
       "      <th>Active</th>\n",
       "      <th>Population</th>\n",
       "    </tr>\n",
       "  </thead>\n",
       "  <tbody>\n",
       "    <tr>\n",
       "      <th>count</th>\n",
       "      <td>170.000000</td>\n",
       "      <td>170.000000</td>\n",
       "      <td>170.000000</td>\n",
       "      <td>170.000000</td>\n",
       "      <td>170.000000</td>\n",
       "      <td>170.000000</td>\n",
       "      <td>170.000000</td>\n",
       "      <td>170.000000</td>\n",
       "      <td>170.000000</td>\n",
       "      <td>170.000000</td>\n",
       "      <td>...</td>\n",
       "      <td>170.000000</td>\n",
       "      <td>170.000000</td>\n",
       "      <td>170.000000</td>\n",
       "      <td>170.000000</td>\n",
       "      <td>167.000000</td>\n",
       "      <td>164.000000</td>\n",
       "      <td>164.000000</td>\n",
       "      <td>164.000000</td>\n",
       "      <td>162.000000</td>\n",
       "      <td>1.700000e+02</td>\n",
       "    </tr>\n",
       "    <tr>\n",
       "      <th>mean</th>\n",
       "      <td>3.022971</td>\n",
       "      <td>0.221064</td>\n",
       "      <td>12.181871</td>\n",
       "      <td>0.013994</td>\n",
       "      <td>11.800347</td>\n",
       "      <td>0.470570</td>\n",
       "      <td>1.387195</td>\n",
       "      <td>5.621405</td>\n",
       "      <td>3.375934</td>\n",
       "      <td>6.519776</td>\n",
       "      <td>...</td>\n",
       "      <td>0.117474</td>\n",
       "      <td>0.851554</td>\n",
       "      <td>6.085912</td>\n",
       "      <td>37.814834</td>\n",
       "      <td>18.707784</td>\n",
       "      <td>2.021972</td>\n",
       "      <td>0.039370</td>\n",
       "      <td>1.452356</td>\n",
       "      <td>0.535158</td>\n",
       "      <td>4.452364e+07</td>\n",
       "    </tr>\n",
       "    <tr>\n",
       "      <th>std</th>\n",
       "      <td>2.382243</td>\n",
       "      <td>0.278304</td>\n",
       "      <td>5.852635</td>\n",
       "      <td>0.129382</td>\n",
       "      <td>5.824870</td>\n",
       "      <td>0.331209</td>\n",
       "      <td>1.257382</td>\n",
       "      <td>3.152849</td>\n",
       "      <td>1.762911</td>\n",
       "      <td>5.020379</td>\n",
       "      <td>...</td>\n",
       "      <td>0.146143</td>\n",
       "      <td>0.445335</td>\n",
       "      <td>3.560148</td>\n",
       "      <td>5.852943</td>\n",
       "      <td>9.633557</td>\n",
       "      <td>2.360454</td>\n",
       "      <td>0.048718</td>\n",
       "      <td>1.927617</td>\n",
       "      <td>1.329249</td>\n",
       "      <td>1.564182e+08</td>\n",
       "    </tr>\n",
       "    <tr>\n",
       "      <th>min</th>\n",
       "      <td>0.000000</td>\n",
       "      <td>0.001000</td>\n",
       "      <td>1.739100</td>\n",
       "      <td>0.000000</td>\n",
       "      <td>3.401400</td>\n",
       "      <td>0.023900</td>\n",
       "      <td>0.034200</td>\n",
       "      <td>0.659600</td>\n",
       "      <td>0.356000</td>\n",
       "      <td>0.096300</td>\n",
       "      <td>...</td>\n",
       "      <td>0.000000</td>\n",
       "      <td>0.091500</td>\n",
       "      <td>0.857000</td>\n",
       "      <td>23.113200</td>\n",
       "      <td>2.100000</td>\n",
       "      <td>0.000312</td>\n",
       "      <td>0.000000</td>\n",
       "      <td>0.000000</td>\n",
       "      <td>0.000000</td>\n",
       "      <td>5.400000e+04</td>\n",
       "    </tr>\n",
       "    <tr>\n",
       "      <th>25%</th>\n",
       "      <td>0.895625</td>\n",
       "      <td>0.040225</td>\n",
       "      <td>7.236850</td>\n",
       "      <td>0.000000</td>\n",
       "      <td>7.226850</td>\n",
       "      <td>0.187575</td>\n",
       "      <td>0.557100</td>\n",
       "      <td>3.541950</td>\n",
       "      <td>1.891475</td>\n",
       "      <td>2.172250</td>\n",
       "      <td>...</td>\n",
       "      <td>0.020750</td>\n",
       "      <td>0.507700</td>\n",
       "      <td>3.616500</td>\n",
       "      <td>33.552775</td>\n",
       "      <td>8.500000</td>\n",
       "      <td>0.140976</td>\n",
       "      <td>0.002013</td>\n",
       "      <td>0.099107</td>\n",
       "      <td>0.012028</td>\n",
       "      <td>2.816250e+06</td>\n",
       "    </tr>\n",
       "    <tr>\n",
       "      <th>50%</th>\n",
       "      <td>2.866150</td>\n",
       "      <td>0.116850</td>\n",
       "      <td>12.097550</td>\n",
       "      <td>0.000000</td>\n",
       "      <td>10.142750</td>\n",
       "      <td>0.460150</td>\n",
       "      <td>1.029250</td>\n",
       "      <td>5.021250</td>\n",
       "      <td>3.424750</td>\n",
       "      <td>5.336900</td>\n",
       "      <td>...</td>\n",
       "      <td>0.079950</td>\n",
       "      <td>0.774450</td>\n",
       "      <td>5.028100</td>\n",
       "      <td>37.900700</td>\n",
       "      <td>21.200000</td>\n",
       "      <td>1.011570</td>\n",
       "      <td>0.011998</td>\n",
       "      <td>0.475402</td>\n",
       "      <td>0.081040</td>\n",
       "      <td>1.018150e+07</td>\n",
       "    </tr>\n",
       "    <tr>\n",
       "      <th>75%</th>\n",
       "      <td>4.710950</td>\n",
       "      <td>0.253900</td>\n",
       "      <td>16.444125</td>\n",
       "      <td>0.001400</td>\n",
       "      <td>15.148950</td>\n",
       "      <td>0.644150</td>\n",
       "      <td>1.821275</td>\n",
       "      <td>6.827750</td>\n",
       "      <td>4.422450</td>\n",
       "      <td>10.407100</td>\n",
       "      <td>...</td>\n",
       "      <td>0.148650</td>\n",
       "      <td>1.070900</td>\n",
       "      <td>7.801650</td>\n",
       "      <td>42.762775</td>\n",
       "      <td>25.700000</td>\n",
       "      <td>3.487069</td>\n",
       "      <td>0.069503</td>\n",
       "      <td>2.622874</td>\n",
       "      <td>0.358183</td>\n",
       "      <td>3.271625e+07</td>\n",
       "    </tr>\n",
       "    <tr>\n",
       "      <th>max</th>\n",
       "      <td>15.370600</td>\n",
       "      <td>1.355900</td>\n",
       "      <td>26.886500</td>\n",
       "      <td>1.679400</td>\n",
       "      <td>29.804500</td>\n",
       "      <td>1.696000</td>\n",
       "      <td>8.795900</td>\n",
       "      <td>19.302800</td>\n",
       "      <td>8.170000</td>\n",
       "      <td>20.837800</td>\n",
       "      <td>...</td>\n",
       "      <td>0.756900</td>\n",
       "      <td>2.202600</td>\n",
       "      <td>19.299500</td>\n",
       "      <td>48.258500</td>\n",
       "      <td>45.600000</td>\n",
       "      <td>10.408199</td>\n",
       "      <td>0.185428</td>\n",
       "      <td>9.039871</td>\n",
       "      <td>8.019819</td>\n",
       "      <td>1.402385e+09</td>\n",
       "    </tr>\n",
       "  </tbody>\n",
       "</table>\n",
       "<p>8 rows × 29 columns</p>\n",
       "</div>"
      ],
      "text/plain": [
       "       Alcoholic Beverages  Animal fats  Animal Products  \\\n",
       "count           170.000000   170.000000       170.000000   \n",
       "mean              3.022971     0.221064        12.181871   \n",
       "std               2.382243     0.278304         5.852635   \n",
       "min               0.000000     0.001000         1.739100   \n",
       "25%               0.895625     0.040225         7.236850   \n",
       "50%               2.866150     0.116850        12.097550   \n",
       "75%               4.710950     0.253900        16.444125   \n",
       "max              15.370600     1.355900        26.886500   \n",
       "\n",
       "       Aquatic Products, Other  Cereals - Excluding Beer        Eggs  \\\n",
       "count               170.000000                170.000000  170.000000   \n",
       "mean                  0.013994                 11.800347    0.470570   \n",
       "std                   0.129382                  5.824870    0.331209   \n",
       "min                   0.000000                  3.401400    0.023900   \n",
       "25%                   0.000000                  7.226850    0.187575   \n",
       "50%                   0.000000                 10.142750    0.460150   \n",
       "75%                   0.001400                 15.148950    0.644150   \n",
       "max                   1.679400                 29.804500    1.696000   \n",
       "\n",
       "       Fish, Seafood  Fruits - Excluding Wine        Meat  \\\n",
       "count     170.000000               170.000000  170.000000   \n",
       "mean        1.387195                 5.621405    3.375934   \n",
       "std         1.257382                 3.152849    1.762911   \n",
       "min         0.034200                 0.659600    0.356000   \n",
       "25%         0.557100                 3.541950    1.891475   \n",
       "50%         1.029250                 5.021250    3.424750   \n",
       "75%         1.821275                 6.827750    4.422450   \n",
       "max         8.795900                19.302800    8.170000   \n",
       "\n",
       "       Milk - Excluding Butter  ...    Treenuts  Vegetable Oils  Vegetables  \\\n",
       "count               170.000000  ...  170.000000      170.000000  170.000000   \n",
       "mean                  6.519776  ...    0.117474        0.851554    6.085912   \n",
       "std                   5.020379  ...    0.146143        0.445335    3.560148   \n",
       "min                   0.096300  ...    0.000000        0.091500    0.857000   \n",
       "25%                   2.172250  ...    0.020750        0.507700    3.616500   \n",
       "50%                   5.336900  ...    0.079950        0.774450    5.028100   \n",
       "75%                  10.407100  ...    0.148650        1.070900    7.801650   \n",
       "max                  20.837800  ...    0.756900        2.202600   19.299500   \n",
       "\n",
       "       Vegetal Products     Obesity   Confirmed      Deaths   Recovered  \\\n",
       "count        170.000000  167.000000  164.000000  164.000000  164.000000   \n",
       "mean          37.814834   18.707784    2.021972    0.039370    1.452356   \n",
       "std            5.852943    9.633557    2.360454    0.048718    1.927617   \n",
       "min           23.113200    2.100000    0.000312    0.000000    0.000000   \n",
       "25%           33.552775    8.500000    0.140976    0.002013    0.099107   \n",
       "50%           37.900700   21.200000    1.011570    0.011998    0.475402   \n",
       "75%           42.762775   25.700000    3.487069    0.069503    2.622874   \n",
       "max           48.258500   45.600000   10.408199    0.185428    9.039871   \n",
       "\n",
       "           Active    Population  \n",
       "count  162.000000  1.700000e+02  \n",
       "mean     0.535158  4.452364e+07  \n",
       "std      1.329249  1.564182e+08  \n",
       "min      0.000000  5.400000e+04  \n",
       "25%      0.012028  2.816250e+06  \n",
       "50%      0.081040  1.018150e+07  \n",
       "75%      0.358183  3.271625e+07  \n",
       "max      8.019819  1.402385e+09  \n",
       "\n",
       "[8 rows x 29 columns]"
      ]
     },
     "execution_count": 6,
     "metadata": {},
     "output_type": "execute_result"
    }
   ],
   "source": [
    "food_df.describe()"
   ]
  },
  {
   "cell_type": "markdown",
   "id": "85af9d9e",
   "metadata": {
    "pycharm": {
     "name": "#%% md\n"
    }
   },
   "source": [
    "# II. Data Cleaning\n",
    "\n",
    "In this section of the notebook, the researchers have employed different preprocessing techniques in order to address certain inconsistencies within the dataset. For each of the **used variables** in the study, the researchers specifically checked for the following:\n",
    "\n",
    "- **Multiple representations** of the same categorical value;\n",
    "- Correctness of the **datatype** of the variable;\n",
    "- Set **default values** of the variable;\n",
    "- **Missing data**;\n",
    "- **Duplicate data**; and\n",
    "- **Inconsistent formatting** of values."
   ]
  },
  {
   "cell_type": "markdown",
   "id": "70ff74a3",
   "metadata": {
    "pycharm": {
     "name": "#%% md\n"
    }
   },
   "source": [
    "## Checking for Multiple Representations of the Same Categorical Value"
   ]
  },
  {
   "cell_type": "markdown",
   "id": "22e9029a",
   "metadata": {
    "pycharm": {
     "name": "#%% md\n"
    }
   },
   "source": [
    "The single categorical variable relevant in this phase of the analysis would be the one representing the **countries**. With this, the researchers ought to identify the unique countries currently represented in the dataset."
   ]
  },
  {
   "cell_type": "code",
   "execution_count": 7,
   "id": "586fa754",
   "metadata": {
    "jupyter": {
     "outputs_hidden": true
    },
    "pycharm": {
     "name": "#%%\n"
    },
    "tags": []
   },
   "outputs": [
    {
     "data": {
      "text/plain": [
       "array(['Afghanistan', 'Albania', 'Algeria', 'Angola',\n",
       "       'Antigua and Barbuda', 'Argentina', 'Armenia', 'Australia',\n",
       "       'Austria', 'Azerbaijan', 'Bahamas', 'Bangladesh', 'Barbados',\n",
       "       'Belarus', 'Belgium', 'Belize', 'Benin', 'Bolivia',\n",
       "       'Bosnia and Herzegovina', 'Botswana', 'Brazil', 'Bulgaria',\n",
       "       'Burkina Faso', 'Cabo Verde', 'Cambodia', 'Cameroon', 'Canada',\n",
       "       'Central African Republic', 'Chad', 'Chile', 'China', 'Colombia',\n",
       "       'Congo', 'Costa Rica', \"Cote d'Ivoire\", 'Croatia', 'Cuba',\n",
       "       'Cyprus', 'Czechia', 'Denmark', 'Djibouti', 'Dominica',\n",
       "       'Dominican Republic', 'Ecuador', 'Egypt', 'El Salvador', 'Estonia',\n",
       "       'Eswatini', 'Ethiopia', 'Fiji', 'Finland', 'France',\n",
       "       'French Polynesia', 'Gabon', 'Gambia', 'Georgia', 'Germany',\n",
       "       'Ghana', 'Greece', 'Grenada', 'Guatemala', 'Guinea',\n",
       "       'Guinea-Bissau', 'Guyana', 'Haiti', 'Honduras', 'Hungary',\n",
       "       'Iceland', 'India', 'Indonesia', 'Iran (Islamic Republic of)',\n",
       "       'Iraq', 'Ireland', 'Israel', 'Italy', 'Jamaica', 'Japan', 'Jordan',\n",
       "       'Kazakhstan', 'Kenya', 'Kiribati', 'Korea, North', 'Korea, South',\n",
       "       'Kuwait', 'Kyrgyzstan', \"Lao People's Democratic Republic\",\n",
       "       'Latvia', 'Lebanon', 'Lesotho', 'Liberia', 'Lithuania',\n",
       "       'Luxembourg', 'Madagascar', 'Malawi', 'Malaysia', 'Maldives',\n",
       "       'Mali', 'Malta', 'Mauritania', 'Mauritius', 'Mexico', 'Mongolia',\n",
       "       'Montenegro', 'Morocco', 'Mozambique', 'Myanmar', 'Namibia',\n",
       "       'Nepal', 'Netherlands', 'New Caledonia', 'New Zealand',\n",
       "       'Nicaragua', 'Niger', 'Nigeria', 'North Macedonia', 'Norway',\n",
       "       'Oman', 'Pakistan', 'Panama', 'Paraguay', 'Peru', 'Philippines',\n",
       "       'Poland', 'Portugal', 'Republic of Moldova', 'Romania',\n",
       "       'Russian Federation', 'Rwanda', 'Saint Kitts and Nevis',\n",
       "       'Saint Lucia', 'Saint Vincent and the Grenadines', 'Samoa',\n",
       "       'Sao Tome and Principe', 'Saudi Arabia', 'Senegal', 'Serbia',\n",
       "       'Sierra Leone', 'Slovakia', 'Slovenia', 'Solomon Islands',\n",
       "       'South Africa', 'Spain', 'Sri Lanka', 'Sudan', 'Suriname',\n",
       "       'Sweden', 'Switzerland', 'Taiwan*', 'Tajikistan', 'Thailand',\n",
       "       'Timor-Leste', 'Togo', 'Trinidad and Tobago', 'Tunisia', 'Turkey',\n",
       "       'Turkmenistan', 'Uganda', 'Ukraine', 'United Arab Emirates',\n",
       "       'United Kingdom', 'United Republic of Tanzania',\n",
       "       'United States of America', 'Uruguay', 'Uzbekistan', 'Vanuatu',\n",
       "       'Venezuela (Bolivarian Republic of)', 'Vietnam', 'Yemen', 'Zambia',\n",
       "       'Zimbabwe'], dtype=object)"
      ]
     },
     "execution_count": 7,
     "metadata": {},
     "output_type": "execute_result"
    }
   ],
   "source": [
    "food_df['Country'].unique()"
   ]
  },
  {
   "cell_type": "markdown",
   "id": "6b9e958d",
   "metadata": {
    "pycharm": {
     "name": "#%% md\n"
    }
   },
   "source": [
    "Get the total number of unique countries in the `Food Dataframe` using the nunique() function."
   ]
  },
  {
   "cell_type": "code",
   "execution_count": 8,
   "id": "8b8f0d68",
   "metadata": {
    "pycharm": {
     "name": "#%%\n"
    }
   },
   "outputs": [
    {
     "data": {
      "text/plain": [
       "170"
      ]
     },
     "execution_count": 8,
     "metadata": {},
     "output_type": "execute_result"
    }
   ],
   "source": [
    "food_df['Country'].nunique()"
   ]
  },
  {
   "cell_type": "markdown",
   "id": "2b0a333f",
   "metadata": {
    "pycharm": {
     "name": "#%% md\n"
    }
   },
   "source": [
    "The `Food Dataframe` information presented in the previous section indicates that the total number of entries present in the dataframe is **170**. Since the number of unique country values (170) match with the total number of entries in the dataframe, the researchers have determined that **all the countries represented in the `Food Dataframe` are unique.**"
   ]
  },
  {
   "cell_type": "markdown",
   "id": "a7d0781a",
   "metadata": {
    "pycharm": {
     "name": "#%% md\n"
    }
   },
   "source": [
    "## Checking for Correctness of the Datatypes of Each Variable"
   ]
  },
  {
   "cell_type": "markdown",
   "id": "bf057cb9",
   "metadata": {
    "pycharm": {
     "name": "#%% md\n"
    }
   },
   "source": [
    "As can be seen in the previous section, upon calling the info() function on the Food Dataset, the only variables that **are not** of type **float64** are **Country, Undernourished, and Unit (all except Population)**. Having observed this, the researchers then decided to explore the unique values found under each variable."
   ]
  },
  {
   "cell_type": "markdown",
   "id": "90dd8541",
   "metadata": {
    "pycharm": {
     "name": "#%% md\n"
    }
   },
   "source": [
    "It has only recently been observed that the data type \"object\" is appropriate for the values under the **Country** variable. Country names are strings, and since **strings are by default stored as the object data type, there is no cleaning needed for this column.**"
   ]
  },
  {
   "cell_type": "markdown",
   "id": "bea3fe13",
   "metadata": {
    "pycharm": {
     "name": "#%% md\n"
    }
   },
   "source": [
    "The researchers then proceeded to explore the values under the **Undernourished** variable. First, we try to obtain the **counts of unique values**."
   ]
  },
  {
   "cell_type": "code",
   "execution_count": 9,
   "id": "8718232a",
   "metadata": {
    "pycharm": {
     "name": "#%%\n"
    }
   },
   "outputs": [
    {
     "data": {
      "text/plain": [
       "<2.5    44\n",
       "16.5     3\n",
       "7.1      3\n",
       "2.7      3\n",
       "6.2      3\n",
       "        ..\n",
       "15.2     1\n",
       "10.2     1\n",
       "10.5     1\n",
       "4.2      1\n",
       "51.3     1\n",
       "Name: Undernourished, Length: 98, dtype: int64"
      ]
     },
     "execution_count": 9,
     "metadata": {},
     "output_type": "execute_result"
    }
   ],
   "source": [
    "food_df['Undernourished'].value_counts()"
   ]
  },
  {
   "cell_type": "markdown",
   "id": "d0bd0343",
   "metadata": {
    "pycharm": {
     "name": "#%% md\n"
    }
   },
   "source": [
    "As seen above, the values in the **Undernourished** column appear to be of various datatypes, with the string \"<2.5\" making up the majority of the values. Given that this column shows the **rate** of undernourished people in a certain country, the expected datatype for this field is **float**. Consequently, the datatype **object** has been evaluated by the researchers as being unsuitable for this variable.\n",
    "\n",
    "That being said, preprocessing and cleaning will be required for the **Undernourished** variable in order to guarantee that the datatype for the column is consistent across all values."
   ]
  },
  {
   "cell_type": "markdown",
   "id": "1a047265",
   "metadata": {
    "pycharm": {
     "name": "#%% md\n"
    }
   },
   "source": [
    "Next, the researchers have chosen to investigate the data under the **Unit (all except Population)** variable."
   ]
  },
  {
   "cell_type": "code",
   "execution_count": 10,
   "id": "9c1b23bf",
   "metadata": {
    "pycharm": {
     "name": "#%%\n"
    }
   },
   "outputs": [
    {
     "data": {
      "text/plain": [
       "%    170\n",
       "Name: Unit (all except Population), dtype: int64"
      ]
     },
     "execution_count": 10,
     "metadata": {},
     "output_type": "execute_result"
    }
   ],
   "source": [
    "food_df['Unit (all except Population)'].value_counts()"
   ]
  },
  {
   "cell_type": "markdown",
   "id": "10f03e41",
   "metadata": {
    "pycharm": {
     "name": "#%% md\n"
    }
   },
   "source": [
    "The researchers have decided to drop the `Unit (all except Population)` column since it merely contains the symbol `%` for all the observations in the dataset, denoting the unit for all the variables of an observation excluding the variable `Population`. It does not provide any information that may help in the analysis of the dataset later on."
   ]
  },
  {
   "cell_type": "code",
   "execution_count": 11,
   "id": "9b5ba37f",
   "metadata": {
    "pycharm": {
     "name": "#%%\n"
    }
   },
   "outputs": [],
   "source": [
    "# Drop 'Unit (all except Population)' column\n",
    "\n",
    "food_df = food_df.drop('Unit (all except Population)', axis=1)"
   ]
  },
  {
   "cell_type": "markdown",
   "id": "6d0d5a04",
   "metadata": {
    "pycharm": {
     "name": "#%% md\n"
    }
   },
   "source": [
    "The researchers have determined that the remaining variables, which represent the combined data of food category intake, national obesity rates, and national COVID-19 cases (confirmed, deaths, recovered, and active), have an appropriate datatype of **float** because the unit of measurement for these variables is of type `%`. The datatype **float** is also suitable for the **Population** count because it nevertheless provides numerical data. That being said, there is **no requirement for preprocessing the aforementioned variables' datatypes.**"
   ]
  },
  {
   "cell_type": "markdown",
   "id": "c00caf03",
   "metadata": {
    "pycharm": {
     "name": "#%% md\n"
    }
   },
   "source": [
    "## Checking for Inconsistent Formatting of Values"
   ]
  },
  {
   "cell_type": "markdown",
   "id": "1c7f16f0",
   "metadata": {
    "pycharm": {
     "name": "#%% md\n"
    }
   },
   "source": [
    "When the [`info`](https://pandas.pydata.org/pandas-docs/stable/reference/api/pandas.DataFrame.info.html) function was called earlier, it can seen in the `Dtype` column of the variable `Undernourished` that it is labeled as `object` when it should be `float64`—similar to its counterpart variable `Obesity`. Hence, upon calling the `value_counts` function, `<2.5` is identified to be the culprit to the misidentified datatype of the variable `Undernourished`."
   ]
  },
  {
   "cell_type": "code",
   "execution_count": 12,
   "id": "a7211d58",
   "metadata": {
    "pycharm": {
     "name": "#%%\n"
    }
   },
   "outputs": [
    {
     "data": {
      "text/plain": [
       "<2.5    44\n",
       "16.5     3\n",
       "7.1      3\n",
       "2.7      3\n",
       "6.2      3\n",
       "        ..\n",
       "15.2     1\n",
       "10.2     1\n",
       "10.5     1\n",
       "4.2      1\n",
       "51.3     1\n",
       "Name: Undernourished, Length: 98, dtype: int64"
      ]
     },
     "execution_count": 12,
     "metadata": {},
     "output_type": "execute_result"
    }
   ],
   "source": [
    "food_df['Undernourished'].value_counts()"
   ]
  },
  {
   "cell_type": "markdown",
   "id": "02c934ed",
   "metadata": {
    "pycharm": {
     "name": "#%% md\n"
    }
   },
   "source": [
    "The researchers have, thus, decided to replace every value of `<2.5` with `2.4` instead, and assigning it with the datatype `float64`."
   ]
  },
  {
   "cell_type": "code",
   "execution_count": 13,
   "id": "593a1055",
   "metadata": {
    "pycharm": {
     "name": "#%%\n"
    }
   },
   "outputs": [],
   "source": [
    "# Replace '< 2.5' values in 'Undernoursihed' column to '2.4'\n",
    "\n",
    "food_df['Undernourished'] = food_df['Undernourished'].replace('<2.5', '2.4')\n",
    "food_df['Undernourished'] = food_df['Undernourished'].astype(float)"
   ]
  },
  {
   "cell_type": "markdown",
   "id": "2fe8a2f5",
   "metadata": {
    "pycharm": {
     "name": "#%% md\n"
    }
   },
   "source": [
    "It can now be seen below that the variable `Undernourished` is of datatype `float64`, and `<2.5` has been replaced with `2.4` for all the 43 times it appeared under the variable `Undernourished` in the dataset."
   ]
  },
  {
   "cell_type": "code",
   "execution_count": 14,
   "id": "436d758a",
   "metadata": {
    "pycharm": {
     "name": "#%%\n"
    }
   },
   "outputs": [
    {
     "name": "stdout",
     "output_type": "stream",
     "text": [
      "<class 'pandas.core.series.Series'>\n",
      "RangeIndex: 170 entries, 0 to 169\n",
      "Series name: Undernourished\n",
      "Non-Null Count  Dtype  \n",
      "--------------  -----  \n",
      "163 non-null    float64\n",
      "dtypes: float64(1)\n",
      "memory usage: 1.5 KB\n"
     ]
    }
   ],
   "source": [
    "food_df['Undernourished'].info()"
   ]
  },
  {
   "cell_type": "code",
   "execution_count": 15,
   "id": "03d75235",
   "metadata": {
    "pycharm": {
     "name": "#%%\n"
    }
   },
   "outputs": [
    {
     "data": {
      "text/plain": [
       "2.4     44\n",
       "16.5     3\n",
       "7.1      3\n",
       "2.7      3\n",
       "6.2      3\n",
       "        ..\n",
       "15.2     1\n",
       "10.2     1\n",
       "10.5     1\n",
       "4.2      1\n",
       "51.3     1\n",
       "Name: Undernourished, Length: 98, dtype: int64"
      ]
     },
     "execution_count": 15,
     "metadata": {},
     "output_type": "execute_result"
    }
   ],
   "source": [
    "food_df['Undernourished'].value_counts()"
   ]
  },
  {
   "cell_type": "markdown",
   "id": "fde4a724",
   "metadata": {
    "pycharm": {
     "name": "#%% md\n"
    }
   },
   "source": [
    "## Checking for `NaN`s\n",
    "We will now handle missing data in our dataset. Let us check each variable if it contains a `NaN` / `null` value. We'll use the [`isnull`](https://pandas.pydata.org/pandas-docs/stable/reference/api/pandas.DataFrame.isnull.html) and [`any`](https://pandas.pydata.org/pandas-docs/stable/reference/api/pandas.DataFrame.any.html) functions for this. This function call will list each variable with a boolean value indicating if the variable contains a `NaN` / `null` value."
   ]
  },
  {
   "cell_type": "code",
   "execution_count": 16,
   "id": "e85bd1bd",
   "metadata": {
    "pycharm": {
     "name": "#%%\n"
    }
   },
   "outputs": [
    {
     "data": {
      "text/plain": [
       "Country                     False\n",
       "Alcoholic Beverages         False\n",
       "Animal fats                 False\n",
       "Animal Products             False\n",
       "Aquatic Products, Other     False\n",
       "Cereals - Excluding Beer    False\n",
       "Eggs                        False\n",
       "Fish, Seafood               False\n",
       "Fruits - Excluding Wine     False\n",
       "Meat                        False\n",
       "Milk - Excluding Butter     False\n",
       "Miscellaneous               False\n",
       "Offals                      False\n",
       "Oilcrops                    False\n",
       "Pulses                      False\n",
       "Spices                      False\n",
       "Starchy Roots               False\n",
       "Stimulants                  False\n",
       "Sugar & Sweeteners          False\n",
       "Sugar Crops                 False\n",
       "Treenuts                    False\n",
       "Vegetable Oils              False\n",
       "Vegetables                  False\n",
       "Vegetal Products            False\n",
       "Obesity                      True\n",
       "Undernourished               True\n",
       "Confirmed                    True\n",
       "Deaths                       True\n",
       "Recovered                    True\n",
       "Active                       True\n",
       "Population                  False\n",
       "dtype: bool"
      ]
     },
     "execution_count": 16,
     "metadata": {},
     "output_type": "execute_result"
    }
   ],
   "source": [
    "food_df.isnull().any()"
   ]
  },
  {
   "cell_type": "markdown",
   "id": "c1d11f01",
   "metadata": {
    "pycharm": {
     "name": "#%% md\n"
    }
   },
   "source": [
    "Let's get the list of columns with `NaN` / `null` values."
   ]
  },
  {
   "cell_type": "code",
   "execution_count": 17,
   "id": "437b77db",
   "metadata": {
    "pycharm": {
     "name": "#%%\n"
    }
   },
   "outputs": [
    {
     "name": "stdout",
     "output_type": "stream",
     "text": [
      "['Obesity', 'Undernourished', 'Confirmed', 'Deaths', 'Recovered', 'Active']\n"
     ]
    }
   ],
   "source": [
    "nan_variables = food_df.columns[food_df.isnull().any()].tolist()\n",
    "print(nan_variables)"
   ]
  },
  {
   "cell_type": "markdown",
   "id": "c53d48b4",
   "metadata": {
    "pycharm": {
     "name": "#%% md\n"
    }
   },
   "source": [
    "For each variable, show the total number of observations with `NaN` / `null` value. The [`sum`](https://pandas.pydata.org/docs/reference/api/pandas.DataFrame.sum.html) function is used to get the counts of null values per column."
   ]
  },
  {
   "cell_type": "code",
   "execution_count": 18,
   "id": "c414610c",
   "metadata": {
    "pycharm": {
     "name": "#%%\n"
    }
   },
   "outputs": [
    {
     "data": {
      "text/plain": [
       "Obesity           3\n",
       "Undernourished    7\n",
       "Confirmed         6\n",
       "Deaths            6\n",
       "Recovered         6\n",
       "Active            8\n",
       "dtype: int64"
      ]
     },
     "execution_count": 18,
     "metadata": {},
     "output_type": "execute_result"
    }
   ],
   "source": [
    "food_df[nan_variables].isnull().sum()"
   ]
  },
  {
   "cell_type": "markdown",
   "id": "a3b2b768",
   "metadata": {
    "pycharm": {
     "name": "#%% md\n"
    }
   },
   "source": [
    "Since we see that there is a very small number of observations with `NaN` / `null` value for these variable, we can decide to drop those observations from the dataset."
   ]
  },
  {
   "cell_type": "code",
   "execution_count": 19,
   "id": "dfe9edb9",
   "metadata": {
    "pycharm": {
     "name": "#%%\n"
    }
   },
   "outputs": [],
   "source": [
    "food_df = food_df.dropna()"
   ]
  },
  {
   "cell_type": "markdown",
   "id": "3637539f",
   "metadata": {
    "pycharm": {
     "name": "#%% md\n"
    }
   },
   "source": [
    "Display the dimensions of the `Food Dataframe` and the number of null observations from each variable."
   ]
  },
  {
   "cell_type": "code",
   "execution_count": 20,
   "id": "13ad5f53",
   "metadata": {
    "pycharm": {
     "name": "#%%\n"
    }
   },
   "outputs": [
    {
     "name": "stdout",
     "output_type": "stream",
     "text": [
      "(154, 31)\n"
     ]
    },
    {
     "data": {
      "text/plain": [
       "Country                     0\n",
       "Alcoholic Beverages         0\n",
       "Animal fats                 0\n",
       "Animal Products             0\n",
       "Aquatic Products, Other     0\n",
       "Cereals - Excluding Beer    0\n",
       "Eggs                        0\n",
       "Fish, Seafood               0\n",
       "Fruits - Excluding Wine     0\n",
       "Meat                        0\n",
       "Milk - Excluding Butter     0\n",
       "Miscellaneous               0\n",
       "Offals                      0\n",
       "Oilcrops                    0\n",
       "Pulses                      0\n",
       "Spices                      0\n",
       "Starchy Roots               0\n",
       "Stimulants                  0\n",
       "Sugar & Sweeteners          0\n",
       "Sugar Crops                 0\n",
       "Treenuts                    0\n",
       "Vegetable Oils              0\n",
       "Vegetables                  0\n",
       "Vegetal Products            0\n",
       "Obesity                     0\n",
       "Undernourished              0\n",
       "Confirmed                   0\n",
       "Deaths                      0\n",
       "Recovered                   0\n",
       "Active                      0\n",
       "Population                  0\n",
       "dtype: int64"
      ]
     },
     "execution_count": 20,
     "metadata": {},
     "output_type": "execute_result"
    }
   ],
   "source": [
    "print (food_df.shape)\n",
    "food_df.isnull().sum()"
   ]
  },
  {
   "cell_type": "markdown",
   "id": "1e9c9693",
   "metadata": {
    "pycharm": {
     "name": "#%% md\n"
    }
   },
   "source": [
    "# III. Exploratory Data Analysis (EDA)\n",
    "\n",
    "This section of the notebook is focuses on the research team's area of interest, which includes discovering and establishing connections between the **mortality, death, undernutrition, and obesity rates in various countries**. This focus also looks for **potential patterns in the food consumption of countries** with comparable rates of obesity, undernutrition, death, and mortality."
   ]
  },
  {
   "cell_type": "markdown",
   "id": "8ef8f7f2",
   "metadata": {
    "pycharm": {
     "name": "#%% md\n"
    }
   },
   "source": [
    "## *EDA #1* - Which Countries Have the Highest Death and Mortality Rates?\n",
    "\n",
    "The first EDA question seeks to identify the **top five countries with the highest death and mortality rates**—as a foundation for identifying potential patterns within their obesity rates, undernutrition rates, and food consumptions in later portions of the analysis."
   ]
  },
  {
   "cell_type": "markdown",
   "id": "ef97c21b",
   "metadata": {
    "pycharm": {
     "name": "#%% md\n"
    }
   },
   "source": [
    "To do this, the researchers first need to create a new variable named `Mortality`, so as to measure the proportion of deaths resulting from the total number of confirmed COVID-19 cases per country."
   ]
  },
  {
   "cell_type": "code",
   "execution_count": 21,
   "id": "9e58b5ce",
   "metadata": {
    "pycharm": {
     "name": "#%%\n"
    }
   },
   "outputs": [],
   "source": [
    "# Create a Mortality column to measure of the frequency of occurrence of COVID-19 deaths\n",
    "\n",
    "food_df['Mortality'] = food_df['Deaths'] / food_df['Confirmed']*100"
   ]
  },
  {
   "cell_type": "markdown",
   "id": "4435cb25",
   "metadata": {
    "pycharm": {
     "name": "#%% md\n"
    }
   },
   "source": [
    "Next, to identify the **top 5 countries with the highest death rates**, we plot the death rates of each country in a bar graph, sorted in descending order."
   ]
  },
  {
   "cell_type": "code",
   "execution_count": 22,
   "id": "4b036851",
   "metadata": {
    "pycharm": {
     "name": "#%%\n"
    }
   },
   "outputs": [
    {
     "data": {
      "application/vnd.plotly.v1+json": {
       "config": {
        "plotlyServerURL": "https://plot.ly"
       },
       "data": [
        {
         "alignmentgroup": "True",
         "hovertemplate": "Country=%{x}<br>Deaths=%{y}<extra></extra>",
         "legendgroup": "",
         "marker": {
          "color": "#636efa",
          "pattern": {
           "shape": ""
          }
         },
         "name": "",
         "offsetgroup": "",
         "orientation": "v",
         "showlegend": false,
         "textposition": "auto",
         "type": "bar",
         "x": [
          "Afghanistan",
          "Albania",
          "Algeria",
          "Angola",
          "Argentina",
          "Armenia",
          "Australia",
          "Austria",
          "Azerbaijan",
          "Bangladesh",
          "Barbados",
          "Belarus",
          "Belgium",
          "Belize",
          "Benin",
          "Bolivia",
          "Bosnia and Herzegovina",
          "Botswana",
          "Brazil",
          "Bulgaria",
          "Burkina Faso",
          "Cabo Verde",
          "Cambodia",
          "Cameroon",
          "Central African Republic",
          "Chad",
          "China",
          "Colombia",
          "Congo",
          "Costa Rica",
          "Cote d'Ivoire",
          "Croatia",
          "Cuba",
          "Cyprus",
          "Czechia",
          "Denmark",
          "Djibouti",
          "Dominica",
          "Dominican Republic",
          "Ecuador",
          "Egypt",
          "El Salvador",
          "Estonia",
          "Eswatini",
          "Ethiopia",
          "Fiji",
          "Finland",
          "France",
          "Gabon",
          "Gambia",
          "Georgia",
          "Germany",
          "Ghana",
          "Greece",
          "Guatemala",
          "Guinea",
          "Guinea-Bissau",
          "Guyana",
          "Haiti",
          "Honduras",
          "Hungary",
          "Iceland",
          "India",
          "Indonesia",
          "Iran (Islamic Republic of)",
          "Iraq",
          "Ireland",
          "Israel",
          "Italy",
          "Jamaica",
          "Japan",
          "Jordan",
          "Kazakhstan",
          "Kenya",
          "Korea, South",
          "Kuwait",
          "Kyrgyzstan",
          "Lao People's Democratic Republic",
          "Latvia",
          "Lebanon",
          "Lesotho",
          "Liberia",
          "Lithuania",
          "Luxembourg",
          "Madagascar",
          "Malawi",
          "Malaysia",
          "Maldives",
          "Mali",
          "Malta",
          "Mauritania",
          "Mauritius",
          "Mexico",
          "Mongolia",
          "Montenegro",
          "Morocco",
          "Mozambique",
          "Namibia",
          "Nepal",
          "Netherlands",
          "New Zealand",
          "Nicaragua",
          "Niger",
          "Nigeria",
          "North Macedonia",
          "Norway",
          "Oman",
          "Pakistan",
          "Panama",
          "Paraguay",
          "Peru",
          "Philippines",
          "Poland",
          "Portugal",
          "Romania",
          "Russian Federation",
          "Rwanda",
          "Saint Vincent and the Grenadines",
          "Samoa",
          "Sao Tome and Principe",
          "Saudi Arabia",
          "Senegal",
          "Serbia",
          "Sierra Leone",
          "Slovakia",
          "Slovenia",
          "Solomon Islands",
          "South Africa",
          "Spain",
          "Sri Lanka",
          "Sudan",
          "Suriname",
          "Sweden",
          "Switzerland",
          "Thailand",
          "Timor-Leste",
          "Togo",
          "Trinidad and Tobago",
          "Tunisia",
          "Turkey",
          "Uganda",
          "Ukraine",
          "United Arab Emirates",
          "United Kingdom",
          "United Republic of Tanzania",
          "United States of America",
          "Uruguay",
          "Uzbekistan",
          "Vanuatu",
          "Venezuela (Bolivarian Republic of)",
          "Vietnam",
          "Yemen",
          "Zambia",
          "Zimbabwe"
         ],
         "xaxis": "x",
         "y": [
          0.0061857788738183,
          0.0509513742071882,
          0.0065581531663548,
          0.0014605497816862,
          0.108226634638694,
          0.105345060893099,
          0.0035295488079521,
          0.0896791563832174,
          0.0312227938266719,
          0.0048230659152341,
          0.0062717770034843,
          0.018912,
          0.185427702996092,
          0.0730310262529833,
          4.504873454009E-4,
          0.0924353133327602,
          0.145534897896983,
          0.0070349589987052,
          0.108602912016316,
          0.134416053125451,
          6.41056307707E-4,
          0.0242805755395683,
          0,
          0.001782088878863,
          0.0013043478260869,
          7.406529596492E-4,
          3.438428106404E-4,
          0.112638540571151,
          0.0145161290322581,
          0.0522793973782039,
          6.189111747851E-4,
          0.127960199004975,
          0.0020654197322932,
          0.0174813587406794,
          0.159845091452034,
          0.0380168124892777,
          0.0063765182186234,
          0,
          0.0266761904761905,
          0.0856832847924162,
          0.0095274942214021,
          0.0258139176053078,
          0.0342599549211119,
          0.0547101449275362,
          0.0018665808068502,
          2.232142857142E-4,
          0.0124434798336046,
          0.121558361564521,
          0.0031824294038547,
          0.0055440628878775,
          0.0879946164199192,
          0.073890756302521,
          0.0014449843915939,
          0.0556168224299065,
          0.0324034097199159,
          6.687898089171E-4,
          0.0023871302542812,
          0.0228716645489199,
          0.0021485573971761,
          0.0376115166261152,
          0.13336746186137,
          0.0078804347826087,
          0.0110703521177059,
          0.0115526295452622,
          0.0694141414141414,
          0.0330044052863436,
          0.0734359384369378,
          0.0550238715277778,
          0.150927093007828,
          0.0127091491634033,
          0.0050592615526288,
          0.0409120704185785,
          0.0166506512919069,
          0.0033178897025855,
          0.0028408103358374,
          0.0205499893412918,
          0.0215802244464665,
          0,
          0.0697686645636172,
          0.0521904761904762,
          0.0085434173669467,
          0.0016607354685646,
          0.104760200429492,
          0.0933544303797468,
          0.0010147701419233,
          0.0043753267119707,
          0.002614319270309,
          0.0099815157116451,
          0.00166905338008,
          0.053448275862069,
          0.0091397849462365,
          7.90513833992E-4,
          0.129731125579066,
          5.9506099375186E-5,
          0.134405144694534,
          0.0233116377392078,
          0.0014470897773214,
          0.0146005509641873,
          0.0067842378983864,
          0.0828304803343448,
          5.013033888109E-4,
          0.0025773195876288,
          6.821282401091E-4,
          7.989715727175E-4,
          0.140192307692308,
          0.0108037868943753,
          0.0325058349246764,
          0.0054164026432515,
          0.127363997198226,
          0.0386905582356995,
          0.127751035827443,
          0.0101386189211633,
          0.101631567973311,
          0.136070209653827,
          0.0977547944493529,
          0.0511200616084998,
          0.0016754169240271,
          0.0027027027027027,
          0,
          0.0085714285714285,
          0.0182557575411661,
          0.0040312947921643,
          0.0591059364668679,
          9.903472483389E-4,
          0.094013181984621,
          0.171754636233952,
          0,
          0.0774468370564164,
          0.128867429411147,
          0.0016000364680676,
          0.0041756938584688,
          0.0264462809917355,
          0.11674857858726,
          0.111257817929117,
          1.187362852075E-4,
          0,
          9.542215243386E-4,
          0.0098612125639152,
          0.0602051109616678,
          0.0318676331848526,
          7.148947333901E-4,
          0.0592058020967974,
          0.0093475148292084,
          0.167220071471114,
          3.51558576355175E-5,
          0.140103007778633,
          0.0136222033418295,
          0.0018171709486744,
          0,
          0.0042869610752312,
          3.63791329293517E-5,
          0.002061959364313,
          0.0045637510879025,
          0.0088542017089416
         ],
         "yaxis": "y"
        }
       ],
       "layout": {
        "barmode": "relative",
        "legend": {
         "tracegroupgap": 0
        },
        "margin": {
         "t": 60
        },
        "template": {
         "data": {
          "bar": [
           {
            "error_x": {
             "color": "#2a3f5f"
            },
            "error_y": {
             "color": "#2a3f5f"
            },
            "marker": {
             "line": {
              "color": "#E5ECF6",
              "width": 0.5
             },
             "pattern": {
              "fillmode": "overlay",
              "size": 10,
              "solidity": 0.2
             }
            },
            "type": "bar"
           }
          ],
          "barpolar": [
           {
            "marker": {
             "line": {
              "color": "#E5ECF6",
              "width": 0.5
             },
             "pattern": {
              "fillmode": "overlay",
              "size": 10,
              "solidity": 0.2
             }
            },
            "type": "barpolar"
           }
          ],
          "carpet": [
           {
            "aaxis": {
             "endlinecolor": "#2a3f5f",
             "gridcolor": "white",
             "linecolor": "white",
             "minorgridcolor": "white",
             "startlinecolor": "#2a3f5f"
            },
            "baxis": {
             "endlinecolor": "#2a3f5f",
             "gridcolor": "white",
             "linecolor": "white",
             "minorgridcolor": "white",
             "startlinecolor": "#2a3f5f"
            },
            "type": "carpet"
           }
          ],
          "choropleth": [
           {
            "colorbar": {
             "outlinewidth": 0,
             "ticks": ""
            },
            "type": "choropleth"
           }
          ],
          "contour": [
           {
            "colorbar": {
             "outlinewidth": 0,
             "ticks": ""
            },
            "colorscale": [
             [
              0,
              "#0d0887"
             ],
             [
              0.1111111111111111,
              "#46039f"
             ],
             [
              0.2222222222222222,
              "#7201a8"
             ],
             [
              0.3333333333333333,
              "#9c179e"
             ],
             [
              0.4444444444444444,
              "#bd3786"
             ],
             [
              0.5555555555555556,
              "#d8576b"
             ],
             [
              0.6666666666666666,
              "#ed7953"
             ],
             [
              0.7777777777777778,
              "#fb9f3a"
             ],
             [
              0.8888888888888888,
              "#fdca26"
             ],
             [
              1,
              "#f0f921"
             ]
            ],
            "type": "contour"
           }
          ],
          "contourcarpet": [
           {
            "colorbar": {
             "outlinewidth": 0,
             "ticks": ""
            },
            "type": "contourcarpet"
           }
          ],
          "heatmap": [
           {
            "colorbar": {
             "outlinewidth": 0,
             "ticks": ""
            },
            "colorscale": [
             [
              0,
              "#0d0887"
             ],
             [
              0.1111111111111111,
              "#46039f"
             ],
             [
              0.2222222222222222,
              "#7201a8"
             ],
             [
              0.3333333333333333,
              "#9c179e"
             ],
             [
              0.4444444444444444,
              "#bd3786"
             ],
             [
              0.5555555555555556,
              "#d8576b"
             ],
             [
              0.6666666666666666,
              "#ed7953"
             ],
             [
              0.7777777777777778,
              "#fb9f3a"
             ],
             [
              0.8888888888888888,
              "#fdca26"
             ],
             [
              1,
              "#f0f921"
             ]
            ],
            "type": "heatmap"
           }
          ],
          "heatmapgl": [
           {
            "colorbar": {
             "outlinewidth": 0,
             "ticks": ""
            },
            "colorscale": [
             [
              0,
              "#0d0887"
             ],
             [
              0.1111111111111111,
              "#46039f"
             ],
             [
              0.2222222222222222,
              "#7201a8"
             ],
             [
              0.3333333333333333,
              "#9c179e"
             ],
             [
              0.4444444444444444,
              "#bd3786"
             ],
             [
              0.5555555555555556,
              "#d8576b"
             ],
             [
              0.6666666666666666,
              "#ed7953"
             ],
             [
              0.7777777777777778,
              "#fb9f3a"
             ],
             [
              0.8888888888888888,
              "#fdca26"
             ],
             [
              1,
              "#f0f921"
             ]
            ],
            "type": "heatmapgl"
           }
          ],
          "histogram": [
           {
            "marker": {
             "pattern": {
              "fillmode": "overlay",
              "size": 10,
              "solidity": 0.2
             }
            },
            "type": "histogram"
           }
          ],
          "histogram2d": [
           {
            "colorbar": {
             "outlinewidth": 0,
             "ticks": ""
            },
            "colorscale": [
             [
              0,
              "#0d0887"
             ],
             [
              0.1111111111111111,
              "#46039f"
             ],
             [
              0.2222222222222222,
              "#7201a8"
             ],
             [
              0.3333333333333333,
              "#9c179e"
             ],
             [
              0.4444444444444444,
              "#bd3786"
             ],
             [
              0.5555555555555556,
              "#d8576b"
             ],
             [
              0.6666666666666666,
              "#ed7953"
             ],
             [
              0.7777777777777778,
              "#fb9f3a"
             ],
             [
              0.8888888888888888,
              "#fdca26"
             ],
             [
              1,
              "#f0f921"
             ]
            ],
            "type": "histogram2d"
           }
          ],
          "histogram2dcontour": [
           {
            "colorbar": {
             "outlinewidth": 0,
             "ticks": ""
            },
            "colorscale": [
             [
              0,
              "#0d0887"
             ],
             [
              0.1111111111111111,
              "#46039f"
             ],
             [
              0.2222222222222222,
              "#7201a8"
             ],
             [
              0.3333333333333333,
              "#9c179e"
             ],
             [
              0.4444444444444444,
              "#bd3786"
             ],
             [
              0.5555555555555556,
              "#d8576b"
             ],
             [
              0.6666666666666666,
              "#ed7953"
             ],
             [
              0.7777777777777778,
              "#fb9f3a"
             ],
             [
              0.8888888888888888,
              "#fdca26"
             ],
             [
              1,
              "#f0f921"
             ]
            ],
            "type": "histogram2dcontour"
           }
          ],
          "mesh3d": [
           {
            "colorbar": {
             "outlinewidth": 0,
             "ticks": ""
            },
            "type": "mesh3d"
           }
          ],
          "parcoords": [
           {
            "line": {
             "colorbar": {
              "outlinewidth": 0,
              "ticks": ""
             }
            },
            "type": "parcoords"
           }
          ],
          "pie": [
           {
            "automargin": true,
            "type": "pie"
           }
          ],
          "scatter": [
           {
            "fillpattern": {
             "fillmode": "overlay",
             "size": 10,
             "solidity": 0.2
            },
            "type": "scatter"
           }
          ],
          "scatter3d": [
           {
            "line": {
             "colorbar": {
              "outlinewidth": 0,
              "ticks": ""
             }
            },
            "marker": {
             "colorbar": {
              "outlinewidth": 0,
              "ticks": ""
             }
            },
            "type": "scatter3d"
           }
          ],
          "scattercarpet": [
           {
            "marker": {
             "colorbar": {
              "outlinewidth": 0,
              "ticks": ""
             }
            },
            "type": "scattercarpet"
           }
          ],
          "scattergeo": [
           {
            "marker": {
             "colorbar": {
              "outlinewidth": 0,
              "ticks": ""
             }
            },
            "type": "scattergeo"
           }
          ],
          "scattergl": [
           {
            "marker": {
             "colorbar": {
              "outlinewidth": 0,
              "ticks": ""
             }
            },
            "type": "scattergl"
           }
          ],
          "scattermapbox": [
           {
            "marker": {
             "colorbar": {
              "outlinewidth": 0,
              "ticks": ""
             }
            },
            "type": "scattermapbox"
           }
          ],
          "scatterpolar": [
           {
            "marker": {
             "colorbar": {
              "outlinewidth": 0,
              "ticks": ""
             }
            },
            "type": "scatterpolar"
           }
          ],
          "scatterpolargl": [
           {
            "marker": {
             "colorbar": {
              "outlinewidth": 0,
              "ticks": ""
             }
            },
            "type": "scatterpolargl"
           }
          ],
          "scatterternary": [
           {
            "marker": {
             "colorbar": {
              "outlinewidth": 0,
              "ticks": ""
             }
            },
            "type": "scatterternary"
           }
          ],
          "surface": [
           {
            "colorbar": {
             "outlinewidth": 0,
             "ticks": ""
            },
            "colorscale": [
             [
              0,
              "#0d0887"
             ],
             [
              0.1111111111111111,
              "#46039f"
             ],
             [
              0.2222222222222222,
              "#7201a8"
             ],
             [
              0.3333333333333333,
              "#9c179e"
             ],
             [
              0.4444444444444444,
              "#bd3786"
             ],
             [
              0.5555555555555556,
              "#d8576b"
             ],
             [
              0.6666666666666666,
              "#ed7953"
             ],
             [
              0.7777777777777778,
              "#fb9f3a"
             ],
             [
              0.8888888888888888,
              "#fdca26"
             ],
             [
              1,
              "#f0f921"
             ]
            ],
            "type": "surface"
           }
          ],
          "table": [
           {
            "cells": {
             "fill": {
              "color": "#EBF0F8"
             },
             "line": {
              "color": "white"
             }
            },
            "header": {
             "fill": {
              "color": "#C8D4E3"
             },
             "line": {
              "color": "white"
             }
            },
            "type": "table"
           }
          ]
         },
         "layout": {
          "annotationdefaults": {
           "arrowcolor": "#2a3f5f",
           "arrowhead": 0,
           "arrowwidth": 1
          },
          "autotypenumbers": "strict",
          "coloraxis": {
           "colorbar": {
            "outlinewidth": 0,
            "ticks": ""
           }
          },
          "colorscale": {
           "diverging": [
            [
             0,
             "#8e0152"
            ],
            [
             0.1,
             "#c51b7d"
            ],
            [
             0.2,
             "#de77ae"
            ],
            [
             0.3,
             "#f1b6da"
            ],
            [
             0.4,
             "#fde0ef"
            ],
            [
             0.5,
             "#f7f7f7"
            ],
            [
             0.6,
             "#e6f5d0"
            ],
            [
             0.7,
             "#b8e186"
            ],
            [
             0.8,
             "#7fbc41"
            ],
            [
             0.9,
             "#4d9221"
            ],
            [
             1,
             "#276419"
            ]
           ],
           "sequential": [
            [
             0,
             "#0d0887"
            ],
            [
             0.1111111111111111,
             "#46039f"
            ],
            [
             0.2222222222222222,
             "#7201a8"
            ],
            [
             0.3333333333333333,
             "#9c179e"
            ],
            [
             0.4444444444444444,
             "#bd3786"
            ],
            [
             0.5555555555555556,
             "#d8576b"
            ],
            [
             0.6666666666666666,
             "#ed7953"
            ],
            [
             0.7777777777777778,
             "#fb9f3a"
            ],
            [
             0.8888888888888888,
             "#fdca26"
            ],
            [
             1,
             "#f0f921"
            ]
           ],
           "sequentialminus": [
            [
             0,
             "#0d0887"
            ],
            [
             0.1111111111111111,
             "#46039f"
            ],
            [
             0.2222222222222222,
             "#7201a8"
            ],
            [
             0.3333333333333333,
             "#9c179e"
            ],
            [
             0.4444444444444444,
             "#bd3786"
            ],
            [
             0.5555555555555556,
             "#d8576b"
            ],
            [
             0.6666666666666666,
             "#ed7953"
            ],
            [
             0.7777777777777778,
             "#fb9f3a"
            ],
            [
             0.8888888888888888,
             "#fdca26"
            ],
            [
             1,
             "#f0f921"
            ]
           ]
          },
          "colorway": [
           "#636efa",
           "#EF553B",
           "#00cc96",
           "#ab63fa",
           "#FFA15A",
           "#19d3f3",
           "#FF6692",
           "#B6E880",
           "#FF97FF",
           "#FECB52"
          ],
          "font": {
           "color": "#2a3f5f"
          },
          "geo": {
           "bgcolor": "white",
           "lakecolor": "white",
           "landcolor": "#E5ECF6",
           "showlakes": true,
           "showland": true,
           "subunitcolor": "white"
          },
          "hoverlabel": {
           "align": "left"
          },
          "hovermode": "closest",
          "mapbox": {
           "style": "light"
          },
          "paper_bgcolor": "white",
          "plot_bgcolor": "#E5ECF6",
          "polar": {
           "angularaxis": {
            "gridcolor": "white",
            "linecolor": "white",
            "ticks": ""
           },
           "bgcolor": "#E5ECF6",
           "radialaxis": {
            "gridcolor": "white",
            "linecolor": "white",
            "ticks": ""
           }
          },
          "scene": {
           "xaxis": {
            "backgroundcolor": "#E5ECF6",
            "gridcolor": "white",
            "gridwidth": 2,
            "linecolor": "white",
            "showbackground": true,
            "ticks": "",
            "zerolinecolor": "white"
           },
           "yaxis": {
            "backgroundcolor": "#E5ECF6",
            "gridcolor": "white",
            "gridwidth": 2,
            "linecolor": "white",
            "showbackground": true,
            "ticks": "",
            "zerolinecolor": "white"
           },
           "zaxis": {
            "backgroundcolor": "#E5ECF6",
            "gridcolor": "white",
            "gridwidth": 2,
            "linecolor": "white",
            "showbackground": true,
            "ticks": "",
            "zerolinecolor": "white"
           }
          },
          "shapedefaults": {
           "line": {
            "color": "#2a3f5f"
           }
          },
          "ternary": {
           "aaxis": {
            "gridcolor": "white",
            "linecolor": "white",
            "ticks": ""
           },
           "baxis": {
            "gridcolor": "white",
            "linecolor": "white",
            "ticks": ""
           },
           "bgcolor": "#E5ECF6",
           "caxis": {
            "gridcolor": "white",
            "linecolor": "white",
            "ticks": ""
           }
          },
          "title": {
           "x": 0.05
          },
          "xaxis": {
           "automargin": true,
           "gridcolor": "white",
           "linecolor": "white",
           "ticks": "",
           "title": {
            "standoff": 15
           },
           "zerolinecolor": "white",
           "zerolinewidth": 2
          },
          "yaxis": {
           "automargin": true,
           "gridcolor": "white",
           "linecolor": "white",
           "ticks": "",
           "title": {
            "standoff": 15
           },
           "zerolinecolor": "white",
           "zerolinewidth": 2
          }
         }
        },
        "xaxis": {
         "anchor": "y",
         "categoryorder": "total descending",
         "domain": [
          0,
          1
         ],
         "title": {
          "text": "Country"
         }
        },
        "yaxis": {
         "anchor": "x",
         "domain": [
          0,
          1
         ],
         "title": {
          "text": "Deaths"
         }
        }
       }
      }
     },
     "metadata": {},
     "output_type": "display_data"
    }
   ],
   "source": [
    "# Figure to present the Death rates of each country, sorted in descending order\n",
    "\n",
    "deaths = px.bar(food_df, x='Country', y='Deaths').update_xaxes(categoryorder=\"total descending\")\n",
    "deaths.show()"
   ]
  },
  {
   "cell_type": "markdown",
   "id": "3966829a",
   "metadata": {
    "pycharm": {
     "name": "#%% md\n"
    }
   },
   "source": [
    "Upon analyzing the graph above, the researchers discovered that the top 5 countries with the highest death rates are **Belgium, Slovenia, United Kingdom, Czechia, and Italy**. Provided below are the precise death rates of the aforementioned countries:"
   ]
  },
  {
   "cell_type": "code",
   "execution_count": 23,
   "id": "26cbeebb",
   "metadata": {
    "pycharm": {
     "name": "#%%\n"
    }
   },
   "outputs": [
    {
     "data": {
      "text/html": [
       "<div>\n",
       "<style scoped>\n",
       "    .dataframe tbody tr th:only-of-type {\n",
       "        vertical-align: middle;\n",
       "    }\n",
       "\n",
       "    .dataframe tbody tr th {\n",
       "        vertical-align: top;\n",
       "    }\n",
       "\n",
       "    .dataframe thead th {\n",
       "        text-align: right;\n",
       "    }\n",
       "</style>\n",
       "<table border=\"1\" class=\"dataframe\">\n",
       "  <thead>\n",
       "    <tr style=\"text-align: right;\">\n",
       "      <th></th>\n",
       "      <th>Country</th>\n",
       "      <th>Deaths</th>\n",
       "    </tr>\n",
       "  </thead>\n",
       "  <tbody>\n",
       "    <tr>\n",
       "      <th>14</th>\n",
       "      <td>Belgium</td>\n",
       "      <td>0.185428</td>\n",
       "    </tr>\n",
       "    <tr>\n",
       "      <th>138</th>\n",
       "      <td>Slovenia</td>\n",
       "      <td>0.171755</td>\n",
       "    </tr>\n",
       "    <tr>\n",
       "      <th>159</th>\n",
       "      <td>United Kingdom</td>\n",
       "      <td>0.167220</td>\n",
       "    </tr>\n",
       "    <tr>\n",
       "      <th>38</th>\n",
       "      <td>Czechia</td>\n",
       "      <td>0.159845</td>\n",
       "    </tr>\n",
       "    <tr>\n",
       "      <th>74</th>\n",
       "      <td>Italy</td>\n",
       "      <td>0.150927</td>\n",
       "    </tr>\n",
       "  </tbody>\n",
       "</table>\n",
       "</div>"
      ],
      "text/plain": [
       "            Country    Deaths\n",
       "14          Belgium  0.185428\n",
       "138        Slovenia  0.171755\n",
       "159  United Kingdom  0.167220\n",
       "38          Czechia  0.159845\n",
       "74            Italy  0.150927"
      ]
     },
     "execution_count": 23,
     "metadata": {},
     "output_type": "execute_result"
    }
   ],
   "source": [
    "# Get the countries with highest death rates by sorting the dataframe in descending order\n",
    "top_5_deaths = food_df.sort_values(by='Deaths', ascending=False, inplace=False)\n",
    "\n",
    "# Get the top 5\n",
    "top_5_deaths = top_5_deaths.head(5)\n",
    "\n",
    "# Represent in percentage\n",
    "top_5_deaths.iloc[:,[0,27]]"
   ]
  },
  {
   "cell_type": "markdown",
   "id": "a97ce855",
   "metadata": {
    "pycharm": {
     "name": "#%% md\n"
    }
   },
   "source": [
    "Top 5 Countries with the Highest Death Rates:\n",
    "\n",
    "- **Belgium:** 0.19%\n",
    "- **Slovenia:** 0.17%\n",
    "- **United Kingdom:** 0.17%\n",
    "- **Czechia:** 0.16%\n",
    "- **Italy:** 0.15%"
   ]
  },
  {
   "cell_type": "markdown",
   "id": "5f01a272",
   "metadata": {
    "pycharm": {
     "name": "#%% md\n"
    }
   },
   "source": [
    "Get the statistical summary of the `Deaths` variable by calling the function `describe()`"
   ]
  },
  {
   "cell_type": "code",
   "execution_count": 24,
   "id": "5e9d1f37",
   "metadata": {
    "pycharm": {
     "name": "#%%\n"
    }
   },
   "outputs": [
    {
     "data": {
      "text/plain": [
       "count    154.000000\n",
       "mean       0.039882\n",
       "std        0.049285\n",
       "min        0.000000\n",
       "25%        0.002086\n",
       "50%        0.012576\n",
       "75%        0.069680\n",
       "max        0.185428\n",
       "Name: Deaths, dtype: float64"
      ]
     },
     "execution_count": 24,
     "metadata": {},
     "output_type": "execute_result"
    }
   ],
   "source": [
    "food_df['Deaths'].describe()"
   ]
  },
  {
   "cell_type": "code",
   "execution_count": 25,
   "id": "b8413867",
   "metadata": {
    "pycharm": {
     "name": "#%%\n"
    }
   },
   "outputs": [
    {
     "name": "stdout",
     "output_type": "stream",
     "text": [
      "Coefficient of Variation: 1.2357759652791964\n"
     ]
    }
   ],
   "source": [
    "# Get the mean and std\n",
    "mean = food_df['Deaths'].mean()\n",
    "std = food_df['Deaths'].std()\n",
    "\n",
    "# Get the coefficient of variation\n",
    "cv = std / mean\n",
    "\n",
    "print(\"Coefficient of Variation:\",cv)"
   ]
  },
  {
   "cell_type": "markdown",
   "id": "73ccaf67",
   "metadata": {
    "pycharm": {
     "name": "#%% md\n"
    }
   },
   "source": [
    "Based on the data above, the researchers may state the following:\n",
    "- `Average death rate` of the countries is 0.04\n",
    "- `Standard deviation` of death rates is 0.0493 \n",
    "\n",
    "The `coefficient of variation` indicates that the death rates are widely spread out across different values."
   ]
  },
  {
   "cell_type": "markdown",
   "id": "553c6113",
   "metadata": {
    "pycharm": {
     "name": "#%% md\n"
    }
   },
   "source": [
    "Next, to identify the **top 5 countries with the highest mortality rates**, we plot the mortality rates of each country in a bar graph, sorted in descending order."
   ]
  },
  {
   "cell_type": "code",
   "execution_count": 26,
   "id": "af7ce5d3",
   "metadata": {
    "pycharm": {
     "name": "#%%\n"
    }
   },
   "outputs": [
    {
     "data": {
      "application/vnd.plotly.v1+json": {
       "config": {
        "plotlyServerURL": "https://plot.ly"
       },
       "data": [
        {
         "alignmentgroup": "True",
         "hovertemplate": "Country=%{x}<br>Mortality=%{y}<extra></extra>",
         "legendgroup": "",
         "marker": {
          "color": "#636efa",
          "pattern": {
           "shape": ""
          }
         },
         "name": "",
         "offsetgroup": "",
         "orientation": "v",
         "showlegend": false,
         "textposition": "auto",
         "type": "bar",
         "x": [
          "Afghanistan",
          "Albania",
          "Algeria",
          "Angola",
          "Argentina",
          "Armenia",
          "Australia",
          "Austria",
          "Azerbaijan",
          "Bangladesh",
          "Barbados",
          "Belarus",
          "Belgium",
          "Belize",
          "Benin",
          "Bolivia",
          "Bosnia and Herzegovina",
          "Botswana",
          "Brazil",
          "Bulgaria",
          "Burkina Faso",
          "Cabo Verde",
          "Cambodia",
          "Cameroon",
          "Central African Republic",
          "Chad",
          "China",
          "Colombia",
          "Congo",
          "Costa Rica",
          "Cote d'Ivoire",
          "Croatia",
          "Cuba",
          "Cyprus",
          "Czechia",
          "Denmark",
          "Djibouti",
          "Dominica",
          "Dominican Republic",
          "Ecuador",
          "Egypt",
          "El Salvador",
          "Estonia",
          "Eswatini",
          "Ethiopia",
          "Fiji",
          "Finland",
          "France",
          "Gabon",
          "Gambia",
          "Georgia",
          "Germany",
          "Ghana",
          "Greece",
          "Guatemala",
          "Guinea",
          "Guinea-Bissau",
          "Guyana",
          "Haiti",
          "Honduras",
          "Hungary",
          "Iceland",
          "India",
          "Indonesia",
          "Iran (Islamic Republic of)",
          "Iraq",
          "Ireland",
          "Israel",
          "Italy",
          "Jamaica",
          "Japan",
          "Jordan",
          "Kazakhstan",
          "Kenya",
          "Korea, South",
          "Kuwait",
          "Kyrgyzstan",
          "Lao People's Democratic Republic",
          "Latvia",
          "Lebanon",
          "Lesotho",
          "Liberia",
          "Lithuania",
          "Luxembourg",
          "Madagascar",
          "Malawi",
          "Malaysia",
          "Maldives",
          "Mali",
          "Malta",
          "Mauritania",
          "Mauritius",
          "Mexico",
          "Mongolia",
          "Montenegro",
          "Morocco",
          "Mozambique",
          "Namibia",
          "Nepal",
          "Netherlands",
          "New Zealand",
          "Nicaragua",
          "Niger",
          "Nigeria",
          "North Macedonia",
          "Norway",
          "Oman",
          "Pakistan",
          "Panama",
          "Paraguay",
          "Peru",
          "Philippines",
          "Poland",
          "Portugal",
          "Romania",
          "Russian Federation",
          "Rwanda",
          "Saint Vincent and the Grenadines",
          "Samoa",
          "Sao Tome and Principe",
          "Saudi Arabia",
          "Senegal",
          "Serbia",
          "Sierra Leone",
          "Slovakia",
          "Slovenia",
          "Solomon Islands",
          "South Africa",
          "Spain",
          "Sri Lanka",
          "Sudan",
          "Suriname",
          "Sweden",
          "Switzerland",
          "Thailand",
          "Timor-Leste",
          "Togo",
          "Trinidad and Tobago",
          "Tunisia",
          "Turkey",
          "Uganda",
          "Ukraine",
          "United Arab Emirates",
          "United Kingdom",
          "United Republic of Tanzania",
          "United States of America",
          "Uruguay",
          "Uzbekistan",
          "Vanuatu",
          "Venezuela (Bolivarian Republic of)",
          "Vietnam",
          "Yemen",
          "Zambia",
          "Zimbabwe"
         ],
         "xaxis": "x",
         "y": [
          4.352069401771176,
          1.717094950838359,
          2.677922101832838,
          2.3676602532149635,
          2.4844575955044093,
          1.8542667786134115,
          3.150670687324479,
          1.8919724890064906,
          1.3661036611231818,
          1.5229559105193446,
          1.0739856801909273,
          0.6899933452418479,
          2.9497009131473866,
          2.5421616681897454,
          1.3117099928451212,
          4.734334824416184,
          3.8684641184762842,
          0.6935284857252216,
          2.434952708034622,
          4.1650264815344915,
          1.1935512603544514,
          0.9388038942976333,
          0,
          1.509842645091354,
          1.2627781118460006,
          3.59919378059302,
          4.805277633833631,
          2.5889186861143494,
          2.5392296718972953,
          1.3602256182612322,
          0.5479081408326841,
          2.187763156775512,
          0.7278747930398786,
          0.6667930729364175,
          1.6628288962753528,
          1.0977307290299227,
          1.0604275374515941,
          0,
          1.2608711309577398,
          5.835521070338193,
          5.67927808593425,
          2.9749097569215976,
          0.9597575349385394,
          3.7327730053766808,
          1.5164047422111782,
          3.5714285714272003,
          1.4557149507003473,
          2.338085920955278,
          0.6197084751680058,
          3.162615057823919,
          1.2495222077822783,
          2.6936944940553724,
          0.6410073380349677,
          3.6461556371122272,
          3.592799671038502,
          0.5727923627684148,
          1.6594516594516089,
          2.267288071545528,
          2.083687701990058,
          2.4105779539326178,
          3.472442519160284,
          0.4816475668493597,
          1.4316534555510503,
          2.7369421365114532,
          4.002549045135918,
          2.0896821247784514,
          1.813891028299463,
          0.7396624478728323,
          3.4666515307238015,
          2.11982661362151,
          1.576975611687368,
          1.3086519596830934,
          1.2814086867923244,
          1.7464844134132844,
          1.8183840981012265,
          0.5669387659083954,
          1.674275225903617,
          0,
          1.860628154795289,
          1.1207037591713966,
          1.9509594882729038,
          4.294478527607231,
          1.5713074007665992,
          1.145364186985557,
          1.4739050616311615,
          3.114418604651148,
          0.3589964854369718,
          0.3242074927953887,
          4.142156862745105,
          1.501937984496126,
          2.5309671272034104,
          1.7123287671230836,
          8.607430636318348,
          0.0988630746416214,
          1.291339069185499,
          1.764547357073975,
          1.0223975335509343,
          1.064745723797499,
          0.7486957609471403,
          1.4243564159538173,
          1.0775862068965336,
          2.69884108588658,
          3.588516746411267,
          1.1828327659756783,
          3.082485015697845,
          0.9001902463922752,
          1.1344702719914677,
          2.1582617038850955,
          1.6709346206626199,
          2.039926455091825,
          3.5747136725359967,
          2.0746151878264283,
          2.523017993827355,
          1.8314595238782685,
          2.530325838811961,
          1.9195665531202482,
          1.328273244781726,
          0.24958402662229656,
          0,
          1.3323464100666071,
          1.7291011755293173,
          2.3693355330127055,
          1.011930542977517,
          2.0943796394484098,
          1.9616157448791693,
          2.0854383057834607,
          0,
          3.1336092827576865,
          2.0865468611382068,
          0.5118408772748326,
          6.178713639738081,
          1.84971098265896,
          2.0601569222292837,
          1.8060702460925737,
          0.3380257584183738,
          0,
          1.4532744665193644,
          1.7735155018391897,
          3.3130412256679715,
          1.056921259861232,
          0.8211747570376574,
          1.9248143470455454,
          0.28262039195799604,
          2.849460060239427,
          4.12573673870378,
          1.7169650684879818,
          1.0733732036061732,
          0.7856284394964747,
          0,
          0.9472165870891425,
          1.763224181360229,
          28.913963328631993,
          1.365848893808903,
          3.815930640531178
         ],
         "yaxis": "y"
        }
       ],
       "layout": {
        "barmode": "relative",
        "legend": {
         "tracegroupgap": 0
        },
        "margin": {
         "t": 60
        },
        "template": {
         "data": {
          "bar": [
           {
            "error_x": {
             "color": "#2a3f5f"
            },
            "error_y": {
             "color": "#2a3f5f"
            },
            "marker": {
             "line": {
              "color": "#E5ECF6",
              "width": 0.5
             },
             "pattern": {
              "fillmode": "overlay",
              "size": 10,
              "solidity": 0.2
             }
            },
            "type": "bar"
           }
          ],
          "barpolar": [
           {
            "marker": {
             "line": {
              "color": "#E5ECF6",
              "width": 0.5
             },
             "pattern": {
              "fillmode": "overlay",
              "size": 10,
              "solidity": 0.2
             }
            },
            "type": "barpolar"
           }
          ],
          "carpet": [
           {
            "aaxis": {
             "endlinecolor": "#2a3f5f",
             "gridcolor": "white",
             "linecolor": "white",
             "minorgridcolor": "white",
             "startlinecolor": "#2a3f5f"
            },
            "baxis": {
             "endlinecolor": "#2a3f5f",
             "gridcolor": "white",
             "linecolor": "white",
             "minorgridcolor": "white",
             "startlinecolor": "#2a3f5f"
            },
            "type": "carpet"
           }
          ],
          "choropleth": [
           {
            "colorbar": {
             "outlinewidth": 0,
             "ticks": ""
            },
            "type": "choropleth"
           }
          ],
          "contour": [
           {
            "colorbar": {
             "outlinewidth": 0,
             "ticks": ""
            },
            "colorscale": [
             [
              0,
              "#0d0887"
             ],
             [
              0.1111111111111111,
              "#46039f"
             ],
             [
              0.2222222222222222,
              "#7201a8"
             ],
             [
              0.3333333333333333,
              "#9c179e"
             ],
             [
              0.4444444444444444,
              "#bd3786"
             ],
             [
              0.5555555555555556,
              "#d8576b"
             ],
             [
              0.6666666666666666,
              "#ed7953"
             ],
             [
              0.7777777777777778,
              "#fb9f3a"
             ],
             [
              0.8888888888888888,
              "#fdca26"
             ],
             [
              1,
              "#f0f921"
             ]
            ],
            "type": "contour"
           }
          ],
          "contourcarpet": [
           {
            "colorbar": {
             "outlinewidth": 0,
             "ticks": ""
            },
            "type": "contourcarpet"
           }
          ],
          "heatmap": [
           {
            "colorbar": {
             "outlinewidth": 0,
             "ticks": ""
            },
            "colorscale": [
             [
              0,
              "#0d0887"
             ],
             [
              0.1111111111111111,
              "#46039f"
             ],
             [
              0.2222222222222222,
              "#7201a8"
             ],
             [
              0.3333333333333333,
              "#9c179e"
             ],
             [
              0.4444444444444444,
              "#bd3786"
             ],
             [
              0.5555555555555556,
              "#d8576b"
             ],
             [
              0.6666666666666666,
              "#ed7953"
             ],
             [
              0.7777777777777778,
              "#fb9f3a"
             ],
             [
              0.8888888888888888,
              "#fdca26"
             ],
             [
              1,
              "#f0f921"
             ]
            ],
            "type": "heatmap"
           }
          ],
          "heatmapgl": [
           {
            "colorbar": {
             "outlinewidth": 0,
             "ticks": ""
            },
            "colorscale": [
             [
              0,
              "#0d0887"
             ],
             [
              0.1111111111111111,
              "#46039f"
             ],
             [
              0.2222222222222222,
              "#7201a8"
             ],
             [
              0.3333333333333333,
              "#9c179e"
             ],
             [
              0.4444444444444444,
              "#bd3786"
             ],
             [
              0.5555555555555556,
              "#d8576b"
             ],
             [
              0.6666666666666666,
              "#ed7953"
             ],
             [
              0.7777777777777778,
              "#fb9f3a"
             ],
             [
              0.8888888888888888,
              "#fdca26"
             ],
             [
              1,
              "#f0f921"
             ]
            ],
            "type": "heatmapgl"
           }
          ],
          "histogram": [
           {
            "marker": {
             "pattern": {
              "fillmode": "overlay",
              "size": 10,
              "solidity": 0.2
             }
            },
            "type": "histogram"
           }
          ],
          "histogram2d": [
           {
            "colorbar": {
             "outlinewidth": 0,
             "ticks": ""
            },
            "colorscale": [
             [
              0,
              "#0d0887"
             ],
             [
              0.1111111111111111,
              "#46039f"
             ],
             [
              0.2222222222222222,
              "#7201a8"
             ],
             [
              0.3333333333333333,
              "#9c179e"
             ],
             [
              0.4444444444444444,
              "#bd3786"
             ],
             [
              0.5555555555555556,
              "#d8576b"
             ],
             [
              0.6666666666666666,
              "#ed7953"
             ],
             [
              0.7777777777777778,
              "#fb9f3a"
             ],
             [
              0.8888888888888888,
              "#fdca26"
             ],
             [
              1,
              "#f0f921"
             ]
            ],
            "type": "histogram2d"
           }
          ],
          "histogram2dcontour": [
           {
            "colorbar": {
             "outlinewidth": 0,
             "ticks": ""
            },
            "colorscale": [
             [
              0,
              "#0d0887"
             ],
             [
              0.1111111111111111,
              "#46039f"
             ],
             [
              0.2222222222222222,
              "#7201a8"
             ],
             [
              0.3333333333333333,
              "#9c179e"
             ],
             [
              0.4444444444444444,
              "#bd3786"
             ],
             [
              0.5555555555555556,
              "#d8576b"
             ],
             [
              0.6666666666666666,
              "#ed7953"
             ],
             [
              0.7777777777777778,
              "#fb9f3a"
             ],
             [
              0.8888888888888888,
              "#fdca26"
             ],
             [
              1,
              "#f0f921"
             ]
            ],
            "type": "histogram2dcontour"
           }
          ],
          "mesh3d": [
           {
            "colorbar": {
             "outlinewidth": 0,
             "ticks": ""
            },
            "type": "mesh3d"
           }
          ],
          "parcoords": [
           {
            "line": {
             "colorbar": {
              "outlinewidth": 0,
              "ticks": ""
             }
            },
            "type": "parcoords"
           }
          ],
          "pie": [
           {
            "automargin": true,
            "type": "pie"
           }
          ],
          "scatter": [
           {
            "fillpattern": {
             "fillmode": "overlay",
             "size": 10,
             "solidity": 0.2
            },
            "type": "scatter"
           }
          ],
          "scatter3d": [
           {
            "line": {
             "colorbar": {
              "outlinewidth": 0,
              "ticks": ""
             }
            },
            "marker": {
             "colorbar": {
              "outlinewidth": 0,
              "ticks": ""
             }
            },
            "type": "scatter3d"
           }
          ],
          "scattercarpet": [
           {
            "marker": {
             "colorbar": {
              "outlinewidth": 0,
              "ticks": ""
             }
            },
            "type": "scattercarpet"
           }
          ],
          "scattergeo": [
           {
            "marker": {
             "colorbar": {
              "outlinewidth": 0,
              "ticks": ""
             }
            },
            "type": "scattergeo"
           }
          ],
          "scattergl": [
           {
            "marker": {
             "colorbar": {
              "outlinewidth": 0,
              "ticks": ""
             }
            },
            "type": "scattergl"
           }
          ],
          "scattermapbox": [
           {
            "marker": {
             "colorbar": {
              "outlinewidth": 0,
              "ticks": ""
             }
            },
            "type": "scattermapbox"
           }
          ],
          "scatterpolar": [
           {
            "marker": {
             "colorbar": {
              "outlinewidth": 0,
              "ticks": ""
             }
            },
            "type": "scatterpolar"
           }
          ],
          "scatterpolargl": [
           {
            "marker": {
             "colorbar": {
              "outlinewidth": 0,
              "ticks": ""
             }
            },
            "type": "scatterpolargl"
           }
          ],
          "scatterternary": [
           {
            "marker": {
             "colorbar": {
              "outlinewidth": 0,
              "ticks": ""
             }
            },
            "type": "scatterternary"
           }
          ],
          "surface": [
           {
            "colorbar": {
             "outlinewidth": 0,
             "ticks": ""
            },
            "colorscale": [
             [
              0,
              "#0d0887"
             ],
             [
              0.1111111111111111,
              "#46039f"
             ],
             [
              0.2222222222222222,
              "#7201a8"
             ],
             [
              0.3333333333333333,
              "#9c179e"
             ],
             [
              0.4444444444444444,
              "#bd3786"
             ],
             [
              0.5555555555555556,
              "#d8576b"
             ],
             [
              0.6666666666666666,
              "#ed7953"
             ],
             [
              0.7777777777777778,
              "#fb9f3a"
             ],
             [
              0.8888888888888888,
              "#fdca26"
             ],
             [
              1,
              "#f0f921"
             ]
            ],
            "type": "surface"
           }
          ],
          "table": [
           {
            "cells": {
             "fill": {
              "color": "#EBF0F8"
             },
             "line": {
              "color": "white"
             }
            },
            "header": {
             "fill": {
              "color": "#C8D4E3"
             },
             "line": {
              "color": "white"
             }
            },
            "type": "table"
           }
          ]
         },
         "layout": {
          "annotationdefaults": {
           "arrowcolor": "#2a3f5f",
           "arrowhead": 0,
           "arrowwidth": 1
          },
          "autotypenumbers": "strict",
          "coloraxis": {
           "colorbar": {
            "outlinewidth": 0,
            "ticks": ""
           }
          },
          "colorscale": {
           "diverging": [
            [
             0,
             "#8e0152"
            ],
            [
             0.1,
             "#c51b7d"
            ],
            [
             0.2,
             "#de77ae"
            ],
            [
             0.3,
             "#f1b6da"
            ],
            [
             0.4,
             "#fde0ef"
            ],
            [
             0.5,
             "#f7f7f7"
            ],
            [
             0.6,
             "#e6f5d0"
            ],
            [
             0.7,
             "#b8e186"
            ],
            [
             0.8,
             "#7fbc41"
            ],
            [
             0.9,
             "#4d9221"
            ],
            [
             1,
             "#276419"
            ]
           ],
           "sequential": [
            [
             0,
             "#0d0887"
            ],
            [
             0.1111111111111111,
             "#46039f"
            ],
            [
             0.2222222222222222,
             "#7201a8"
            ],
            [
             0.3333333333333333,
             "#9c179e"
            ],
            [
             0.4444444444444444,
             "#bd3786"
            ],
            [
             0.5555555555555556,
             "#d8576b"
            ],
            [
             0.6666666666666666,
             "#ed7953"
            ],
            [
             0.7777777777777778,
             "#fb9f3a"
            ],
            [
             0.8888888888888888,
             "#fdca26"
            ],
            [
             1,
             "#f0f921"
            ]
           ],
           "sequentialminus": [
            [
             0,
             "#0d0887"
            ],
            [
             0.1111111111111111,
             "#46039f"
            ],
            [
             0.2222222222222222,
             "#7201a8"
            ],
            [
             0.3333333333333333,
             "#9c179e"
            ],
            [
             0.4444444444444444,
             "#bd3786"
            ],
            [
             0.5555555555555556,
             "#d8576b"
            ],
            [
             0.6666666666666666,
             "#ed7953"
            ],
            [
             0.7777777777777778,
             "#fb9f3a"
            ],
            [
             0.8888888888888888,
             "#fdca26"
            ],
            [
             1,
             "#f0f921"
            ]
           ]
          },
          "colorway": [
           "#636efa",
           "#EF553B",
           "#00cc96",
           "#ab63fa",
           "#FFA15A",
           "#19d3f3",
           "#FF6692",
           "#B6E880",
           "#FF97FF",
           "#FECB52"
          ],
          "font": {
           "color": "#2a3f5f"
          },
          "geo": {
           "bgcolor": "white",
           "lakecolor": "white",
           "landcolor": "#E5ECF6",
           "showlakes": true,
           "showland": true,
           "subunitcolor": "white"
          },
          "hoverlabel": {
           "align": "left"
          },
          "hovermode": "closest",
          "mapbox": {
           "style": "light"
          },
          "paper_bgcolor": "white",
          "plot_bgcolor": "#E5ECF6",
          "polar": {
           "angularaxis": {
            "gridcolor": "white",
            "linecolor": "white",
            "ticks": ""
           },
           "bgcolor": "#E5ECF6",
           "radialaxis": {
            "gridcolor": "white",
            "linecolor": "white",
            "ticks": ""
           }
          },
          "scene": {
           "xaxis": {
            "backgroundcolor": "#E5ECF6",
            "gridcolor": "white",
            "gridwidth": 2,
            "linecolor": "white",
            "showbackground": true,
            "ticks": "",
            "zerolinecolor": "white"
           },
           "yaxis": {
            "backgroundcolor": "#E5ECF6",
            "gridcolor": "white",
            "gridwidth": 2,
            "linecolor": "white",
            "showbackground": true,
            "ticks": "",
            "zerolinecolor": "white"
           },
           "zaxis": {
            "backgroundcolor": "#E5ECF6",
            "gridcolor": "white",
            "gridwidth": 2,
            "linecolor": "white",
            "showbackground": true,
            "ticks": "",
            "zerolinecolor": "white"
           }
          },
          "shapedefaults": {
           "line": {
            "color": "#2a3f5f"
           }
          },
          "ternary": {
           "aaxis": {
            "gridcolor": "white",
            "linecolor": "white",
            "ticks": ""
           },
           "baxis": {
            "gridcolor": "white",
            "linecolor": "white",
            "ticks": ""
           },
           "bgcolor": "#E5ECF6",
           "caxis": {
            "gridcolor": "white",
            "linecolor": "white",
            "ticks": ""
           }
          },
          "title": {
           "x": 0.05
          },
          "xaxis": {
           "automargin": true,
           "gridcolor": "white",
           "linecolor": "white",
           "ticks": "",
           "title": {
            "standoff": 15
           },
           "zerolinecolor": "white",
           "zerolinewidth": 2
          },
          "yaxis": {
           "automargin": true,
           "gridcolor": "white",
           "linecolor": "white",
           "ticks": "",
           "title": {
            "standoff": 15
           },
           "zerolinecolor": "white",
           "zerolinewidth": 2
          }
         }
        },
        "xaxis": {
         "anchor": "y",
         "categoryorder": "total descending",
         "domain": [
          0,
          1
         ],
         "title": {
          "text": "Country"
         }
        },
        "yaxis": {
         "anchor": "x",
         "domain": [
          0,
          1
         ],
         "title": {
          "text": "Mortality"
         }
        }
       }
      }
     },
     "metadata": {},
     "output_type": "display_data"
    }
   ],
   "source": [
    "# Figure to present the Mortality rates of each country, sorted in descending order\n",
    "\n",
    "mortality = px.bar(food_df, x='Country', y='Mortality').update_xaxes(categoryorder=\"total descending\")\n",
    "mortality.show()"
   ]
  },
  {
   "cell_type": "markdown",
   "id": "fdd3cc29",
   "metadata": {
    "pycharm": {
     "name": "#%% md\n"
    }
   },
   "source": [
    "Upon analyzing the graph above, the researchers discovered that the top 5 countries with the highest mortality rates are **Yemen, Mexico, Sudan, Ecuador, and Egypt**. Provided below are the precise mortality rates of the aforementioned countries:"
   ]
  },
  {
   "cell_type": "code",
   "execution_count": 27,
   "id": "c320aaf1",
   "metadata": {
    "pycharm": {
     "name": "#%%\n"
    }
   },
   "outputs": [
    {
     "data": {
      "text/html": [
       "<div>\n",
       "<style scoped>\n",
       "    .dataframe tbody tr th:only-of-type {\n",
       "        vertical-align: middle;\n",
       "    }\n",
       "\n",
       "    .dataframe tbody tr th {\n",
       "        vertical-align: top;\n",
       "    }\n",
       "\n",
       "    .dataframe thead th {\n",
       "        text-align: right;\n",
       "    }\n",
       "</style>\n",
       "<table border=\"1\" class=\"dataframe\">\n",
       "  <thead>\n",
       "    <tr style=\"text-align: right;\">\n",
       "      <th></th>\n",
       "      <th>Country</th>\n",
       "      <th>Mortality</th>\n",
       "    </tr>\n",
       "  </thead>\n",
       "  <tbody>\n",
       "    <tr>\n",
       "      <th>167</th>\n",
       "      <td>Yemen</td>\n",
       "      <td>28.913963</td>\n",
       "    </tr>\n",
       "    <tr>\n",
       "      <th>100</th>\n",
       "      <td>Mexico</td>\n",
       "      <td>8.607431</td>\n",
       "    </tr>\n",
       "    <tr>\n",
       "      <th>143</th>\n",
       "      <td>Sudan</td>\n",
       "      <td>6.178714</td>\n",
       "    </tr>\n",
       "    <tr>\n",
       "      <th>43</th>\n",
       "      <td>Ecuador</td>\n",
       "      <td>5.835521</td>\n",
       "    </tr>\n",
       "    <tr>\n",
       "      <th>44</th>\n",
       "      <td>Egypt</td>\n",
       "      <td>5.679278</td>\n",
       "    </tr>\n",
       "  </tbody>\n",
       "</table>\n",
       "</div>"
      ],
      "text/plain": [
       "     Country  Mortality\n",
       "167    Yemen  28.913963\n",
       "100   Mexico   8.607431\n",
       "143    Sudan   6.178714\n",
       "43   Ecuador   5.835521\n",
       "44     Egypt   5.679278"
      ]
     },
     "execution_count": 27,
     "metadata": {},
     "output_type": "execute_result"
    }
   ],
   "source": [
    "# Get the countries with highest mortality rates by sorting the dataframe in descending order\n",
    "top_5_mortality = food_df.sort_values(by='Mortality', ascending=False, inplace=False)\n",
    "\n",
    "# Get the top 5\n",
    "top_5_mortality = top_5_mortality.head(5)\n",
    "top_5_mortality.iloc[:,[0,31]]"
   ]
  },
  {
   "cell_type": "markdown",
   "id": "81b76474",
   "metadata": {
    "pycharm": {
     "name": "#%% md\n"
    }
   },
   "source": [
    "Top 5 Countries with the Highest Mortality Rates:\n",
    "\n",
    "- **Yemen:** 28.91%\n",
    "- **Mexico:** 8.61%\n",
    "- **Sudan:** 6.17%\n",
    "- **Ecuador:** 5.84%\n",
    "- **Egypt:** 5.68%"
   ]
  },
  {
   "cell_type": "code",
   "execution_count": 28,
   "id": "05e497c3",
   "metadata": {
    "pycharm": {
     "name": "#%%\n"
    }
   },
   "outputs": [
    {
     "data": {
      "text/plain": [
       "count    154.000000\n",
       "mean       2.136832\n",
       "std        2.555027\n",
       "min        0.000000\n",
       "25%        1.074886\n",
       "50%        1.737793\n",
       "75%        2.541429\n",
       "max       28.913963\n",
       "Name: Mortality, dtype: float64"
      ]
     },
     "execution_count": 28,
     "metadata": {},
     "output_type": "execute_result"
    }
   ],
   "source": [
    "food_df['Mortality'].describe()"
   ]
  },
  {
   "cell_type": "code",
   "execution_count": 29,
   "id": "3e515b71",
   "metadata": {
    "pycharm": {
     "name": "#%%\n"
    }
   },
   "outputs": [
    {
     "name": "stdout",
     "output_type": "stream",
     "text": [
      "Coefficient of Variation: 1.1957080415576813\n"
     ]
    }
   ],
   "source": [
    "# Get the mean and std\n",
    "mean = food_df['Mortality'].mean()\n",
    "std = food_df['Mortality'].std()\n",
    "\n",
    "# Get the coefficient of variation\n",
    "cv = std / mean\n",
    "\n",
    "print(\"Coefficient of Variation:\",cv)"
   ]
  },
  {
   "cell_type": "markdown",
   "id": "8fca57d0",
   "metadata": {
    "pycharm": {
     "name": "#%% md\n"
    }
   },
   "source": [
    "Based on the data above, the researchers may state the following:\n",
    "- `Average mortality rate` of the countries is 2.14 \n",
    "- `Standard deviation` of mortality rates is 2.56\n",
    "\n",
    "The `coefficient of variation` indicates that the mortality rates are widely spread out across different values."
   ]
  },
  {
   "cell_type": "markdown",
   "id": "5fba6d09",
   "metadata": {
    "pycharm": {
     "name": "#%% md\n"
    }
   },
   "source": [
    "The researchers made use of **bar graphs** and **statistical summaries** such as the mean, standard deviation, and coefficient of variation to analyze the mortality and death rates of the countries.\n",
    "\n",
    "As can be observed in the data presented above, having a `high death rate` does not necessarily translate into a `high mortality rate`. The `death rate` of a country is merely a proportion of how much people from the population have actually died from COVID-19, whereas the `mortality rate` is the ratio of total deaths that have occurred among the confirmed COVID-19 cases, during 2020. That being said, countries with high `death rates`, more specifically, **Belgium, Slovenia, United Kingdom, Czechia, and Italy**, only serve to highlight how far ahead of other nations they are in terms of the overall proportion of COVID-19 deaths. Conversely,  countries with high `mortality rates`—more specifically, **Yemen, Mexico, Sudan, Ecuador, and Egypt**—are countries that present higher risks of dying if one were to contract COVID-19. \n",
    "\n",
    "In addition to this, the researchers also found that the death and mortality rates of countries in the `Food DataFrame` are very much varied, given how the `coefficient of variation` of both death and mortality rates are greater than 1 (1.24 and 1.20, respectively). A coefficient of variation greater than 1 indicates a relatively high variability in the dataset."
   ]
  },
  {
   "cell_type": "markdown",
   "id": "f88562ee",
   "metadata": {
    "pycharm": {
     "name": "#%% md\n"
    }
   },
   "source": [
    "## *EDA #2* - What is the Correlation of Both Obesity and Undernourished Rates with Deaths and Morality Rates?\n",
    "This section aims to verify whether there is a meaningful correlation between the aforementioned variables by visualizing using **scatter plots** and computing for their **Pearson correlation coefficients**."
   ]
  },
  {
   "cell_type": "markdown",
   "id": "ac38739e",
   "metadata": {
    "pycharm": {
     "name": "#%% md\n"
    }
   },
   "source": [
    "The researchers have decided to use a **scatter plot** in order to get a good visual of the relationship of the variable `Obesity` with `Deaths` and `Mortality`. In addition to the x-axis representing `Deaths` and the y-axis representing `Obesity`, the size of the points will also be representing the `Mortality` of the countries. Hovering over a specific point will display its respective values for the three mentioned variables—`Obesity`, `Deaths`, and `Mortality`—alongside the name of the country, which the point represents. A crimson horizontal line is also present in the scatter plot to visually indicate the **mean** value of the variable `Obesity` in the dataset. Shown below the scatter plot are the **Pearson correlation coefficients** of `Obesity` with `Deaths` and `Obesity` with `Mortality`, respectively."
   ]
  },
  {
   "cell_type": "code",
   "execution_count": 30,
   "id": "a33f95d7",
   "metadata": {
    "pycharm": {
     "name": "#%%\n"
    },
    "tags": []
   },
   "outputs": [
    {
     "data": {
      "application/vnd.plotly.v1+json": {
       "config": {
        "plotlyServerURL": "https://plot.ly"
       },
       "data": [
        {
         "hovertemplate": "<b>%{hovertext}</b><br><br>Deaths=%{x}<br>Obesity=%{y}<br>Mortality=%{marker.size}<extra></extra>",
         "hovertext": [
          "Afghanistan",
          "Albania",
          "Algeria",
          "Angola",
          "Argentina",
          "Armenia",
          "Australia",
          "Austria",
          "Azerbaijan",
          "Bangladesh",
          "Barbados",
          "Belarus",
          "Belgium",
          "Belize",
          "Benin",
          "Bolivia",
          "Bosnia and Herzegovina",
          "Botswana",
          "Brazil",
          "Bulgaria",
          "Burkina Faso",
          "Cabo Verde",
          "Cambodia",
          "Cameroon",
          "Central African Republic",
          "Chad",
          "China",
          "Colombia",
          "Congo",
          "Costa Rica",
          "Cote d'Ivoire",
          "Croatia",
          "Cuba",
          "Cyprus",
          "Czechia",
          "Denmark",
          "Djibouti",
          "Dominica",
          "Dominican Republic",
          "Ecuador",
          "Egypt",
          "El Salvador",
          "Estonia",
          "Eswatini",
          "Ethiopia",
          "Fiji",
          "Finland",
          "France",
          "Gabon",
          "Gambia",
          "Georgia",
          "Germany",
          "Ghana",
          "Greece",
          "Guatemala",
          "Guinea",
          "Guinea-Bissau",
          "Guyana",
          "Haiti",
          "Honduras",
          "Hungary",
          "Iceland",
          "India",
          "Indonesia",
          "Iran (Islamic Republic of)",
          "Iraq",
          "Ireland",
          "Israel",
          "Italy",
          "Jamaica",
          "Japan",
          "Jordan",
          "Kazakhstan",
          "Kenya",
          "Korea, South",
          "Kuwait",
          "Kyrgyzstan",
          "Lao People's Democratic Republic",
          "Latvia",
          "Lebanon",
          "Lesotho",
          "Liberia",
          "Lithuania",
          "Luxembourg",
          "Madagascar",
          "Malawi",
          "Malaysia",
          "Maldives",
          "Mali",
          "Malta",
          "Mauritania",
          "Mauritius",
          "Mexico",
          "Mongolia",
          "Montenegro",
          "Morocco",
          "Mozambique",
          "Namibia",
          "Nepal",
          "Netherlands",
          "New Zealand",
          "Nicaragua",
          "Niger",
          "Nigeria",
          "North Macedonia",
          "Norway",
          "Oman",
          "Pakistan",
          "Panama",
          "Paraguay",
          "Peru",
          "Philippines",
          "Poland",
          "Portugal",
          "Romania",
          "Russian Federation",
          "Rwanda",
          "Saint Vincent and the Grenadines",
          "Samoa",
          "Sao Tome and Principe",
          "Saudi Arabia",
          "Senegal",
          "Serbia",
          "Sierra Leone",
          "Slovakia",
          "Slovenia",
          "Solomon Islands",
          "South Africa",
          "Spain",
          "Sri Lanka",
          "Sudan",
          "Suriname",
          "Sweden",
          "Switzerland",
          "Thailand",
          "Timor-Leste",
          "Togo",
          "Trinidad and Tobago",
          "Tunisia",
          "Turkey",
          "Uganda",
          "Ukraine",
          "United Arab Emirates",
          "United Kingdom",
          "United Republic of Tanzania",
          "United States of America",
          "Uruguay",
          "Uzbekistan",
          "Vanuatu",
          "Venezuela (Bolivarian Republic of)",
          "Vietnam",
          "Yemen",
          "Zambia",
          "Zimbabwe"
         ],
         "legendgroup": "",
         "marker": {
          "color": "#1F77B4",
          "size": [
           4.352069401771176,
           1.717094950838359,
           2.677922101832838,
           2.3676602532149635,
           2.4844575955044093,
           1.8542667786134115,
           3.150670687324479,
           1.8919724890064906,
           1.3661036611231818,
           1.5229559105193446,
           1.0739856801909273,
           0.6899933452418479,
           2.9497009131473866,
           2.5421616681897454,
           1.3117099928451212,
           4.734334824416184,
           3.8684641184762842,
           0.6935284857252216,
           2.434952708034622,
           4.1650264815344915,
           1.1935512603544514,
           0.9388038942976333,
           0,
           1.509842645091354,
           1.2627781118460006,
           3.59919378059302,
           4.805277633833631,
           2.5889186861143494,
           2.5392296718972953,
           1.3602256182612322,
           0.5479081408326841,
           2.187763156775512,
           0.7278747930398786,
           0.6667930729364175,
           1.6628288962753528,
           1.0977307290299227,
           1.0604275374515941,
           0,
           1.2608711309577398,
           5.835521070338193,
           5.67927808593425,
           2.9749097569215976,
           0.9597575349385394,
           3.7327730053766808,
           1.5164047422111782,
           3.5714285714272003,
           1.4557149507003473,
           2.338085920955278,
           0.6197084751680058,
           3.162615057823919,
           1.2495222077822783,
           2.6936944940553724,
           0.6410073380349677,
           3.6461556371122272,
           3.592799671038502,
           0.5727923627684148,
           1.6594516594516089,
           2.267288071545528,
           2.083687701990058,
           2.4105779539326178,
           3.472442519160284,
           0.4816475668493597,
           1.4316534555510503,
           2.7369421365114532,
           4.002549045135918,
           2.0896821247784514,
           1.813891028299463,
           0.7396624478728323,
           3.4666515307238015,
           2.11982661362151,
           1.576975611687368,
           1.3086519596830934,
           1.2814086867923244,
           1.7464844134132844,
           1.8183840981012265,
           0.5669387659083954,
           1.674275225903617,
           0,
           1.860628154795289,
           1.1207037591713966,
           1.9509594882729038,
           4.294478527607231,
           1.5713074007665992,
           1.145364186985557,
           1.4739050616311615,
           3.114418604651148,
           0.3589964854369718,
           0.3242074927953887,
           4.142156862745105,
           1.501937984496126,
           2.5309671272034104,
           1.7123287671230836,
           8.607430636318348,
           0.0988630746416214,
           1.291339069185499,
           1.764547357073975,
           1.0223975335509343,
           1.064745723797499,
           0.7486957609471403,
           1.4243564159538173,
           1.0775862068965336,
           2.69884108588658,
           3.588516746411267,
           1.1828327659756783,
           3.082485015697845,
           0.9001902463922752,
           1.1344702719914677,
           2.1582617038850955,
           1.6709346206626199,
           2.039926455091825,
           3.5747136725359967,
           2.0746151878264283,
           2.523017993827355,
           1.8314595238782685,
           2.530325838811961,
           1.9195665531202482,
           1.328273244781726,
           0.24958402662229656,
           0,
           1.3323464100666071,
           1.7291011755293173,
           2.3693355330127055,
           1.011930542977517,
           2.0943796394484098,
           1.9616157448791693,
           2.0854383057834607,
           0,
           3.1336092827576865,
           2.0865468611382068,
           0.5118408772748326,
           6.178713639738081,
           1.84971098265896,
           2.0601569222292837,
           1.8060702460925737,
           0.3380257584183738,
           0,
           1.4532744665193644,
           1.7735155018391897,
           3.3130412256679715,
           1.056921259861232,
           0.8211747570376574,
           1.9248143470455454,
           0.28262039195799604,
           2.849460060239427,
           4.12573673870378,
           1.7169650684879818,
           1.0733732036061732,
           0.7856284394964747,
           0,
           0.9472165870891425,
           1.763224181360229,
           28.913963328631993,
           1.365848893808903,
           3.815930640531178
          ],
          "sizemode": "area",
          "sizeref": 0.032126625920702215,
          "symbol": "circle"
         },
         "mode": "markers",
         "name": "",
         "orientation": "v",
         "showlegend": false,
         "type": "scatter",
         "x": [
          0.0061857788738183,
          0.0509513742071882,
          0.0065581531663548,
          0.0014605497816862,
          0.108226634638694,
          0.105345060893099,
          0.0035295488079521,
          0.0896791563832174,
          0.0312227938266719,
          0.0048230659152341,
          0.0062717770034843,
          0.018912,
          0.185427702996092,
          0.0730310262529833,
          4.504873454009E-4,
          0.0924353133327602,
          0.145534897896983,
          0.0070349589987052,
          0.108602912016316,
          0.134416053125451,
          6.41056307707E-4,
          0.0242805755395683,
          0,
          0.001782088878863,
          0.0013043478260869,
          7.406529596492E-4,
          3.438428106404E-4,
          0.112638540571151,
          0.0145161290322581,
          0.0522793973782039,
          6.189111747851E-4,
          0.127960199004975,
          0.0020654197322932,
          0.0174813587406794,
          0.159845091452034,
          0.0380168124892777,
          0.0063765182186234,
          0,
          0.0266761904761905,
          0.0856832847924162,
          0.0095274942214021,
          0.0258139176053078,
          0.0342599549211119,
          0.0547101449275362,
          0.0018665808068502,
          2.232142857142E-4,
          0.0124434798336046,
          0.121558361564521,
          0.0031824294038547,
          0.0055440628878775,
          0.0879946164199192,
          0.073890756302521,
          0.0014449843915939,
          0.0556168224299065,
          0.0324034097199159,
          6.687898089171E-4,
          0.0023871302542812,
          0.0228716645489199,
          0.0021485573971761,
          0.0376115166261152,
          0.13336746186137,
          0.0078804347826087,
          0.0110703521177059,
          0.0115526295452622,
          0.0694141414141414,
          0.0330044052863436,
          0.0734359384369378,
          0.0550238715277778,
          0.150927093007828,
          0.0127091491634033,
          0.0050592615526288,
          0.0409120704185785,
          0.0166506512919069,
          0.0033178897025855,
          0.0028408103358374,
          0.0205499893412918,
          0.0215802244464665,
          0,
          0.0697686645636172,
          0.0521904761904762,
          0.0085434173669467,
          0.0016607354685646,
          0.104760200429492,
          0.0933544303797468,
          0.0010147701419233,
          0.0043753267119707,
          0.002614319270309,
          0.0099815157116451,
          0.00166905338008,
          0.053448275862069,
          0.0091397849462365,
          7.90513833992E-4,
          0.129731125579066,
          5.9506099375186E-5,
          0.134405144694534,
          0.0233116377392078,
          0.0014470897773214,
          0.0146005509641873,
          0.0067842378983864,
          0.0828304803343448,
          5.013033888109E-4,
          0.0025773195876288,
          6.821282401091E-4,
          7.989715727175E-4,
          0.140192307692308,
          0.0108037868943753,
          0.0325058349246764,
          0.0054164026432515,
          0.127363997198226,
          0.0386905582356995,
          0.127751035827443,
          0.0101386189211633,
          0.101631567973311,
          0.136070209653827,
          0.0977547944493529,
          0.0511200616084998,
          0.0016754169240271,
          0.0027027027027027,
          0,
          0.0085714285714285,
          0.0182557575411661,
          0.0040312947921643,
          0.0591059364668679,
          9.903472483389E-4,
          0.094013181984621,
          0.171754636233952,
          0,
          0.0774468370564164,
          0.128867429411147,
          0.0016000364680676,
          0.0041756938584688,
          0.0264462809917355,
          0.11674857858726,
          0.111257817929117,
          1.187362852075E-4,
          0,
          9.542215243386E-4,
          0.0098612125639152,
          0.0602051109616678,
          0.0318676331848526,
          7.148947333901E-4,
          0.0592058020967974,
          0.0093475148292084,
          0.167220071471114,
          3.51558576355175E-5,
          0.140103007778633,
          0.0136222033418295,
          0.0018171709486744,
          0,
          0.0042869610752312,
          3.63791329293517E-5,
          0.002061959364313,
          0.0045637510879025,
          0.0088542017089416
         ],
         "xaxis": "x",
         "y": [
          4.5,
          22.3,
          26.6,
          6.8,
          28.5,
          20.9,
          30.4,
          21.9,
          19.9,
          3.4,
          24.8,
          26.6,
          24.5,
          22.4,
          8.2,
          18.7,
          19.4,
          16.1,
          22.3,
          27.4,
          4.5,
          10.6,
          3.5,
          9.5,
          6.3,
          4.8,
          6.6,
          22.1,
          8.4,
          25.7,
          9,
          27.1,
          26.7,
          22.6,
          28.5,
          21.3,
          12.2,
          28.2,
          26.9,
          19.3,
          31.1,
          22.7,
          23.8,
          13.5,
          3.6,
          30,
          24.9,
          23.2,
          13.4,
          8.7,
          23.3,
          25.7,
          9.7,
          27.4,
          18.8,
          6.6,
          8.2,
          19.2,
          20.5,
          19.4,
          28.6,
          23.1,
          3.8,
          6.9,
          25.5,
          27.4,
          26.9,
          26.7,
          22.9,
          24.4,
          4.4,
          33.4,
          21.3,
          6,
          4.9,
          37,
          15.4,
          4.5,
          25.7,
          31.3,
          13.5,
          8.6,
          28.4,
          24.2,
          4.5,
          4.7,
          15.3,
          7.9,
          7.1,
          31,
          11.3,
          11.5,
          28.4,
          19.6,
          24.9,
          25.6,
          6,
          15,
          3.8,
          23.1,
          32,
          21.8,
          4.7,
          7.8,
          23.9,
          25,
          22.9,
          7.8,
          22.5,
          19,
          19.1,
          6,
          25.6,
          23.2,
          24.5,
          25.7,
          4.8,
          23.8,
          45.5,
          10.6,
          35,
          7.4,
          23.5,
          7.5,
          22.4,
          22.5,
          20.5,
          27,
          27.1,
          5.4,
          7.4,
          26.5,
          22.1,
          21.2,
          10.8,
          2.9,
          7.1,
          19.7,
          27.3,
          32.2,
          4.1,
          26.1,
          29.9,
          29.5,
          7.1,
          37.3,
          28.9,
          15.3,
          23.5,
          25.2,
          2.1,
          14.1,
          6.5,
          12.3
         ],
         "yaxis": "y"
        }
       ],
       "layout": {
        "legend": {
         "itemsizing": "constant",
         "tracegroupgap": 0
        },
        "margin": {
         "t": 60
        },
        "shapes": [
         {
          "line": {
           "color": "crimson",
           "width": 4
          },
          "type": "line",
          "x0": 0,
          "x1": 0.185427702996092,
          "y0": 18.44935064935065,
          "y1": 18.44935064935065
         }
        ],
        "template": {
         "data": {
          "bar": [
           {
            "error_x": {
             "color": "rgb(36,36,36)"
            },
            "error_y": {
             "color": "rgb(36,36,36)"
            },
            "marker": {
             "line": {
              "color": "white",
              "width": 0.5
             },
             "pattern": {
              "fillmode": "overlay",
              "size": 10,
              "solidity": 0.2
             }
            },
            "type": "bar"
           }
          ],
          "barpolar": [
           {
            "marker": {
             "line": {
              "color": "white",
              "width": 0.5
             },
             "pattern": {
              "fillmode": "overlay",
              "size": 10,
              "solidity": 0.2
             }
            },
            "type": "barpolar"
           }
          ],
          "carpet": [
           {
            "aaxis": {
             "endlinecolor": "rgb(36,36,36)",
             "gridcolor": "white",
             "linecolor": "white",
             "minorgridcolor": "white",
             "startlinecolor": "rgb(36,36,36)"
            },
            "baxis": {
             "endlinecolor": "rgb(36,36,36)",
             "gridcolor": "white",
             "linecolor": "white",
             "minorgridcolor": "white",
             "startlinecolor": "rgb(36,36,36)"
            },
            "type": "carpet"
           }
          ],
          "choropleth": [
           {
            "colorbar": {
             "outlinewidth": 1,
             "tickcolor": "rgb(36,36,36)",
             "ticks": "outside"
            },
            "type": "choropleth"
           }
          ],
          "contour": [
           {
            "colorbar": {
             "outlinewidth": 1,
             "tickcolor": "rgb(36,36,36)",
             "ticks": "outside"
            },
            "colorscale": [
             [
              0,
              "#440154"
             ],
             [
              0.1111111111111111,
              "#482878"
             ],
             [
              0.2222222222222222,
              "#3e4989"
             ],
             [
              0.3333333333333333,
              "#31688e"
             ],
             [
              0.4444444444444444,
              "#26828e"
             ],
             [
              0.5555555555555556,
              "#1f9e89"
             ],
             [
              0.6666666666666666,
              "#35b779"
             ],
             [
              0.7777777777777778,
              "#6ece58"
             ],
             [
              0.8888888888888888,
              "#b5de2b"
             ],
             [
              1,
              "#fde725"
             ]
            ],
            "type": "contour"
           }
          ],
          "contourcarpet": [
           {
            "colorbar": {
             "outlinewidth": 1,
             "tickcolor": "rgb(36,36,36)",
             "ticks": "outside"
            },
            "type": "contourcarpet"
           }
          ],
          "heatmap": [
           {
            "colorbar": {
             "outlinewidth": 1,
             "tickcolor": "rgb(36,36,36)",
             "ticks": "outside"
            },
            "colorscale": [
             [
              0,
              "#440154"
             ],
             [
              0.1111111111111111,
              "#482878"
             ],
             [
              0.2222222222222222,
              "#3e4989"
             ],
             [
              0.3333333333333333,
              "#31688e"
             ],
             [
              0.4444444444444444,
              "#26828e"
             ],
             [
              0.5555555555555556,
              "#1f9e89"
             ],
             [
              0.6666666666666666,
              "#35b779"
             ],
             [
              0.7777777777777778,
              "#6ece58"
             ],
             [
              0.8888888888888888,
              "#b5de2b"
             ],
             [
              1,
              "#fde725"
             ]
            ],
            "type": "heatmap"
           }
          ],
          "heatmapgl": [
           {
            "colorbar": {
             "outlinewidth": 1,
             "tickcolor": "rgb(36,36,36)",
             "ticks": "outside"
            },
            "colorscale": [
             [
              0,
              "#440154"
             ],
             [
              0.1111111111111111,
              "#482878"
             ],
             [
              0.2222222222222222,
              "#3e4989"
             ],
             [
              0.3333333333333333,
              "#31688e"
             ],
             [
              0.4444444444444444,
              "#26828e"
             ],
             [
              0.5555555555555556,
              "#1f9e89"
             ],
             [
              0.6666666666666666,
              "#35b779"
             ],
             [
              0.7777777777777778,
              "#6ece58"
             ],
             [
              0.8888888888888888,
              "#b5de2b"
             ],
             [
              1,
              "#fde725"
             ]
            ],
            "type": "heatmapgl"
           }
          ],
          "histogram": [
           {
            "marker": {
             "line": {
              "color": "white",
              "width": 0.6
             }
            },
            "type": "histogram"
           }
          ],
          "histogram2d": [
           {
            "colorbar": {
             "outlinewidth": 1,
             "tickcolor": "rgb(36,36,36)",
             "ticks": "outside"
            },
            "colorscale": [
             [
              0,
              "#440154"
             ],
             [
              0.1111111111111111,
              "#482878"
             ],
             [
              0.2222222222222222,
              "#3e4989"
             ],
             [
              0.3333333333333333,
              "#31688e"
             ],
             [
              0.4444444444444444,
              "#26828e"
             ],
             [
              0.5555555555555556,
              "#1f9e89"
             ],
             [
              0.6666666666666666,
              "#35b779"
             ],
             [
              0.7777777777777778,
              "#6ece58"
             ],
             [
              0.8888888888888888,
              "#b5de2b"
             ],
             [
              1,
              "#fde725"
             ]
            ],
            "type": "histogram2d"
           }
          ],
          "histogram2dcontour": [
           {
            "colorbar": {
             "outlinewidth": 1,
             "tickcolor": "rgb(36,36,36)",
             "ticks": "outside"
            },
            "colorscale": [
             [
              0,
              "#440154"
             ],
             [
              0.1111111111111111,
              "#482878"
             ],
             [
              0.2222222222222222,
              "#3e4989"
             ],
             [
              0.3333333333333333,
              "#31688e"
             ],
             [
              0.4444444444444444,
              "#26828e"
             ],
             [
              0.5555555555555556,
              "#1f9e89"
             ],
             [
              0.6666666666666666,
              "#35b779"
             ],
             [
              0.7777777777777778,
              "#6ece58"
             ],
             [
              0.8888888888888888,
              "#b5de2b"
             ],
             [
              1,
              "#fde725"
             ]
            ],
            "type": "histogram2dcontour"
           }
          ],
          "mesh3d": [
           {
            "colorbar": {
             "outlinewidth": 1,
             "tickcolor": "rgb(36,36,36)",
             "ticks": "outside"
            },
            "type": "mesh3d"
           }
          ],
          "parcoords": [
           {
            "line": {
             "colorbar": {
              "outlinewidth": 1,
              "tickcolor": "rgb(36,36,36)",
              "ticks": "outside"
             }
            },
            "type": "parcoords"
           }
          ],
          "pie": [
           {
            "automargin": true,
            "type": "pie"
           }
          ],
          "scatter": [
           {
            "fillpattern": {
             "fillmode": "overlay",
             "size": 10,
             "solidity": 0.2
            },
            "type": "scatter"
           }
          ],
          "scatter3d": [
           {
            "line": {
             "colorbar": {
              "outlinewidth": 1,
              "tickcolor": "rgb(36,36,36)",
              "ticks": "outside"
             }
            },
            "marker": {
             "colorbar": {
              "outlinewidth": 1,
              "tickcolor": "rgb(36,36,36)",
              "ticks": "outside"
             }
            },
            "type": "scatter3d"
           }
          ],
          "scattercarpet": [
           {
            "marker": {
             "colorbar": {
              "outlinewidth": 1,
              "tickcolor": "rgb(36,36,36)",
              "ticks": "outside"
             }
            },
            "type": "scattercarpet"
           }
          ],
          "scattergeo": [
           {
            "marker": {
             "colorbar": {
              "outlinewidth": 1,
              "tickcolor": "rgb(36,36,36)",
              "ticks": "outside"
             }
            },
            "type": "scattergeo"
           }
          ],
          "scattergl": [
           {
            "marker": {
             "colorbar": {
              "outlinewidth": 1,
              "tickcolor": "rgb(36,36,36)",
              "ticks": "outside"
             }
            },
            "type": "scattergl"
           }
          ],
          "scattermapbox": [
           {
            "marker": {
             "colorbar": {
              "outlinewidth": 1,
              "tickcolor": "rgb(36,36,36)",
              "ticks": "outside"
             }
            },
            "type": "scattermapbox"
           }
          ],
          "scatterpolar": [
           {
            "marker": {
             "colorbar": {
              "outlinewidth": 1,
              "tickcolor": "rgb(36,36,36)",
              "ticks": "outside"
             }
            },
            "type": "scatterpolar"
           }
          ],
          "scatterpolargl": [
           {
            "marker": {
             "colorbar": {
              "outlinewidth": 1,
              "tickcolor": "rgb(36,36,36)",
              "ticks": "outside"
             }
            },
            "type": "scatterpolargl"
           }
          ],
          "scatterternary": [
           {
            "marker": {
             "colorbar": {
              "outlinewidth": 1,
              "tickcolor": "rgb(36,36,36)",
              "ticks": "outside"
             }
            },
            "type": "scatterternary"
           }
          ],
          "surface": [
           {
            "colorbar": {
             "outlinewidth": 1,
             "tickcolor": "rgb(36,36,36)",
             "ticks": "outside"
            },
            "colorscale": [
             [
              0,
              "#440154"
             ],
             [
              0.1111111111111111,
              "#482878"
             ],
             [
              0.2222222222222222,
              "#3e4989"
             ],
             [
              0.3333333333333333,
              "#31688e"
             ],
             [
              0.4444444444444444,
              "#26828e"
             ],
             [
              0.5555555555555556,
              "#1f9e89"
             ],
             [
              0.6666666666666666,
              "#35b779"
             ],
             [
              0.7777777777777778,
              "#6ece58"
             ],
             [
              0.8888888888888888,
              "#b5de2b"
             ],
             [
              1,
              "#fde725"
             ]
            ],
            "type": "surface"
           }
          ],
          "table": [
           {
            "cells": {
             "fill": {
              "color": "rgb(237,237,237)"
             },
             "line": {
              "color": "white"
             }
            },
            "header": {
             "fill": {
              "color": "rgb(217,217,217)"
             },
             "line": {
              "color": "white"
             }
            },
            "type": "table"
           }
          ]
         },
         "layout": {
          "annotationdefaults": {
           "arrowhead": 0,
           "arrowwidth": 1
          },
          "autotypenumbers": "strict",
          "coloraxis": {
           "colorbar": {
            "outlinewidth": 1,
            "tickcolor": "rgb(36,36,36)",
            "ticks": "outside"
           }
          },
          "colorscale": {
           "diverging": [
            [
             0,
             "rgb(103,0,31)"
            ],
            [
             0.1,
             "rgb(178,24,43)"
            ],
            [
             0.2,
             "rgb(214,96,77)"
            ],
            [
             0.3,
             "rgb(244,165,130)"
            ],
            [
             0.4,
             "rgb(253,219,199)"
            ],
            [
             0.5,
             "rgb(247,247,247)"
            ],
            [
             0.6,
             "rgb(209,229,240)"
            ],
            [
             0.7,
             "rgb(146,197,222)"
            ],
            [
             0.8,
             "rgb(67,147,195)"
            ],
            [
             0.9,
             "rgb(33,102,172)"
            ],
            [
             1,
             "rgb(5,48,97)"
            ]
           ],
           "sequential": [
            [
             0,
             "#440154"
            ],
            [
             0.1111111111111111,
             "#482878"
            ],
            [
             0.2222222222222222,
             "#3e4989"
            ],
            [
             0.3333333333333333,
             "#31688e"
            ],
            [
             0.4444444444444444,
             "#26828e"
            ],
            [
             0.5555555555555556,
             "#1f9e89"
            ],
            [
             0.6666666666666666,
             "#35b779"
            ],
            [
             0.7777777777777778,
             "#6ece58"
            ],
            [
             0.8888888888888888,
             "#b5de2b"
            ],
            [
             1,
             "#fde725"
            ]
           ],
           "sequentialminus": [
            [
             0,
             "#440154"
            ],
            [
             0.1111111111111111,
             "#482878"
            ],
            [
             0.2222222222222222,
             "#3e4989"
            ],
            [
             0.3333333333333333,
             "#31688e"
            ],
            [
             0.4444444444444444,
             "#26828e"
            ],
            [
             0.5555555555555556,
             "#1f9e89"
            ],
            [
             0.6666666666666666,
             "#35b779"
            ],
            [
             0.7777777777777778,
             "#6ece58"
            ],
            [
             0.8888888888888888,
             "#b5de2b"
            ],
            [
             1,
             "#fde725"
            ]
           ]
          },
          "colorway": [
           "#1F77B4",
           "#FF7F0E",
           "#2CA02C",
           "#D62728",
           "#9467BD",
           "#8C564B",
           "#E377C2",
           "#7F7F7F",
           "#BCBD22",
           "#17BECF"
          ],
          "font": {
           "color": "rgb(36,36,36)"
          },
          "geo": {
           "bgcolor": "white",
           "lakecolor": "white",
           "landcolor": "white",
           "showlakes": true,
           "showland": true,
           "subunitcolor": "white"
          },
          "hoverlabel": {
           "align": "left"
          },
          "hovermode": "closest",
          "mapbox": {
           "style": "light"
          },
          "paper_bgcolor": "white",
          "plot_bgcolor": "white",
          "polar": {
           "angularaxis": {
            "gridcolor": "rgb(232,232,232)",
            "linecolor": "rgb(36,36,36)",
            "showgrid": false,
            "showline": true,
            "ticks": "outside"
           },
           "bgcolor": "white",
           "radialaxis": {
            "gridcolor": "rgb(232,232,232)",
            "linecolor": "rgb(36,36,36)",
            "showgrid": false,
            "showline": true,
            "ticks": "outside"
           }
          },
          "scene": {
           "xaxis": {
            "backgroundcolor": "white",
            "gridcolor": "rgb(232,232,232)",
            "gridwidth": 2,
            "linecolor": "rgb(36,36,36)",
            "showbackground": true,
            "showgrid": false,
            "showline": true,
            "ticks": "outside",
            "zeroline": false,
            "zerolinecolor": "rgb(36,36,36)"
           },
           "yaxis": {
            "backgroundcolor": "white",
            "gridcolor": "rgb(232,232,232)",
            "gridwidth": 2,
            "linecolor": "rgb(36,36,36)",
            "showbackground": true,
            "showgrid": false,
            "showline": true,
            "ticks": "outside",
            "zeroline": false,
            "zerolinecolor": "rgb(36,36,36)"
           },
           "zaxis": {
            "backgroundcolor": "white",
            "gridcolor": "rgb(232,232,232)",
            "gridwidth": 2,
            "linecolor": "rgb(36,36,36)",
            "showbackground": true,
            "showgrid": false,
            "showline": true,
            "ticks": "outside",
            "zeroline": false,
            "zerolinecolor": "rgb(36,36,36)"
           }
          },
          "shapedefaults": {
           "fillcolor": "black",
           "line": {
            "width": 0
           },
           "opacity": 0.3
          },
          "ternary": {
           "aaxis": {
            "gridcolor": "rgb(232,232,232)",
            "linecolor": "rgb(36,36,36)",
            "showgrid": false,
            "showline": true,
            "ticks": "outside"
           },
           "baxis": {
            "gridcolor": "rgb(232,232,232)",
            "linecolor": "rgb(36,36,36)",
            "showgrid": false,
            "showline": true,
            "ticks": "outside"
           },
           "bgcolor": "white",
           "caxis": {
            "gridcolor": "rgb(232,232,232)",
            "linecolor": "rgb(36,36,36)",
            "showgrid": false,
            "showline": true,
            "ticks": "outside"
           }
          },
          "title": {
           "x": 0.05
          },
          "xaxis": {
           "automargin": true,
           "gridcolor": "rgb(232,232,232)",
           "linecolor": "rgb(36,36,36)",
           "showgrid": false,
           "showline": true,
           "ticks": "outside",
           "title": {
            "standoff": 15
           },
           "zeroline": false,
           "zerolinecolor": "rgb(36,36,36)"
          },
          "yaxis": {
           "automargin": true,
           "gridcolor": "rgb(232,232,232)",
           "linecolor": "rgb(36,36,36)",
           "showgrid": false,
           "showline": true,
           "ticks": "outside",
           "title": {
            "standoff": 15
           },
           "zeroline": false,
           "zerolinecolor": "rgb(36,36,36)"
          }
         }
        },
        "xaxis": {
         "anchor": "y",
         "domain": [
          0,
          1
         ],
         "title": {
          "text": "Deaths"
         }
        },
        "yaxis": {
         "anchor": "x",
         "domain": [
          0,
          1
         ],
         "title": {
          "text": "Obesity"
         }
        }
       }
      }
     },
     "metadata": {},
     "output_type": "display_data"
    },
    {
     "name": "stdout",
     "output_type": "stream",
     "text": [
      "Correlation Coefficient (Obesity and Deaths): 0.4888\n",
      "\n",
      "Correlation Coefficient (Obesity and Mortality): -0.0218\n",
      "\n"
     ]
    }
   ],
   "source": [
    "# Figure to present the relationship between Obesity, Mortality, and Deaths\n",
    "# (with each point representing a country and the varying sizes of each point\n",
    "# representing the country's corresponding mortality rate)\n",
    "\n",
    "fig = px.scatter(food_df, x=\"Deaths\", y = \"Obesity\", size = \"Mortality\", hover_name='Country', log_x=False,\n",
    "                 size_max=30, template=\"simple_white\")\n",
    "\n",
    "fig.add_shape(\n",
    "        # Line Horizontal\n",
    "            type=\"line\",\n",
    "            x0=0,\n",
    "            y0=food_df['Obesity'].mean(),\n",
    "            x1=food_df['Deaths'].max(),\n",
    "            y1=food_df['Obesity'].mean(),\n",
    "            line=dict(\n",
    "                color=\"crimson\",\n",
    "                width=4\n",
    "            ),\n",
    "    )\n",
    "\n",
    "fig.show()\n",
    "a, b = stats.pearsonr(food_df['Deaths'].values, food_df['Obesity'].values)\n",
    "c, d = stats.pearsonr(food_df['Mortality'].values, food_df['Obesity'].values)\n",
    "print(\"Correlation Coefficient (Obesity and Deaths): {:.4f}\\n\".format(a))\n",
    "print(\"Correlation Coefficient (Obesity and Mortality): {:.4f}\\n\".format(c))"
   ]
  },
  {
   "cell_type": "markdown",
   "id": "edb65530",
   "metadata": {
    "pycharm": {
     "name": "#%% md\n"
    }
   },
   "source": [
    "The results above show that there is a **moderately positive correlation** between `Obesity` and `Deaths`, while there is a **weak negative correlation** between `Obesity` and `Mortality`. This suggests that, despite having not much impact on `Mortality`, higher `Obesity` rates also lead to more COVID-19 cases in general; hence, having a higher percentage of the populace dying due to COVID-19 even with average values for `Mortality`."
   ]
  },
  {
   "cell_type": "markdown",
   "id": "d94c9347",
   "metadata": {
    "pycharm": {
     "name": "#%% md\n"
    }
   },
   "source": [
    "In line with this, the researchers have decided to also use a scatter plot in order to get a good visual of the relationship of the variable `Undernourished` with `Deaths` and `Mortality`. In addition to the x-axis representing `Deaths` and the y-axis representing `Undernourished`, the size of the points will also be representing the `Mortality` of the countries. Hovering over a specific point will display its respective values for the three mentioned variables—`Undernourished`, `Deaths`, and `Mortality`—alongside the name of the country, which the point represents. A crimson horizontal line is also present in the scatter plot to visually indicate the **mean** value of the variable `Undernourished` in the dataset. Shown below the scatter plot are the **Pearson correlation coefficients** of `Undernourished` with `Deaths` and `Undernourished` with `Mortality`, respectively."
   ]
  },
  {
   "cell_type": "code",
   "execution_count": 31,
   "id": "caab39af",
   "metadata": {
    "pycharm": {
     "name": "#%%\n"
    },
    "tags": []
   },
   "outputs": [
    {
     "data": {
      "application/vnd.plotly.v1+json": {
       "config": {
        "plotlyServerURL": "https://plot.ly"
       },
       "data": [
        {
         "hovertemplate": "<b>%{hovertext}</b><br><br>Deaths=%{x}<br>Undernourished=%{y}<br>Mortality=%{marker.size}<extra></extra>",
         "hovertext": [
          "Afghanistan",
          "Albania",
          "Algeria",
          "Angola",
          "Argentina",
          "Armenia",
          "Australia",
          "Austria",
          "Azerbaijan",
          "Bangladesh",
          "Barbados",
          "Belarus",
          "Belgium",
          "Belize",
          "Benin",
          "Bolivia",
          "Bosnia and Herzegovina",
          "Botswana",
          "Brazil",
          "Bulgaria",
          "Burkina Faso",
          "Cabo Verde",
          "Cambodia",
          "Cameroon",
          "Central African Republic",
          "Chad",
          "China",
          "Colombia",
          "Congo",
          "Costa Rica",
          "Cote d'Ivoire",
          "Croatia",
          "Cuba",
          "Cyprus",
          "Czechia",
          "Denmark",
          "Djibouti",
          "Dominica",
          "Dominican Republic",
          "Ecuador",
          "Egypt",
          "El Salvador",
          "Estonia",
          "Eswatini",
          "Ethiopia",
          "Fiji",
          "Finland",
          "France",
          "Gabon",
          "Gambia",
          "Georgia",
          "Germany",
          "Ghana",
          "Greece",
          "Guatemala",
          "Guinea",
          "Guinea-Bissau",
          "Guyana",
          "Haiti",
          "Honduras",
          "Hungary",
          "Iceland",
          "India",
          "Indonesia",
          "Iran (Islamic Republic of)",
          "Iraq",
          "Ireland",
          "Israel",
          "Italy",
          "Jamaica",
          "Japan",
          "Jordan",
          "Kazakhstan",
          "Kenya",
          "Korea, South",
          "Kuwait",
          "Kyrgyzstan",
          "Lao People's Democratic Republic",
          "Latvia",
          "Lebanon",
          "Lesotho",
          "Liberia",
          "Lithuania",
          "Luxembourg",
          "Madagascar",
          "Malawi",
          "Malaysia",
          "Maldives",
          "Mali",
          "Malta",
          "Mauritania",
          "Mauritius",
          "Mexico",
          "Mongolia",
          "Montenegro",
          "Morocco",
          "Mozambique",
          "Namibia",
          "Nepal",
          "Netherlands",
          "New Zealand",
          "Nicaragua",
          "Niger",
          "Nigeria",
          "North Macedonia",
          "Norway",
          "Oman",
          "Pakistan",
          "Panama",
          "Paraguay",
          "Peru",
          "Philippines",
          "Poland",
          "Portugal",
          "Romania",
          "Russian Federation",
          "Rwanda",
          "Saint Vincent and the Grenadines",
          "Samoa",
          "Sao Tome and Principe",
          "Saudi Arabia",
          "Senegal",
          "Serbia",
          "Sierra Leone",
          "Slovakia",
          "Slovenia",
          "Solomon Islands",
          "South Africa",
          "Spain",
          "Sri Lanka",
          "Sudan",
          "Suriname",
          "Sweden",
          "Switzerland",
          "Thailand",
          "Timor-Leste",
          "Togo",
          "Trinidad and Tobago",
          "Tunisia",
          "Turkey",
          "Uganda",
          "Ukraine",
          "United Arab Emirates",
          "United Kingdom",
          "United Republic of Tanzania",
          "United States of America",
          "Uruguay",
          "Uzbekistan",
          "Vanuatu",
          "Venezuela (Bolivarian Republic of)",
          "Vietnam",
          "Yemen",
          "Zambia",
          "Zimbabwe"
         ],
         "legendgroup": "",
         "marker": {
          "color": "#1F77B4",
          "size": [
           4.352069401771176,
           1.717094950838359,
           2.677922101832838,
           2.3676602532149635,
           2.4844575955044093,
           1.8542667786134115,
           3.150670687324479,
           1.8919724890064906,
           1.3661036611231818,
           1.5229559105193446,
           1.0739856801909273,
           0.6899933452418479,
           2.9497009131473866,
           2.5421616681897454,
           1.3117099928451212,
           4.734334824416184,
           3.8684641184762842,
           0.6935284857252216,
           2.434952708034622,
           4.1650264815344915,
           1.1935512603544514,
           0.9388038942976333,
           0,
           1.509842645091354,
           1.2627781118460006,
           3.59919378059302,
           4.805277633833631,
           2.5889186861143494,
           2.5392296718972953,
           1.3602256182612322,
           0.5479081408326841,
           2.187763156775512,
           0.7278747930398786,
           0.6667930729364175,
           1.6628288962753528,
           1.0977307290299227,
           1.0604275374515941,
           0,
           1.2608711309577398,
           5.835521070338193,
           5.67927808593425,
           2.9749097569215976,
           0.9597575349385394,
           3.7327730053766808,
           1.5164047422111782,
           3.5714285714272003,
           1.4557149507003473,
           2.338085920955278,
           0.6197084751680058,
           3.162615057823919,
           1.2495222077822783,
           2.6936944940553724,
           0.6410073380349677,
           3.6461556371122272,
           3.592799671038502,
           0.5727923627684148,
           1.6594516594516089,
           2.267288071545528,
           2.083687701990058,
           2.4105779539326178,
           3.472442519160284,
           0.4816475668493597,
           1.4316534555510503,
           2.7369421365114532,
           4.002549045135918,
           2.0896821247784514,
           1.813891028299463,
           0.7396624478728323,
           3.4666515307238015,
           2.11982661362151,
           1.576975611687368,
           1.3086519596830934,
           1.2814086867923244,
           1.7464844134132844,
           1.8183840981012265,
           0.5669387659083954,
           1.674275225903617,
           0,
           1.860628154795289,
           1.1207037591713966,
           1.9509594882729038,
           4.294478527607231,
           1.5713074007665992,
           1.145364186985557,
           1.4739050616311615,
           3.114418604651148,
           0.3589964854369718,
           0.3242074927953887,
           4.142156862745105,
           1.501937984496126,
           2.5309671272034104,
           1.7123287671230836,
           8.607430636318348,
           0.0988630746416214,
           1.291339069185499,
           1.764547357073975,
           1.0223975335509343,
           1.064745723797499,
           0.7486957609471403,
           1.4243564159538173,
           1.0775862068965336,
           2.69884108588658,
           3.588516746411267,
           1.1828327659756783,
           3.082485015697845,
           0.9001902463922752,
           1.1344702719914677,
           2.1582617038850955,
           1.6709346206626199,
           2.039926455091825,
           3.5747136725359967,
           2.0746151878264283,
           2.523017993827355,
           1.8314595238782685,
           2.530325838811961,
           1.9195665531202482,
           1.328273244781726,
           0.24958402662229656,
           0,
           1.3323464100666071,
           1.7291011755293173,
           2.3693355330127055,
           1.011930542977517,
           2.0943796394484098,
           1.9616157448791693,
           2.0854383057834607,
           0,
           3.1336092827576865,
           2.0865468611382068,
           0.5118408772748326,
           6.178713639738081,
           1.84971098265896,
           2.0601569222292837,
           1.8060702460925737,
           0.3380257584183738,
           0,
           1.4532744665193644,
           1.7735155018391897,
           3.3130412256679715,
           1.056921259861232,
           0.8211747570376574,
           1.9248143470455454,
           0.28262039195799604,
           2.849460060239427,
           4.12573673870378,
           1.7169650684879818,
           1.0733732036061732,
           0.7856284394964747,
           0,
           0.9472165870891425,
           1.763224181360229,
           28.913963328631993,
           1.365848893808903,
           3.815930640531178
          ],
          "sizemode": "area",
          "sizeref": 0.032126625920702215,
          "symbol": "circle"
         },
         "mode": "markers",
         "name": "",
         "orientation": "v",
         "showlegend": false,
         "type": "scatter",
         "x": [
          0.0061857788738183,
          0.0509513742071882,
          0.0065581531663548,
          0.0014605497816862,
          0.108226634638694,
          0.105345060893099,
          0.0035295488079521,
          0.0896791563832174,
          0.0312227938266719,
          0.0048230659152341,
          0.0062717770034843,
          0.018912,
          0.185427702996092,
          0.0730310262529833,
          4.504873454009E-4,
          0.0924353133327602,
          0.145534897896983,
          0.0070349589987052,
          0.108602912016316,
          0.134416053125451,
          6.41056307707E-4,
          0.0242805755395683,
          0,
          0.001782088878863,
          0.0013043478260869,
          7.406529596492E-4,
          3.438428106404E-4,
          0.112638540571151,
          0.0145161290322581,
          0.0522793973782039,
          6.189111747851E-4,
          0.127960199004975,
          0.0020654197322932,
          0.0174813587406794,
          0.159845091452034,
          0.0380168124892777,
          0.0063765182186234,
          0,
          0.0266761904761905,
          0.0856832847924162,
          0.0095274942214021,
          0.0258139176053078,
          0.0342599549211119,
          0.0547101449275362,
          0.0018665808068502,
          2.232142857142E-4,
          0.0124434798336046,
          0.121558361564521,
          0.0031824294038547,
          0.0055440628878775,
          0.0879946164199192,
          0.073890756302521,
          0.0014449843915939,
          0.0556168224299065,
          0.0324034097199159,
          6.687898089171E-4,
          0.0023871302542812,
          0.0228716645489199,
          0.0021485573971761,
          0.0376115166261152,
          0.13336746186137,
          0.0078804347826087,
          0.0110703521177059,
          0.0115526295452622,
          0.0694141414141414,
          0.0330044052863436,
          0.0734359384369378,
          0.0550238715277778,
          0.150927093007828,
          0.0127091491634033,
          0.0050592615526288,
          0.0409120704185785,
          0.0166506512919069,
          0.0033178897025855,
          0.0028408103358374,
          0.0205499893412918,
          0.0215802244464665,
          0,
          0.0697686645636172,
          0.0521904761904762,
          0.0085434173669467,
          0.0016607354685646,
          0.104760200429492,
          0.0933544303797468,
          0.0010147701419233,
          0.0043753267119707,
          0.002614319270309,
          0.0099815157116451,
          0.00166905338008,
          0.053448275862069,
          0.0091397849462365,
          7.90513833992E-4,
          0.129731125579066,
          5.9506099375186E-5,
          0.134405144694534,
          0.0233116377392078,
          0.0014470897773214,
          0.0146005509641873,
          0.0067842378983864,
          0.0828304803343448,
          5.013033888109E-4,
          0.0025773195876288,
          6.821282401091E-4,
          7.989715727175E-4,
          0.140192307692308,
          0.0108037868943753,
          0.0325058349246764,
          0.0054164026432515,
          0.127363997198226,
          0.0386905582356995,
          0.127751035827443,
          0.0101386189211633,
          0.101631567973311,
          0.136070209653827,
          0.0977547944493529,
          0.0511200616084998,
          0.0016754169240271,
          0.0027027027027027,
          0,
          0.0085714285714285,
          0.0182557575411661,
          0.0040312947921643,
          0.0591059364668679,
          9.903472483389E-4,
          0.094013181984621,
          0.171754636233952,
          0,
          0.0774468370564164,
          0.128867429411147,
          0.0016000364680676,
          0.0041756938584688,
          0.0264462809917355,
          0.11674857858726,
          0.111257817929117,
          1.187362852075E-4,
          0,
          9.542215243386E-4,
          0.0098612125639152,
          0.0602051109616678,
          0.0318676331848526,
          7.148947333901E-4,
          0.0592058020967974,
          0.0093475148292084,
          0.167220071471114,
          3.51558576355175E-5,
          0.140103007778633,
          0.0136222033418295,
          0.0018171709486744,
          0,
          0.0042869610752312,
          3.63791329293517E-5,
          0.002061959364313,
          0.0045637510879025,
          0.0088542017089416
         ],
         "xaxis": "x",
         "y": [
          29.8,
          6.2,
          3.9,
          25,
          4.6,
          4.3,
          2.4,
          2.4,
          2.4,
          14.7,
          3.9,
          2.4,
          2.4,
          7.5,
          10.1,
          17.1,
          2.4,
          26.4,
          2.4,
          3.6,
          20,
          12.6,
          16.4,
          9.9,
          59.6,
          37.5,
          8.5,
          4.8,
          40.3,
          4.8,
          19,
          2.4,
          2.4,
          5.6,
          2.4,
          2.4,
          18.9,
          6.2,
          9.5,
          7.9,
          4.5,
          9,
          2.9,
          20.6,
          20.6,
          3.7,
          2.4,
          2.4,
          10.5,
          10.2,
          7.9,
          2.4,
          5.5,
          2.4,
          15.2,
          16.5,
          28,
          8.1,
          49.3,
          12.9,
          2.4,
          2.4,
          14.5,
          8.3,
          4.9,
          29,
          2.4,
          2.4,
          2.4,
          8,
          2.4,
          12.2,
          2.4,
          29.4,
          2.4,
          2.8,
          7.1,
          16.5,
          2.4,
          11,
          13.1,
          37.2,
          2.4,
          2.4,
          44.4,
          17.5,
          2.5,
          10.3,
          6.3,
          2.4,
          10.4,
          6.5,
          3.6,
          13.4,
          2.4,
          3.4,
          27.9,
          27.3,
          8.7,
          2.4,
          2.4,
          17,
          16.5,
          13.4,
          3.2,
          2.4,
          6.8,
          20.3,
          10,
          10.7,
          9.7,
          13.3,
          2.4,
          2.4,
          2.4,
          2.4,
          36.8,
          5.7,
          2.7,
          7,
          7.1,
          11.3,
          5.7,
          25.6,
          3.4,
          2.4,
          8.9,
          6.2,
          2.4,
          9,
          20.1,
          8.5,
          2.4,
          2.4,
          7.8,
          24.9,
          16.1,
          5.5,
          4.3,
          2.4,
          41,
          3.5,
          2.6,
          2.4,
          30.7,
          2.4,
          2.4,
          6.3,
          7.2,
          21.2,
          9.3,
          38.9,
          46.7,
          51.3
         ],
         "yaxis": "y"
        }
       ],
       "layout": {
        "legend": {
         "itemsizing": "constant",
         "tracegroupgap": 0
        },
        "margin": {
         "t": 60
        },
        "shapes": [
         {
          "line": {
           "color": "crimson",
           "width": 4
          },
          "type": "line",
          "x0": 0,
          "x1": 0.185427702996092,
          "y0": 11.296103896103897,
          "y1": 11.296103896103897
         }
        ],
        "template": {
         "data": {
          "bar": [
           {
            "error_x": {
             "color": "rgb(36,36,36)"
            },
            "error_y": {
             "color": "rgb(36,36,36)"
            },
            "marker": {
             "line": {
              "color": "white",
              "width": 0.5
             },
             "pattern": {
              "fillmode": "overlay",
              "size": 10,
              "solidity": 0.2
             }
            },
            "type": "bar"
           }
          ],
          "barpolar": [
           {
            "marker": {
             "line": {
              "color": "white",
              "width": 0.5
             },
             "pattern": {
              "fillmode": "overlay",
              "size": 10,
              "solidity": 0.2
             }
            },
            "type": "barpolar"
           }
          ],
          "carpet": [
           {
            "aaxis": {
             "endlinecolor": "rgb(36,36,36)",
             "gridcolor": "white",
             "linecolor": "white",
             "minorgridcolor": "white",
             "startlinecolor": "rgb(36,36,36)"
            },
            "baxis": {
             "endlinecolor": "rgb(36,36,36)",
             "gridcolor": "white",
             "linecolor": "white",
             "minorgridcolor": "white",
             "startlinecolor": "rgb(36,36,36)"
            },
            "type": "carpet"
           }
          ],
          "choropleth": [
           {
            "colorbar": {
             "outlinewidth": 1,
             "tickcolor": "rgb(36,36,36)",
             "ticks": "outside"
            },
            "type": "choropleth"
           }
          ],
          "contour": [
           {
            "colorbar": {
             "outlinewidth": 1,
             "tickcolor": "rgb(36,36,36)",
             "ticks": "outside"
            },
            "colorscale": [
             [
              0,
              "#440154"
             ],
             [
              0.1111111111111111,
              "#482878"
             ],
             [
              0.2222222222222222,
              "#3e4989"
             ],
             [
              0.3333333333333333,
              "#31688e"
             ],
             [
              0.4444444444444444,
              "#26828e"
             ],
             [
              0.5555555555555556,
              "#1f9e89"
             ],
             [
              0.6666666666666666,
              "#35b779"
             ],
             [
              0.7777777777777778,
              "#6ece58"
             ],
             [
              0.8888888888888888,
              "#b5de2b"
             ],
             [
              1,
              "#fde725"
             ]
            ],
            "type": "contour"
           }
          ],
          "contourcarpet": [
           {
            "colorbar": {
             "outlinewidth": 1,
             "tickcolor": "rgb(36,36,36)",
             "ticks": "outside"
            },
            "type": "contourcarpet"
           }
          ],
          "heatmap": [
           {
            "colorbar": {
             "outlinewidth": 1,
             "tickcolor": "rgb(36,36,36)",
             "ticks": "outside"
            },
            "colorscale": [
             [
              0,
              "#440154"
             ],
             [
              0.1111111111111111,
              "#482878"
             ],
             [
              0.2222222222222222,
              "#3e4989"
             ],
             [
              0.3333333333333333,
              "#31688e"
             ],
             [
              0.4444444444444444,
              "#26828e"
             ],
             [
              0.5555555555555556,
              "#1f9e89"
             ],
             [
              0.6666666666666666,
              "#35b779"
             ],
             [
              0.7777777777777778,
              "#6ece58"
             ],
             [
              0.8888888888888888,
              "#b5de2b"
             ],
             [
              1,
              "#fde725"
             ]
            ],
            "type": "heatmap"
           }
          ],
          "heatmapgl": [
           {
            "colorbar": {
             "outlinewidth": 1,
             "tickcolor": "rgb(36,36,36)",
             "ticks": "outside"
            },
            "colorscale": [
             [
              0,
              "#440154"
             ],
             [
              0.1111111111111111,
              "#482878"
             ],
             [
              0.2222222222222222,
              "#3e4989"
             ],
             [
              0.3333333333333333,
              "#31688e"
             ],
             [
              0.4444444444444444,
              "#26828e"
             ],
             [
              0.5555555555555556,
              "#1f9e89"
             ],
             [
              0.6666666666666666,
              "#35b779"
             ],
             [
              0.7777777777777778,
              "#6ece58"
             ],
             [
              0.8888888888888888,
              "#b5de2b"
             ],
             [
              1,
              "#fde725"
             ]
            ],
            "type": "heatmapgl"
           }
          ],
          "histogram": [
           {
            "marker": {
             "line": {
              "color": "white",
              "width": 0.6
             }
            },
            "type": "histogram"
           }
          ],
          "histogram2d": [
           {
            "colorbar": {
             "outlinewidth": 1,
             "tickcolor": "rgb(36,36,36)",
             "ticks": "outside"
            },
            "colorscale": [
             [
              0,
              "#440154"
             ],
             [
              0.1111111111111111,
              "#482878"
             ],
             [
              0.2222222222222222,
              "#3e4989"
             ],
             [
              0.3333333333333333,
              "#31688e"
             ],
             [
              0.4444444444444444,
              "#26828e"
             ],
             [
              0.5555555555555556,
              "#1f9e89"
             ],
             [
              0.6666666666666666,
              "#35b779"
             ],
             [
              0.7777777777777778,
              "#6ece58"
             ],
             [
              0.8888888888888888,
              "#b5de2b"
             ],
             [
              1,
              "#fde725"
             ]
            ],
            "type": "histogram2d"
           }
          ],
          "histogram2dcontour": [
           {
            "colorbar": {
             "outlinewidth": 1,
             "tickcolor": "rgb(36,36,36)",
             "ticks": "outside"
            },
            "colorscale": [
             [
              0,
              "#440154"
             ],
             [
              0.1111111111111111,
              "#482878"
             ],
             [
              0.2222222222222222,
              "#3e4989"
             ],
             [
              0.3333333333333333,
              "#31688e"
             ],
             [
              0.4444444444444444,
              "#26828e"
             ],
             [
              0.5555555555555556,
              "#1f9e89"
             ],
             [
              0.6666666666666666,
              "#35b779"
             ],
             [
              0.7777777777777778,
              "#6ece58"
             ],
             [
              0.8888888888888888,
              "#b5de2b"
             ],
             [
              1,
              "#fde725"
             ]
            ],
            "type": "histogram2dcontour"
           }
          ],
          "mesh3d": [
           {
            "colorbar": {
             "outlinewidth": 1,
             "tickcolor": "rgb(36,36,36)",
             "ticks": "outside"
            },
            "type": "mesh3d"
           }
          ],
          "parcoords": [
           {
            "line": {
             "colorbar": {
              "outlinewidth": 1,
              "tickcolor": "rgb(36,36,36)",
              "ticks": "outside"
             }
            },
            "type": "parcoords"
           }
          ],
          "pie": [
           {
            "automargin": true,
            "type": "pie"
           }
          ],
          "scatter": [
           {
            "fillpattern": {
             "fillmode": "overlay",
             "size": 10,
             "solidity": 0.2
            },
            "type": "scatter"
           }
          ],
          "scatter3d": [
           {
            "line": {
             "colorbar": {
              "outlinewidth": 1,
              "tickcolor": "rgb(36,36,36)",
              "ticks": "outside"
             }
            },
            "marker": {
             "colorbar": {
              "outlinewidth": 1,
              "tickcolor": "rgb(36,36,36)",
              "ticks": "outside"
             }
            },
            "type": "scatter3d"
           }
          ],
          "scattercarpet": [
           {
            "marker": {
             "colorbar": {
              "outlinewidth": 1,
              "tickcolor": "rgb(36,36,36)",
              "ticks": "outside"
             }
            },
            "type": "scattercarpet"
           }
          ],
          "scattergeo": [
           {
            "marker": {
             "colorbar": {
              "outlinewidth": 1,
              "tickcolor": "rgb(36,36,36)",
              "ticks": "outside"
             }
            },
            "type": "scattergeo"
           }
          ],
          "scattergl": [
           {
            "marker": {
             "colorbar": {
              "outlinewidth": 1,
              "tickcolor": "rgb(36,36,36)",
              "ticks": "outside"
             }
            },
            "type": "scattergl"
           }
          ],
          "scattermapbox": [
           {
            "marker": {
             "colorbar": {
              "outlinewidth": 1,
              "tickcolor": "rgb(36,36,36)",
              "ticks": "outside"
             }
            },
            "type": "scattermapbox"
           }
          ],
          "scatterpolar": [
           {
            "marker": {
             "colorbar": {
              "outlinewidth": 1,
              "tickcolor": "rgb(36,36,36)",
              "ticks": "outside"
             }
            },
            "type": "scatterpolar"
           }
          ],
          "scatterpolargl": [
           {
            "marker": {
             "colorbar": {
              "outlinewidth": 1,
              "tickcolor": "rgb(36,36,36)",
              "ticks": "outside"
             }
            },
            "type": "scatterpolargl"
           }
          ],
          "scatterternary": [
           {
            "marker": {
             "colorbar": {
              "outlinewidth": 1,
              "tickcolor": "rgb(36,36,36)",
              "ticks": "outside"
             }
            },
            "type": "scatterternary"
           }
          ],
          "surface": [
           {
            "colorbar": {
             "outlinewidth": 1,
             "tickcolor": "rgb(36,36,36)",
             "ticks": "outside"
            },
            "colorscale": [
             [
              0,
              "#440154"
             ],
             [
              0.1111111111111111,
              "#482878"
             ],
             [
              0.2222222222222222,
              "#3e4989"
             ],
             [
              0.3333333333333333,
              "#31688e"
             ],
             [
              0.4444444444444444,
              "#26828e"
             ],
             [
              0.5555555555555556,
              "#1f9e89"
             ],
             [
              0.6666666666666666,
              "#35b779"
             ],
             [
              0.7777777777777778,
              "#6ece58"
             ],
             [
              0.8888888888888888,
              "#b5de2b"
             ],
             [
              1,
              "#fde725"
             ]
            ],
            "type": "surface"
           }
          ],
          "table": [
           {
            "cells": {
             "fill": {
              "color": "rgb(237,237,237)"
             },
             "line": {
              "color": "white"
             }
            },
            "header": {
             "fill": {
              "color": "rgb(217,217,217)"
             },
             "line": {
              "color": "white"
             }
            },
            "type": "table"
           }
          ]
         },
         "layout": {
          "annotationdefaults": {
           "arrowhead": 0,
           "arrowwidth": 1
          },
          "autotypenumbers": "strict",
          "coloraxis": {
           "colorbar": {
            "outlinewidth": 1,
            "tickcolor": "rgb(36,36,36)",
            "ticks": "outside"
           }
          },
          "colorscale": {
           "diverging": [
            [
             0,
             "rgb(103,0,31)"
            ],
            [
             0.1,
             "rgb(178,24,43)"
            ],
            [
             0.2,
             "rgb(214,96,77)"
            ],
            [
             0.3,
             "rgb(244,165,130)"
            ],
            [
             0.4,
             "rgb(253,219,199)"
            ],
            [
             0.5,
             "rgb(247,247,247)"
            ],
            [
             0.6,
             "rgb(209,229,240)"
            ],
            [
             0.7,
             "rgb(146,197,222)"
            ],
            [
             0.8,
             "rgb(67,147,195)"
            ],
            [
             0.9,
             "rgb(33,102,172)"
            ],
            [
             1,
             "rgb(5,48,97)"
            ]
           ],
           "sequential": [
            [
             0,
             "#440154"
            ],
            [
             0.1111111111111111,
             "#482878"
            ],
            [
             0.2222222222222222,
             "#3e4989"
            ],
            [
             0.3333333333333333,
             "#31688e"
            ],
            [
             0.4444444444444444,
             "#26828e"
            ],
            [
             0.5555555555555556,
             "#1f9e89"
            ],
            [
             0.6666666666666666,
             "#35b779"
            ],
            [
             0.7777777777777778,
             "#6ece58"
            ],
            [
             0.8888888888888888,
             "#b5de2b"
            ],
            [
             1,
             "#fde725"
            ]
           ],
           "sequentialminus": [
            [
             0,
             "#440154"
            ],
            [
             0.1111111111111111,
             "#482878"
            ],
            [
             0.2222222222222222,
             "#3e4989"
            ],
            [
             0.3333333333333333,
             "#31688e"
            ],
            [
             0.4444444444444444,
             "#26828e"
            ],
            [
             0.5555555555555556,
             "#1f9e89"
            ],
            [
             0.6666666666666666,
             "#35b779"
            ],
            [
             0.7777777777777778,
             "#6ece58"
            ],
            [
             0.8888888888888888,
             "#b5de2b"
            ],
            [
             1,
             "#fde725"
            ]
           ]
          },
          "colorway": [
           "#1F77B4",
           "#FF7F0E",
           "#2CA02C",
           "#D62728",
           "#9467BD",
           "#8C564B",
           "#E377C2",
           "#7F7F7F",
           "#BCBD22",
           "#17BECF"
          ],
          "font": {
           "color": "rgb(36,36,36)"
          },
          "geo": {
           "bgcolor": "white",
           "lakecolor": "white",
           "landcolor": "white",
           "showlakes": true,
           "showland": true,
           "subunitcolor": "white"
          },
          "hoverlabel": {
           "align": "left"
          },
          "hovermode": "closest",
          "mapbox": {
           "style": "light"
          },
          "paper_bgcolor": "white",
          "plot_bgcolor": "white",
          "polar": {
           "angularaxis": {
            "gridcolor": "rgb(232,232,232)",
            "linecolor": "rgb(36,36,36)",
            "showgrid": false,
            "showline": true,
            "ticks": "outside"
           },
           "bgcolor": "white",
           "radialaxis": {
            "gridcolor": "rgb(232,232,232)",
            "linecolor": "rgb(36,36,36)",
            "showgrid": false,
            "showline": true,
            "ticks": "outside"
           }
          },
          "scene": {
           "xaxis": {
            "backgroundcolor": "white",
            "gridcolor": "rgb(232,232,232)",
            "gridwidth": 2,
            "linecolor": "rgb(36,36,36)",
            "showbackground": true,
            "showgrid": false,
            "showline": true,
            "ticks": "outside",
            "zeroline": false,
            "zerolinecolor": "rgb(36,36,36)"
           },
           "yaxis": {
            "backgroundcolor": "white",
            "gridcolor": "rgb(232,232,232)",
            "gridwidth": 2,
            "linecolor": "rgb(36,36,36)",
            "showbackground": true,
            "showgrid": false,
            "showline": true,
            "ticks": "outside",
            "zeroline": false,
            "zerolinecolor": "rgb(36,36,36)"
           },
           "zaxis": {
            "backgroundcolor": "white",
            "gridcolor": "rgb(232,232,232)",
            "gridwidth": 2,
            "linecolor": "rgb(36,36,36)",
            "showbackground": true,
            "showgrid": false,
            "showline": true,
            "ticks": "outside",
            "zeroline": false,
            "zerolinecolor": "rgb(36,36,36)"
           }
          },
          "shapedefaults": {
           "fillcolor": "black",
           "line": {
            "width": 0
           },
           "opacity": 0.3
          },
          "ternary": {
           "aaxis": {
            "gridcolor": "rgb(232,232,232)",
            "linecolor": "rgb(36,36,36)",
            "showgrid": false,
            "showline": true,
            "ticks": "outside"
           },
           "baxis": {
            "gridcolor": "rgb(232,232,232)",
            "linecolor": "rgb(36,36,36)",
            "showgrid": false,
            "showline": true,
            "ticks": "outside"
           },
           "bgcolor": "white",
           "caxis": {
            "gridcolor": "rgb(232,232,232)",
            "linecolor": "rgb(36,36,36)",
            "showgrid": false,
            "showline": true,
            "ticks": "outside"
           }
          },
          "title": {
           "x": 0.05
          },
          "xaxis": {
           "automargin": true,
           "gridcolor": "rgb(232,232,232)",
           "linecolor": "rgb(36,36,36)",
           "showgrid": false,
           "showline": true,
           "ticks": "outside",
           "title": {
            "standoff": 15
           },
           "zeroline": false,
           "zerolinecolor": "rgb(36,36,36)"
          },
          "yaxis": {
           "automargin": true,
           "gridcolor": "rgb(232,232,232)",
           "linecolor": "rgb(36,36,36)",
           "showgrid": false,
           "showline": true,
           "ticks": "outside",
           "title": {
            "standoff": 15
           },
           "zeroline": false,
           "zerolinecolor": "rgb(36,36,36)"
          }
         }
        },
        "xaxis": {
         "anchor": "y",
         "domain": [
          0,
          1
         ],
         "title": {
          "text": "Deaths"
         }
        },
        "yaxis": {
         "anchor": "x",
         "domain": [
          0,
          1
         ],
         "title": {
          "text": "Undernourished"
         }
        }
       }
      }
     },
     "metadata": {},
     "output_type": "display_data"
    },
    {
     "name": "stdout",
     "output_type": "stream",
     "text": [
      "Correlation Coefficient (Undernourished and Deaths): -0.4308\n",
      "\n",
      "Correlation Coefficient (Undernourished and Mortality): 0.1846\n",
      "\n"
     ]
    }
   ],
   "source": [
    "# Figure to present the relationship between Undernourished, Mortality, and Deaths\n",
    "# (with each point representing a country and the varying sizes of each point\n",
    "# representing the country's corresponding mortality rate)\n",
    "\n",
    "fig = px.scatter(food_df, x=\"Deaths\", y = \"Undernourished\", size = \"Mortality\", hover_name='Country', log_x=False,\n",
    "                 size_max=30, template=\"simple_white\")\n",
    "\n",
    "fig.add_shape(\n",
    "        # Line Horizontal\n",
    "            type=\"line\",\n",
    "            x0=0,\n",
    "            y0=food_df['Undernourished'].mean(),\n",
    "            x1=food_df['Deaths'].max(),\n",
    "            y1=food_df['Undernourished'].mean(),\n",
    "            line=dict(\n",
    "                color=\"crimson\",\n",
    "                width=4\n",
    "            ),\n",
    "    )\n",
    "\n",
    "fig.show()\n",
    "a, b = stats.pearsonr(food_df['Deaths'].values, food_df['Undernourished'].values)\n",
    "c, d = stats.pearsonr(food_df['Mortality'].values, food_df['Undernourished'].values)\n",
    "print(\"Correlation Coefficient (Undernourished and Deaths): {:.4f}\\n\".format(a))\n",
    "print(\"Correlation Coefficient (Undernourished and Mortality): {:.4f}\\n\".format(c))"
   ]
  },
  {
   "cell_type": "markdown",
   "id": "26066c09",
   "metadata": {
    "pycharm": {
     "name": "#%% md\n"
    }
   },
   "source": [
    "The results above show that there is a **moderately negative correlation** between `Undernourished` and `Deaths`, while there is a **weak positive correlation** between `Undernourished` and `Mortality`. This suggests that, despite leading to less COVID-19 deaths in the populace, a country with high `Undernourished` rates may possibly still yield high `Mortality` rates, seeing as the correlation coefficient between `Undernourished` and `Mortality` is still considerably higher compared to `Obesity` and `Mortality`.\n",
    "\n",
    "The researchers now see that perhaps analyzing and delving deeper into the diets of countries with high `Obesity` rates may shed more light into their overall health, seeing as `Obesity` and `Deaths` have a **moderately positive correlation**."
   ]
  },
  {
   "cell_type": "markdown",
   "id": "97a41c56",
   "metadata": {
    "pycharm": {
     "name": "#%% md\n"
    }
   },
   "source": [
    "## *EDA #3* - Is There a Relationship Between the Obesity Rates of Countries and the Type of Food  Consumed by Their Populace?\n",
    "This section aims to verify if there's a relationship between the obesity rates and type of food (animal or vegetal) consumed from each country.  <br>"
   ]
  },
  {
   "cell_type": "markdown",
   "id": "8e6fe877",
   "metadata": {
    "pycharm": {
     "name": "#%% md\n"
    }
   },
   "source": [
    "\n",
    "The code below classifies each country using high and low obesity rates based on average. <br>\n",
    "`obesity_highAvg` contains the countries that have obesity rates above the overall obesity rate average. <br>\n",
    "`obesity_lowAvg` contains the countries that have obesity rates below the overall obesity rate average."
   ]
  },
  {
   "cell_type": "code",
   "execution_count": 32,
   "id": "217673f3",
   "metadata": {
    "jupyter": {
     "outputs_hidden": false
    },
    "pycharm": {
     "name": "#%%\n"
    }
   },
   "outputs": [],
   "source": [
    "obesity_highAvg = food_df[food_df.Obesity > food_df['Obesity'].mean()]\n",
    "obesity_lowAvg = food_df[food_df.Obesity <= food_df['Obesity'].mean()]"
   ]
  },
  {
   "cell_type": "code",
   "execution_count": 33,
   "id": "a6cb1a9d",
   "metadata": {
    "jupyter": {
     "outputs_hidden": false
    },
    "pycharm": {
     "name": "#%%\n"
    }
   },
   "outputs": [
    {
     "data": {
      "text/html": [
       "<div>\n",
       "<style scoped>\n",
       "    .dataframe tbody tr th:only-of-type {\n",
       "        vertical-align: middle;\n",
       "    }\n",
       "\n",
       "    .dataframe tbody tr th {\n",
       "        vertical-align: top;\n",
       "    }\n",
       "\n",
       "    .dataframe thead th {\n",
       "        text-align: right;\n",
       "    }\n",
       "</style>\n",
       "<table border=\"1\" class=\"dataframe\">\n",
       "  <thead>\n",
       "    <tr style=\"text-align: right;\">\n",
       "      <th></th>\n",
       "      <th>Country</th>\n",
       "      <th>Alcoholic Beverages</th>\n",
       "      <th>Animal fats</th>\n",
       "      <th>Animal Products</th>\n",
       "      <th>Aquatic Products, Other</th>\n",
       "      <th>Cereals - Excluding Beer</th>\n",
       "      <th>Eggs</th>\n",
       "      <th>Fish, Seafood</th>\n",
       "      <th>Fruits - Excluding Wine</th>\n",
       "      <th>Meat</th>\n",
       "      <th>...</th>\n",
       "      <th>Vegetables</th>\n",
       "      <th>Vegetal Products</th>\n",
       "      <th>Obesity</th>\n",
       "      <th>Undernourished</th>\n",
       "      <th>Confirmed</th>\n",
       "      <th>Deaths</th>\n",
       "      <th>Recovered</th>\n",
       "      <th>Active</th>\n",
       "      <th>Population</th>\n",
       "      <th>Mortality</th>\n",
       "    </tr>\n",
       "  </thead>\n",
       "  <tbody>\n",
       "    <tr>\n",
       "      <th>131</th>\n",
       "      <td>Samoa</td>\n",
       "      <td>1.4236</td>\n",
       "      <td>0.2262</td>\n",
       "      <td>11.1630</td>\n",
       "      <td>0.1236</td>\n",
       "      <td>3.6768</td>\n",
       "      <td>0.1314</td>\n",
       "      <td>2.7788</td>\n",
       "      <td>10.7845</td>\n",
       "      <td>5.7993</td>\n",
       "      <td>...</td>\n",
       "      <td>1.1656</td>\n",
       "      <td>38.8349</td>\n",
       "      <td>45.5</td>\n",
       "      <td>2.7</td>\n",
       "      <td>0.001000</td>\n",
       "      <td>0.000000</td>\n",
       "      <td>0.001000</td>\n",
       "      <td>0.000000</td>\n",
       "      <td>200000.0</td>\n",
       "      <td>0.000000</td>\n",
       "    </tr>\n",
       "    <tr>\n",
       "      <th>161</th>\n",
       "      <td>United States of America</td>\n",
       "      <td>4.8647</td>\n",
       "      <td>0.1681</td>\n",
       "      <td>21.2352</td>\n",
       "      <td>0.0020</td>\n",
       "      <td>5.5048</td>\n",
       "      <td>0.7860</td>\n",
       "      <td>1.1287</td>\n",
       "      <td>4.5432</td>\n",
       "      <td>6.2645</td>\n",
       "      <td>...</td>\n",
       "      <td>5.7249</td>\n",
       "      <td>28.7587</td>\n",
       "      <td>37.3</td>\n",
       "      <td>2.4</td>\n",
       "      <td>8.159922</td>\n",
       "      <td>0.140103</td>\n",
       "      <td>0.000000</td>\n",
       "      <td>8.019819</td>\n",
       "      <td>329878000.0</td>\n",
       "      <td>1.716965</td>\n",
       "    </tr>\n",
       "    <tr>\n",
       "      <th>83</th>\n",
       "      <td>Kuwait</td>\n",
       "      <td>0.0044</td>\n",
       "      <td>0.0022</td>\n",
       "      <td>10.7213</td>\n",
       "      <td>0.0022</td>\n",
       "      <td>11.4132</td>\n",
       "      <td>1.3306</td>\n",
       "      <td>0.8343</td>\n",
       "      <td>5.3058</td>\n",
       "      <td>4.8770</td>\n",
       "      <td>...</td>\n",
       "      <td>12.9953</td>\n",
       "      <td>39.2750</td>\n",
       "      <td>37.0</td>\n",
       "      <td>2.8</td>\n",
       "      <td>3.624728</td>\n",
       "      <td>0.020550</td>\n",
       "      <td>3.434087</td>\n",
       "      <td>0.170092</td>\n",
       "      <td>4691000.0</td>\n",
       "      <td>0.566939</td>\n",
       "    </tr>\n",
       "    <tr>\n",
       "      <th>133</th>\n",
       "      <td>Saudi Arabia</td>\n",
       "      <td>0.0000</td>\n",
       "      <td>0.3917</td>\n",
       "      <td>12.9962</td>\n",
       "      <td>0.0000</td>\n",
       "      <td>16.3284</td>\n",
       "      <td>0.6003</td>\n",
       "      <td>1.0369</td>\n",
       "      <td>7.0413</td>\n",
       "      <td>4.9529</td>\n",
       "      <td>...</td>\n",
       "      <td>5.7024</td>\n",
       "      <td>37.0038</td>\n",
       "      <td>35.0</td>\n",
       "      <td>7.1</td>\n",
       "      <td>1.055795</td>\n",
       "      <td>0.018256</td>\n",
       "      <td>1.030898</td>\n",
       "      <td>0.006641</td>\n",
       "      <td>35041000.0</td>\n",
       "      <td>1.729101</td>\n",
       "    </tr>\n",
       "    <tr>\n",
       "      <th>77</th>\n",
       "      <td>Jordan</td>\n",
       "      <td>0.0846</td>\n",
       "      <td>0.1162</td>\n",
       "      <td>9.3186</td>\n",
       "      <td>0.0000</td>\n",
       "      <td>14.1380</td>\n",
       "      <td>0.3344</td>\n",
       "      <td>0.5985</td>\n",
       "      <td>4.6624</td>\n",
       "      <td>3.8651</td>\n",
       "      <td>...</td>\n",
       "      <td>10.6308</td>\n",
       "      <td>40.6798</td>\n",
       "      <td>33.4</td>\n",
       "      <td>12.2</td>\n",
       "      <td>3.126276</td>\n",
       "      <td>0.040912</td>\n",
       "      <td>2.991760</td>\n",
       "      <td>0.093604</td>\n",
       "      <td>10679000.0</td>\n",
       "      <td>1.308652</td>\n",
       "    </tr>\n",
       "    <tr>\n",
       "      <th>...</th>\n",
       "      <td>...</td>\n",
       "      <td>...</td>\n",
       "      <td>...</td>\n",
       "      <td>...</td>\n",
       "      <td>...</td>\n",
       "      <td>...</td>\n",
       "      <td>...</td>\n",
       "      <td>...</td>\n",
       "      <td>...</td>\n",
       "      <td>...</td>\n",
       "      <td>...</td>\n",
       "      <td>...</td>\n",
       "      <td>...</td>\n",
       "      <td>...</td>\n",
       "      <td>...</td>\n",
       "      <td>...</td>\n",
       "      <td>...</td>\n",
       "      <td>...</td>\n",
       "      <td>...</td>\n",
       "      <td>...</td>\n",
       "      <td>...</td>\n",
       "    </tr>\n",
       "    <tr>\n",
       "      <th>63</th>\n",
       "      <td>Guyana</td>\n",
       "      <td>1.8708</td>\n",
       "      <td>0.0206</td>\n",
       "      <td>9.1155</td>\n",
       "      <td>0.0000</td>\n",
       "      <td>9.7847</td>\n",
       "      <td>0.1038</td>\n",
       "      <td>1.7011</td>\n",
       "      <td>5.7954</td>\n",
       "      <td>2.5237</td>\n",
       "      <td>...</td>\n",
       "      <td>15.2061</td>\n",
       "      <td>40.8722</td>\n",
       "      <td>19.2</td>\n",
       "      <td>8.1</td>\n",
       "      <td>1.008767</td>\n",
       "      <td>0.022872</td>\n",
       "      <td>0.884625</td>\n",
       "      <td>0.101271</td>\n",
       "      <td>787000.0</td>\n",
       "      <td>2.267288</td>\n",
       "    </tr>\n",
       "    <tr>\n",
       "      <th>120</th>\n",
       "      <td>Peru</td>\n",
       "      <td>3.8623</td>\n",
       "      <td>0.0316</td>\n",
       "      <td>8.6638</td>\n",
       "      <td>0.0014</td>\n",
       "      <td>11.8140</td>\n",
       "      <td>0.6431</td>\n",
       "      <td>1.7993</td>\n",
       "      <td>8.5783</td>\n",
       "      <td>1.7540</td>\n",
       "      <td>...</td>\n",
       "      <td>4.8044</td>\n",
       "      <td>41.3344</td>\n",
       "      <td>19.1</td>\n",
       "      <td>9.7</td>\n",
       "      <td>3.573742</td>\n",
       "      <td>0.127751</td>\n",
       "      <td>3.310514</td>\n",
       "      <td>0.135477</td>\n",
       "      <td>32824000.0</td>\n",
       "      <td>3.574714</td>\n",
       "    </tr>\n",
       "    <tr>\n",
       "      <th>119</th>\n",
       "      <td>Paraguay</td>\n",
       "      <td>3.9095</td>\n",
       "      <td>0.2191</td>\n",
       "      <td>11.2654</td>\n",
       "      <td>0.0000</td>\n",
       "      <td>7.5639</td>\n",
       "      <td>0.9035</td>\n",
       "      <td>0.3119</td>\n",
       "      <td>5.4532</td>\n",
       "      <td>4.0434</td>\n",
       "      <td>...</td>\n",
       "      <td>3.7113</td>\n",
       "      <td>38.7260</td>\n",
       "      <td>19.0</td>\n",
       "      <td>10.7</td>\n",
       "      <td>1.896664</td>\n",
       "      <td>0.038691</td>\n",
       "      <td>1.562591</td>\n",
       "      <td>0.295382</td>\n",
       "      <td>7255000.0</td>\n",
       "      <td>2.039926</td>\n",
       "    </tr>\n",
       "    <tr>\n",
       "      <th>60</th>\n",
       "      <td>Guatemala</td>\n",
       "      <td>1.7037</td>\n",
       "      <td>0.0957</td>\n",
       "      <td>10.3765</td>\n",
       "      <td>0.0000</td>\n",
       "      <td>15.1579</td>\n",
       "      <td>1.4676</td>\n",
       "      <td>0.2807</td>\n",
       "      <td>6.7124</td>\n",
       "      <td>3.9589</td>\n",
       "      <td>...</td>\n",
       "      <td>5.7997</td>\n",
       "      <td>39.6240</td>\n",
       "      <td>18.8</td>\n",
       "      <td>15.2</td>\n",
       "      <td>0.901899</td>\n",
       "      <td>0.032403</td>\n",
       "      <td>0.824294</td>\n",
       "      <td>0.045201</td>\n",
       "      <td>18066000.0</td>\n",
       "      <td>3.592800</td>\n",
       "    </tr>\n",
       "    <tr>\n",
       "      <th>17</th>\n",
       "      <td>Bolivia</td>\n",
       "      <td>2.8956</td>\n",
       "      <td>0.0889</td>\n",
       "      <td>11.7799</td>\n",
       "      <td>0.0000</td>\n",
       "      <td>12.3079</td>\n",
       "      <td>0.6626</td>\n",
       "      <td>0.2307</td>\n",
       "      <td>7.5088</td>\n",
       "      <td>6.4098</td>\n",
       "      <td>...</td>\n",
       "      <td>3.2224</td>\n",
       "      <td>38.2165</td>\n",
       "      <td>18.7</td>\n",
       "      <td>17.1</td>\n",
       "      <td>1.952446</td>\n",
       "      <td>0.092435</td>\n",
       "      <td>1.438614</td>\n",
       "      <td>0.421396</td>\n",
       "      <td>11633000.0</td>\n",
       "      <td>4.734335</td>\n",
       "    </tr>\n",
       "  </tbody>\n",
       "</table>\n",
       "<p>93 rows × 32 columns</p>\n",
       "</div>"
      ],
      "text/plain": [
       "                      Country  Alcoholic Beverages  Animal fats  \\\n",
       "131                     Samoa               1.4236       0.2262   \n",
       "161  United States of America               4.8647       0.1681   \n",
       "83                     Kuwait               0.0044       0.0022   \n",
       "133              Saudi Arabia               0.0000       0.3917   \n",
       "77                     Jordan               0.0846       0.1162   \n",
       "..                        ...                  ...          ...   \n",
       "63                     Guyana               1.8708       0.0206   \n",
       "120                      Peru               3.8623       0.0316   \n",
       "119                  Paraguay               3.9095       0.2191   \n",
       "60                  Guatemala               1.7037       0.0957   \n",
       "17                    Bolivia               2.8956       0.0889   \n",
       "\n",
       "     Animal Products  Aquatic Products, Other  Cereals - Excluding Beer  \\\n",
       "131          11.1630                   0.1236                    3.6768   \n",
       "161          21.2352                   0.0020                    5.5048   \n",
       "83           10.7213                   0.0022                   11.4132   \n",
       "133          12.9962                   0.0000                   16.3284   \n",
       "77            9.3186                   0.0000                   14.1380   \n",
       "..               ...                      ...                       ...   \n",
       "63            9.1155                   0.0000                    9.7847   \n",
       "120           8.6638                   0.0014                   11.8140   \n",
       "119          11.2654                   0.0000                    7.5639   \n",
       "60           10.3765                   0.0000                   15.1579   \n",
       "17           11.7799                   0.0000                   12.3079   \n",
       "\n",
       "       Eggs  Fish, Seafood  Fruits - Excluding Wine    Meat  ...  Vegetables  \\\n",
       "131  0.1314         2.7788                  10.7845  5.7993  ...      1.1656   \n",
       "161  0.7860         1.1287                   4.5432  6.2645  ...      5.7249   \n",
       "83   1.3306         0.8343                   5.3058  4.8770  ...     12.9953   \n",
       "133  0.6003         1.0369                   7.0413  4.9529  ...      5.7024   \n",
       "77   0.3344         0.5985                   4.6624  3.8651  ...     10.6308   \n",
       "..      ...            ...                      ...     ...  ...         ...   \n",
       "63   0.1038         1.7011                   5.7954  2.5237  ...     15.2061   \n",
       "120  0.6431         1.7993                   8.5783  1.7540  ...      4.8044   \n",
       "119  0.9035         0.3119                   5.4532  4.0434  ...      3.7113   \n",
       "60   1.4676         0.2807                   6.7124  3.9589  ...      5.7997   \n",
       "17   0.6626         0.2307                   7.5088  6.4098  ...      3.2224   \n",
       "\n",
       "     Vegetal Products  Obesity  Undernourished  Confirmed    Deaths  \\\n",
       "131           38.8349     45.5             2.7   0.001000  0.000000   \n",
       "161           28.7587     37.3             2.4   8.159922  0.140103   \n",
       "83            39.2750     37.0             2.8   3.624728  0.020550   \n",
       "133           37.0038     35.0             7.1   1.055795  0.018256   \n",
       "77            40.6798     33.4            12.2   3.126276  0.040912   \n",
       "..                ...      ...             ...        ...       ...   \n",
       "63            40.8722     19.2             8.1   1.008767  0.022872   \n",
       "120           41.3344     19.1             9.7   3.573742  0.127751   \n",
       "119           38.7260     19.0            10.7   1.896664  0.038691   \n",
       "60            39.6240     18.8            15.2   0.901899  0.032403   \n",
       "17            38.2165     18.7            17.1   1.952446  0.092435   \n",
       "\n",
       "     Recovered    Active   Population  Mortality  \n",
       "131   0.001000  0.000000     200000.0   0.000000  \n",
       "161   0.000000  8.019819  329878000.0   1.716965  \n",
       "83    3.434087  0.170092    4691000.0   0.566939  \n",
       "133   1.030898  0.006641   35041000.0   1.729101  \n",
       "77    2.991760  0.093604   10679000.0   1.308652  \n",
       "..         ...       ...          ...        ...  \n",
       "63    0.884625  0.101271     787000.0   2.267288  \n",
       "120   3.310514  0.135477   32824000.0   3.574714  \n",
       "119   1.562591  0.295382    7255000.0   2.039926  \n",
       "60    0.824294  0.045201   18066000.0   3.592800  \n",
       "17    1.438614  0.421396   11633000.0   4.734335  \n",
       "\n",
       "[93 rows x 32 columns]"
      ]
     },
     "execution_count": 33,
     "metadata": {},
     "output_type": "execute_result"
    }
   ],
   "source": [
    "obesity_highAvg = obesity_highAvg.sort_values(by=['Obesity'], ascending = False)\n",
    "obesity_highAvg"
   ]
  },
  {
   "cell_type": "code",
   "execution_count": 34,
   "id": "4dbec20a",
   "metadata": {
    "jupyter": {
     "outputs_hidden": false
    },
    "pycharm": {
     "name": "#%%\n"
    }
   },
   "outputs": [
    {
     "data": {
      "text/html": [
       "<div>\n",
       "<style scoped>\n",
       "    .dataframe tbody tr th:only-of-type {\n",
       "        vertical-align: middle;\n",
       "    }\n",
       "\n",
       "    .dataframe tbody tr th {\n",
       "        vertical-align: top;\n",
       "    }\n",
       "\n",
       "    .dataframe thead th {\n",
       "        text-align: right;\n",
       "    }\n",
       "</style>\n",
       "<table border=\"1\" class=\"dataframe\">\n",
       "  <thead>\n",
       "    <tr style=\"text-align: right;\">\n",
       "      <th></th>\n",
       "      <th>Country</th>\n",
       "      <th>Alcoholic Beverages</th>\n",
       "      <th>Animal fats</th>\n",
       "      <th>Animal Products</th>\n",
       "      <th>Aquatic Products, Other</th>\n",
       "      <th>Cereals - Excluding Beer</th>\n",
       "      <th>Eggs</th>\n",
       "      <th>Fish, Seafood</th>\n",
       "      <th>Fruits - Excluding Wine</th>\n",
       "      <th>Meat</th>\n",
       "      <th>...</th>\n",
       "      <th>Vegetables</th>\n",
       "      <th>Vegetal Products</th>\n",
       "      <th>Obesity</th>\n",
       "      <th>Undernourished</th>\n",
       "      <th>Confirmed</th>\n",
       "      <th>Deaths</th>\n",
       "      <th>Recovered</th>\n",
       "      <th>Active</th>\n",
       "      <th>Population</th>\n",
       "      <th>Mortality</th>\n",
       "    </tr>\n",
       "  </thead>\n",
       "  <tbody>\n",
       "    <tr>\n",
       "      <th>19</th>\n",
       "      <td>Botswana</td>\n",
       "      <td>4.2717</td>\n",
       "      <td>0.3402</td>\n",
       "      <td>14.4486</td>\n",
       "      <td>0.0000</td>\n",
       "      <td>11.4320</td>\n",
       "      <td>0.1402</td>\n",
       "      <td>0.3551</td>\n",
       "      <td>2.8465</td>\n",
       "      <td>2.2840</td>\n",
       "      <td>...</td>\n",
       "      <td>4.0558</td>\n",
       "      <td>35.5491</td>\n",
       "      <td>16.1</td>\n",
       "      <td>26.4</td>\n",
       "      <td>1.014372</td>\n",
       "      <td>0.007035</td>\n",
       "      <td>0.844799</td>\n",
       "      <td>0.162538</td>\n",
       "      <td>2317000.0</td>\n",
       "      <td>0.693528</td>\n",
       "    </tr>\n",
       "    <tr>\n",
       "      <th>84</th>\n",
       "      <td>Kyrgyzstan</td>\n",
       "      <td>0.6313</td>\n",
       "      <td>0.1910</td>\n",
       "      <td>15.4588</td>\n",
       "      <td>0.0000</td>\n",
       "      <td>10.1059</td>\n",
       "      <td>0.2653</td>\n",
       "      <td>0.0700</td>\n",
       "      <td>2.2846</td>\n",
       "      <td>1.8707</td>\n",
       "      <td>...</td>\n",
       "      <td>11.3219</td>\n",
       "      <td>34.5412</td>\n",
       "      <td>15.4</td>\n",
       "      <td>7.1</td>\n",
       "      <td>1.288929</td>\n",
       "      <td>0.021580</td>\n",
       "      <td>1.236609</td>\n",
       "      <td>0.030740</td>\n",
       "      <td>6594000.0</td>\n",
       "      <td>1.674275</td>\n",
       "    </tr>\n",
       "    <tr>\n",
       "      <th>94</th>\n",
       "      <td>Malaysia</td>\n",
       "      <td>0.8948</td>\n",
       "      <td>0.0882</td>\n",
       "      <td>12.6354</td>\n",
       "      <td>0.0204</td>\n",
       "      <td>17.3088</td>\n",
       "      <td>1.6596</td>\n",
       "      <td>5.3482</td>\n",
       "      <td>4.1713</td>\n",
       "      <td>4.9092</td>\n",
       "      <td>...</td>\n",
       "      <td>6.1678</td>\n",
       "      <td>37.3632</td>\n",
       "      <td>15.3</td>\n",
       "      <td>2.5</td>\n",
       "      <td>0.728230</td>\n",
       "      <td>0.002614</td>\n",
       "      <td>0.570361</td>\n",
       "      <td>0.155255</td>\n",
       "      <td>32781000.0</td>\n",
       "      <td>0.358996</td>\n",
       "    </tr>\n",
       "    <tr>\n",
       "      <th>163</th>\n",
       "      <td>Uzbekistan</td>\n",
       "      <td>0.6835</td>\n",
       "      <td>0.1353</td>\n",
       "      <td>14.4463</td>\n",
       "      <td>0.0000</td>\n",
       "      <td>10.5365</td>\n",
       "      <td>0.3566</td>\n",
       "      <td>0.1218</td>\n",
       "      <td>5.2150</td>\n",
       "      <td>1.8621</td>\n",
       "      <td>...</td>\n",
       "      <td>14.8354</td>\n",
       "      <td>35.5540</td>\n",
       "      <td>15.3</td>\n",
       "      <td>6.3</td>\n",
       "      <td>0.231302</td>\n",
       "      <td>0.001817</td>\n",
       "      <td>0.226751</td>\n",
       "      <td>0.002733</td>\n",
       "      <td>34174000.0</td>\n",
       "      <td>0.785628</td>\n",
       "    </tr>\n",
       "    <tr>\n",
       "      <th>106</th>\n",
       "      <td>Namibia</td>\n",
       "      <td>5.4716</td>\n",
       "      <td>0.1134</td>\n",
       "      <td>9.6094</td>\n",
       "      <td>0.0053</td>\n",
       "      <td>9.9189</td>\n",
       "      <td>0.1196</td>\n",
       "      <td>1.0164</td>\n",
       "      <td>3.1266</td>\n",
       "      <td>2.6844</td>\n",
       "      <td>...</td>\n",
       "      <td>2.3626</td>\n",
       "      <td>40.3800</td>\n",
       "      <td>15.0</td>\n",
       "      <td>27.3</td>\n",
       "      <td>1.371271</td>\n",
       "      <td>0.014601</td>\n",
       "      <td>1.312830</td>\n",
       "      <td>0.043841</td>\n",
       "      <td>2541000.0</td>\n",
       "      <td>1.064746</td>\n",
       "    </tr>\n",
       "    <tr>\n",
       "      <th>...</th>\n",
       "      <td>...</td>\n",
       "      <td>...</td>\n",
       "      <td>...</td>\n",
       "      <td>...</td>\n",
       "      <td>...</td>\n",
       "      <td>...</td>\n",
       "      <td>...</td>\n",
       "      <td>...</td>\n",
       "      <td>...</td>\n",
       "      <td>...</td>\n",
       "      <td>...</td>\n",
       "      <td>...</td>\n",
       "      <td>...</td>\n",
       "      <td>...</td>\n",
       "      <td>...</td>\n",
       "      <td>...</td>\n",
       "      <td>...</td>\n",
       "      <td>...</td>\n",
       "      <td>...</td>\n",
       "      <td>...</td>\n",
       "      <td>...</td>\n",
       "    </tr>\n",
       "    <tr>\n",
       "      <th>48</th>\n",
       "      <td>Ethiopia</td>\n",
       "      <td>2.4543</td>\n",
       "      <td>0.0276</td>\n",
       "      <td>5.2956</td>\n",
       "      <td>0.0000</td>\n",
       "      <td>22.0779</td>\n",
       "      <td>0.0594</td>\n",
       "      <td>0.0608</td>\n",
       "      <td>1.1774</td>\n",
       "      <td>0.7462</td>\n",
       "      <td>...</td>\n",
       "      <td>1.8449</td>\n",
       "      <td>44.6989</td>\n",
       "      <td>3.6</td>\n",
       "      <td>20.6</td>\n",
       "      <td>0.123093</td>\n",
       "      <td>0.001867</td>\n",
       "      <td>0.109237</td>\n",
       "      <td>0.011989</td>\n",
       "      <td>114916000.0</td>\n",
       "      <td>1.516405</td>\n",
       "    </tr>\n",
       "    <tr>\n",
       "      <th>24</th>\n",
       "      <td>Cambodia</td>\n",
       "      <td>4.5783</td>\n",
       "      <td>0.0377</td>\n",
       "      <td>6.0800</td>\n",
       "      <td>0.0000</td>\n",
       "      <td>24.8906</td>\n",
       "      <td>0.1310</td>\n",
       "      <td>4.2369</td>\n",
       "      <td>2.3184</td>\n",
       "      <td>1.2247</td>\n",
       "      <td>...</td>\n",
       "      <td>3.0072</td>\n",
       "      <td>43.9195</td>\n",
       "      <td>3.5</td>\n",
       "      <td>16.4</td>\n",
       "      <td>0.003059</td>\n",
       "      <td>0.000000</td>\n",
       "      <td>0.002930</td>\n",
       "      <td>0.000129</td>\n",
       "      <td>15497000.0</td>\n",
       "      <td>0.000000</td>\n",
       "    </tr>\n",
       "    <tr>\n",
       "      <th>11</th>\n",
       "      <td>Bangladesh</td>\n",
       "      <td>0.0031</td>\n",
       "      <td>0.0156</td>\n",
       "      <td>5.1926</td>\n",
       "      <td>0.0000</td>\n",
       "      <td>29.8045</td>\n",
       "      <td>0.2957</td>\n",
       "      <td>2.5221</td>\n",
       "      <td>2.8655</td>\n",
       "      <td>0.4191</td>\n",
       "      <td>...</td>\n",
       "      <td>3.6405</td>\n",
       "      <td>44.8033</td>\n",
       "      <td>3.4</td>\n",
       "      <td>14.7</td>\n",
       "      <td>0.316691</td>\n",
       "      <td>0.004823</td>\n",
       "      <td>0.284344</td>\n",
       "      <td>0.027524</td>\n",
       "      <td>169809000.0</td>\n",
       "      <td>1.522956</td>\n",
       "    </tr>\n",
       "    <tr>\n",
       "      <th>150</th>\n",
       "      <td>Timor-Leste</td>\n",
       "      <td>0.4459</td>\n",
       "      <td>0.0897</td>\n",
       "      <td>5.4983</td>\n",
       "      <td>0.0000</td>\n",
       "      <td>26.3320</td>\n",
       "      <td>0.1025</td>\n",
       "      <td>1.0225</td>\n",
       "      <td>2.1027</td>\n",
       "      <td>4.0376</td>\n",
       "      <td>...</td>\n",
       "      <td>3.1867</td>\n",
       "      <td>44.5030</td>\n",
       "      <td>2.9</td>\n",
       "      <td>24.9</td>\n",
       "      <td>0.006070</td>\n",
       "      <td>0.000000</td>\n",
       "      <td>0.004628</td>\n",
       "      <td>0.001442</td>\n",
       "      <td>1318000.0</td>\n",
       "      <td>0.000000</td>\n",
       "    </tr>\n",
       "    <tr>\n",
       "      <th>166</th>\n",
       "      <td>Vietnam</td>\n",
       "      <td>1.4591</td>\n",
       "      <td>0.1640</td>\n",
       "      <td>8.5765</td>\n",
       "      <td>0.0042</td>\n",
       "      <td>16.8740</td>\n",
       "      <td>0.3077</td>\n",
       "      <td>2.6392</td>\n",
       "      <td>5.9029</td>\n",
       "      <td>4.4382</td>\n",
       "      <td>...</td>\n",
       "      <td>11.9508</td>\n",
       "      <td>41.4232</td>\n",
       "      <td>2.1</td>\n",
       "      <td>9.3</td>\n",
       "      <td>0.002063</td>\n",
       "      <td>0.000036</td>\n",
       "      <td>0.001526</td>\n",
       "      <td>0.000501</td>\n",
       "      <td>96209000.0</td>\n",
       "      <td>1.763224</td>\n",
       "    </tr>\n",
       "  </tbody>\n",
       "</table>\n",
       "<p>61 rows × 32 columns</p>\n",
       "</div>"
      ],
      "text/plain": [
       "         Country  Alcoholic Beverages  Animal fats  Animal Products  \\\n",
       "19      Botswana               4.2717       0.3402          14.4486   \n",
       "84    Kyrgyzstan               0.6313       0.1910          15.4588   \n",
       "94      Malaysia               0.8948       0.0882          12.6354   \n",
       "163   Uzbekistan               0.6835       0.1353          14.4463   \n",
       "106      Namibia               5.4716       0.1134           9.6094   \n",
       "..           ...                  ...          ...              ...   \n",
       "48      Ethiopia               2.4543       0.0276           5.2956   \n",
       "24      Cambodia               4.5783       0.0377           6.0800   \n",
       "11    Bangladesh               0.0031       0.0156           5.1926   \n",
       "150  Timor-Leste               0.4459       0.0897           5.4983   \n",
       "166      Vietnam               1.4591       0.1640           8.5765   \n",
       "\n",
       "     Aquatic Products, Other  Cereals - Excluding Beer    Eggs  Fish, Seafood  \\\n",
       "19                    0.0000                   11.4320  0.1402         0.3551   \n",
       "84                    0.0000                   10.1059  0.2653         0.0700   \n",
       "94                    0.0204                   17.3088  1.6596         5.3482   \n",
       "163                   0.0000                   10.5365  0.3566         0.1218   \n",
       "106                   0.0053                    9.9189  0.1196         1.0164   \n",
       "..                       ...                       ...     ...            ...   \n",
       "48                    0.0000                   22.0779  0.0594         0.0608   \n",
       "24                    0.0000                   24.8906  0.1310         4.2369   \n",
       "11                    0.0000                   29.8045  0.2957         2.5221   \n",
       "150                   0.0000                   26.3320  0.1025         1.0225   \n",
       "166                   0.0042                   16.8740  0.3077         2.6392   \n",
       "\n",
       "     Fruits - Excluding Wine    Meat  ...  Vegetables  Vegetal Products  \\\n",
       "19                    2.8465  2.2840  ...      4.0558           35.5491   \n",
       "84                    2.2846  1.8707  ...     11.3219           34.5412   \n",
       "94                    4.1713  4.9092  ...      6.1678           37.3632   \n",
       "163                   5.2150  1.8621  ...     14.8354           35.5540   \n",
       "106                   3.1266  2.6844  ...      2.3626           40.3800   \n",
       "..                       ...     ...  ...         ...               ...   \n",
       "48                    1.1774  0.7462  ...      1.8449           44.6989   \n",
       "24                    2.3184  1.2247  ...      3.0072           43.9195   \n",
       "11                    2.8655  0.4191  ...      3.6405           44.8033   \n",
       "150                   2.1027  4.0376  ...      3.1867           44.5030   \n",
       "166                   5.9029  4.4382  ...     11.9508           41.4232   \n",
       "\n",
       "     Obesity  Undernourished  Confirmed    Deaths  Recovered    Active  \\\n",
       "19      16.1            26.4   1.014372  0.007035   0.844799  0.162538   \n",
       "84      15.4             7.1   1.288929  0.021580   1.236609  0.030740   \n",
       "94      15.3             2.5   0.728230  0.002614   0.570361  0.155255   \n",
       "163     15.3             6.3   0.231302  0.001817   0.226751  0.002733   \n",
       "106     15.0            27.3   1.371271  0.014601   1.312830  0.043841   \n",
       "..       ...             ...        ...       ...        ...       ...   \n",
       "48       3.6            20.6   0.123093  0.001867   0.109237  0.011989   \n",
       "24       3.5            16.4   0.003059  0.000000   0.002930  0.000129   \n",
       "11       3.4            14.7   0.316691  0.004823   0.284344  0.027524   \n",
       "150      2.9            24.9   0.006070  0.000000   0.004628  0.001442   \n",
       "166      2.1             9.3   0.002063  0.000036   0.001526  0.000501   \n",
       "\n",
       "      Population  Mortality  \n",
       "19     2317000.0   0.693528  \n",
       "84     6594000.0   1.674275  \n",
       "94    32781000.0   0.358996  \n",
       "163   34174000.0   0.785628  \n",
       "106    2541000.0   1.064746  \n",
       "..           ...        ...  \n",
       "48   114916000.0   1.516405  \n",
       "24    15497000.0   0.000000  \n",
       "11   169809000.0   1.522956  \n",
       "150    1318000.0   0.000000  \n",
       "166   96209000.0   1.763224  \n",
       "\n",
       "[61 rows x 32 columns]"
      ]
     },
     "execution_count": 34,
     "metadata": {},
     "output_type": "execute_result"
    }
   ],
   "source": [
    "obesity_lowAvg = obesity_lowAvg.sort_values(by=['Obesity'], ascending = False)\n",
    "obesity_lowAvg"
   ]
  },
  {
   "cell_type": "code",
   "execution_count": 35,
   "id": "16217c63",
   "metadata": {
    "jupyter": {
     "outputs_hidden": false
    },
    "pycharm": {
     "name": "#%%\n"
    }
   },
   "outputs": [],
   "source": [
    "animals = ['Animal fats', 'Aquatic Products, Other', 'Eggs', 'Fish, Seafood', 'Meat',\n",
    "                   'Milk - Excluding Butter', 'Offals']\n",
    "vegetals = ['Alcoholic Beverages', 'Cereals - Excluding Beer', 'Fruits - Excluding Wine', 'Miscellaneous', 'Oilcrops', 'Pulses',\n",
    "                    'Spices', 'Starchy Roots', 'Stimulants', 'Sugar & Sweeteners', 'Sugar Crops', 'Treenuts',\n",
    "                    'Vegetable Oils', 'Vegetables']"
   ]
  },
  {
   "cell_type": "code",
   "execution_count": 36,
   "id": "e559cded",
   "metadata": {
    "jupyter": {
     "outputs_hidden": false
    },
    "pycharm": {
     "name": "#%%\n"
    }
   },
   "outputs": [
    {
     "data": {
      "application/vnd.plotly.v1+json": {
       "config": {
        "plotlyServerURL": "https://plot.ly"
       },
       "data": [
        {
         "domain": {
          "x": [
           0,
           1
          ],
          "y": [
           0,
           1
          ]
         },
         "hovertemplate": "label=%{label}<br>value=%{value}<extra></extra>",
         "labels": [
          "Animal fats",
          "Aquatic Products, Other",
          "Eggs",
          "Fish, Seafood",
          "Meat",
          "Milk - Excluding Butter",
          "Offals"
         ],
         "legendgroup": "",
         "name": "",
         "showlegend": true,
         "type": "pie",
         "values": [
          0.3294623655913979,
          0.003101075268817204,
          0.5793956989247311,
          1.1088376344086022,
          3.921981720430108,
          8.903647311827955,
          0.18207096774193554
         ]
        }
       ],
       "layout": {
        "legend": {
         "tracegroupgap": 0
        },
        "template": {
         "data": {
          "bar": [
           {
            "error_x": {
             "color": "#2a3f5f"
            },
            "error_y": {
             "color": "#2a3f5f"
            },
            "marker": {
             "line": {
              "color": "#E5ECF6",
              "width": 0.5
             },
             "pattern": {
              "fillmode": "overlay",
              "size": 10,
              "solidity": 0.2
             }
            },
            "type": "bar"
           }
          ],
          "barpolar": [
           {
            "marker": {
             "line": {
              "color": "#E5ECF6",
              "width": 0.5
             },
             "pattern": {
              "fillmode": "overlay",
              "size": 10,
              "solidity": 0.2
             }
            },
            "type": "barpolar"
           }
          ],
          "carpet": [
           {
            "aaxis": {
             "endlinecolor": "#2a3f5f",
             "gridcolor": "white",
             "linecolor": "white",
             "minorgridcolor": "white",
             "startlinecolor": "#2a3f5f"
            },
            "baxis": {
             "endlinecolor": "#2a3f5f",
             "gridcolor": "white",
             "linecolor": "white",
             "minorgridcolor": "white",
             "startlinecolor": "#2a3f5f"
            },
            "type": "carpet"
           }
          ],
          "choropleth": [
           {
            "colorbar": {
             "outlinewidth": 0,
             "ticks": ""
            },
            "type": "choropleth"
           }
          ],
          "contour": [
           {
            "colorbar": {
             "outlinewidth": 0,
             "ticks": ""
            },
            "colorscale": [
             [
              0,
              "#0d0887"
             ],
             [
              0.1111111111111111,
              "#46039f"
             ],
             [
              0.2222222222222222,
              "#7201a8"
             ],
             [
              0.3333333333333333,
              "#9c179e"
             ],
             [
              0.4444444444444444,
              "#bd3786"
             ],
             [
              0.5555555555555556,
              "#d8576b"
             ],
             [
              0.6666666666666666,
              "#ed7953"
             ],
             [
              0.7777777777777778,
              "#fb9f3a"
             ],
             [
              0.8888888888888888,
              "#fdca26"
             ],
             [
              1,
              "#f0f921"
             ]
            ],
            "type": "contour"
           }
          ],
          "contourcarpet": [
           {
            "colorbar": {
             "outlinewidth": 0,
             "ticks": ""
            },
            "type": "contourcarpet"
           }
          ],
          "heatmap": [
           {
            "colorbar": {
             "outlinewidth": 0,
             "ticks": ""
            },
            "colorscale": [
             [
              0,
              "#0d0887"
             ],
             [
              0.1111111111111111,
              "#46039f"
             ],
             [
              0.2222222222222222,
              "#7201a8"
             ],
             [
              0.3333333333333333,
              "#9c179e"
             ],
             [
              0.4444444444444444,
              "#bd3786"
             ],
             [
              0.5555555555555556,
              "#d8576b"
             ],
             [
              0.6666666666666666,
              "#ed7953"
             ],
             [
              0.7777777777777778,
              "#fb9f3a"
             ],
             [
              0.8888888888888888,
              "#fdca26"
             ],
             [
              1,
              "#f0f921"
             ]
            ],
            "type": "heatmap"
           }
          ],
          "heatmapgl": [
           {
            "colorbar": {
             "outlinewidth": 0,
             "ticks": ""
            },
            "colorscale": [
             [
              0,
              "#0d0887"
             ],
             [
              0.1111111111111111,
              "#46039f"
             ],
             [
              0.2222222222222222,
              "#7201a8"
             ],
             [
              0.3333333333333333,
              "#9c179e"
             ],
             [
              0.4444444444444444,
              "#bd3786"
             ],
             [
              0.5555555555555556,
              "#d8576b"
             ],
             [
              0.6666666666666666,
              "#ed7953"
             ],
             [
              0.7777777777777778,
              "#fb9f3a"
             ],
             [
              0.8888888888888888,
              "#fdca26"
             ],
             [
              1,
              "#f0f921"
             ]
            ],
            "type": "heatmapgl"
           }
          ],
          "histogram": [
           {
            "marker": {
             "pattern": {
              "fillmode": "overlay",
              "size": 10,
              "solidity": 0.2
             }
            },
            "type": "histogram"
           }
          ],
          "histogram2d": [
           {
            "colorbar": {
             "outlinewidth": 0,
             "ticks": ""
            },
            "colorscale": [
             [
              0,
              "#0d0887"
             ],
             [
              0.1111111111111111,
              "#46039f"
             ],
             [
              0.2222222222222222,
              "#7201a8"
             ],
             [
              0.3333333333333333,
              "#9c179e"
             ],
             [
              0.4444444444444444,
              "#bd3786"
             ],
             [
              0.5555555555555556,
              "#d8576b"
             ],
             [
              0.6666666666666666,
              "#ed7953"
             ],
             [
              0.7777777777777778,
              "#fb9f3a"
             ],
             [
              0.8888888888888888,
              "#fdca26"
             ],
             [
              1,
              "#f0f921"
             ]
            ],
            "type": "histogram2d"
           }
          ],
          "histogram2dcontour": [
           {
            "colorbar": {
             "outlinewidth": 0,
             "ticks": ""
            },
            "colorscale": [
             [
              0,
              "#0d0887"
             ],
             [
              0.1111111111111111,
              "#46039f"
             ],
             [
              0.2222222222222222,
              "#7201a8"
             ],
             [
              0.3333333333333333,
              "#9c179e"
             ],
             [
              0.4444444444444444,
              "#bd3786"
             ],
             [
              0.5555555555555556,
              "#d8576b"
             ],
             [
              0.6666666666666666,
              "#ed7953"
             ],
             [
              0.7777777777777778,
              "#fb9f3a"
             ],
             [
              0.8888888888888888,
              "#fdca26"
             ],
             [
              1,
              "#f0f921"
             ]
            ],
            "type": "histogram2dcontour"
           }
          ],
          "mesh3d": [
           {
            "colorbar": {
             "outlinewidth": 0,
             "ticks": ""
            },
            "type": "mesh3d"
           }
          ],
          "parcoords": [
           {
            "line": {
             "colorbar": {
              "outlinewidth": 0,
              "ticks": ""
             }
            },
            "type": "parcoords"
           }
          ],
          "pie": [
           {
            "automargin": true,
            "type": "pie"
           }
          ],
          "scatter": [
           {
            "fillpattern": {
             "fillmode": "overlay",
             "size": 10,
             "solidity": 0.2
            },
            "type": "scatter"
           }
          ],
          "scatter3d": [
           {
            "line": {
             "colorbar": {
              "outlinewidth": 0,
              "ticks": ""
             }
            },
            "marker": {
             "colorbar": {
              "outlinewidth": 0,
              "ticks": ""
             }
            },
            "type": "scatter3d"
           }
          ],
          "scattercarpet": [
           {
            "marker": {
             "colorbar": {
              "outlinewidth": 0,
              "ticks": ""
             }
            },
            "type": "scattercarpet"
           }
          ],
          "scattergeo": [
           {
            "marker": {
             "colorbar": {
              "outlinewidth": 0,
              "ticks": ""
             }
            },
            "type": "scattergeo"
           }
          ],
          "scattergl": [
           {
            "marker": {
             "colorbar": {
              "outlinewidth": 0,
              "ticks": ""
             }
            },
            "type": "scattergl"
           }
          ],
          "scattermapbox": [
           {
            "marker": {
             "colorbar": {
              "outlinewidth": 0,
              "ticks": ""
             }
            },
            "type": "scattermapbox"
           }
          ],
          "scatterpolar": [
           {
            "marker": {
             "colorbar": {
              "outlinewidth": 0,
              "ticks": ""
             }
            },
            "type": "scatterpolar"
           }
          ],
          "scatterpolargl": [
           {
            "marker": {
             "colorbar": {
              "outlinewidth": 0,
              "ticks": ""
             }
            },
            "type": "scatterpolargl"
           }
          ],
          "scatterternary": [
           {
            "marker": {
             "colorbar": {
              "outlinewidth": 0,
              "ticks": ""
             }
            },
            "type": "scatterternary"
           }
          ],
          "surface": [
           {
            "colorbar": {
             "outlinewidth": 0,
             "ticks": ""
            },
            "colorscale": [
             [
              0,
              "#0d0887"
             ],
             [
              0.1111111111111111,
              "#46039f"
             ],
             [
              0.2222222222222222,
              "#7201a8"
             ],
             [
              0.3333333333333333,
              "#9c179e"
             ],
             [
              0.4444444444444444,
              "#bd3786"
             ],
             [
              0.5555555555555556,
              "#d8576b"
             ],
             [
              0.6666666666666666,
              "#ed7953"
             ],
             [
              0.7777777777777778,
              "#fb9f3a"
             ],
             [
              0.8888888888888888,
              "#fdca26"
             ],
             [
              1,
              "#f0f921"
             ]
            ],
            "type": "surface"
           }
          ],
          "table": [
           {
            "cells": {
             "fill": {
              "color": "#EBF0F8"
             },
             "line": {
              "color": "white"
             }
            },
            "header": {
             "fill": {
              "color": "#C8D4E3"
             },
             "line": {
              "color": "white"
             }
            },
            "type": "table"
           }
          ]
         },
         "layout": {
          "annotationdefaults": {
           "arrowcolor": "#2a3f5f",
           "arrowhead": 0,
           "arrowwidth": 1
          },
          "autotypenumbers": "strict",
          "coloraxis": {
           "colorbar": {
            "outlinewidth": 0,
            "ticks": ""
           }
          },
          "colorscale": {
           "diverging": [
            [
             0,
             "#8e0152"
            ],
            [
             0.1,
             "#c51b7d"
            ],
            [
             0.2,
             "#de77ae"
            ],
            [
             0.3,
             "#f1b6da"
            ],
            [
             0.4,
             "#fde0ef"
            ],
            [
             0.5,
             "#f7f7f7"
            ],
            [
             0.6,
             "#e6f5d0"
            ],
            [
             0.7,
             "#b8e186"
            ],
            [
             0.8,
             "#7fbc41"
            ],
            [
             0.9,
             "#4d9221"
            ],
            [
             1,
             "#276419"
            ]
           ],
           "sequential": [
            [
             0,
             "#0d0887"
            ],
            [
             0.1111111111111111,
             "#46039f"
            ],
            [
             0.2222222222222222,
             "#7201a8"
            ],
            [
             0.3333333333333333,
             "#9c179e"
            ],
            [
             0.4444444444444444,
             "#bd3786"
            ],
            [
             0.5555555555555556,
             "#d8576b"
            ],
            [
             0.6666666666666666,
             "#ed7953"
            ],
            [
             0.7777777777777778,
             "#fb9f3a"
            ],
            [
             0.8888888888888888,
             "#fdca26"
            ],
            [
             1,
             "#f0f921"
            ]
           ],
           "sequentialminus": [
            [
             0,
             "#0d0887"
            ],
            [
             0.1111111111111111,
             "#46039f"
            ],
            [
             0.2222222222222222,
             "#7201a8"
            ],
            [
             0.3333333333333333,
             "#9c179e"
            ],
            [
             0.4444444444444444,
             "#bd3786"
            ],
            [
             0.5555555555555556,
             "#d8576b"
            ],
            [
             0.6666666666666666,
             "#ed7953"
            ],
            [
             0.7777777777777778,
             "#fb9f3a"
            ],
            [
             0.8888888888888888,
             "#fdca26"
            ],
            [
             1,
             "#f0f921"
            ]
           ]
          },
          "colorway": [
           "#636efa",
           "#EF553B",
           "#00cc96",
           "#ab63fa",
           "#FFA15A",
           "#19d3f3",
           "#FF6692",
           "#B6E880",
           "#FF97FF",
           "#FECB52"
          ],
          "font": {
           "color": "#2a3f5f"
          },
          "geo": {
           "bgcolor": "white",
           "lakecolor": "white",
           "landcolor": "#E5ECF6",
           "showlakes": true,
           "showland": true,
           "subunitcolor": "white"
          },
          "hoverlabel": {
           "align": "left"
          },
          "hovermode": "closest",
          "mapbox": {
           "style": "light"
          },
          "paper_bgcolor": "white",
          "plot_bgcolor": "#E5ECF6",
          "polar": {
           "angularaxis": {
            "gridcolor": "white",
            "linecolor": "white",
            "ticks": ""
           },
           "bgcolor": "#E5ECF6",
           "radialaxis": {
            "gridcolor": "white",
            "linecolor": "white",
            "ticks": ""
           }
          },
          "scene": {
           "xaxis": {
            "backgroundcolor": "#E5ECF6",
            "gridcolor": "white",
            "gridwidth": 2,
            "linecolor": "white",
            "showbackground": true,
            "ticks": "",
            "zerolinecolor": "white"
           },
           "yaxis": {
            "backgroundcolor": "#E5ECF6",
            "gridcolor": "white",
            "gridwidth": 2,
            "linecolor": "white",
            "showbackground": true,
            "ticks": "",
            "zerolinecolor": "white"
           },
           "zaxis": {
            "backgroundcolor": "#E5ECF6",
            "gridcolor": "white",
            "gridwidth": 2,
            "linecolor": "white",
            "showbackground": true,
            "ticks": "",
            "zerolinecolor": "white"
           }
          },
          "shapedefaults": {
           "line": {
            "color": "#2a3f5f"
           }
          },
          "ternary": {
           "aaxis": {
            "gridcolor": "white",
            "linecolor": "white",
            "ticks": ""
           },
           "baxis": {
            "gridcolor": "white",
            "linecolor": "white",
            "ticks": ""
           },
           "bgcolor": "#E5ECF6",
           "caxis": {
            "gridcolor": "white",
            "linecolor": "white",
            "ticks": ""
           }
          },
          "title": {
           "x": 0.05
          },
          "xaxis": {
           "automargin": true,
           "gridcolor": "white",
           "linecolor": "white",
           "ticks": "",
           "title": {
            "standoff": 15
           },
           "zerolinecolor": "white",
           "zerolinewidth": 2
          },
          "yaxis": {
           "automargin": true,
           "gridcolor": "white",
           "linecolor": "white",
           "ticks": "",
           "title": {
            "standoff": 15
           },
           "zerolinecolor": "white",
           "zerolinewidth": 2
          }
         }
        },
        "title": {
         "text": "Animal Food Intake Breakdown - High Obesity Rates"
        }
       }
      }
     },
     "metadata": {},
     "output_type": "display_data"
    },
    {
     "data": {
      "application/vnd.plotly.v1+json": {
       "config": {
        "plotlyServerURL": "https://plot.ly"
       },
       "data": [
        {
         "domain": {
          "x": [
           0,
           1
          ],
          "y": [
           0,
           1
          ]
         },
         "hovertemplate": "label=%{label}<br>value=%{value}<extra></extra>",
         "labels": [
          "Animal fats",
          "Aquatic Products, Other",
          "Eggs",
          "Fish, Seafood",
          "Meat",
          "Milk - Excluding Butter",
          "Offals"
         ],
         "legendgroup": "",
         "name": "",
         "showlegend": true,
         "type": "pie",
         "values": [
          0.07122295081967212,
          0.03172950819672131,
          0.28175737704918036,
          1.5509754098360653,
          2.104427868852459,
          3.4359163934426227,
          0.21446557377049177
         ]
        }
       ],
       "layout": {
        "legend": {
         "tracegroupgap": 0
        },
        "template": {
         "data": {
          "bar": [
           {
            "error_x": {
             "color": "#2a3f5f"
            },
            "error_y": {
             "color": "#2a3f5f"
            },
            "marker": {
             "line": {
              "color": "#E5ECF6",
              "width": 0.5
             },
             "pattern": {
              "fillmode": "overlay",
              "size": 10,
              "solidity": 0.2
             }
            },
            "type": "bar"
           }
          ],
          "barpolar": [
           {
            "marker": {
             "line": {
              "color": "#E5ECF6",
              "width": 0.5
             },
             "pattern": {
              "fillmode": "overlay",
              "size": 10,
              "solidity": 0.2
             }
            },
            "type": "barpolar"
           }
          ],
          "carpet": [
           {
            "aaxis": {
             "endlinecolor": "#2a3f5f",
             "gridcolor": "white",
             "linecolor": "white",
             "minorgridcolor": "white",
             "startlinecolor": "#2a3f5f"
            },
            "baxis": {
             "endlinecolor": "#2a3f5f",
             "gridcolor": "white",
             "linecolor": "white",
             "minorgridcolor": "white",
             "startlinecolor": "#2a3f5f"
            },
            "type": "carpet"
           }
          ],
          "choropleth": [
           {
            "colorbar": {
             "outlinewidth": 0,
             "ticks": ""
            },
            "type": "choropleth"
           }
          ],
          "contour": [
           {
            "colorbar": {
             "outlinewidth": 0,
             "ticks": ""
            },
            "colorscale": [
             [
              0,
              "#0d0887"
             ],
             [
              0.1111111111111111,
              "#46039f"
             ],
             [
              0.2222222222222222,
              "#7201a8"
             ],
             [
              0.3333333333333333,
              "#9c179e"
             ],
             [
              0.4444444444444444,
              "#bd3786"
             ],
             [
              0.5555555555555556,
              "#d8576b"
             ],
             [
              0.6666666666666666,
              "#ed7953"
             ],
             [
              0.7777777777777778,
              "#fb9f3a"
             ],
             [
              0.8888888888888888,
              "#fdca26"
             ],
             [
              1,
              "#f0f921"
             ]
            ],
            "type": "contour"
           }
          ],
          "contourcarpet": [
           {
            "colorbar": {
             "outlinewidth": 0,
             "ticks": ""
            },
            "type": "contourcarpet"
           }
          ],
          "heatmap": [
           {
            "colorbar": {
             "outlinewidth": 0,
             "ticks": ""
            },
            "colorscale": [
             [
              0,
              "#0d0887"
             ],
             [
              0.1111111111111111,
              "#46039f"
             ],
             [
              0.2222222222222222,
              "#7201a8"
             ],
             [
              0.3333333333333333,
              "#9c179e"
             ],
             [
              0.4444444444444444,
              "#bd3786"
             ],
             [
              0.5555555555555556,
              "#d8576b"
             ],
             [
              0.6666666666666666,
              "#ed7953"
             ],
             [
              0.7777777777777778,
              "#fb9f3a"
             ],
             [
              0.8888888888888888,
              "#fdca26"
             ],
             [
              1,
              "#f0f921"
             ]
            ],
            "type": "heatmap"
           }
          ],
          "heatmapgl": [
           {
            "colorbar": {
             "outlinewidth": 0,
             "ticks": ""
            },
            "colorscale": [
             [
              0,
              "#0d0887"
             ],
             [
              0.1111111111111111,
              "#46039f"
             ],
             [
              0.2222222222222222,
              "#7201a8"
             ],
             [
              0.3333333333333333,
              "#9c179e"
             ],
             [
              0.4444444444444444,
              "#bd3786"
             ],
             [
              0.5555555555555556,
              "#d8576b"
             ],
             [
              0.6666666666666666,
              "#ed7953"
             ],
             [
              0.7777777777777778,
              "#fb9f3a"
             ],
             [
              0.8888888888888888,
              "#fdca26"
             ],
             [
              1,
              "#f0f921"
             ]
            ],
            "type": "heatmapgl"
           }
          ],
          "histogram": [
           {
            "marker": {
             "pattern": {
              "fillmode": "overlay",
              "size": 10,
              "solidity": 0.2
             }
            },
            "type": "histogram"
           }
          ],
          "histogram2d": [
           {
            "colorbar": {
             "outlinewidth": 0,
             "ticks": ""
            },
            "colorscale": [
             [
              0,
              "#0d0887"
             ],
             [
              0.1111111111111111,
              "#46039f"
             ],
             [
              0.2222222222222222,
              "#7201a8"
             ],
             [
              0.3333333333333333,
              "#9c179e"
             ],
             [
              0.4444444444444444,
              "#bd3786"
             ],
             [
              0.5555555555555556,
              "#d8576b"
             ],
             [
              0.6666666666666666,
              "#ed7953"
             ],
             [
              0.7777777777777778,
              "#fb9f3a"
             ],
             [
              0.8888888888888888,
              "#fdca26"
             ],
             [
              1,
              "#f0f921"
             ]
            ],
            "type": "histogram2d"
           }
          ],
          "histogram2dcontour": [
           {
            "colorbar": {
             "outlinewidth": 0,
             "ticks": ""
            },
            "colorscale": [
             [
              0,
              "#0d0887"
             ],
             [
              0.1111111111111111,
              "#46039f"
             ],
             [
              0.2222222222222222,
              "#7201a8"
             ],
             [
              0.3333333333333333,
              "#9c179e"
             ],
             [
              0.4444444444444444,
              "#bd3786"
             ],
             [
              0.5555555555555556,
              "#d8576b"
             ],
             [
              0.6666666666666666,
              "#ed7953"
             ],
             [
              0.7777777777777778,
              "#fb9f3a"
             ],
             [
              0.8888888888888888,
              "#fdca26"
             ],
             [
              1,
              "#f0f921"
             ]
            ],
            "type": "histogram2dcontour"
           }
          ],
          "mesh3d": [
           {
            "colorbar": {
             "outlinewidth": 0,
             "ticks": ""
            },
            "type": "mesh3d"
           }
          ],
          "parcoords": [
           {
            "line": {
             "colorbar": {
              "outlinewidth": 0,
              "ticks": ""
             }
            },
            "type": "parcoords"
           }
          ],
          "pie": [
           {
            "automargin": true,
            "type": "pie"
           }
          ],
          "scatter": [
           {
            "fillpattern": {
             "fillmode": "overlay",
             "size": 10,
             "solidity": 0.2
            },
            "type": "scatter"
           }
          ],
          "scatter3d": [
           {
            "line": {
             "colorbar": {
              "outlinewidth": 0,
              "ticks": ""
             }
            },
            "marker": {
             "colorbar": {
              "outlinewidth": 0,
              "ticks": ""
             }
            },
            "type": "scatter3d"
           }
          ],
          "scattercarpet": [
           {
            "marker": {
             "colorbar": {
              "outlinewidth": 0,
              "ticks": ""
             }
            },
            "type": "scattercarpet"
           }
          ],
          "scattergeo": [
           {
            "marker": {
             "colorbar": {
              "outlinewidth": 0,
              "ticks": ""
             }
            },
            "type": "scattergeo"
           }
          ],
          "scattergl": [
           {
            "marker": {
             "colorbar": {
              "outlinewidth": 0,
              "ticks": ""
             }
            },
            "type": "scattergl"
           }
          ],
          "scattermapbox": [
           {
            "marker": {
             "colorbar": {
              "outlinewidth": 0,
              "ticks": ""
             }
            },
            "type": "scattermapbox"
           }
          ],
          "scatterpolar": [
           {
            "marker": {
             "colorbar": {
              "outlinewidth": 0,
              "ticks": ""
             }
            },
            "type": "scatterpolar"
           }
          ],
          "scatterpolargl": [
           {
            "marker": {
             "colorbar": {
              "outlinewidth": 0,
              "ticks": ""
             }
            },
            "type": "scatterpolargl"
           }
          ],
          "scatterternary": [
           {
            "marker": {
             "colorbar": {
              "outlinewidth": 0,
              "ticks": ""
             }
            },
            "type": "scatterternary"
           }
          ],
          "surface": [
           {
            "colorbar": {
             "outlinewidth": 0,
             "ticks": ""
            },
            "colorscale": [
             [
              0,
              "#0d0887"
             ],
             [
              0.1111111111111111,
              "#46039f"
             ],
             [
              0.2222222222222222,
              "#7201a8"
             ],
             [
              0.3333333333333333,
              "#9c179e"
             ],
             [
              0.4444444444444444,
              "#bd3786"
             ],
             [
              0.5555555555555556,
              "#d8576b"
             ],
             [
              0.6666666666666666,
              "#ed7953"
             ],
             [
              0.7777777777777778,
              "#fb9f3a"
             ],
             [
              0.8888888888888888,
              "#fdca26"
             ],
             [
              1,
              "#f0f921"
             ]
            ],
            "type": "surface"
           }
          ],
          "table": [
           {
            "cells": {
             "fill": {
              "color": "#EBF0F8"
             },
             "line": {
              "color": "white"
             }
            },
            "header": {
             "fill": {
              "color": "#C8D4E3"
             },
             "line": {
              "color": "white"
             }
            },
            "type": "table"
           }
          ]
         },
         "layout": {
          "annotationdefaults": {
           "arrowcolor": "#2a3f5f",
           "arrowhead": 0,
           "arrowwidth": 1
          },
          "autotypenumbers": "strict",
          "coloraxis": {
           "colorbar": {
            "outlinewidth": 0,
            "ticks": ""
           }
          },
          "colorscale": {
           "diverging": [
            [
             0,
             "#8e0152"
            ],
            [
             0.1,
             "#c51b7d"
            ],
            [
             0.2,
             "#de77ae"
            ],
            [
             0.3,
             "#f1b6da"
            ],
            [
             0.4,
             "#fde0ef"
            ],
            [
             0.5,
             "#f7f7f7"
            ],
            [
             0.6,
             "#e6f5d0"
            ],
            [
             0.7,
             "#b8e186"
            ],
            [
             0.8,
             "#7fbc41"
            ],
            [
             0.9,
             "#4d9221"
            ],
            [
             1,
             "#276419"
            ]
           ],
           "sequential": [
            [
             0,
             "#0d0887"
            ],
            [
             0.1111111111111111,
             "#46039f"
            ],
            [
             0.2222222222222222,
             "#7201a8"
            ],
            [
             0.3333333333333333,
             "#9c179e"
            ],
            [
             0.4444444444444444,
             "#bd3786"
            ],
            [
             0.5555555555555556,
             "#d8576b"
            ],
            [
             0.6666666666666666,
             "#ed7953"
            ],
            [
             0.7777777777777778,
             "#fb9f3a"
            ],
            [
             0.8888888888888888,
             "#fdca26"
            ],
            [
             1,
             "#f0f921"
            ]
           ],
           "sequentialminus": [
            [
             0,
             "#0d0887"
            ],
            [
             0.1111111111111111,
             "#46039f"
            ],
            [
             0.2222222222222222,
             "#7201a8"
            ],
            [
             0.3333333333333333,
             "#9c179e"
            ],
            [
             0.4444444444444444,
             "#bd3786"
            ],
            [
             0.5555555555555556,
             "#d8576b"
            ],
            [
             0.6666666666666666,
             "#ed7953"
            ],
            [
             0.7777777777777778,
             "#fb9f3a"
            ],
            [
             0.8888888888888888,
             "#fdca26"
            ],
            [
             1,
             "#f0f921"
            ]
           ]
          },
          "colorway": [
           "#636efa",
           "#EF553B",
           "#00cc96",
           "#ab63fa",
           "#FFA15A",
           "#19d3f3",
           "#FF6692",
           "#B6E880",
           "#FF97FF",
           "#FECB52"
          ],
          "font": {
           "color": "#2a3f5f"
          },
          "geo": {
           "bgcolor": "white",
           "lakecolor": "white",
           "landcolor": "#E5ECF6",
           "showlakes": true,
           "showland": true,
           "subunitcolor": "white"
          },
          "hoverlabel": {
           "align": "left"
          },
          "hovermode": "closest",
          "mapbox": {
           "style": "light"
          },
          "paper_bgcolor": "white",
          "plot_bgcolor": "#E5ECF6",
          "polar": {
           "angularaxis": {
            "gridcolor": "white",
            "linecolor": "white",
            "ticks": ""
           },
           "bgcolor": "#E5ECF6",
           "radialaxis": {
            "gridcolor": "white",
            "linecolor": "white",
            "ticks": ""
           }
          },
          "scene": {
           "xaxis": {
            "backgroundcolor": "#E5ECF6",
            "gridcolor": "white",
            "gridwidth": 2,
            "linecolor": "white",
            "showbackground": true,
            "ticks": "",
            "zerolinecolor": "white"
           },
           "yaxis": {
            "backgroundcolor": "#E5ECF6",
            "gridcolor": "white",
            "gridwidth": 2,
            "linecolor": "white",
            "showbackground": true,
            "ticks": "",
            "zerolinecolor": "white"
           },
           "zaxis": {
            "backgroundcolor": "#E5ECF6",
            "gridcolor": "white",
            "gridwidth": 2,
            "linecolor": "white",
            "showbackground": true,
            "ticks": "",
            "zerolinecolor": "white"
           }
          },
          "shapedefaults": {
           "line": {
            "color": "#2a3f5f"
           }
          },
          "ternary": {
           "aaxis": {
            "gridcolor": "white",
            "linecolor": "white",
            "ticks": ""
           },
           "baxis": {
            "gridcolor": "white",
            "linecolor": "white",
            "ticks": ""
           },
           "bgcolor": "#E5ECF6",
           "caxis": {
            "gridcolor": "white",
            "linecolor": "white",
            "ticks": ""
           }
          },
          "title": {
           "x": 0.05
          },
          "xaxis": {
           "automargin": true,
           "gridcolor": "white",
           "linecolor": "white",
           "ticks": "",
           "title": {
            "standoff": 15
           },
           "zerolinecolor": "white",
           "zerolinewidth": 2
          },
          "yaxis": {
           "automargin": true,
           "gridcolor": "white",
           "linecolor": "white",
           "ticks": "",
           "title": {
            "standoff": 15
           },
           "zerolinecolor": "white",
           "zerolinewidth": 2
          }
         }
        },
        "title": {
         "text": "Animal Food Intake Breakdown - Low Obesity Rates"
        }
       }
      }
     },
     "metadata": {},
     "output_type": "display_data"
    }
   ],
   "source": [
    "fig = px.pie(values = obesity_highAvg[animals].mean().tolist(), names = animals,\n",
    "             title='Animal Food Intake Breakdown - High Obesity Rates')\n",
    "fig.show()\n",
    "\n",
    "fig = px.pie(values = obesity_lowAvg[animals].mean().tolist(), names = animals,\n",
    "             title='Animal Food Intake Breakdown - Low Obesity Rates')\n",
    "fig.show()"
   ]
  },
  {
   "cell_type": "markdown",
   "id": "361cccd5",
   "metadata": {
    "pycharm": {
     "name": "#%% md\n"
    }
   },
   "source": [
    "The pie charts above show the breakdown of animal food intake in each country, categorized by their **obesity rates**. <br>\n",
    "The pie charts show that high and low obesity rates have relatively similar food intake. For example, `Milk - Excluding Butter` is the highest percentage in both pie charts, followed by `Meat`.<br>\n",
    "On the other hand, based from the pie charts, the `Fish, Seafood` intake of people with low obesity rates is significantly higher compared to that of people with higher obesity rates."
   ]
  },
  {
   "cell_type": "code",
   "execution_count": 37,
   "id": "df9d38fb",
   "metadata": {
    "jupyter": {
     "outputs_hidden": false
    },
    "pycharm": {
     "name": "#%%\n"
    }
   },
   "outputs": [
    {
     "data": {
      "application/vnd.plotly.v1+json": {
       "config": {
        "plotlyServerURL": "https://plot.ly"
       },
       "data": [
        {
         "domain": {
          "x": [
           0,
           1
          ],
          "y": [
           0,
           1
          ]
         },
         "hovertemplate": "label=%{label}<br>value=%{value}<extra></extra>",
         "labels": [
          "Alcoholic Beverages",
          "Cereals - Excluding Beer",
          "Fruits - Excluding Wine",
          "Miscellaneous",
          "Oilcrops",
          "Pulses",
          "Spices",
          "Starchy Roots",
          "Stimulants",
          "Sugar & Sweeteners",
          "Sugar Crops",
          "Treenuts",
          "Vegetable Oils",
          "Vegetables"
         ],
         "legendgroup": "",
         "name": "",
         "showlegend": true,
         "type": "pie",
         "values": [
          3.390994623655914,
          9.338706451612904,
          5.91123870967742,
          0.39041720430107524,
          0.659331182795699,
          0.38303118279569887,
          0.06945483870967743,
          3.8443494623655905,
          0.24438064516129032,
          3.1966774193548386,
          0.03704301075268818,
          0.13344301075268816,
          0.8474634408602152,
          6.528162365591398
         ]
        }
       ],
       "layout": {
        "legend": {
         "tracegroupgap": 0
        },
        "template": {
         "data": {
          "bar": [
           {
            "error_x": {
             "color": "#2a3f5f"
            },
            "error_y": {
             "color": "#2a3f5f"
            },
            "marker": {
             "line": {
              "color": "#E5ECF6",
              "width": 0.5
             },
             "pattern": {
              "fillmode": "overlay",
              "size": 10,
              "solidity": 0.2
             }
            },
            "type": "bar"
           }
          ],
          "barpolar": [
           {
            "marker": {
             "line": {
              "color": "#E5ECF6",
              "width": 0.5
             },
             "pattern": {
              "fillmode": "overlay",
              "size": 10,
              "solidity": 0.2
             }
            },
            "type": "barpolar"
           }
          ],
          "carpet": [
           {
            "aaxis": {
             "endlinecolor": "#2a3f5f",
             "gridcolor": "white",
             "linecolor": "white",
             "minorgridcolor": "white",
             "startlinecolor": "#2a3f5f"
            },
            "baxis": {
             "endlinecolor": "#2a3f5f",
             "gridcolor": "white",
             "linecolor": "white",
             "minorgridcolor": "white",
             "startlinecolor": "#2a3f5f"
            },
            "type": "carpet"
           }
          ],
          "choropleth": [
           {
            "colorbar": {
             "outlinewidth": 0,
             "ticks": ""
            },
            "type": "choropleth"
           }
          ],
          "contour": [
           {
            "colorbar": {
             "outlinewidth": 0,
             "ticks": ""
            },
            "colorscale": [
             [
              0,
              "#0d0887"
             ],
             [
              0.1111111111111111,
              "#46039f"
             ],
             [
              0.2222222222222222,
              "#7201a8"
             ],
             [
              0.3333333333333333,
              "#9c179e"
             ],
             [
              0.4444444444444444,
              "#bd3786"
             ],
             [
              0.5555555555555556,
              "#d8576b"
             ],
             [
              0.6666666666666666,
              "#ed7953"
             ],
             [
              0.7777777777777778,
              "#fb9f3a"
             ],
             [
              0.8888888888888888,
              "#fdca26"
             ],
             [
              1,
              "#f0f921"
             ]
            ],
            "type": "contour"
           }
          ],
          "contourcarpet": [
           {
            "colorbar": {
             "outlinewidth": 0,
             "ticks": ""
            },
            "type": "contourcarpet"
           }
          ],
          "heatmap": [
           {
            "colorbar": {
             "outlinewidth": 0,
             "ticks": ""
            },
            "colorscale": [
             [
              0,
              "#0d0887"
             ],
             [
              0.1111111111111111,
              "#46039f"
             ],
             [
              0.2222222222222222,
              "#7201a8"
             ],
             [
              0.3333333333333333,
              "#9c179e"
             ],
             [
              0.4444444444444444,
              "#bd3786"
             ],
             [
              0.5555555555555556,
              "#d8576b"
             ],
             [
              0.6666666666666666,
              "#ed7953"
             ],
             [
              0.7777777777777778,
              "#fb9f3a"
             ],
             [
              0.8888888888888888,
              "#fdca26"
             ],
             [
              1,
              "#f0f921"
             ]
            ],
            "type": "heatmap"
           }
          ],
          "heatmapgl": [
           {
            "colorbar": {
             "outlinewidth": 0,
             "ticks": ""
            },
            "colorscale": [
             [
              0,
              "#0d0887"
             ],
             [
              0.1111111111111111,
              "#46039f"
             ],
             [
              0.2222222222222222,
              "#7201a8"
             ],
             [
              0.3333333333333333,
              "#9c179e"
             ],
             [
              0.4444444444444444,
              "#bd3786"
             ],
             [
              0.5555555555555556,
              "#d8576b"
             ],
             [
              0.6666666666666666,
              "#ed7953"
             ],
             [
              0.7777777777777778,
              "#fb9f3a"
             ],
             [
              0.8888888888888888,
              "#fdca26"
             ],
             [
              1,
              "#f0f921"
             ]
            ],
            "type": "heatmapgl"
           }
          ],
          "histogram": [
           {
            "marker": {
             "pattern": {
              "fillmode": "overlay",
              "size": 10,
              "solidity": 0.2
             }
            },
            "type": "histogram"
           }
          ],
          "histogram2d": [
           {
            "colorbar": {
             "outlinewidth": 0,
             "ticks": ""
            },
            "colorscale": [
             [
              0,
              "#0d0887"
             ],
             [
              0.1111111111111111,
              "#46039f"
             ],
             [
              0.2222222222222222,
              "#7201a8"
             ],
             [
              0.3333333333333333,
              "#9c179e"
             ],
             [
              0.4444444444444444,
              "#bd3786"
             ],
             [
              0.5555555555555556,
              "#d8576b"
             ],
             [
              0.6666666666666666,
              "#ed7953"
             ],
             [
              0.7777777777777778,
              "#fb9f3a"
             ],
             [
              0.8888888888888888,
              "#fdca26"
             ],
             [
              1,
              "#f0f921"
             ]
            ],
            "type": "histogram2d"
           }
          ],
          "histogram2dcontour": [
           {
            "colorbar": {
             "outlinewidth": 0,
             "ticks": ""
            },
            "colorscale": [
             [
              0,
              "#0d0887"
             ],
             [
              0.1111111111111111,
              "#46039f"
             ],
             [
              0.2222222222222222,
              "#7201a8"
             ],
             [
              0.3333333333333333,
              "#9c179e"
             ],
             [
              0.4444444444444444,
              "#bd3786"
             ],
             [
              0.5555555555555556,
              "#d8576b"
             ],
             [
              0.6666666666666666,
              "#ed7953"
             ],
             [
              0.7777777777777778,
              "#fb9f3a"
             ],
             [
              0.8888888888888888,
              "#fdca26"
             ],
             [
              1,
              "#f0f921"
             ]
            ],
            "type": "histogram2dcontour"
           }
          ],
          "mesh3d": [
           {
            "colorbar": {
             "outlinewidth": 0,
             "ticks": ""
            },
            "type": "mesh3d"
           }
          ],
          "parcoords": [
           {
            "line": {
             "colorbar": {
              "outlinewidth": 0,
              "ticks": ""
             }
            },
            "type": "parcoords"
           }
          ],
          "pie": [
           {
            "automargin": true,
            "type": "pie"
           }
          ],
          "scatter": [
           {
            "fillpattern": {
             "fillmode": "overlay",
             "size": 10,
             "solidity": 0.2
            },
            "type": "scatter"
           }
          ],
          "scatter3d": [
           {
            "line": {
             "colorbar": {
              "outlinewidth": 0,
              "ticks": ""
             }
            },
            "marker": {
             "colorbar": {
              "outlinewidth": 0,
              "ticks": ""
             }
            },
            "type": "scatter3d"
           }
          ],
          "scattercarpet": [
           {
            "marker": {
             "colorbar": {
              "outlinewidth": 0,
              "ticks": ""
             }
            },
            "type": "scattercarpet"
           }
          ],
          "scattergeo": [
           {
            "marker": {
             "colorbar": {
              "outlinewidth": 0,
              "ticks": ""
             }
            },
            "type": "scattergeo"
           }
          ],
          "scattergl": [
           {
            "marker": {
             "colorbar": {
              "outlinewidth": 0,
              "ticks": ""
             }
            },
            "type": "scattergl"
           }
          ],
          "scattermapbox": [
           {
            "marker": {
             "colorbar": {
              "outlinewidth": 0,
              "ticks": ""
             }
            },
            "type": "scattermapbox"
           }
          ],
          "scatterpolar": [
           {
            "marker": {
             "colorbar": {
              "outlinewidth": 0,
              "ticks": ""
             }
            },
            "type": "scatterpolar"
           }
          ],
          "scatterpolargl": [
           {
            "marker": {
             "colorbar": {
              "outlinewidth": 0,
              "ticks": ""
             }
            },
            "type": "scatterpolargl"
           }
          ],
          "scatterternary": [
           {
            "marker": {
             "colorbar": {
              "outlinewidth": 0,
              "ticks": ""
             }
            },
            "type": "scatterternary"
           }
          ],
          "surface": [
           {
            "colorbar": {
             "outlinewidth": 0,
             "ticks": ""
            },
            "colorscale": [
             [
              0,
              "#0d0887"
             ],
             [
              0.1111111111111111,
              "#46039f"
             ],
             [
              0.2222222222222222,
              "#7201a8"
             ],
             [
              0.3333333333333333,
              "#9c179e"
             ],
             [
              0.4444444444444444,
              "#bd3786"
             ],
             [
              0.5555555555555556,
              "#d8576b"
             ],
             [
              0.6666666666666666,
              "#ed7953"
             ],
             [
              0.7777777777777778,
              "#fb9f3a"
             ],
             [
              0.8888888888888888,
              "#fdca26"
             ],
             [
              1,
              "#f0f921"
             ]
            ],
            "type": "surface"
           }
          ],
          "table": [
           {
            "cells": {
             "fill": {
              "color": "#EBF0F8"
             },
             "line": {
              "color": "white"
             }
            },
            "header": {
             "fill": {
              "color": "#C8D4E3"
             },
             "line": {
              "color": "white"
             }
            },
            "type": "table"
           }
          ]
         },
         "layout": {
          "annotationdefaults": {
           "arrowcolor": "#2a3f5f",
           "arrowhead": 0,
           "arrowwidth": 1
          },
          "autotypenumbers": "strict",
          "coloraxis": {
           "colorbar": {
            "outlinewidth": 0,
            "ticks": ""
           }
          },
          "colorscale": {
           "diverging": [
            [
             0,
             "#8e0152"
            ],
            [
             0.1,
             "#c51b7d"
            ],
            [
             0.2,
             "#de77ae"
            ],
            [
             0.3,
             "#f1b6da"
            ],
            [
             0.4,
             "#fde0ef"
            ],
            [
             0.5,
             "#f7f7f7"
            ],
            [
             0.6,
             "#e6f5d0"
            ],
            [
             0.7,
             "#b8e186"
            ],
            [
             0.8,
             "#7fbc41"
            ],
            [
             0.9,
             "#4d9221"
            ],
            [
             1,
             "#276419"
            ]
           ],
           "sequential": [
            [
             0,
             "#0d0887"
            ],
            [
             0.1111111111111111,
             "#46039f"
            ],
            [
             0.2222222222222222,
             "#7201a8"
            ],
            [
             0.3333333333333333,
             "#9c179e"
            ],
            [
             0.4444444444444444,
             "#bd3786"
            ],
            [
             0.5555555555555556,
             "#d8576b"
            ],
            [
             0.6666666666666666,
             "#ed7953"
            ],
            [
             0.7777777777777778,
             "#fb9f3a"
            ],
            [
             0.8888888888888888,
             "#fdca26"
            ],
            [
             1,
             "#f0f921"
            ]
           ],
           "sequentialminus": [
            [
             0,
             "#0d0887"
            ],
            [
             0.1111111111111111,
             "#46039f"
            ],
            [
             0.2222222222222222,
             "#7201a8"
            ],
            [
             0.3333333333333333,
             "#9c179e"
            ],
            [
             0.4444444444444444,
             "#bd3786"
            ],
            [
             0.5555555555555556,
             "#d8576b"
            ],
            [
             0.6666666666666666,
             "#ed7953"
            ],
            [
             0.7777777777777778,
             "#fb9f3a"
            ],
            [
             0.8888888888888888,
             "#fdca26"
            ],
            [
             1,
             "#f0f921"
            ]
           ]
          },
          "colorway": [
           "#636efa",
           "#EF553B",
           "#00cc96",
           "#ab63fa",
           "#FFA15A",
           "#19d3f3",
           "#FF6692",
           "#B6E880",
           "#FF97FF",
           "#FECB52"
          ],
          "font": {
           "color": "#2a3f5f"
          },
          "geo": {
           "bgcolor": "white",
           "lakecolor": "white",
           "landcolor": "#E5ECF6",
           "showlakes": true,
           "showland": true,
           "subunitcolor": "white"
          },
          "hoverlabel": {
           "align": "left"
          },
          "hovermode": "closest",
          "mapbox": {
           "style": "light"
          },
          "paper_bgcolor": "white",
          "plot_bgcolor": "#E5ECF6",
          "polar": {
           "angularaxis": {
            "gridcolor": "white",
            "linecolor": "white",
            "ticks": ""
           },
           "bgcolor": "#E5ECF6",
           "radialaxis": {
            "gridcolor": "white",
            "linecolor": "white",
            "ticks": ""
           }
          },
          "scene": {
           "xaxis": {
            "backgroundcolor": "#E5ECF6",
            "gridcolor": "white",
            "gridwidth": 2,
            "linecolor": "white",
            "showbackground": true,
            "ticks": "",
            "zerolinecolor": "white"
           },
           "yaxis": {
            "backgroundcolor": "#E5ECF6",
            "gridcolor": "white",
            "gridwidth": 2,
            "linecolor": "white",
            "showbackground": true,
            "ticks": "",
            "zerolinecolor": "white"
           },
           "zaxis": {
            "backgroundcolor": "#E5ECF6",
            "gridcolor": "white",
            "gridwidth": 2,
            "linecolor": "white",
            "showbackground": true,
            "ticks": "",
            "zerolinecolor": "white"
           }
          },
          "shapedefaults": {
           "line": {
            "color": "#2a3f5f"
           }
          },
          "ternary": {
           "aaxis": {
            "gridcolor": "white",
            "linecolor": "white",
            "ticks": ""
           },
           "baxis": {
            "gridcolor": "white",
            "linecolor": "white",
            "ticks": ""
           },
           "bgcolor": "#E5ECF6",
           "caxis": {
            "gridcolor": "white",
            "linecolor": "white",
            "ticks": ""
           }
          },
          "title": {
           "x": 0.05
          },
          "xaxis": {
           "automargin": true,
           "gridcolor": "white",
           "linecolor": "white",
           "ticks": "",
           "title": {
            "standoff": 15
           },
           "zerolinecolor": "white",
           "zerolinewidth": 2
          },
          "yaxis": {
           "automargin": true,
           "gridcolor": "white",
           "linecolor": "white",
           "ticks": "",
           "title": {
            "standoff": 15
           },
           "zerolinecolor": "white",
           "zerolinewidth": 2
          }
         }
        },
        "title": {
         "text": "Countries with High Obesity Rates - Plant-Based Food"
        }
       }
      }
     },
     "metadata": {},
     "output_type": "display_data"
    },
    {
     "data": {
      "application/vnd.plotly.v1+json": {
       "config": {
        "plotlyServerURL": "https://plot.ly"
       },
       "data": [
        {
         "domain": {
          "x": [
           0,
           1
          ],
          "y": [
           0,
           1
          ]
         },
         "hovertemplate": "label=%{label}<br>value=%{value}<extra></extra>",
         "labels": [
          "Alcoholic Beverages",
          "Cereals - Excluding Beer",
          "Fruits - Excluding Wine",
          "Miscellaneous",
          "Oilcrops",
          "Pulses",
          "Spices",
          "Starchy Roots",
          "Stimulants",
          "Sugar & Sweeteners",
          "Sugar Crops",
          "Treenuts",
          "Vegetable Oils",
          "Vegetables"
         ],
         "legendgroup": "",
         "name": "",
         "showlegend": true,
         "type": "pie",
         "values": [
          2.45446393442623,
          16.070057377049178,
          4.96073606557377,
          0.34481639344262294,
          0.903027868852459,
          0.8119262295081967,
          0.1260901639344262,
          8.200195081967214,
          0.15671147540983607,
          2.0246,
          0.19484098360655738,
          0.09759672131147538,
          0.8451622950819672,
          5.122881967213114
         ]
        }
       ],
       "layout": {
        "legend": {
         "tracegroupgap": 0
        },
        "template": {
         "data": {
          "bar": [
           {
            "error_x": {
             "color": "#2a3f5f"
            },
            "error_y": {
             "color": "#2a3f5f"
            },
            "marker": {
             "line": {
              "color": "#E5ECF6",
              "width": 0.5
             },
             "pattern": {
              "fillmode": "overlay",
              "size": 10,
              "solidity": 0.2
             }
            },
            "type": "bar"
           }
          ],
          "barpolar": [
           {
            "marker": {
             "line": {
              "color": "#E5ECF6",
              "width": 0.5
             },
             "pattern": {
              "fillmode": "overlay",
              "size": 10,
              "solidity": 0.2
             }
            },
            "type": "barpolar"
           }
          ],
          "carpet": [
           {
            "aaxis": {
             "endlinecolor": "#2a3f5f",
             "gridcolor": "white",
             "linecolor": "white",
             "minorgridcolor": "white",
             "startlinecolor": "#2a3f5f"
            },
            "baxis": {
             "endlinecolor": "#2a3f5f",
             "gridcolor": "white",
             "linecolor": "white",
             "minorgridcolor": "white",
             "startlinecolor": "#2a3f5f"
            },
            "type": "carpet"
           }
          ],
          "choropleth": [
           {
            "colorbar": {
             "outlinewidth": 0,
             "ticks": ""
            },
            "type": "choropleth"
           }
          ],
          "contour": [
           {
            "colorbar": {
             "outlinewidth": 0,
             "ticks": ""
            },
            "colorscale": [
             [
              0,
              "#0d0887"
             ],
             [
              0.1111111111111111,
              "#46039f"
             ],
             [
              0.2222222222222222,
              "#7201a8"
             ],
             [
              0.3333333333333333,
              "#9c179e"
             ],
             [
              0.4444444444444444,
              "#bd3786"
             ],
             [
              0.5555555555555556,
              "#d8576b"
             ],
             [
              0.6666666666666666,
              "#ed7953"
             ],
             [
              0.7777777777777778,
              "#fb9f3a"
             ],
             [
              0.8888888888888888,
              "#fdca26"
             ],
             [
              1,
              "#f0f921"
             ]
            ],
            "type": "contour"
           }
          ],
          "contourcarpet": [
           {
            "colorbar": {
             "outlinewidth": 0,
             "ticks": ""
            },
            "type": "contourcarpet"
           }
          ],
          "heatmap": [
           {
            "colorbar": {
             "outlinewidth": 0,
             "ticks": ""
            },
            "colorscale": [
             [
              0,
              "#0d0887"
             ],
             [
              0.1111111111111111,
              "#46039f"
             ],
             [
              0.2222222222222222,
              "#7201a8"
             ],
             [
              0.3333333333333333,
              "#9c179e"
             ],
             [
              0.4444444444444444,
              "#bd3786"
             ],
             [
              0.5555555555555556,
              "#d8576b"
             ],
             [
              0.6666666666666666,
              "#ed7953"
             ],
             [
              0.7777777777777778,
              "#fb9f3a"
             ],
             [
              0.8888888888888888,
              "#fdca26"
             ],
             [
              1,
              "#f0f921"
             ]
            ],
            "type": "heatmap"
           }
          ],
          "heatmapgl": [
           {
            "colorbar": {
             "outlinewidth": 0,
             "ticks": ""
            },
            "colorscale": [
             [
              0,
              "#0d0887"
             ],
             [
              0.1111111111111111,
              "#46039f"
             ],
             [
              0.2222222222222222,
              "#7201a8"
             ],
             [
              0.3333333333333333,
              "#9c179e"
             ],
             [
              0.4444444444444444,
              "#bd3786"
             ],
             [
              0.5555555555555556,
              "#d8576b"
             ],
             [
              0.6666666666666666,
              "#ed7953"
             ],
             [
              0.7777777777777778,
              "#fb9f3a"
             ],
             [
              0.8888888888888888,
              "#fdca26"
             ],
             [
              1,
              "#f0f921"
             ]
            ],
            "type": "heatmapgl"
           }
          ],
          "histogram": [
           {
            "marker": {
             "pattern": {
              "fillmode": "overlay",
              "size": 10,
              "solidity": 0.2
             }
            },
            "type": "histogram"
           }
          ],
          "histogram2d": [
           {
            "colorbar": {
             "outlinewidth": 0,
             "ticks": ""
            },
            "colorscale": [
             [
              0,
              "#0d0887"
             ],
             [
              0.1111111111111111,
              "#46039f"
             ],
             [
              0.2222222222222222,
              "#7201a8"
             ],
             [
              0.3333333333333333,
              "#9c179e"
             ],
             [
              0.4444444444444444,
              "#bd3786"
             ],
             [
              0.5555555555555556,
              "#d8576b"
             ],
             [
              0.6666666666666666,
              "#ed7953"
             ],
             [
              0.7777777777777778,
              "#fb9f3a"
             ],
             [
              0.8888888888888888,
              "#fdca26"
             ],
             [
              1,
              "#f0f921"
             ]
            ],
            "type": "histogram2d"
           }
          ],
          "histogram2dcontour": [
           {
            "colorbar": {
             "outlinewidth": 0,
             "ticks": ""
            },
            "colorscale": [
             [
              0,
              "#0d0887"
             ],
             [
              0.1111111111111111,
              "#46039f"
             ],
             [
              0.2222222222222222,
              "#7201a8"
             ],
             [
              0.3333333333333333,
              "#9c179e"
             ],
             [
              0.4444444444444444,
              "#bd3786"
             ],
             [
              0.5555555555555556,
              "#d8576b"
             ],
             [
              0.6666666666666666,
              "#ed7953"
             ],
             [
              0.7777777777777778,
              "#fb9f3a"
             ],
             [
              0.8888888888888888,
              "#fdca26"
             ],
             [
              1,
              "#f0f921"
             ]
            ],
            "type": "histogram2dcontour"
           }
          ],
          "mesh3d": [
           {
            "colorbar": {
             "outlinewidth": 0,
             "ticks": ""
            },
            "type": "mesh3d"
           }
          ],
          "parcoords": [
           {
            "line": {
             "colorbar": {
              "outlinewidth": 0,
              "ticks": ""
             }
            },
            "type": "parcoords"
           }
          ],
          "pie": [
           {
            "automargin": true,
            "type": "pie"
           }
          ],
          "scatter": [
           {
            "fillpattern": {
             "fillmode": "overlay",
             "size": 10,
             "solidity": 0.2
            },
            "type": "scatter"
           }
          ],
          "scatter3d": [
           {
            "line": {
             "colorbar": {
              "outlinewidth": 0,
              "ticks": ""
             }
            },
            "marker": {
             "colorbar": {
              "outlinewidth": 0,
              "ticks": ""
             }
            },
            "type": "scatter3d"
           }
          ],
          "scattercarpet": [
           {
            "marker": {
             "colorbar": {
              "outlinewidth": 0,
              "ticks": ""
             }
            },
            "type": "scattercarpet"
           }
          ],
          "scattergeo": [
           {
            "marker": {
             "colorbar": {
              "outlinewidth": 0,
              "ticks": ""
             }
            },
            "type": "scattergeo"
           }
          ],
          "scattergl": [
           {
            "marker": {
             "colorbar": {
              "outlinewidth": 0,
              "ticks": ""
             }
            },
            "type": "scattergl"
           }
          ],
          "scattermapbox": [
           {
            "marker": {
             "colorbar": {
              "outlinewidth": 0,
              "ticks": ""
             }
            },
            "type": "scattermapbox"
           }
          ],
          "scatterpolar": [
           {
            "marker": {
             "colorbar": {
              "outlinewidth": 0,
              "ticks": ""
             }
            },
            "type": "scatterpolar"
           }
          ],
          "scatterpolargl": [
           {
            "marker": {
             "colorbar": {
              "outlinewidth": 0,
              "ticks": ""
             }
            },
            "type": "scatterpolargl"
           }
          ],
          "scatterternary": [
           {
            "marker": {
             "colorbar": {
              "outlinewidth": 0,
              "ticks": ""
             }
            },
            "type": "scatterternary"
           }
          ],
          "surface": [
           {
            "colorbar": {
             "outlinewidth": 0,
             "ticks": ""
            },
            "colorscale": [
             [
              0,
              "#0d0887"
             ],
             [
              0.1111111111111111,
              "#46039f"
             ],
             [
              0.2222222222222222,
              "#7201a8"
             ],
             [
              0.3333333333333333,
              "#9c179e"
             ],
             [
              0.4444444444444444,
              "#bd3786"
             ],
             [
              0.5555555555555556,
              "#d8576b"
             ],
             [
              0.6666666666666666,
              "#ed7953"
             ],
             [
              0.7777777777777778,
              "#fb9f3a"
             ],
             [
              0.8888888888888888,
              "#fdca26"
             ],
             [
              1,
              "#f0f921"
             ]
            ],
            "type": "surface"
           }
          ],
          "table": [
           {
            "cells": {
             "fill": {
              "color": "#EBF0F8"
             },
             "line": {
              "color": "white"
             }
            },
            "header": {
             "fill": {
              "color": "#C8D4E3"
             },
             "line": {
              "color": "white"
             }
            },
            "type": "table"
           }
          ]
         },
         "layout": {
          "annotationdefaults": {
           "arrowcolor": "#2a3f5f",
           "arrowhead": 0,
           "arrowwidth": 1
          },
          "autotypenumbers": "strict",
          "coloraxis": {
           "colorbar": {
            "outlinewidth": 0,
            "ticks": ""
           }
          },
          "colorscale": {
           "diverging": [
            [
             0,
             "#8e0152"
            ],
            [
             0.1,
             "#c51b7d"
            ],
            [
             0.2,
             "#de77ae"
            ],
            [
             0.3,
             "#f1b6da"
            ],
            [
             0.4,
             "#fde0ef"
            ],
            [
             0.5,
             "#f7f7f7"
            ],
            [
             0.6,
             "#e6f5d0"
            ],
            [
             0.7,
             "#b8e186"
            ],
            [
             0.8,
             "#7fbc41"
            ],
            [
             0.9,
             "#4d9221"
            ],
            [
             1,
             "#276419"
            ]
           ],
           "sequential": [
            [
             0,
             "#0d0887"
            ],
            [
             0.1111111111111111,
             "#46039f"
            ],
            [
             0.2222222222222222,
             "#7201a8"
            ],
            [
             0.3333333333333333,
             "#9c179e"
            ],
            [
             0.4444444444444444,
             "#bd3786"
            ],
            [
             0.5555555555555556,
             "#d8576b"
            ],
            [
             0.6666666666666666,
             "#ed7953"
            ],
            [
             0.7777777777777778,
             "#fb9f3a"
            ],
            [
             0.8888888888888888,
             "#fdca26"
            ],
            [
             1,
             "#f0f921"
            ]
           ],
           "sequentialminus": [
            [
             0,
             "#0d0887"
            ],
            [
             0.1111111111111111,
             "#46039f"
            ],
            [
             0.2222222222222222,
             "#7201a8"
            ],
            [
             0.3333333333333333,
             "#9c179e"
            ],
            [
             0.4444444444444444,
             "#bd3786"
            ],
            [
             0.5555555555555556,
             "#d8576b"
            ],
            [
             0.6666666666666666,
             "#ed7953"
            ],
            [
             0.7777777777777778,
             "#fb9f3a"
            ],
            [
             0.8888888888888888,
             "#fdca26"
            ],
            [
             1,
             "#f0f921"
            ]
           ]
          },
          "colorway": [
           "#636efa",
           "#EF553B",
           "#00cc96",
           "#ab63fa",
           "#FFA15A",
           "#19d3f3",
           "#FF6692",
           "#B6E880",
           "#FF97FF",
           "#FECB52"
          ],
          "font": {
           "color": "#2a3f5f"
          },
          "geo": {
           "bgcolor": "white",
           "lakecolor": "white",
           "landcolor": "#E5ECF6",
           "showlakes": true,
           "showland": true,
           "subunitcolor": "white"
          },
          "hoverlabel": {
           "align": "left"
          },
          "hovermode": "closest",
          "mapbox": {
           "style": "light"
          },
          "paper_bgcolor": "white",
          "plot_bgcolor": "#E5ECF6",
          "polar": {
           "angularaxis": {
            "gridcolor": "white",
            "linecolor": "white",
            "ticks": ""
           },
           "bgcolor": "#E5ECF6",
           "radialaxis": {
            "gridcolor": "white",
            "linecolor": "white",
            "ticks": ""
           }
          },
          "scene": {
           "xaxis": {
            "backgroundcolor": "#E5ECF6",
            "gridcolor": "white",
            "gridwidth": 2,
            "linecolor": "white",
            "showbackground": true,
            "ticks": "",
            "zerolinecolor": "white"
           },
           "yaxis": {
            "backgroundcolor": "#E5ECF6",
            "gridcolor": "white",
            "gridwidth": 2,
            "linecolor": "white",
            "showbackground": true,
            "ticks": "",
            "zerolinecolor": "white"
           },
           "zaxis": {
            "backgroundcolor": "#E5ECF6",
            "gridcolor": "white",
            "gridwidth": 2,
            "linecolor": "white",
            "showbackground": true,
            "ticks": "",
            "zerolinecolor": "white"
           }
          },
          "shapedefaults": {
           "line": {
            "color": "#2a3f5f"
           }
          },
          "ternary": {
           "aaxis": {
            "gridcolor": "white",
            "linecolor": "white",
            "ticks": ""
           },
           "baxis": {
            "gridcolor": "white",
            "linecolor": "white",
            "ticks": ""
           },
           "bgcolor": "#E5ECF6",
           "caxis": {
            "gridcolor": "white",
            "linecolor": "white",
            "ticks": ""
           }
          },
          "title": {
           "x": 0.05
          },
          "xaxis": {
           "automargin": true,
           "gridcolor": "white",
           "linecolor": "white",
           "ticks": "",
           "title": {
            "standoff": 15
           },
           "zerolinecolor": "white",
           "zerolinewidth": 2
          },
          "yaxis": {
           "automargin": true,
           "gridcolor": "white",
           "linecolor": "white",
           "ticks": "",
           "title": {
            "standoff": 15
           },
           "zerolinecolor": "white",
           "zerolinewidth": 2
          }
         }
        },
        "title": {
         "text": "Countries with Low Obesity Rates - Plant-Based Food"
        }
       }
      }
     },
     "metadata": {},
     "output_type": "display_data"
    }
   ],
   "source": [
    "fig = px.pie(values = obesity_highAvg[vegetals].mean().tolist(), names = vegetals,\n",
    "             title='Countries with High Obesity Rates - Plant-Based Food')\n",
    "fig.show()\n",
    "\n",
    "fig = px.pie(values = obesity_lowAvg[vegetals].mean().tolist(), names = vegetals,\n",
    "             title='Countries with Low Obesity Rates - Plant-Based Food')\n",
    "fig.show()"
   ]
  },
  {
   "cell_type": "markdown",
   "id": "113ef2c8",
   "metadata": {
    "pycharm": {
     "name": "#%% md\n"
    }
   },
   "source": [
    "Similar to the previous pie charts, these two pie charts show the breakdown of plant-based food intake in each country and still categorized by their obesity rates."
   ]
  },
  {
   "cell_type": "code",
   "execution_count": 38,
   "id": "9da3b65b",
   "metadata": {
    "jupyter": {
     "outputs_hidden": false
    },
    "pycharm": {
     "name": "#%%\n"
    }
   },
   "outputs": [
    {
     "data": {
      "application/vnd.plotly.v1+json": {
       "config": {
        "plotlyServerURL": "https://plot.ly"
       },
       "data": [
        {
         "domain": {
          "x": [
           0,
           1
          ],
          "y": [
           0,
           1
          ]
         },
         "hovertemplate": "label=%{label}<br>value=%{value}<extra></extra>",
         "labels": [
          "High Obesity Country",
          "Low Obesity Country"
         ],
         "legendgroup": "",
         "name": "",
         "showlegend": true,
         "type": "pie",
         "values": [
          2.1469281105990783,
          1.0986421545667446
         ]
        }
       ],
       "layout": {
        "legend": {
         "tracegroupgap": 0
        },
        "template": {
         "data": {
          "bar": [
           {
            "error_x": {
             "color": "#2a3f5f"
            },
            "error_y": {
             "color": "#2a3f5f"
            },
            "marker": {
             "line": {
              "color": "#E5ECF6",
              "width": 0.5
             },
             "pattern": {
              "fillmode": "overlay",
              "size": 10,
              "solidity": 0.2
             }
            },
            "type": "bar"
           }
          ],
          "barpolar": [
           {
            "marker": {
             "line": {
              "color": "#E5ECF6",
              "width": 0.5
             },
             "pattern": {
              "fillmode": "overlay",
              "size": 10,
              "solidity": 0.2
             }
            },
            "type": "barpolar"
           }
          ],
          "carpet": [
           {
            "aaxis": {
             "endlinecolor": "#2a3f5f",
             "gridcolor": "white",
             "linecolor": "white",
             "minorgridcolor": "white",
             "startlinecolor": "#2a3f5f"
            },
            "baxis": {
             "endlinecolor": "#2a3f5f",
             "gridcolor": "white",
             "linecolor": "white",
             "minorgridcolor": "white",
             "startlinecolor": "#2a3f5f"
            },
            "type": "carpet"
           }
          ],
          "choropleth": [
           {
            "colorbar": {
             "outlinewidth": 0,
             "ticks": ""
            },
            "type": "choropleth"
           }
          ],
          "contour": [
           {
            "colorbar": {
             "outlinewidth": 0,
             "ticks": ""
            },
            "colorscale": [
             [
              0,
              "#0d0887"
             ],
             [
              0.1111111111111111,
              "#46039f"
             ],
             [
              0.2222222222222222,
              "#7201a8"
             ],
             [
              0.3333333333333333,
              "#9c179e"
             ],
             [
              0.4444444444444444,
              "#bd3786"
             ],
             [
              0.5555555555555556,
              "#d8576b"
             ],
             [
              0.6666666666666666,
              "#ed7953"
             ],
             [
              0.7777777777777778,
              "#fb9f3a"
             ],
             [
              0.8888888888888888,
              "#fdca26"
             ],
             [
              1,
              "#f0f921"
             ]
            ],
            "type": "contour"
           }
          ],
          "contourcarpet": [
           {
            "colorbar": {
             "outlinewidth": 0,
             "ticks": ""
            },
            "type": "contourcarpet"
           }
          ],
          "heatmap": [
           {
            "colorbar": {
             "outlinewidth": 0,
             "ticks": ""
            },
            "colorscale": [
             [
              0,
              "#0d0887"
             ],
             [
              0.1111111111111111,
              "#46039f"
             ],
             [
              0.2222222222222222,
              "#7201a8"
             ],
             [
              0.3333333333333333,
              "#9c179e"
             ],
             [
              0.4444444444444444,
              "#bd3786"
             ],
             [
              0.5555555555555556,
              "#d8576b"
             ],
             [
              0.6666666666666666,
              "#ed7953"
             ],
             [
              0.7777777777777778,
              "#fb9f3a"
             ],
             [
              0.8888888888888888,
              "#fdca26"
             ],
             [
              1,
              "#f0f921"
             ]
            ],
            "type": "heatmap"
           }
          ],
          "heatmapgl": [
           {
            "colorbar": {
             "outlinewidth": 0,
             "ticks": ""
            },
            "colorscale": [
             [
              0,
              "#0d0887"
             ],
             [
              0.1111111111111111,
              "#46039f"
             ],
             [
              0.2222222222222222,
              "#7201a8"
             ],
             [
              0.3333333333333333,
              "#9c179e"
             ],
             [
              0.4444444444444444,
              "#bd3786"
             ],
             [
              0.5555555555555556,
              "#d8576b"
             ],
             [
              0.6666666666666666,
              "#ed7953"
             ],
             [
              0.7777777777777778,
              "#fb9f3a"
             ],
             [
              0.8888888888888888,
              "#fdca26"
             ],
             [
              1,
              "#f0f921"
             ]
            ],
            "type": "heatmapgl"
           }
          ],
          "histogram": [
           {
            "marker": {
             "pattern": {
              "fillmode": "overlay",
              "size": 10,
              "solidity": 0.2
             }
            },
            "type": "histogram"
           }
          ],
          "histogram2d": [
           {
            "colorbar": {
             "outlinewidth": 0,
             "ticks": ""
            },
            "colorscale": [
             [
              0,
              "#0d0887"
             ],
             [
              0.1111111111111111,
              "#46039f"
             ],
             [
              0.2222222222222222,
              "#7201a8"
             ],
             [
              0.3333333333333333,
              "#9c179e"
             ],
             [
              0.4444444444444444,
              "#bd3786"
             ],
             [
              0.5555555555555556,
              "#d8576b"
             ],
             [
              0.6666666666666666,
              "#ed7953"
             ],
             [
              0.7777777777777778,
              "#fb9f3a"
             ],
             [
              0.8888888888888888,
              "#fdca26"
             ],
             [
              1,
              "#f0f921"
             ]
            ],
            "type": "histogram2d"
           }
          ],
          "histogram2dcontour": [
           {
            "colorbar": {
             "outlinewidth": 0,
             "ticks": ""
            },
            "colorscale": [
             [
              0,
              "#0d0887"
             ],
             [
              0.1111111111111111,
              "#46039f"
             ],
             [
              0.2222222222222222,
              "#7201a8"
             ],
             [
              0.3333333333333333,
              "#9c179e"
             ],
             [
              0.4444444444444444,
              "#bd3786"
             ],
             [
              0.5555555555555556,
              "#d8576b"
             ],
             [
              0.6666666666666666,
              "#ed7953"
             ],
             [
              0.7777777777777778,
              "#fb9f3a"
             ],
             [
              0.8888888888888888,
              "#fdca26"
             ],
             [
              1,
              "#f0f921"
             ]
            ],
            "type": "histogram2dcontour"
           }
          ],
          "mesh3d": [
           {
            "colorbar": {
             "outlinewidth": 0,
             "ticks": ""
            },
            "type": "mesh3d"
           }
          ],
          "parcoords": [
           {
            "line": {
             "colorbar": {
              "outlinewidth": 0,
              "ticks": ""
             }
            },
            "type": "parcoords"
           }
          ],
          "pie": [
           {
            "automargin": true,
            "type": "pie"
           }
          ],
          "scatter": [
           {
            "fillpattern": {
             "fillmode": "overlay",
             "size": 10,
             "solidity": 0.2
            },
            "type": "scatter"
           }
          ],
          "scatter3d": [
           {
            "line": {
             "colorbar": {
              "outlinewidth": 0,
              "ticks": ""
             }
            },
            "marker": {
             "colorbar": {
              "outlinewidth": 0,
              "ticks": ""
             }
            },
            "type": "scatter3d"
           }
          ],
          "scattercarpet": [
           {
            "marker": {
             "colorbar": {
              "outlinewidth": 0,
              "ticks": ""
             }
            },
            "type": "scattercarpet"
           }
          ],
          "scattergeo": [
           {
            "marker": {
             "colorbar": {
              "outlinewidth": 0,
              "ticks": ""
             }
            },
            "type": "scattergeo"
           }
          ],
          "scattergl": [
           {
            "marker": {
             "colorbar": {
              "outlinewidth": 0,
              "ticks": ""
             }
            },
            "type": "scattergl"
           }
          ],
          "scattermapbox": [
           {
            "marker": {
             "colorbar": {
              "outlinewidth": 0,
              "ticks": ""
             }
            },
            "type": "scattermapbox"
           }
          ],
          "scatterpolar": [
           {
            "marker": {
             "colorbar": {
              "outlinewidth": 0,
              "ticks": ""
             }
            },
            "type": "scatterpolar"
           }
          ],
          "scatterpolargl": [
           {
            "marker": {
             "colorbar": {
              "outlinewidth": 0,
              "ticks": ""
             }
            },
            "type": "scatterpolargl"
           }
          ],
          "scatterternary": [
           {
            "marker": {
             "colorbar": {
              "outlinewidth": 0,
              "ticks": ""
             }
            },
            "type": "scatterternary"
           }
          ],
          "surface": [
           {
            "colorbar": {
             "outlinewidth": 0,
             "ticks": ""
            },
            "colorscale": [
             [
              0,
              "#0d0887"
             ],
             [
              0.1111111111111111,
              "#46039f"
             ],
             [
              0.2222222222222222,
              "#7201a8"
             ],
             [
              0.3333333333333333,
              "#9c179e"
             ],
             [
              0.4444444444444444,
              "#bd3786"
             ],
             [
              0.5555555555555556,
              "#d8576b"
             ],
             [
              0.6666666666666666,
              "#ed7953"
             ],
             [
              0.7777777777777778,
              "#fb9f3a"
             ],
             [
              0.8888888888888888,
              "#fdca26"
             ],
             [
              1,
              "#f0f921"
             ]
            ],
            "type": "surface"
           }
          ],
          "table": [
           {
            "cells": {
             "fill": {
              "color": "#EBF0F8"
             },
             "line": {
              "color": "white"
             }
            },
            "header": {
             "fill": {
              "color": "#C8D4E3"
             },
             "line": {
              "color": "white"
             }
            },
            "type": "table"
           }
          ]
         },
         "layout": {
          "annotationdefaults": {
           "arrowcolor": "#2a3f5f",
           "arrowhead": 0,
           "arrowwidth": 1
          },
          "autotypenumbers": "strict",
          "coloraxis": {
           "colorbar": {
            "outlinewidth": 0,
            "ticks": ""
           }
          },
          "colorscale": {
           "diverging": [
            [
             0,
             "#8e0152"
            ],
            [
             0.1,
             "#c51b7d"
            ],
            [
             0.2,
             "#de77ae"
            ],
            [
             0.3,
             "#f1b6da"
            ],
            [
             0.4,
             "#fde0ef"
            ],
            [
             0.5,
             "#f7f7f7"
            ],
            [
             0.6,
             "#e6f5d0"
            ],
            [
             0.7,
             "#b8e186"
            ],
            [
             0.8,
             "#7fbc41"
            ],
            [
             0.9,
             "#4d9221"
            ],
            [
             1,
             "#276419"
            ]
           ],
           "sequential": [
            [
             0,
             "#0d0887"
            ],
            [
             0.1111111111111111,
             "#46039f"
            ],
            [
             0.2222222222222222,
             "#7201a8"
            ],
            [
             0.3333333333333333,
             "#9c179e"
            ],
            [
             0.4444444444444444,
             "#bd3786"
            ],
            [
             0.5555555555555556,
             "#d8576b"
            ],
            [
             0.6666666666666666,
             "#ed7953"
            ],
            [
             0.7777777777777778,
             "#fb9f3a"
            ],
            [
             0.8888888888888888,
             "#fdca26"
            ],
            [
             1,
             "#f0f921"
            ]
           ],
           "sequentialminus": [
            [
             0,
             "#0d0887"
            ],
            [
             0.1111111111111111,
             "#46039f"
            ],
            [
             0.2222222222222222,
             "#7201a8"
            ],
            [
             0.3333333333333333,
             "#9c179e"
            ],
            [
             0.4444444444444444,
             "#bd3786"
            ],
            [
             0.5555555555555556,
             "#d8576b"
            ],
            [
             0.6666666666666666,
             "#ed7953"
            ],
            [
             0.7777777777777778,
             "#fb9f3a"
            ],
            [
             0.8888888888888888,
             "#fdca26"
            ],
            [
             1,
             "#f0f921"
            ]
           ]
          },
          "colorway": [
           "#636efa",
           "#EF553B",
           "#00cc96",
           "#ab63fa",
           "#FFA15A",
           "#19d3f3",
           "#FF6692",
           "#B6E880",
           "#FF97FF",
           "#FECB52"
          ],
          "font": {
           "color": "#2a3f5f"
          },
          "geo": {
           "bgcolor": "white",
           "lakecolor": "white",
           "landcolor": "#E5ECF6",
           "showlakes": true,
           "showland": true,
           "subunitcolor": "white"
          },
          "hoverlabel": {
           "align": "left"
          },
          "hovermode": "closest",
          "mapbox": {
           "style": "light"
          },
          "paper_bgcolor": "white",
          "plot_bgcolor": "#E5ECF6",
          "polar": {
           "angularaxis": {
            "gridcolor": "white",
            "linecolor": "white",
            "ticks": ""
           },
           "bgcolor": "#E5ECF6",
           "radialaxis": {
            "gridcolor": "white",
            "linecolor": "white",
            "ticks": ""
           }
          },
          "scene": {
           "xaxis": {
            "backgroundcolor": "#E5ECF6",
            "gridcolor": "white",
            "gridwidth": 2,
            "linecolor": "white",
            "showbackground": true,
            "ticks": "",
            "zerolinecolor": "white"
           },
           "yaxis": {
            "backgroundcolor": "#E5ECF6",
            "gridcolor": "white",
            "gridwidth": 2,
            "linecolor": "white",
            "showbackground": true,
            "ticks": "",
            "zerolinecolor": "white"
           },
           "zaxis": {
            "backgroundcolor": "#E5ECF6",
            "gridcolor": "white",
            "gridwidth": 2,
            "linecolor": "white",
            "showbackground": true,
            "ticks": "",
            "zerolinecolor": "white"
           }
          },
          "shapedefaults": {
           "line": {
            "color": "#2a3f5f"
           }
          },
          "ternary": {
           "aaxis": {
            "gridcolor": "white",
            "linecolor": "white",
            "ticks": ""
           },
           "baxis": {
            "gridcolor": "white",
            "linecolor": "white",
            "ticks": ""
           },
           "bgcolor": "#E5ECF6",
           "caxis": {
            "gridcolor": "white",
            "linecolor": "white",
            "ticks": ""
           }
          },
          "title": {
           "x": 0.05
          },
          "xaxis": {
           "automargin": true,
           "gridcolor": "white",
           "linecolor": "white",
           "ticks": "",
           "title": {
            "standoff": 15
           },
           "zerolinecolor": "white",
           "zerolinewidth": 2
          },
          "yaxis": {
           "automargin": true,
           "gridcolor": "white",
           "linecolor": "white",
           "ticks": "",
           "title": {
            "standoff": 15
           },
           "zerolinecolor": "white",
           "zerolinewidth": 2
          }
         }
        },
        "title": {
         "text": "Animal food intake percentage using obesity rates"
        }
       }
      }
     },
     "metadata": {},
     "output_type": "display_data"
    },
    {
     "data": {
      "application/vnd.plotly.v1+json": {
       "config": {
        "plotlyServerURL": "https://plot.ly"
       },
       "data": [
        {
         "domain": {
          "x": [
           0,
           1
          ],
          "y": [
           0,
           1
          ]
         },
         "hovertemplate": "label=%{label}<br>value=%{value}<extra></extra>",
         "labels": [
          "High Obesity Country",
          "Low Obesity Country"
         ],
         "legendgroup": "",
         "name": "",
         "showlegend": true,
         "type": "pie",
         "values": [
          3.0223647540983607,
          2.498192396313364
         ]
        }
       ],
       "layout": {
        "legend": {
         "tracegroupgap": 0
        },
        "template": {
         "data": {
          "bar": [
           {
            "error_x": {
             "color": "#2a3f5f"
            },
            "error_y": {
             "color": "#2a3f5f"
            },
            "marker": {
             "line": {
              "color": "#E5ECF6",
              "width": 0.5
             },
             "pattern": {
              "fillmode": "overlay",
              "size": 10,
              "solidity": 0.2
             }
            },
            "type": "bar"
           }
          ],
          "barpolar": [
           {
            "marker": {
             "line": {
              "color": "#E5ECF6",
              "width": 0.5
             },
             "pattern": {
              "fillmode": "overlay",
              "size": 10,
              "solidity": 0.2
             }
            },
            "type": "barpolar"
           }
          ],
          "carpet": [
           {
            "aaxis": {
             "endlinecolor": "#2a3f5f",
             "gridcolor": "white",
             "linecolor": "white",
             "minorgridcolor": "white",
             "startlinecolor": "#2a3f5f"
            },
            "baxis": {
             "endlinecolor": "#2a3f5f",
             "gridcolor": "white",
             "linecolor": "white",
             "minorgridcolor": "white",
             "startlinecolor": "#2a3f5f"
            },
            "type": "carpet"
           }
          ],
          "choropleth": [
           {
            "colorbar": {
             "outlinewidth": 0,
             "ticks": ""
            },
            "type": "choropleth"
           }
          ],
          "contour": [
           {
            "colorbar": {
             "outlinewidth": 0,
             "ticks": ""
            },
            "colorscale": [
             [
              0,
              "#0d0887"
             ],
             [
              0.1111111111111111,
              "#46039f"
             ],
             [
              0.2222222222222222,
              "#7201a8"
             ],
             [
              0.3333333333333333,
              "#9c179e"
             ],
             [
              0.4444444444444444,
              "#bd3786"
             ],
             [
              0.5555555555555556,
              "#d8576b"
             ],
             [
              0.6666666666666666,
              "#ed7953"
             ],
             [
              0.7777777777777778,
              "#fb9f3a"
             ],
             [
              0.8888888888888888,
              "#fdca26"
             ],
             [
              1,
              "#f0f921"
             ]
            ],
            "type": "contour"
           }
          ],
          "contourcarpet": [
           {
            "colorbar": {
             "outlinewidth": 0,
             "ticks": ""
            },
            "type": "contourcarpet"
           }
          ],
          "heatmap": [
           {
            "colorbar": {
             "outlinewidth": 0,
             "ticks": ""
            },
            "colorscale": [
             [
              0,
              "#0d0887"
             ],
             [
              0.1111111111111111,
              "#46039f"
             ],
             [
              0.2222222222222222,
              "#7201a8"
             ],
             [
              0.3333333333333333,
              "#9c179e"
             ],
             [
              0.4444444444444444,
              "#bd3786"
             ],
             [
              0.5555555555555556,
              "#d8576b"
             ],
             [
              0.6666666666666666,
              "#ed7953"
             ],
             [
              0.7777777777777778,
              "#fb9f3a"
             ],
             [
              0.8888888888888888,
              "#fdca26"
             ],
             [
              1,
              "#f0f921"
             ]
            ],
            "type": "heatmap"
           }
          ],
          "heatmapgl": [
           {
            "colorbar": {
             "outlinewidth": 0,
             "ticks": ""
            },
            "colorscale": [
             [
              0,
              "#0d0887"
             ],
             [
              0.1111111111111111,
              "#46039f"
             ],
             [
              0.2222222222222222,
              "#7201a8"
             ],
             [
              0.3333333333333333,
              "#9c179e"
             ],
             [
              0.4444444444444444,
              "#bd3786"
             ],
             [
              0.5555555555555556,
              "#d8576b"
             ],
             [
              0.6666666666666666,
              "#ed7953"
             ],
             [
              0.7777777777777778,
              "#fb9f3a"
             ],
             [
              0.8888888888888888,
              "#fdca26"
             ],
             [
              1,
              "#f0f921"
             ]
            ],
            "type": "heatmapgl"
           }
          ],
          "histogram": [
           {
            "marker": {
             "pattern": {
              "fillmode": "overlay",
              "size": 10,
              "solidity": 0.2
             }
            },
            "type": "histogram"
           }
          ],
          "histogram2d": [
           {
            "colorbar": {
             "outlinewidth": 0,
             "ticks": ""
            },
            "colorscale": [
             [
              0,
              "#0d0887"
             ],
             [
              0.1111111111111111,
              "#46039f"
             ],
             [
              0.2222222222222222,
              "#7201a8"
             ],
             [
              0.3333333333333333,
              "#9c179e"
             ],
             [
              0.4444444444444444,
              "#bd3786"
             ],
             [
              0.5555555555555556,
              "#d8576b"
             ],
             [
              0.6666666666666666,
              "#ed7953"
             ],
             [
              0.7777777777777778,
              "#fb9f3a"
             ],
             [
              0.8888888888888888,
              "#fdca26"
             ],
             [
              1,
              "#f0f921"
             ]
            ],
            "type": "histogram2d"
           }
          ],
          "histogram2dcontour": [
           {
            "colorbar": {
             "outlinewidth": 0,
             "ticks": ""
            },
            "colorscale": [
             [
              0,
              "#0d0887"
             ],
             [
              0.1111111111111111,
              "#46039f"
             ],
             [
              0.2222222222222222,
              "#7201a8"
             ],
             [
              0.3333333333333333,
              "#9c179e"
             ],
             [
              0.4444444444444444,
              "#bd3786"
             ],
             [
              0.5555555555555556,
              "#d8576b"
             ],
             [
              0.6666666666666666,
              "#ed7953"
             ],
             [
              0.7777777777777778,
              "#fb9f3a"
             ],
             [
              0.8888888888888888,
              "#fdca26"
             ],
             [
              1,
              "#f0f921"
             ]
            ],
            "type": "histogram2dcontour"
           }
          ],
          "mesh3d": [
           {
            "colorbar": {
             "outlinewidth": 0,
             "ticks": ""
            },
            "type": "mesh3d"
           }
          ],
          "parcoords": [
           {
            "line": {
             "colorbar": {
              "outlinewidth": 0,
              "ticks": ""
             }
            },
            "type": "parcoords"
           }
          ],
          "pie": [
           {
            "automargin": true,
            "type": "pie"
           }
          ],
          "scatter": [
           {
            "fillpattern": {
             "fillmode": "overlay",
             "size": 10,
             "solidity": 0.2
            },
            "type": "scatter"
           }
          ],
          "scatter3d": [
           {
            "line": {
             "colorbar": {
              "outlinewidth": 0,
              "ticks": ""
             }
            },
            "marker": {
             "colorbar": {
              "outlinewidth": 0,
              "ticks": ""
             }
            },
            "type": "scatter3d"
           }
          ],
          "scattercarpet": [
           {
            "marker": {
             "colorbar": {
              "outlinewidth": 0,
              "ticks": ""
             }
            },
            "type": "scattercarpet"
           }
          ],
          "scattergeo": [
           {
            "marker": {
             "colorbar": {
              "outlinewidth": 0,
              "ticks": ""
             }
            },
            "type": "scattergeo"
           }
          ],
          "scattergl": [
           {
            "marker": {
             "colorbar": {
              "outlinewidth": 0,
              "ticks": ""
             }
            },
            "type": "scattergl"
           }
          ],
          "scattermapbox": [
           {
            "marker": {
             "colorbar": {
              "outlinewidth": 0,
              "ticks": ""
             }
            },
            "type": "scattermapbox"
           }
          ],
          "scatterpolar": [
           {
            "marker": {
             "colorbar": {
              "outlinewidth": 0,
              "ticks": ""
             }
            },
            "type": "scatterpolar"
           }
          ],
          "scatterpolargl": [
           {
            "marker": {
             "colorbar": {
              "outlinewidth": 0,
              "ticks": ""
             }
            },
            "type": "scatterpolargl"
           }
          ],
          "scatterternary": [
           {
            "marker": {
             "colorbar": {
              "outlinewidth": 0,
              "ticks": ""
             }
            },
            "type": "scatterternary"
           }
          ],
          "surface": [
           {
            "colorbar": {
             "outlinewidth": 0,
             "ticks": ""
            },
            "colorscale": [
             [
              0,
              "#0d0887"
             ],
             [
              0.1111111111111111,
              "#46039f"
             ],
             [
              0.2222222222222222,
              "#7201a8"
             ],
             [
              0.3333333333333333,
              "#9c179e"
             ],
             [
              0.4444444444444444,
              "#bd3786"
             ],
             [
              0.5555555555555556,
              "#d8576b"
             ],
             [
              0.6666666666666666,
              "#ed7953"
             ],
             [
              0.7777777777777778,
              "#fb9f3a"
             ],
             [
              0.8888888888888888,
              "#fdca26"
             ],
             [
              1,
              "#f0f921"
             ]
            ],
            "type": "surface"
           }
          ],
          "table": [
           {
            "cells": {
             "fill": {
              "color": "#EBF0F8"
             },
             "line": {
              "color": "white"
             }
            },
            "header": {
             "fill": {
              "color": "#C8D4E3"
             },
             "line": {
              "color": "white"
             }
            },
            "type": "table"
           }
          ]
         },
         "layout": {
          "annotationdefaults": {
           "arrowcolor": "#2a3f5f",
           "arrowhead": 0,
           "arrowwidth": 1
          },
          "autotypenumbers": "strict",
          "coloraxis": {
           "colorbar": {
            "outlinewidth": 0,
            "ticks": ""
           }
          },
          "colorscale": {
           "diverging": [
            [
             0,
             "#8e0152"
            ],
            [
             0.1,
             "#c51b7d"
            ],
            [
             0.2,
             "#de77ae"
            ],
            [
             0.3,
             "#f1b6da"
            ],
            [
             0.4,
             "#fde0ef"
            ],
            [
             0.5,
             "#f7f7f7"
            ],
            [
             0.6,
             "#e6f5d0"
            ],
            [
             0.7,
             "#b8e186"
            ],
            [
             0.8,
             "#7fbc41"
            ],
            [
             0.9,
             "#4d9221"
            ],
            [
             1,
             "#276419"
            ]
           ],
           "sequential": [
            [
             0,
             "#0d0887"
            ],
            [
             0.1111111111111111,
             "#46039f"
            ],
            [
             0.2222222222222222,
             "#7201a8"
            ],
            [
             0.3333333333333333,
             "#9c179e"
            ],
            [
             0.4444444444444444,
             "#bd3786"
            ],
            [
             0.5555555555555556,
             "#d8576b"
            ],
            [
             0.6666666666666666,
             "#ed7953"
            ],
            [
             0.7777777777777778,
             "#fb9f3a"
            ],
            [
             0.8888888888888888,
             "#fdca26"
            ],
            [
             1,
             "#f0f921"
            ]
           ],
           "sequentialminus": [
            [
             0,
             "#0d0887"
            ],
            [
             0.1111111111111111,
             "#46039f"
            ],
            [
             0.2222222222222222,
             "#7201a8"
            ],
            [
             0.3333333333333333,
             "#9c179e"
            ],
            [
             0.4444444444444444,
             "#bd3786"
            ],
            [
             0.5555555555555556,
             "#d8576b"
            ],
            [
             0.6666666666666666,
             "#ed7953"
            ],
            [
             0.7777777777777778,
             "#fb9f3a"
            ],
            [
             0.8888888888888888,
             "#fdca26"
            ],
            [
             1,
             "#f0f921"
            ]
           ]
          },
          "colorway": [
           "#636efa",
           "#EF553B",
           "#00cc96",
           "#ab63fa",
           "#FFA15A",
           "#19d3f3",
           "#FF6692",
           "#B6E880",
           "#FF97FF",
           "#FECB52"
          ],
          "font": {
           "color": "#2a3f5f"
          },
          "geo": {
           "bgcolor": "white",
           "lakecolor": "white",
           "landcolor": "#E5ECF6",
           "showlakes": true,
           "showland": true,
           "subunitcolor": "white"
          },
          "hoverlabel": {
           "align": "left"
          },
          "hovermode": "closest",
          "mapbox": {
           "style": "light"
          },
          "paper_bgcolor": "white",
          "plot_bgcolor": "#E5ECF6",
          "polar": {
           "angularaxis": {
            "gridcolor": "white",
            "linecolor": "white",
            "ticks": ""
           },
           "bgcolor": "#E5ECF6",
           "radialaxis": {
            "gridcolor": "white",
            "linecolor": "white",
            "ticks": ""
           }
          },
          "scene": {
           "xaxis": {
            "backgroundcolor": "#E5ECF6",
            "gridcolor": "white",
            "gridwidth": 2,
            "linecolor": "white",
            "showbackground": true,
            "ticks": "",
            "zerolinecolor": "white"
           },
           "yaxis": {
            "backgroundcolor": "#E5ECF6",
            "gridcolor": "white",
            "gridwidth": 2,
            "linecolor": "white",
            "showbackground": true,
            "ticks": "",
            "zerolinecolor": "white"
           },
           "zaxis": {
            "backgroundcolor": "#E5ECF6",
            "gridcolor": "white",
            "gridwidth": 2,
            "linecolor": "white",
            "showbackground": true,
            "ticks": "",
            "zerolinecolor": "white"
           }
          },
          "shapedefaults": {
           "line": {
            "color": "#2a3f5f"
           }
          },
          "ternary": {
           "aaxis": {
            "gridcolor": "white",
            "linecolor": "white",
            "ticks": ""
           },
           "baxis": {
            "gridcolor": "white",
            "linecolor": "white",
            "ticks": ""
           },
           "bgcolor": "#E5ECF6",
           "caxis": {
            "gridcolor": "white",
            "linecolor": "white",
            "ticks": ""
           }
          },
          "title": {
           "x": 0.05
          },
          "xaxis": {
           "automargin": true,
           "gridcolor": "white",
           "linecolor": "white",
           "ticks": "",
           "title": {
            "standoff": 15
           },
           "zerolinecolor": "white",
           "zerolinewidth": 2
          },
          "yaxis": {
           "automargin": true,
           "gridcolor": "white",
           "linecolor": "white",
           "ticks": "",
           "title": {
            "standoff": 15
           },
           "zerolinecolor": "white",
           "zerolinewidth": 2
          }
         }
        },
        "title": {
         "text": "Plant food intake percentage using obesity rates"
        }
       }
      }
     },
     "metadata": {},
     "output_type": "display_data"
    }
   ],
   "source": [
    "fig = px.pie(values = [obesity_highAvg[animals].mean().mean(), obesity_lowAvg[animals].mean().mean()],\n",
    "             names = ['High Obesity Country', 'Low Obesity Country'],\n",
    "             title='Animal food intake percentage using obesity rates')\n",
    "fig.show()\n",
    "\n",
    "fig = px.pie(values = [obesity_lowAvg[vegetals].mean().mean(), obesity_highAvg[vegetals].mean().mean()],\n",
    "             names = ['High Obesity Country', 'Low Obesity Country'],\n",
    "             title='Plant food intake percentage using obesity rates')\n",
    "fig.show()"
   ]
  },
  {
   "cell_type": "markdown",
   "id": "3f930c2a-d877-4bf0-9f62-af764921739d",
   "metadata": {
    "pycharm": {
     "name": "#%% md\n"
    }
   },
   "source": [
    "The pie chart above shows what type of food is **usually consumed** by individuals that either fall on high or low obesity rate in each country. \n",
    "\n",
    "As can be observed in the first chart, **66.1%** of individuals in high obesity rate countries **tend to consume more animal** food compared to the remaining **33.9%** individuals in low obesity rate countries. \n",
    "\n",
    "On the other hand, the difference of plant food intakes, in terms of percentage, is **relatively small** compared to the animal food intake. However, **54.7%** of individuals in high obesity rate countries **still tend to consume more plant food compared low obesity rate countries.** \n"
   ]
  },
  {
   "cell_type": "markdown",
   "id": "358c6081-52ef-4eef-80db-3a46580b57b0",
   "metadata": {
    "pycharm": {
     "name": "#%% md\n"
    }
   },
   "source": [
    "From the data presented above, it is safe for the researchers to assume that **individuals from countries with high obesity rates have a higher intake of animal and plant food**. This means they are **consuming higher amounts of energy, particularly fat and sugars** compared to individuals that fall under the low obesity category. "
   ]
  },
  {
   "cell_type": "markdown",
   "id": "83e8daed",
   "metadata": {
    "pycharm": {
     "name": "#%% md\n"
    }
   },
   "source": [
    "# IV. Research Question\n",
    "\n",
    "After completing the exploratory data analysis, the researchers decided on the concrete research question they seek to further investigate—that is, based on the findings they had obtained regarding the correlations among the obesity, undernutrition, death, and mortality rates and potential patterns in food consumption of the 170 countries in the `Food DataFrame`."
   ]
  },
  {
   "cell_type": "markdown",
   "id": "3239ec20",
   "metadata": {
    "pycharm": {
     "name": "#%% md\n"
    }
   },
   "source": [
    "Presented below is the formulated research question:"
   ]
  },
  {
   "cell_type": "markdown",
   "id": "da49d151",
   "metadata": {
    "pycharm": {
     "name": "#%% md\n"
    }
   },
   "source": [
    "## `Can we categorize the health of countries based on their obesity and death rates in relation with their populace's diets?`"
   ]
  },
  {
   "cell_type": "markdown",
   "id": "98affddd",
   "metadata": {
    "pycharm": {
     "name": "#%% md\n"
    }
   },
   "source": [
    "### Explanation Regarding the Connection of the Research Question to the Answers Obtained from Performing Exploratory Data Analysis\n",
    "\n",
    "Seeing the moderately positive correlation of `Obesity` with `Deaths`, along with the evident difference of the diets of high and low `Obesity` countries when it comes to animal-based and plant-based food, it is beneficial to recognize how the overall health of these countries can be categorized based on the established connections formed with the variables of the dataset after performing exploratory data analysis. On the other hand, after seeing a weak negative correlation between `Obesity` and `Mortality`, the researchers have decided to focus on categorizing a country’s health based on their obesity and deaths rate in relation to their diets."
   ]
  },
  {
   "cell_type": "markdown",
   "id": "4c7e1cfa",
   "metadata": {
    "pycharm": {
     "name": "#%% md\n"
    }
   },
   "source": [
    "### Importance and Significance of the Research Question\n",
    "\n",
    "Identifying similar dietary trends that may potentially have originated in countries with high COVID-19 fatality rates and high obesity rates will provide people with overviews and insights on how to adjust their diets accordingly—specifically in terms of determining which food groups to stay away from when one is particularly vulnerable or susceptible to high risk of COVID-19 infection."
   ]
  },
  {
   "cell_type": "markdown",
   "id": "91689f83",
   "metadata": {
    "collapsed": false,
    "pycharm": {
     "name": "#%% md\n"
    }
   },
   "source": [
    "# V. Data Modelling\n",
    "This section aims to answer the research question stated above through the use of cluster analysis."
   ]
  },
  {
   "cell_type": "markdown",
   "id": "078ff581",
   "metadata": {
    "collapsed": false,
    "pycharm": {
     "name": "#%% md\n"
    }
   },
   "source": [
    "Before utilizing the K-means algorithm to cluster the countries based on their obesity and death rates, the researchers must first add two more variables that would add more insight to their analysis, namely—`Animal Food Intake` and `Plant Food Intake`. The values for these two variables are determined by whether the country's respective food intake is `Above Average` or `Below Average` when compared to the mean intake of all the countries in the dataset."
   ]
  },
  {
   "cell_type": "code",
   "execution_count": 39,
   "id": "01653d38",
   "metadata": {
    "pycharm": {
     "name": "#%%\n"
    }
   },
   "outputs": [
    {
     "data": {
      "text/html": [
       "<div>\n",
       "<style scoped>\n",
       "    .dataframe tbody tr th:only-of-type {\n",
       "        vertical-align: middle;\n",
       "    }\n",
       "\n",
       "    .dataframe tbody tr th {\n",
       "        vertical-align: top;\n",
       "    }\n",
       "\n",
       "    .dataframe thead th {\n",
       "        text-align: right;\n",
       "    }\n",
       "</style>\n",
       "<table border=\"1\" class=\"dataframe\">\n",
       "  <thead>\n",
       "    <tr style=\"text-align: right;\">\n",
       "      <th></th>\n",
       "      <th>Country</th>\n",
       "      <th>Alcoholic Beverages</th>\n",
       "      <th>Animal fats</th>\n",
       "      <th>Animal Products</th>\n",
       "      <th>Aquatic Products, Other</th>\n",
       "      <th>Cereals - Excluding Beer</th>\n",
       "      <th>Eggs</th>\n",
       "      <th>Fish, Seafood</th>\n",
       "      <th>Fruits - Excluding Wine</th>\n",
       "      <th>Meat</th>\n",
       "      <th>...</th>\n",
       "      <th>Obesity</th>\n",
       "      <th>Undernourished</th>\n",
       "      <th>Confirmed</th>\n",
       "      <th>Deaths</th>\n",
       "      <th>Recovered</th>\n",
       "      <th>Active</th>\n",
       "      <th>Population</th>\n",
       "      <th>Mortality</th>\n",
       "      <th>Animal Food Intake</th>\n",
       "      <th>Plant Food Intake</th>\n",
       "    </tr>\n",
       "  </thead>\n",
       "  <tbody>\n",
       "    <tr>\n",
       "      <th>0</th>\n",
       "      <td>Afghanistan</td>\n",
       "      <td>0.0014</td>\n",
       "      <td>0.1973</td>\n",
       "      <td>9.4341</td>\n",
       "      <td>0.0000</td>\n",
       "      <td>24.8097</td>\n",
       "      <td>0.2099</td>\n",
       "      <td>0.0350</td>\n",
       "      <td>5.3495</td>\n",
       "      <td>1.2020</td>\n",
       "      <td>...</td>\n",
       "      <td>4.5</td>\n",
       "      <td>29.8</td>\n",
       "      <td>0.142134</td>\n",
       "      <td>0.006186</td>\n",
       "      <td>0.123374</td>\n",
       "      <td>0.012574</td>\n",
       "      <td>38928000.0</td>\n",
       "      <td>4.352069</td>\n",
       "      <td>Below Average</td>\n",
       "      <td>Above Average</td>\n",
       "    </tr>\n",
       "    <tr>\n",
       "      <th>1</th>\n",
       "      <td>Albania</td>\n",
       "      <td>1.6719</td>\n",
       "      <td>0.1357</td>\n",
       "      <td>18.7684</td>\n",
       "      <td>0.0000</td>\n",
       "      <td>5.7817</td>\n",
       "      <td>0.5815</td>\n",
       "      <td>0.2126</td>\n",
       "      <td>6.7861</td>\n",
       "      <td>1.8845</td>\n",
       "      <td>...</td>\n",
       "      <td>22.3</td>\n",
       "      <td>6.2</td>\n",
       "      <td>2.967301</td>\n",
       "      <td>0.050951</td>\n",
       "      <td>1.792636</td>\n",
       "      <td>1.123714</td>\n",
       "      <td>2838000.0</td>\n",
       "      <td>1.717095</td>\n",
       "      <td>Above Average</td>\n",
       "      <td>Below Average</td>\n",
       "    </tr>\n",
       "    <tr>\n",
       "      <th>2</th>\n",
       "      <td>Algeria</td>\n",
       "      <td>0.2711</td>\n",
       "      <td>0.0282</td>\n",
       "      <td>9.6334</td>\n",
       "      <td>0.0000</td>\n",
       "      <td>13.6816</td>\n",
       "      <td>0.5277</td>\n",
       "      <td>0.2416</td>\n",
       "      <td>6.3801</td>\n",
       "      <td>1.1305</td>\n",
       "      <td>...</td>\n",
       "      <td>26.6</td>\n",
       "      <td>3.9</td>\n",
       "      <td>0.244897</td>\n",
       "      <td>0.006558</td>\n",
       "      <td>0.167572</td>\n",
       "      <td>0.070767</td>\n",
       "      <td>44357000.0</td>\n",
       "      <td>2.677922</td>\n",
       "      <td>Below Average</td>\n",
       "      <td>Above Average</td>\n",
       "    </tr>\n",
       "    <tr>\n",
       "      <th>3</th>\n",
       "      <td>Angola</td>\n",
       "      <td>5.8087</td>\n",
       "      <td>0.0560</td>\n",
       "      <td>4.9278</td>\n",
       "      <td>0.0000</td>\n",
       "      <td>9.1085</td>\n",
       "      <td>0.0587</td>\n",
       "      <td>1.7707</td>\n",
       "      <td>6.0005</td>\n",
       "      <td>2.0571</td>\n",
       "      <td>...</td>\n",
       "      <td>6.8</td>\n",
       "      <td>25.0</td>\n",
       "      <td>0.061687</td>\n",
       "      <td>0.001461</td>\n",
       "      <td>0.056808</td>\n",
       "      <td>0.003419</td>\n",
       "      <td>32522000.0</td>\n",
       "      <td>2.367660</td>\n",
       "      <td>Below Average</td>\n",
       "      <td>Above Average</td>\n",
       "    </tr>\n",
       "    <tr>\n",
       "      <th>5</th>\n",
       "      <td>Argentina</td>\n",
       "      <td>4.2672</td>\n",
       "      <td>0.2234</td>\n",
       "      <td>19.3454</td>\n",
       "      <td>0.0000</td>\n",
       "      <td>8.4102</td>\n",
       "      <td>0.9979</td>\n",
       "      <td>0.4693</td>\n",
       "      <td>6.0435</td>\n",
       "      <td>7.0421</td>\n",
       "      <td>...</td>\n",
       "      <td>28.5</td>\n",
       "      <td>4.6</td>\n",
       "      <td>4.356147</td>\n",
       "      <td>0.108227</td>\n",
       "      <td>3.905192</td>\n",
       "      <td>0.342729</td>\n",
       "      <td>45377000.0</td>\n",
       "      <td>2.484458</td>\n",
       "      <td>Above Average</td>\n",
       "      <td>Below Average</td>\n",
       "    </tr>\n",
       "    <tr>\n",
       "      <th>...</th>\n",
       "      <td>...</td>\n",
       "      <td>...</td>\n",
       "      <td>...</td>\n",
       "      <td>...</td>\n",
       "      <td>...</td>\n",
       "      <td>...</td>\n",
       "      <td>...</td>\n",
       "      <td>...</td>\n",
       "      <td>...</td>\n",
       "      <td>...</td>\n",
       "      <td>...</td>\n",
       "      <td>...</td>\n",
       "      <td>...</td>\n",
       "      <td>...</td>\n",
       "      <td>...</td>\n",
       "      <td>...</td>\n",
       "      <td>...</td>\n",
       "      <td>...</td>\n",
       "      <td>...</td>\n",
       "      <td>...</td>\n",
       "      <td>...</td>\n",
       "    </tr>\n",
       "    <tr>\n",
       "      <th>165</th>\n",
       "      <td>Venezuela (Bolivarian Republic of)</td>\n",
       "      <td>2.5952</td>\n",
       "      <td>0.0403</td>\n",
       "      <td>14.7565</td>\n",
       "      <td>0.0000</td>\n",
       "      <td>12.9253</td>\n",
       "      <td>0.3389</td>\n",
       "      <td>0.9456</td>\n",
       "      <td>7.6460</td>\n",
       "      <td>3.8328</td>\n",
       "      <td>...</td>\n",
       "      <td>25.2</td>\n",
       "      <td>21.2</td>\n",
       "      <td>0.452585</td>\n",
       "      <td>0.004287</td>\n",
       "      <td>0.424399</td>\n",
       "      <td>0.023899</td>\n",
       "      <td>28645000.0</td>\n",
       "      <td>0.947217</td>\n",
       "      <td>Above Average</td>\n",
       "      <td>Below Average</td>\n",
       "    </tr>\n",
       "    <tr>\n",
       "      <th>166</th>\n",
       "      <td>Vietnam</td>\n",
       "      <td>1.4591</td>\n",
       "      <td>0.1640</td>\n",
       "      <td>8.5765</td>\n",
       "      <td>0.0042</td>\n",
       "      <td>16.8740</td>\n",
       "      <td>0.3077</td>\n",
       "      <td>2.6392</td>\n",
       "      <td>5.9029</td>\n",
       "      <td>4.4382</td>\n",
       "      <td>...</td>\n",
       "      <td>2.1</td>\n",
       "      <td>9.3</td>\n",
       "      <td>0.002063</td>\n",
       "      <td>0.000036</td>\n",
       "      <td>0.001526</td>\n",
       "      <td>0.000501</td>\n",
       "      <td>96209000.0</td>\n",
       "      <td>1.763224</td>\n",
       "      <td>Below Average</td>\n",
       "      <td>Above Average</td>\n",
       "    </tr>\n",
       "    <tr>\n",
       "      <th>167</th>\n",
       "      <td>Yemen</td>\n",
       "      <td>0.0364</td>\n",
       "      <td>0.0446</td>\n",
       "      <td>5.7874</td>\n",
       "      <td>0.0000</td>\n",
       "      <td>27.2077</td>\n",
       "      <td>0.2579</td>\n",
       "      <td>0.5240</td>\n",
       "      <td>5.1344</td>\n",
       "      <td>2.7871</td>\n",
       "      <td>...</td>\n",
       "      <td>14.1</td>\n",
       "      <td>38.9</td>\n",
       "      <td>0.007131</td>\n",
       "      <td>0.002062</td>\n",
       "      <td>0.004788</td>\n",
       "      <td>0.000282</td>\n",
       "      <td>29826000.0</td>\n",
       "      <td>28.913963</td>\n",
       "      <td>Below Average</td>\n",
       "      <td>Above Average</td>\n",
       "    </tr>\n",
       "    <tr>\n",
       "      <th>168</th>\n",
       "      <td>Zambia</td>\n",
       "      <td>5.7360</td>\n",
       "      <td>0.0829</td>\n",
       "      <td>6.0197</td>\n",
       "      <td>0.0000</td>\n",
       "      <td>21.1938</td>\n",
       "      <td>0.3399</td>\n",
       "      <td>1.6924</td>\n",
       "      <td>1.0183</td>\n",
       "      <td>1.8427</td>\n",
       "      <td>...</td>\n",
       "      <td>6.5</td>\n",
       "      <td>46.7</td>\n",
       "      <td>0.334133</td>\n",
       "      <td>0.004564</td>\n",
       "      <td>0.290524</td>\n",
       "      <td>0.039045</td>\n",
       "      <td>18384000.0</td>\n",
       "      <td>1.365849</td>\n",
       "      <td>Below Average</td>\n",
       "      <td>Above Average</td>\n",
       "    </tr>\n",
       "    <tr>\n",
       "      <th>169</th>\n",
       "      <td>Zimbabwe</td>\n",
       "      <td>4.0552</td>\n",
       "      <td>0.0755</td>\n",
       "      <td>8.1489</td>\n",
       "      <td>0.0000</td>\n",
       "      <td>22.6240</td>\n",
       "      <td>0.2678</td>\n",
       "      <td>0.5518</td>\n",
       "      <td>2.2000</td>\n",
       "      <td>2.6142</td>\n",
       "      <td>...</td>\n",
       "      <td>12.3</td>\n",
       "      <td>51.3</td>\n",
       "      <td>0.232033</td>\n",
       "      <td>0.008854</td>\n",
       "      <td>0.190964</td>\n",
       "      <td>0.032214</td>\n",
       "      <td>14863000.0</td>\n",
       "      <td>3.815931</td>\n",
       "      <td>Below Average</td>\n",
       "      <td>Above Average</td>\n",
       "    </tr>\n",
       "  </tbody>\n",
       "</table>\n",
       "<p>154 rows × 34 columns</p>\n",
       "</div>"
      ],
      "text/plain": [
       "                                Country  Alcoholic Beverages  Animal fats  \\\n",
       "0                           Afghanistan               0.0014       0.1973   \n",
       "1                               Albania               1.6719       0.1357   \n",
       "2                               Algeria               0.2711       0.0282   \n",
       "3                                Angola               5.8087       0.0560   \n",
       "5                             Argentina               4.2672       0.2234   \n",
       "..                                  ...                  ...          ...   \n",
       "165  Venezuela (Bolivarian Republic of)               2.5952       0.0403   \n",
       "166                             Vietnam               1.4591       0.1640   \n",
       "167                               Yemen               0.0364       0.0446   \n",
       "168                              Zambia               5.7360       0.0829   \n",
       "169                            Zimbabwe               4.0552       0.0755   \n",
       "\n",
       "     Animal Products  Aquatic Products, Other  Cereals - Excluding Beer  \\\n",
       "0             9.4341                   0.0000                   24.8097   \n",
       "1            18.7684                   0.0000                    5.7817   \n",
       "2             9.6334                   0.0000                   13.6816   \n",
       "3             4.9278                   0.0000                    9.1085   \n",
       "5            19.3454                   0.0000                    8.4102   \n",
       "..               ...                      ...                       ...   \n",
       "165          14.7565                   0.0000                   12.9253   \n",
       "166           8.5765                   0.0042                   16.8740   \n",
       "167           5.7874                   0.0000                   27.2077   \n",
       "168           6.0197                   0.0000                   21.1938   \n",
       "169           8.1489                   0.0000                   22.6240   \n",
       "\n",
       "       Eggs  Fish, Seafood  Fruits - Excluding Wine    Meat  ...  Obesity  \\\n",
       "0    0.2099         0.0350                   5.3495  1.2020  ...      4.5   \n",
       "1    0.5815         0.2126                   6.7861  1.8845  ...     22.3   \n",
       "2    0.5277         0.2416                   6.3801  1.1305  ...     26.6   \n",
       "3    0.0587         1.7707                   6.0005  2.0571  ...      6.8   \n",
       "5    0.9979         0.4693                   6.0435  7.0421  ...     28.5   \n",
       "..      ...            ...                      ...     ...  ...      ...   \n",
       "165  0.3389         0.9456                   7.6460  3.8328  ...     25.2   \n",
       "166  0.3077         2.6392                   5.9029  4.4382  ...      2.1   \n",
       "167  0.2579         0.5240                   5.1344  2.7871  ...     14.1   \n",
       "168  0.3399         1.6924                   1.0183  1.8427  ...      6.5   \n",
       "169  0.2678         0.5518                   2.2000  2.6142  ...     12.3   \n",
       "\n",
       "     Undernourished  Confirmed    Deaths  Recovered    Active  Population  \\\n",
       "0              29.8   0.142134  0.006186   0.123374  0.012574  38928000.0   \n",
       "1               6.2   2.967301  0.050951   1.792636  1.123714   2838000.0   \n",
       "2               3.9   0.244897  0.006558   0.167572  0.070767  44357000.0   \n",
       "3              25.0   0.061687  0.001461   0.056808  0.003419  32522000.0   \n",
       "5               4.6   4.356147  0.108227   3.905192  0.342729  45377000.0   \n",
       "..              ...        ...       ...        ...       ...         ...   \n",
       "165            21.2   0.452585  0.004287   0.424399  0.023899  28645000.0   \n",
       "166             9.3   0.002063  0.000036   0.001526  0.000501  96209000.0   \n",
       "167            38.9   0.007131  0.002062   0.004788  0.000282  29826000.0   \n",
       "168            46.7   0.334133  0.004564   0.290524  0.039045  18384000.0   \n",
       "169            51.3   0.232033  0.008854   0.190964  0.032214  14863000.0   \n",
       "\n",
       "     Mortality  Animal Food Intake  Plant Food Intake  \n",
       "0     4.352069       Below Average      Above Average  \n",
       "1     1.717095       Above Average      Below Average  \n",
       "2     2.677922       Below Average      Above Average  \n",
       "3     2.367660       Below Average      Above Average  \n",
       "5     2.484458       Above Average      Below Average  \n",
       "..         ...                 ...                ...  \n",
       "165   0.947217       Above Average      Below Average  \n",
       "166   1.763224       Below Average      Above Average  \n",
       "167  28.913963       Below Average      Above Average  \n",
       "168   1.365849       Below Average      Above Average  \n",
       "169   3.815931       Below Average      Above Average  \n",
       "\n",
       "[154 rows x 34 columns]"
      ]
     },
     "execution_count": 39,
     "metadata": {},
     "output_type": "execute_result"
    }
   ],
   "source": [
    "food_df['Animal Food Intake'] = ['Above Average' if x >= food_df[animals].mean().mean() else 'Below Average' for x in\n",
    "                                 food_df[animals].mean(axis=1)]\n",
    "food_df['Plant Food Intake'] = ['Above Average' if x >= food_df[vegetals].mean().mean() else 'Below Average' for x in\n",
    "                                food_df[vegetals].mean(axis=1)]\n",
    "food_df"
   ]
  },
  {
   "cell_type": "markdown",
   "id": "b9f99ec1",
   "metadata": {
    "collapsed": false,
    "pycharm": {
     "name": "#%% md\n"
    }
   },
   "source": [
    "Next, the researchers will create the dataframe containing the necessary variables needed for cluster analysis."
   ]
  },
  {
   "cell_type": "code",
   "execution_count": 40,
   "id": "2356a3d6",
   "metadata": {
    "collapsed": false,
    "pycharm": {
     "name": "#%%\n"
    }
   },
   "outputs": [
    {
     "data": {
      "text/html": [
       "<div>\n",
       "<style scoped>\n",
       "    .dataframe tbody tr th:only-of-type {\n",
       "        vertical-align: middle;\n",
       "    }\n",
       "\n",
       "    .dataframe tbody tr th {\n",
       "        vertical-align: top;\n",
       "    }\n",
       "\n",
       "    .dataframe thead th {\n",
       "        text-align: right;\n",
       "    }\n",
       "</style>\n",
       "<table border=\"1\" class=\"dataframe\">\n",
       "  <thead>\n",
       "    <tr style=\"text-align: right;\">\n",
       "      <th></th>\n",
       "      <th>Country</th>\n",
       "      <th>Obesity</th>\n",
       "      <th>Deaths</th>\n",
       "      <th>Animal Food Intake</th>\n",
       "      <th>Plant Food Intake</th>\n",
       "    </tr>\n",
       "  </thead>\n",
       "  <tbody>\n",
       "    <tr>\n",
       "      <th>0</th>\n",
       "      <td>Afghanistan</td>\n",
       "      <td>4.5</td>\n",
       "      <td>0.006186</td>\n",
       "      <td>Below Average</td>\n",
       "      <td>Above Average</td>\n",
       "    </tr>\n",
       "    <tr>\n",
       "      <th>1</th>\n",
       "      <td>Albania</td>\n",
       "      <td>22.3</td>\n",
       "      <td>0.050951</td>\n",
       "      <td>Above Average</td>\n",
       "      <td>Below Average</td>\n",
       "    </tr>\n",
       "    <tr>\n",
       "      <th>2</th>\n",
       "      <td>Algeria</td>\n",
       "      <td>26.6</td>\n",
       "      <td>0.006558</td>\n",
       "      <td>Below Average</td>\n",
       "      <td>Above Average</td>\n",
       "    </tr>\n",
       "    <tr>\n",
       "      <th>3</th>\n",
       "      <td>Angola</td>\n",
       "      <td>6.8</td>\n",
       "      <td>0.001461</td>\n",
       "      <td>Below Average</td>\n",
       "      <td>Above Average</td>\n",
       "    </tr>\n",
       "    <tr>\n",
       "      <th>4</th>\n",
       "      <td>Argentina</td>\n",
       "      <td>28.5</td>\n",
       "      <td>0.108227</td>\n",
       "      <td>Above Average</td>\n",
       "      <td>Below Average</td>\n",
       "    </tr>\n",
       "    <tr>\n",
       "      <th>...</th>\n",
       "      <td>...</td>\n",
       "      <td>...</td>\n",
       "      <td>...</td>\n",
       "      <td>...</td>\n",
       "      <td>...</td>\n",
       "    </tr>\n",
       "    <tr>\n",
       "      <th>149</th>\n",
       "      <td>Venezuela (Bolivarian Republic of)</td>\n",
       "      <td>25.2</td>\n",
       "      <td>0.004287</td>\n",
       "      <td>Above Average</td>\n",
       "      <td>Below Average</td>\n",
       "    </tr>\n",
       "    <tr>\n",
       "      <th>150</th>\n",
       "      <td>Vietnam</td>\n",
       "      <td>2.1</td>\n",
       "      <td>0.000036</td>\n",
       "      <td>Below Average</td>\n",
       "      <td>Above Average</td>\n",
       "    </tr>\n",
       "    <tr>\n",
       "      <th>151</th>\n",
       "      <td>Yemen</td>\n",
       "      <td>14.1</td>\n",
       "      <td>0.002062</td>\n",
       "      <td>Below Average</td>\n",
       "      <td>Above Average</td>\n",
       "    </tr>\n",
       "    <tr>\n",
       "      <th>152</th>\n",
       "      <td>Zambia</td>\n",
       "      <td>6.5</td>\n",
       "      <td>0.004564</td>\n",
       "      <td>Below Average</td>\n",
       "      <td>Above Average</td>\n",
       "    </tr>\n",
       "    <tr>\n",
       "      <th>153</th>\n",
       "      <td>Zimbabwe</td>\n",
       "      <td>12.3</td>\n",
       "      <td>0.008854</td>\n",
       "      <td>Below Average</td>\n",
       "      <td>Above Average</td>\n",
       "    </tr>\n",
       "  </tbody>\n",
       "</table>\n",
       "<p>154 rows × 5 columns</p>\n",
       "</div>"
      ],
      "text/plain": [
       "                                Country  Obesity    Deaths Animal Food Intake  \\\n",
       "0                           Afghanistan      4.5  0.006186      Below Average   \n",
       "1                               Albania     22.3  0.050951      Above Average   \n",
       "2                               Algeria     26.6  0.006558      Below Average   \n",
       "3                                Angola      6.8  0.001461      Below Average   \n",
       "4                             Argentina     28.5  0.108227      Above Average   \n",
       "..                                  ...      ...       ...                ...   \n",
       "149  Venezuela (Bolivarian Republic of)     25.2  0.004287      Above Average   \n",
       "150                             Vietnam      2.1  0.000036      Below Average   \n",
       "151                               Yemen     14.1  0.002062      Below Average   \n",
       "152                              Zambia      6.5  0.004564      Below Average   \n",
       "153                            Zimbabwe     12.3  0.008854      Below Average   \n",
       "\n",
       "    Plant Food Intake  \n",
       "0       Above Average  \n",
       "1       Below Average  \n",
       "2       Above Average  \n",
       "3       Above Average  \n",
       "4       Below Average  \n",
       "..                ...  \n",
       "149     Below Average  \n",
       "150     Above Average  \n",
       "151     Above Average  \n",
       "152     Above Average  \n",
       "153     Above Average  \n",
       "\n",
       "[154 rows x 5 columns]"
      ]
     },
     "execution_count": 40,
     "metadata": {},
     "output_type": "execute_result"
    }
   ],
   "source": [
    "food_cluster_df = food_df[[\"Country\", \"Obesity\", \"Deaths\", \"Animal Food Intake\", \"Plant Food Intake\"]]\n",
    "food_cluster_df.reset_index(drop=True, inplace=True)\n",
    "food_cluster_df"
   ]
  },
  {
   "cell_type": "markdown",
   "id": "4363d97c",
   "metadata": {
    "collapsed": false,
    "pycharm": {
     "name": "#%% md\n"
    }
   },
   "source": [
    "To finally use the K-means algorithm, the researchers must now import the `KMeans` class."
   ]
  },
  {
   "cell_type": "code",
   "execution_count": 41,
   "id": "66d244ac",
   "metadata": {
    "collapsed": false,
    "pycharm": {
     "name": "#%%\n"
    }
   },
   "outputs": [],
   "source": [
    "from kmeans import KMeans"
   ]
  },
  {
   "cell_type": "markdown",
   "id": "60962637",
   "metadata": {
    "collapsed": false,
    "pycharm": {
     "name": "#%% md\n"
    }
   },
   "source": [
    "Now, the researchers instantiate a `KMeans` object with `k` equal to `3`, `start_var` equal to `1`, `end_var` equal to `3`, `num_observations` equal to `154`, and `data` equal to `food_cluster_df`, which represents the dataset to be used in clustering. The parameter `k` indicates the number of clusters that will be created from the data. The parameters `start_var` and the `end_var` indicate the starting index and the ending index, respectively, of variables (columns) that the researcher will need to use as they create clusters from the dataset. This is useful because some columns from the `food_cluster_df` may be excluded from the calculation when creating clusters. Lastly, the parameter `num_observations` represents the total number of observations (rows) in the dataset."
   ]
  },
  {
   "cell_type": "code",
   "execution_count": 42,
   "id": "40de9f0b",
   "metadata": {
    "collapsed": false,
    "pycharm": {
     "name": "#%%\n"
    }
   },
   "outputs": [],
   "source": [
    "# k = 3\n",
    "# start_var = 1\n",
    "# end_var = 3\n",
    "# num_observations = 154\n",
    "# food_cluster_df = data\n",
    "kmeans = KMeans(3, 1, 3, 154, food_cluster_df)"
   ]
  },
  {
   "cell_type": "markdown",
   "id": "3c45c284",
   "metadata": {
    "collapsed": false,
    "pycharm": {
     "name": "#%% md\n"
    }
   },
   "source": [
    "Next, the `initialize_centroids`() function is called. This function initializes `k` centroids, and picks a random point from the dataset as the first centroid, then iteratively picks points that are farthest from the current set of centroids."
   ]
  },
  {
   "cell_type": "code",
   "execution_count": 43,
   "id": "3c2215ce",
   "metadata": {
    "collapsed": false,
    "pycharm": {
     "name": "#%%\n"
    }
   },
   "outputs": [
    {
     "name": "stderr",
     "output_type": "stream",
     "text": [
      "d:\\Github\\CSMODEL Project\\CSMODEL-Project\\kmeans.py:59: FutureWarning:\n",
      "\n",
      "The frame.append method is deprecated and will be removed from pandas in a future version. Use pandas.concat instead.\n",
      "\n",
      "d:\\Github\\CSMODEL Project\\CSMODEL-Project\\kmeans.py:95: FutureWarning:\n",
      "\n",
      "The frame.append method is deprecated and will be removed from pandas in a future version. Use pandas.concat instead.\n",
      "\n",
      "d:\\Github\\CSMODEL Project\\CSMODEL-Project\\kmeans.py:95: FutureWarning:\n",
      "\n",
      "The frame.append method is deprecated and will be removed from pandas in a future version. Use pandas.concat instead.\n",
      "\n"
     ]
    },
    {
     "data": {
      "text/html": [
       "<div>\n",
       "<style scoped>\n",
       "    .dataframe tbody tr th:only-of-type {\n",
       "        vertical-align: middle;\n",
       "    }\n",
       "\n",
       "    .dataframe tbody tr th {\n",
       "        vertical-align: top;\n",
       "    }\n",
       "\n",
       "    .dataframe thead th {\n",
       "        text-align: right;\n",
       "    }\n",
       "</style>\n",
       "<table border=\"1\" class=\"dataframe\">\n",
       "  <thead>\n",
       "    <tr style=\"text-align: right;\">\n",
       "      <th></th>\n",
       "      <th>Obesity</th>\n",
       "      <th>Deaths</th>\n",
       "    </tr>\n",
       "  </thead>\n",
       "  <tbody>\n",
       "    <tr>\n",
       "      <th>0</th>\n",
       "      <td>28.2</td>\n",
       "      <td>0.000000</td>\n",
       "    </tr>\n",
       "    <tr>\n",
       "      <th>1</th>\n",
       "      <td>2.1</td>\n",
       "      <td>0.000036</td>\n",
       "    </tr>\n",
       "    <tr>\n",
       "      <th>2</th>\n",
       "      <td>45.5</td>\n",
       "      <td>0.000000</td>\n",
       "    </tr>\n",
       "  </tbody>\n",
       "</table>\n",
       "</div>"
      ],
      "text/plain": [
       "   Obesity    Deaths\n",
       "0     28.2  0.000000\n",
       "1      2.1  0.000036\n",
       "2     45.5  0.000000"
      ]
     },
     "execution_count": 43,
     "metadata": {},
     "output_type": "execute_result"
    }
   ],
   "source": [
    "kmeans.initialize_centroids(food_cluster_df)"
   ]
  },
  {
   "cell_type": "markdown",
   "id": "88564b4d",
   "metadata": {
    "collapsed": false,
    "pycharm": {
     "name": "#%% md\n"
    }
   },
   "source": [
    "The `train()` function is then called, and its returned value is assigned to groups. This function returns a `Series` which represents the final clusters of each data point in the dataset. This function stops clustering if one of the following is met:\n",
    "- The values of the centroids do not change.\n",
    "- The clusters of each data point do not change.\n",
    "- The maximum number of iterations is met."
   ]
  },
  {
   "cell_type": "code",
   "execution_count": 44,
   "id": "d203f8e3",
   "metadata": {
    "collapsed": false,
    "pycharm": {
     "name": "#%%\n"
    }
   },
   "outputs": [
    {
     "name": "stdout",
     "output_type": "stream",
     "text": [
      "Iteration 1\n",
      "Iteration 2\n",
      "Iteration 3\n",
      "Iteration 4\n",
      "Iteration 5\n",
      "Iteration 6\n",
      "Iteration 7\n",
      "Iteration 8\n",
      "Done clustering!\n"
     ]
    }
   ],
   "source": [
    "groups = kmeans.train(food_cluster_df, 300)"
   ]
  },
  {
   "cell_type": "markdown",
   "id": "395066e6",
   "metadata": {
    "collapsed": false,
    "pycharm": {
     "name": "#%% md\n"
    }
   },
   "source": [
    "Here, variables `cluster_0`, `cluster_1`, and `cluster_2` are created to represent the three respective clusters created using the K-means algorithm."
   ]
  },
  {
   "cell_type": "code",
   "execution_count": 45,
   "id": "9a616fb0",
   "metadata": {
    "collapsed": false,
    "pycharm": {
     "name": "#%%\n"
    }
   },
   "outputs": [],
   "source": [
    "cluster_0 = food_cluster_df.loc[groups == 0]\n",
    "cluster_1 = food_cluster_df.loc[groups == 1]\n",
    "cluster_2 = food_cluster_df.loc[groups == 2]"
   ]
  },
  {
   "cell_type": "markdown",
   "id": "44bb72ef",
   "metadata": {
    "collapsed": false,
    "pycharm": {
     "name": "#%% md\n"
    }
   },
   "source": [
    "The `Cluster` column is added in the `food_cluster_df` dataframe, depicting the appropriate cluster number for the respective observations."
   ]
  },
  {
   "cell_type": "code",
   "execution_count": 46,
   "id": "bfb242ce",
   "metadata": {
    "collapsed": false,
    "pycharm": {
     "name": "#%%\n"
    }
   },
   "outputs": [
    {
     "data": {
      "text/html": [
       "<div>\n",
       "<style scoped>\n",
       "    .dataframe tbody tr th:only-of-type {\n",
       "        vertical-align: middle;\n",
       "    }\n",
       "\n",
       "    .dataframe tbody tr th {\n",
       "        vertical-align: top;\n",
       "    }\n",
       "\n",
       "    .dataframe thead th {\n",
       "        text-align: right;\n",
       "    }\n",
       "</style>\n",
       "<table border=\"1\" class=\"dataframe\">\n",
       "  <thead>\n",
       "    <tr style=\"text-align: right;\">\n",
       "      <th></th>\n",
       "      <th>Country</th>\n",
       "      <th>Obesity</th>\n",
       "      <th>Deaths</th>\n",
       "      <th>Animal Food Intake</th>\n",
       "      <th>Plant Food Intake</th>\n",
       "      <th>Cluster</th>\n",
       "    </tr>\n",
       "  </thead>\n",
       "  <tbody>\n",
       "    <tr>\n",
       "      <th>0</th>\n",
       "      <td>Afghanistan</td>\n",
       "      <td>4.5</td>\n",
       "      <td>0.006186</td>\n",
       "      <td>Below Average</td>\n",
       "      <td>Above Average</td>\n",
       "      <td>1</td>\n",
       "    </tr>\n",
       "    <tr>\n",
       "      <th>1</th>\n",
       "      <td>Albania</td>\n",
       "      <td>22.3</td>\n",
       "      <td>0.050951</td>\n",
       "      <td>Above Average</td>\n",
       "      <td>Below Average</td>\n",
       "      <td>2</td>\n",
       "    </tr>\n",
       "    <tr>\n",
       "      <th>2</th>\n",
       "      <td>Algeria</td>\n",
       "      <td>26.6</td>\n",
       "      <td>0.006558</td>\n",
       "      <td>Below Average</td>\n",
       "      <td>Above Average</td>\n",
       "      <td>1</td>\n",
       "    </tr>\n",
       "    <tr>\n",
       "      <th>3</th>\n",
       "      <td>Angola</td>\n",
       "      <td>6.8</td>\n",
       "      <td>0.001461</td>\n",
       "      <td>Below Average</td>\n",
       "      <td>Above Average</td>\n",
       "      <td>1</td>\n",
       "    </tr>\n",
       "    <tr>\n",
       "      <th>4</th>\n",
       "      <td>Argentina</td>\n",
       "      <td>28.5</td>\n",
       "      <td>0.108227</td>\n",
       "      <td>Above Average</td>\n",
       "      <td>Below Average</td>\n",
       "      <td>0</td>\n",
       "    </tr>\n",
       "    <tr>\n",
       "      <th>...</th>\n",
       "      <td>...</td>\n",
       "      <td>...</td>\n",
       "      <td>...</td>\n",
       "      <td>...</td>\n",
       "      <td>...</td>\n",
       "      <td>...</td>\n",
       "    </tr>\n",
       "    <tr>\n",
       "      <th>149</th>\n",
       "      <td>Venezuela (Bolivarian Republic of)</td>\n",
       "      <td>25.2</td>\n",
       "      <td>0.004287</td>\n",
       "      <td>Above Average</td>\n",
       "      <td>Below Average</td>\n",
       "      <td>1</td>\n",
       "    </tr>\n",
       "    <tr>\n",
       "      <th>150</th>\n",
       "      <td>Vietnam</td>\n",
       "      <td>2.1</td>\n",
       "      <td>0.000036</td>\n",
       "      <td>Below Average</td>\n",
       "      <td>Above Average</td>\n",
       "      <td>1</td>\n",
       "    </tr>\n",
       "    <tr>\n",
       "      <th>151</th>\n",
       "      <td>Yemen</td>\n",
       "      <td>14.1</td>\n",
       "      <td>0.002062</td>\n",
       "      <td>Below Average</td>\n",
       "      <td>Above Average</td>\n",
       "      <td>1</td>\n",
       "    </tr>\n",
       "    <tr>\n",
       "      <th>152</th>\n",
       "      <td>Zambia</td>\n",
       "      <td>6.5</td>\n",
       "      <td>0.004564</td>\n",
       "      <td>Below Average</td>\n",
       "      <td>Above Average</td>\n",
       "      <td>1</td>\n",
       "    </tr>\n",
       "    <tr>\n",
       "      <th>153</th>\n",
       "      <td>Zimbabwe</td>\n",
       "      <td>12.3</td>\n",
       "      <td>0.008854</td>\n",
       "      <td>Below Average</td>\n",
       "      <td>Above Average</td>\n",
       "      <td>1</td>\n",
       "    </tr>\n",
       "  </tbody>\n",
       "</table>\n",
       "<p>154 rows × 6 columns</p>\n",
       "</div>"
      ],
      "text/plain": [
       "                                Country  Obesity    Deaths Animal Food Intake  \\\n",
       "0                           Afghanistan      4.5  0.006186      Below Average   \n",
       "1                               Albania     22.3  0.050951      Above Average   \n",
       "2                               Algeria     26.6  0.006558      Below Average   \n",
       "3                                Angola      6.8  0.001461      Below Average   \n",
       "4                             Argentina     28.5  0.108227      Above Average   \n",
       "..                                  ...      ...       ...                ...   \n",
       "149  Venezuela (Bolivarian Republic of)     25.2  0.004287      Above Average   \n",
       "150                             Vietnam      2.1  0.000036      Below Average   \n",
       "151                               Yemen     14.1  0.002062      Below Average   \n",
       "152                              Zambia      6.5  0.004564      Below Average   \n",
       "153                            Zimbabwe     12.3  0.008854      Below Average   \n",
       "\n",
       "    Plant Food Intake  Cluster  \n",
       "0       Above Average        1  \n",
       "1       Below Average        2  \n",
       "2       Above Average        1  \n",
       "3       Above Average        1  \n",
       "4       Below Average        0  \n",
       "..                ...      ...  \n",
       "149     Below Average        1  \n",
       "150     Above Average        1  \n",
       "151     Above Average        1  \n",
       "152     Above Average        1  \n",
       "153     Above Average        1  \n",
       "\n",
       "[154 rows x 6 columns]"
      ]
     },
     "execution_count": 46,
     "metadata": {},
     "output_type": "execute_result"
    }
   ],
   "source": [
    "food_cluster_df = pd.concat([food_cluster_df.iloc[:, 0:5], groups.rename('Cluster')], axis=1)\n",
    "food_cluster_df"
   ]
  },
  {
   "cell_type": "markdown",
   "id": "a3d9ffc0",
   "metadata": {
    "collapsed": false,
    "pycharm": {
     "name": "#%% md\n"
    }
   },
   "source": [
    "Shown below is the visualization of the results of the clustering performed using the K-means algorithm. The x-axis represents `Obesity`, while the y-axis represents `Deaths`. Hovering over a specific point will display the `Country` it represents, its exact values for `Obesity`, `Deaths`, `Animal Food Intake`, and `Plant Food Intake`, as well as the `Cluster` where the observation belongs to. In addition to being seen while hovering over a specific point, the three different clusters are also visualized using distinct colors. `Cluster 0` is represented by the color violet, `Cluster 1` is represented by the color teal, and `Cluster 2` is represented by the color yellow."
   ]
  },
  {
   "cell_type": "code",
   "execution_count": 47,
   "id": "288318f1",
   "metadata": {
    "collapsed": false,
    "pycharm": {
     "name": "#%%\n"
    }
   },
   "outputs": [
    {
     "data": {
      "application/vnd.plotly.v1+json": {
       "config": {
        "plotlyServerURL": "https://plot.ly"
       },
       "data": [
        {
         "customdata": [
          [
           "Below Average",
           "Above Average"
          ],
          [
           "Above Average",
           "Below Average"
          ],
          [
           "Below Average",
           "Above Average"
          ],
          [
           "Below Average",
           "Above Average"
          ],
          [
           "Above Average",
           "Below Average"
          ],
          [
           "Above Average",
           "Below Average"
          ],
          [
           "Above Average",
           "Below Average"
          ],
          [
           "Above Average",
           "Below Average"
          ],
          [
           "Below Average",
           "Above Average"
          ],
          [
           "Below Average",
           "Above Average"
          ],
          [
           "Above Average",
           "Below Average"
          ],
          [
           "Above Average",
           "Below Average"
          ],
          [
           "Above Average",
           "Below Average"
          ],
          [
           "Below Average",
           "Above Average"
          ],
          [
           "Below Average",
           "Above Average"
          ],
          [
           "Below Average",
           "Above Average"
          ],
          [
           "Above Average",
           "Below Average"
          ],
          [
           "Above Average",
           "Below Average"
          ],
          [
           "Above Average",
           "Below Average"
          ],
          [
           "Above Average",
           "Below Average"
          ],
          [
           "Below Average",
           "Above Average"
          ],
          [
           "Below Average",
           "Above Average"
          ],
          [
           "Below Average",
           "Above Average"
          ],
          [
           "Below Average",
           "Above Average"
          ],
          [
           "Below Average",
           "Above Average"
          ],
          [
           "Above Average",
           "Below Average"
          ],
          [
           "Above Average",
           "Below Average"
          ],
          [
           "Above Average",
           "Below Average"
          ],
          [
           "Below Average",
           "Above Average"
          ],
          [
           "Above Average",
           "Below Average"
          ],
          [
           "Below Average",
           "Above Average"
          ],
          [
           "Above Average",
           "Below Average"
          ],
          [
           "Below Average",
           "Above Average"
          ],
          [
           "Above Average",
           "Below Average"
          ],
          [
           "Above Average",
           "Below Average"
          ],
          [
           "Above Average",
           "Below Average"
          ],
          [
           "Below Average",
           "Above Average"
          ],
          [
           "Below Average",
           "Above Average"
          ],
          [
           "Below Average",
           "Above Average"
          ],
          [
           "Above Average",
           "Below Average"
          ],
          [
           "Below Average",
           "Above Average"
          ],
          [
           "Above Average",
           "Below Average"
          ],
          [
           "Above Average",
           "Below Average"
          ],
          [
           "Below Average",
           "Above Average"
          ],
          [
           "Below Average",
           "Above Average"
          ],
          [
           "Below Average",
           "Above Average"
          ],
          [
           "Above Average",
           "Below Average"
          ],
          [
           "Above Average",
           "Below Average"
          ],
          [
           "Below Average",
           "Above Average"
          ],
          [
           "Below Average",
           "Above Average"
          ],
          [
           "Above Average",
           "Below Average"
          ],
          [
           "Above Average",
           "Below Average"
          ],
          [
           "Below Average",
           "Above Average"
          ],
          [
           "Above Average",
           "Below Average"
          ],
          [
           "Below Average",
           "Above Average"
          ],
          [
           "Below Average",
           "Above Average"
          ],
          [
           "Below Average",
           "Above Average"
          ],
          [
           "Below Average",
           "Above Average"
          ],
          [
           "Below Average",
           "Above Average"
          ],
          [
           "Above Average",
           "Below Average"
          ],
          [
           "Above Average",
           "Below Average"
          ],
          [
           "Above Average",
           "Below Average"
          ],
          [
           "Below Average",
           "Above Average"
          ],
          [
           "Below Average",
           "Above Average"
          ],
          [
           "Below Average",
           "Above Average"
          ],
          [
           "Below Average",
           "Above Average"
          ],
          [
           "Above Average",
           "Below Average"
          ],
          [
           "Above Average",
           "Below Average"
          ],
          [
           "Above Average",
           "Below Average"
          ],
          [
           "Below Average",
           "Above Average"
          ],
          [
           "Above Average",
           "Below Average"
          ],
          [
           "Below Average",
           "Above Average"
          ],
          [
           "Above Average",
           "Below Average"
          ],
          [
           "Below Average",
           "Above Average"
          ],
          [
           "Below Average",
           "Above Average"
          ],
          [
           "Below Average",
           "Above Average"
          ],
          [
           "Above Average",
           "Below Average"
          ],
          [
           "Below Average",
           "Above Average"
          ],
          [
           "Above Average",
           "Below Average"
          ],
          [
           "Below Average",
           "Above Average"
          ],
          [
           "Below Average",
           "Above Average"
          ],
          [
           "Below Average",
           "Above Average"
          ],
          [
           "Above Average",
           "Below Average"
          ],
          [
           "Above Average",
           "Below Average"
          ],
          [
           "Below Average",
           "Above Average"
          ],
          [
           "Below Average",
           "Above Average"
          ],
          [
           "Above Average",
           "Below Average"
          ],
          [
           "Above Average",
           "Below Average"
          ],
          [
           "Below Average",
           "Above Average"
          ],
          [
           "Above Average",
           "Below Average"
          ],
          [
           "Above Average",
           "Below Average"
          ],
          [
           "Below Average",
           "Above Average"
          ],
          [
           "Above Average",
           "Below Average"
          ],
          [
           "Above Average",
           "Below Average"
          ],
          [
           "Above Average",
           "Below Average"
          ],
          [
           "Below Average",
           "Above Average"
          ],
          [
           "Below Average",
           "Above Average"
          ],
          [
           "Below Average",
           "Above Average"
          ],
          [
           "Below Average",
           "Above Average"
          ],
          [
           "Above Average",
           "Below Average"
          ],
          [
           "Above Average",
           "Below Average"
          ],
          [
           "Above Average",
           "Below Average"
          ],
          [
           "Below Average",
           "Above Average"
          ],
          [
           "Below Average",
           "Above Average"
          ],
          [
           "Below Average",
           "Above Average"
          ],
          [
           "Above Average",
           "Below Average"
          ],
          [
           "Above Average",
           "Below Average"
          ],
          [
           "Above Average",
           "Below Average"
          ],
          [
           "Above Average",
           "Below Average"
          ],
          [
           "Below Average",
           "Above Average"
          ],
          [
           "Below Average",
           "Above Average"
          ],
          [
           "Below Average",
           "Above Average"
          ],
          [
           "Above Average",
           "Below Average"
          ],
          [
           "Above Average",
           "Below Average"
          ],
          [
           "Above Average",
           "Below Average"
          ],
          [
           "Above Average",
           "Below Average"
          ],
          [
           "Below Average",
           "Above Average"
          ],
          [
           "Below Average",
           "Above Average"
          ],
          [
           "Below Average",
           "Above Average"
          ],
          [
           "Below Average",
           "Above Average"
          ],
          [
           "Above Average",
           "Below Average"
          ],
          [
           "Below Average",
           "Above Average"
          ],
          [
           "Above Average",
           "Below Average"
          ],
          [
           "Below Average",
           "Above Average"
          ],
          [
           "Above Average",
           "Below Average"
          ],
          [
           "Above Average",
           "Below Average"
          ],
          [
           "Below Average",
           "Above Average"
          ],
          [
           "Below Average",
           "Above Average"
          ],
          [
           "Above Average",
           "Below Average"
          ],
          [
           "Below Average",
           "Above Average"
          ],
          [
           "Above Average",
           "Below Average"
          ],
          [
           "Below Average",
           "Above Average"
          ],
          [
           "Above Average",
           "Below Average"
          ],
          [
           "Above Average",
           "Below Average"
          ],
          [
           "Below Average",
           "Above Average"
          ],
          [
           "Below Average",
           "Above Average"
          ],
          [
           "Below Average",
           "Above Average"
          ],
          [
           "Above Average",
           "Below Average"
          ],
          [
           "Below Average",
           "Above Average"
          ],
          [
           "Above Average",
           "Below Average"
          ],
          [
           "Below Average",
           "Above Average"
          ],
          [
           "Above Average",
           "Below Average"
          ],
          [
           "Below Average",
           "Above Average"
          ],
          [
           "Above Average",
           "Below Average"
          ],
          [
           "Below Average",
           "Above Average"
          ],
          [
           "Above Average",
           "Below Average"
          ],
          [
           "Above Average",
           "Below Average"
          ],
          [
           "Above Average",
           "Below Average"
          ],
          [
           "Below Average",
           "Above Average"
          ],
          [
           "Above Average",
           "Below Average"
          ],
          [
           "Below Average",
           "Above Average"
          ],
          [
           "Below Average",
           "Above Average"
          ],
          [
           "Below Average",
           "Above Average"
          ],
          [
           "Below Average",
           "Above Average"
          ]
         ],
         "hovertemplate": "<b>%{hovertext}</b><br><br>Obesity=%{x}<br>Deaths=%{y}<br>Animal Food Intake=%{customdata[0]}<br>Plant Food Intake=%{customdata[1]}<br>Cluster=%{marker.color}<extra></extra>",
         "hovertext": [
          "Afghanistan",
          "Albania",
          "Algeria",
          "Angola",
          "Argentina",
          "Armenia",
          "Australia",
          "Austria",
          "Azerbaijan",
          "Bangladesh",
          "Barbados",
          "Belarus",
          "Belgium",
          "Belize",
          "Benin",
          "Bolivia",
          "Bosnia and Herzegovina",
          "Botswana",
          "Brazil",
          "Bulgaria",
          "Burkina Faso",
          "Cabo Verde",
          "Cambodia",
          "Cameroon",
          "Central African Republic",
          "Chad",
          "China",
          "Colombia",
          "Congo",
          "Costa Rica",
          "Cote d'Ivoire",
          "Croatia",
          "Cuba",
          "Cyprus",
          "Czechia",
          "Denmark",
          "Djibouti",
          "Dominica",
          "Dominican Republic",
          "Ecuador",
          "Egypt",
          "El Salvador",
          "Estonia",
          "Eswatini",
          "Ethiopia",
          "Fiji",
          "Finland",
          "France",
          "Gabon",
          "Gambia",
          "Georgia",
          "Germany",
          "Ghana",
          "Greece",
          "Guatemala",
          "Guinea",
          "Guinea-Bissau",
          "Guyana",
          "Haiti",
          "Honduras",
          "Hungary",
          "Iceland",
          "India",
          "Indonesia",
          "Iran (Islamic Republic of)",
          "Iraq",
          "Ireland",
          "Israel",
          "Italy",
          "Jamaica",
          "Japan",
          "Jordan",
          "Kazakhstan",
          "Kenya",
          "Korea, South",
          "Kuwait",
          "Kyrgyzstan",
          "Lao People's Democratic Republic",
          "Latvia",
          "Lebanon",
          "Lesotho",
          "Liberia",
          "Lithuania",
          "Luxembourg",
          "Madagascar",
          "Malawi",
          "Malaysia",
          "Maldives",
          "Mali",
          "Malta",
          "Mauritania",
          "Mauritius",
          "Mexico",
          "Mongolia",
          "Montenegro",
          "Morocco",
          "Mozambique",
          "Namibia",
          "Nepal",
          "Netherlands",
          "New Zealand",
          "Nicaragua",
          "Niger",
          "Nigeria",
          "North Macedonia",
          "Norway",
          "Oman",
          "Pakistan",
          "Panama",
          "Paraguay",
          "Peru",
          "Philippines",
          "Poland",
          "Portugal",
          "Romania",
          "Russian Federation",
          "Rwanda",
          "Saint Vincent and the Grenadines",
          "Samoa",
          "Sao Tome and Principe",
          "Saudi Arabia",
          "Senegal",
          "Serbia",
          "Sierra Leone",
          "Slovakia",
          "Slovenia",
          "Solomon Islands",
          "South Africa",
          "Spain",
          "Sri Lanka",
          "Sudan",
          "Suriname",
          "Sweden",
          "Switzerland",
          "Thailand",
          "Timor-Leste",
          "Togo",
          "Trinidad and Tobago",
          "Tunisia",
          "Turkey",
          "Uganda",
          "Ukraine",
          "United Arab Emirates",
          "United Kingdom",
          "United Republic of Tanzania",
          "United States of America",
          "Uruguay",
          "Uzbekistan",
          "Vanuatu",
          "Venezuela (Bolivarian Republic of)",
          "Vietnam",
          "Yemen",
          "Zambia",
          "Zimbabwe"
         ],
         "legendgroup": "",
         "marker": {
          "color": [
           1,
           2,
           1,
           1,
           0,
           0,
           1,
           2,
           1,
           1,
           1,
           1,
           0,
           2,
           1,
           0,
           0,
           1,
           0,
           0,
           1,
           1,
           1,
           1,
           1,
           1,
           1,
           0,
           1,
           2,
           1,
           0,
           1,
           1,
           0,
           2,
           1,
           1,
           1,
           2,
           1,
           1,
           2,
           2,
           1,
           1,
           1,
           0,
           1,
           1,
           2,
           2,
           1,
           2,
           2,
           1,
           1,
           1,
           1,
           2,
           0,
           1,
           1,
           1,
           2,
           2,
           2,
           2,
           0,
           1,
           1,
           2,
           1,
           1,
           1,
           1,
           1,
           1,
           2,
           2,
           1,
           1,
           0,
           0,
           1,
           1,
           1,
           1,
           1,
           2,
           1,
           1,
           0,
           1,
           0,
           1,
           1,
           1,
           1,
           2,
           1,
           1,
           1,
           1,
           0,
           1,
           2,
           1,
           0,
           2,
           0,
           1,
           0,
           0,
           0,
           2,
           1,
           1,
           1,
           1,
           1,
           1,
           2,
           1,
           0,
           0,
           1,
           2,
           0,
           1,
           1,
           1,
           0,
           0,
           1,
           1,
           1,
           1,
           2,
           2,
           1,
           2,
           1,
           0,
           1,
           0,
           1,
           1,
           1,
           1,
           1,
           1,
           1,
           1
          ],
          "coloraxis": "coloraxis",
          "line": {
           "color": "DarkSlateGrey",
           "width": 2
          },
          "opacity": 0.8,
          "size": 12,
          "symbol": "circle"
         },
         "mode": "markers",
         "name": "",
         "orientation": "v",
         "showlegend": false,
         "type": "scatter",
         "x": [
          4.5,
          22.3,
          26.6,
          6.8,
          28.5,
          20.9,
          30.4,
          21.9,
          19.9,
          3.4,
          24.8,
          26.6,
          24.5,
          22.4,
          8.2,
          18.7,
          19.4,
          16.1,
          22.3,
          27.4,
          4.5,
          10.6,
          3.5,
          9.5,
          6.3,
          4.8,
          6.6,
          22.1,
          8.4,
          25.7,
          9,
          27.1,
          26.7,
          22.6,
          28.5,
          21.3,
          12.2,
          28.2,
          26.9,
          19.3,
          31.1,
          22.7,
          23.8,
          13.5,
          3.6,
          30,
          24.9,
          23.2,
          13.4,
          8.7,
          23.3,
          25.7,
          9.7,
          27.4,
          18.8,
          6.6,
          8.2,
          19.2,
          20.5,
          19.4,
          28.6,
          23.1,
          3.8,
          6.9,
          25.5,
          27.4,
          26.9,
          26.7,
          22.9,
          24.4,
          4.4,
          33.4,
          21.3,
          6,
          4.9,
          37,
          15.4,
          4.5,
          25.7,
          31.3,
          13.5,
          8.6,
          28.4,
          24.2,
          4.5,
          4.7,
          15.3,
          7.9,
          7.1,
          31,
          11.3,
          11.5,
          28.4,
          19.6,
          24.9,
          25.6,
          6,
          15,
          3.8,
          23.1,
          32,
          21.8,
          4.7,
          7.8,
          23.9,
          25,
          22.9,
          7.8,
          22.5,
          19,
          19.1,
          6,
          25.6,
          23.2,
          24.5,
          25.7,
          4.8,
          23.8,
          45.5,
          10.6,
          35,
          7.4,
          23.5,
          7.5,
          22.4,
          22.5,
          20.5,
          27,
          27.1,
          5.4,
          7.4,
          26.5,
          22.1,
          21.2,
          10.8,
          2.9,
          7.1,
          19.7,
          27.3,
          32.2,
          4.1,
          26.1,
          29.9,
          29.5,
          7.1,
          37.3,
          28.9,
          15.3,
          23.5,
          25.2,
          2.1,
          14.1,
          6.5,
          12.3
         ],
         "xaxis": "x",
         "y": [
          0.0061857788738183,
          0.0509513742071882,
          0.0065581531663548,
          0.0014605497816862,
          0.108226634638694,
          0.105345060893099,
          0.0035295488079521,
          0.0896791563832174,
          0.0312227938266719,
          0.0048230659152341,
          0.0062717770034843,
          0.018912,
          0.185427702996092,
          0.0730310262529833,
          4.504873454009E-4,
          0.0924353133327602,
          0.145534897896983,
          0.0070349589987052,
          0.108602912016316,
          0.134416053125451,
          6.41056307707E-4,
          0.0242805755395683,
          0,
          0.001782088878863,
          0.0013043478260869,
          7.406529596492E-4,
          3.438428106404E-4,
          0.112638540571151,
          0.0145161290322581,
          0.0522793973782039,
          6.189111747851E-4,
          0.127960199004975,
          0.0020654197322932,
          0.0174813587406794,
          0.159845091452034,
          0.0380168124892777,
          0.0063765182186234,
          0,
          0.0266761904761905,
          0.0856832847924162,
          0.0095274942214021,
          0.0258139176053078,
          0.0342599549211119,
          0.0547101449275362,
          0.0018665808068502,
          2.232142857142E-4,
          0.0124434798336046,
          0.121558361564521,
          0.0031824294038547,
          0.0055440628878775,
          0.0879946164199192,
          0.073890756302521,
          0.0014449843915939,
          0.0556168224299065,
          0.0324034097199159,
          6.687898089171E-4,
          0.0023871302542812,
          0.0228716645489199,
          0.0021485573971761,
          0.0376115166261152,
          0.13336746186137,
          0.0078804347826087,
          0.0110703521177059,
          0.0115526295452622,
          0.0694141414141414,
          0.0330044052863436,
          0.0734359384369378,
          0.0550238715277778,
          0.150927093007828,
          0.0127091491634033,
          0.0050592615526288,
          0.0409120704185785,
          0.0166506512919069,
          0.0033178897025855,
          0.0028408103358374,
          0.0205499893412918,
          0.0215802244464665,
          0,
          0.0697686645636172,
          0.0521904761904762,
          0.0085434173669467,
          0.0016607354685646,
          0.104760200429492,
          0.0933544303797468,
          0.0010147701419233,
          0.0043753267119707,
          0.002614319270309,
          0.0099815157116451,
          0.00166905338008,
          0.053448275862069,
          0.0091397849462365,
          7.90513833992E-4,
          0.129731125579066,
          5.9506099375186E-5,
          0.134405144694534,
          0.0233116377392078,
          0.0014470897773214,
          0.0146005509641873,
          0.0067842378983864,
          0.0828304803343448,
          5.013033888109E-4,
          0.0025773195876288,
          6.821282401091E-4,
          7.989715727175E-4,
          0.140192307692308,
          0.0108037868943753,
          0.0325058349246764,
          0.0054164026432515,
          0.127363997198226,
          0.0386905582356995,
          0.127751035827443,
          0.0101386189211633,
          0.101631567973311,
          0.136070209653827,
          0.0977547944493529,
          0.0511200616084998,
          0.0016754169240271,
          0.0027027027027027,
          0,
          0.0085714285714285,
          0.0182557575411661,
          0.0040312947921643,
          0.0591059364668679,
          9.903472483389E-4,
          0.094013181984621,
          0.171754636233952,
          0,
          0.0774468370564164,
          0.128867429411147,
          0.0016000364680676,
          0.0041756938584688,
          0.0264462809917355,
          0.11674857858726,
          0.111257817929117,
          1.187362852075E-4,
          0,
          9.542215243386E-4,
          0.0098612125639152,
          0.0602051109616678,
          0.0318676331848526,
          7.148947333901E-4,
          0.0592058020967974,
          0.0093475148292084,
          0.167220071471114,
          3.51558576355175E-5,
          0.140103007778633,
          0.0136222033418295,
          0.0018171709486744,
          0,
          0.0042869610752312,
          3.63791329293517E-5,
          0.002061959364313,
          0.0045637510879025,
          0.0088542017089416
         ],
         "yaxis": "y"
        }
       ],
       "layout": {
        "coloraxis": {
         "colorbar": {
          "title": {
           "text": "Cluster"
          }
         },
         "colorscale": [
          [
           0,
           "#440154"
          ],
          [
           0.1111111111111111,
           "#482878"
          ],
          [
           0.2222222222222222,
           "#3e4989"
          ],
          [
           0.3333333333333333,
           "#31688e"
          ],
          [
           0.4444444444444444,
           "#26828e"
          ],
          [
           0.5555555555555556,
           "#1f9e89"
          ],
          [
           0.6666666666666666,
           "#35b779"
          ],
          [
           0.7777777777777778,
           "#6ece58"
          ],
          [
           0.8888888888888888,
           "#b5de2b"
          ],
          [
           1,
           "#fde725"
          ]
         ]
        },
        "legend": {
         "tracegroupgap": 0
        },
        "margin": {
         "t": 60
        },
        "template": {
         "data": {
          "bar": [
           {
            "error_x": {
             "color": "rgb(36,36,36)"
            },
            "error_y": {
             "color": "rgb(36,36,36)"
            },
            "marker": {
             "line": {
              "color": "white",
              "width": 0.5
             },
             "pattern": {
              "fillmode": "overlay",
              "size": 10,
              "solidity": 0.2
             }
            },
            "type": "bar"
           }
          ],
          "barpolar": [
           {
            "marker": {
             "line": {
              "color": "white",
              "width": 0.5
             },
             "pattern": {
              "fillmode": "overlay",
              "size": 10,
              "solidity": 0.2
             }
            },
            "type": "barpolar"
           }
          ],
          "carpet": [
           {
            "aaxis": {
             "endlinecolor": "rgb(36,36,36)",
             "gridcolor": "white",
             "linecolor": "white",
             "minorgridcolor": "white",
             "startlinecolor": "rgb(36,36,36)"
            },
            "baxis": {
             "endlinecolor": "rgb(36,36,36)",
             "gridcolor": "white",
             "linecolor": "white",
             "minorgridcolor": "white",
             "startlinecolor": "rgb(36,36,36)"
            },
            "type": "carpet"
           }
          ],
          "choropleth": [
           {
            "colorbar": {
             "outlinewidth": 1,
             "tickcolor": "rgb(36,36,36)",
             "ticks": "outside"
            },
            "type": "choropleth"
           }
          ],
          "contour": [
           {
            "colorbar": {
             "outlinewidth": 1,
             "tickcolor": "rgb(36,36,36)",
             "ticks": "outside"
            },
            "colorscale": [
             [
              0,
              "#440154"
             ],
             [
              0.1111111111111111,
              "#482878"
             ],
             [
              0.2222222222222222,
              "#3e4989"
             ],
             [
              0.3333333333333333,
              "#31688e"
             ],
             [
              0.4444444444444444,
              "#26828e"
             ],
             [
              0.5555555555555556,
              "#1f9e89"
             ],
             [
              0.6666666666666666,
              "#35b779"
             ],
             [
              0.7777777777777778,
              "#6ece58"
             ],
             [
              0.8888888888888888,
              "#b5de2b"
             ],
             [
              1,
              "#fde725"
             ]
            ],
            "type": "contour"
           }
          ],
          "contourcarpet": [
           {
            "colorbar": {
             "outlinewidth": 1,
             "tickcolor": "rgb(36,36,36)",
             "ticks": "outside"
            },
            "type": "contourcarpet"
           }
          ],
          "heatmap": [
           {
            "colorbar": {
             "outlinewidth": 1,
             "tickcolor": "rgb(36,36,36)",
             "ticks": "outside"
            },
            "colorscale": [
             [
              0,
              "#440154"
             ],
             [
              0.1111111111111111,
              "#482878"
             ],
             [
              0.2222222222222222,
              "#3e4989"
             ],
             [
              0.3333333333333333,
              "#31688e"
             ],
             [
              0.4444444444444444,
              "#26828e"
             ],
             [
              0.5555555555555556,
              "#1f9e89"
             ],
             [
              0.6666666666666666,
              "#35b779"
             ],
             [
              0.7777777777777778,
              "#6ece58"
             ],
             [
              0.8888888888888888,
              "#b5de2b"
             ],
             [
              1,
              "#fde725"
             ]
            ],
            "type": "heatmap"
           }
          ],
          "heatmapgl": [
           {
            "colorbar": {
             "outlinewidth": 1,
             "tickcolor": "rgb(36,36,36)",
             "ticks": "outside"
            },
            "colorscale": [
             [
              0,
              "#440154"
             ],
             [
              0.1111111111111111,
              "#482878"
             ],
             [
              0.2222222222222222,
              "#3e4989"
             ],
             [
              0.3333333333333333,
              "#31688e"
             ],
             [
              0.4444444444444444,
              "#26828e"
             ],
             [
              0.5555555555555556,
              "#1f9e89"
             ],
             [
              0.6666666666666666,
              "#35b779"
             ],
             [
              0.7777777777777778,
              "#6ece58"
             ],
             [
              0.8888888888888888,
              "#b5de2b"
             ],
             [
              1,
              "#fde725"
             ]
            ],
            "type": "heatmapgl"
           }
          ],
          "histogram": [
           {
            "marker": {
             "line": {
              "color": "white",
              "width": 0.6
             }
            },
            "type": "histogram"
           }
          ],
          "histogram2d": [
           {
            "colorbar": {
             "outlinewidth": 1,
             "tickcolor": "rgb(36,36,36)",
             "ticks": "outside"
            },
            "colorscale": [
             [
              0,
              "#440154"
             ],
             [
              0.1111111111111111,
              "#482878"
             ],
             [
              0.2222222222222222,
              "#3e4989"
             ],
             [
              0.3333333333333333,
              "#31688e"
             ],
             [
              0.4444444444444444,
              "#26828e"
             ],
             [
              0.5555555555555556,
              "#1f9e89"
             ],
             [
              0.6666666666666666,
              "#35b779"
             ],
             [
              0.7777777777777778,
              "#6ece58"
             ],
             [
              0.8888888888888888,
              "#b5de2b"
             ],
             [
              1,
              "#fde725"
             ]
            ],
            "type": "histogram2d"
           }
          ],
          "histogram2dcontour": [
           {
            "colorbar": {
             "outlinewidth": 1,
             "tickcolor": "rgb(36,36,36)",
             "ticks": "outside"
            },
            "colorscale": [
             [
              0,
              "#440154"
             ],
             [
              0.1111111111111111,
              "#482878"
             ],
             [
              0.2222222222222222,
              "#3e4989"
             ],
             [
              0.3333333333333333,
              "#31688e"
             ],
             [
              0.4444444444444444,
              "#26828e"
             ],
             [
              0.5555555555555556,
              "#1f9e89"
             ],
             [
              0.6666666666666666,
              "#35b779"
             ],
             [
              0.7777777777777778,
              "#6ece58"
             ],
             [
              0.8888888888888888,
              "#b5de2b"
             ],
             [
              1,
              "#fde725"
             ]
            ],
            "type": "histogram2dcontour"
           }
          ],
          "mesh3d": [
           {
            "colorbar": {
             "outlinewidth": 1,
             "tickcolor": "rgb(36,36,36)",
             "ticks": "outside"
            },
            "type": "mesh3d"
           }
          ],
          "parcoords": [
           {
            "line": {
             "colorbar": {
              "outlinewidth": 1,
              "tickcolor": "rgb(36,36,36)",
              "ticks": "outside"
             }
            },
            "type": "parcoords"
           }
          ],
          "pie": [
           {
            "automargin": true,
            "type": "pie"
           }
          ],
          "scatter": [
           {
            "fillpattern": {
             "fillmode": "overlay",
             "size": 10,
             "solidity": 0.2
            },
            "type": "scatter"
           }
          ],
          "scatter3d": [
           {
            "line": {
             "colorbar": {
              "outlinewidth": 1,
              "tickcolor": "rgb(36,36,36)",
              "ticks": "outside"
             }
            },
            "marker": {
             "colorbar": {
              "outlinewidth": 1,
              "tickcolor": "rgb(36,36,36)",
              "ticks": "outside"
             }
            },
            "type": "scatter3d"
           }
          ],
          "scattercarpet": [
           {
            "marker": {
             "colorbar": {
              "outlinewidth": 1,
              "tickcolor": "rgb(36,36,36)",
              "ticks": "outside"
             }
            },
            "type": "scattercarpet"
           }
          ],
          "scattergeo": [
           {
            "marker": {
             "colorbar": {
              "outlinewidth": 1,
              "tickcolor": "rgb(36,36,36)",
              "ticks": "outside"
             }
            },
            "type": "scattergeo"
           }
          ],
          "scattergl": [
           {
            "marker": {
             "colorbar": {
              "outlinewidth": 1,
              "tickcolor": "rgb(36,36,36)",
              "ticks": "outside"
             }
            },
            "type": "scattergl"
           }
          ],
          "scattermapbox": [
           {
            "marker": {
             "colorbar": {
              "outlinewidth": 1,
              "tickcolor": "rgb(36,36,36)",
              "ticks": "outside"
             }
            },
            "type": "scattermapbox"
           }
          ],
          "scatterpolar": [
           {
            "marker": {
             "colorbar": {
              "outlinewidth": 1,
              "tickcolor": "rgb(36,36,36)",
              "ticks": "outside"
             }
            },
            "type": "scatterpolar"
           }
          ],
          "scatterpolargl": [
           {
            "marker": {
             "colorbar": {
              "outlinewidth": 1,
              "tickcolor": "rgb(36,36,36)",
              "ticks": "outside"
             }
            },
            "type": "scatterpolargl"
           }
          ],
          "scatterternary": [
           {
            "marker": {
             "colorbar": {
              "outlinewidth": 1,
              "tickcolor": "rgb(36,36,36)",
              "ticks": "outside"
             }
            },
            "type": "scatterternary"
           }
          ],
          "surface": [
           {
            "colorbar": {
             "outlinewidth": 1,
             "tickcolor": "rgb(36,36,36)",
             "ticks": "outside"
            },
            "colorscale": [
             [
              0,
              "#440154"
             ],
             [
              0.1111111111111111,
              "#482878"
             ],
             [
              0.2222222222222222,
              "#3e4989"
             ],
             [
              0.3333333333333333,
              "#31688e"
             ],
             [
              0.4444444444444444,
              "#26828e"
             ],
             [
              0.5555555555555556,
              "#1f9e89"
             ],
             [
              0.6666666666666666,
              "#35b779"
             ],
             [
              0.7777777777777778,
              "#6ece58"
             ],
             [
              0.8888888888888888,
              "#b5de2b"
             ],
             [
              1,
              "#fde725"
             ]
            ],
            "type": "surface"
           }
          ],
          "table": [
           {
            "cells": {
             "fill": {
              "color": "rgb(237,237,237)"
             },
             "line": {
              "color": "white"
             }
            },
            "header": {
             "fill": {
              "color": "rgb(217,217,217)"
             },
             "line": {
              "color": "white"
             }
            },
            "type": "table"
           }
          ]
         },
         "layout": {
          "annotationdefaults": {
           "arrowhead": 0,
           "arrowwidth": 1
          },
          "autotypenumbers": "strict",
          "coloraxis": {
           "colorbar": {
            "outlinewidth": 1,
            "tickcolor": "rgb(36,36,36)",
            "ticks": "outside"
           }
          },
          "colorscale": {
           "diverging": [
            [
             0,
             "rgb(103,0,31)"
            ],
            [
             0.1,
             "rgb(178,24,43)"
            ],
            [
             0.2,
             "rgb(214,96,77)"
            ],
            [
             0.3,
             "rgb(244,165,130)"
            ],
            [
             0.4,
             "rgb(253,219,199)"
            ],
            [
             0.5,
             "rgb(247,247,247)"
            ],
            [
             0.6,
             "rgb(209,229,240)"
            ],
            [
             0.7,
             "rgb(146,197,222)"
            ],
            [
             0.8,
             "rgb(67,147,195)"
            ],
            [
             0.9,
             "rgb(33,102,172)"
            ],
            [
             1,
             "rgb(5,48,97)"
            ]
           ],
           "sequential": [
            [
             0,
             "#440154"
            ],
            [
             0.1111111111111111,
             "#482878"
            ],
            [
             0.2222222222222222,
             "#3e4989"
            ],
            [
             0.3333333333333333,
             "#31688e"
            ],
            [
             0.4444444444444444,
             "#26828e"
            ],
            [
             0.5555555555555556,
             "#1f9e89"
            ],
            [
             0.6666666666666666,
             "#35b779"
            ],
            [
             0.7777777777777778,
             "#6ece58"
            ],
            [
             0.8888888888888888,
             "#b5de2b"
            ],
            [
             1,
             "#fde725"
            ]
           ],
           "sequentialminus": [
            [
             0,
             "#440154"
            ],
            [
             0.1111111111111111,
             "#482878"
            ],
            [
             0.2222222222222222,
             "#3e4989"
            ],
            [
             0.3333333333333333,
             "#31688e"
            ],
            [
             0.4444444444444444,
             "#26828e"
            ],
            [
             0.5555555555555556,
             "#1f9e89"
            ],
            [
             0.6666666666666666,
             "#35b779"
            ],
            [
             0.7777777777777778,
             "#6ece58"
            ],
            [
             0.8888888888888888,
             "#b5de2b"
            ],
            [
             1,
             "#fde725"
            ]
           ]
          },
          "colorway": [
           "#1F77B4",
           "#FF7F0E",
           "#2CA02C",
           "#D62728",
           "#9467BD",
           "#8C564B",
           "#E377C2",
           "#7F7F7F",
           "#BCBD22",
           "#17BECF"
          ],
          "font": {
           "color": "rgb(36,36,36)"
          },
          "geo": {
           "bgcolor": "white",
           "lakecolor": "white",
           "landcolor": "white",
           "showlakes": true,
           "showland": true,
           "subunitcolor": "white"
          },
          "hoverlabel": {
           "align": "left"
          },
          "hovermode": "closest",
          "mapbox": {
           "style": "light"
          },
          "paper_bgcolor": "white",
          "plot_bgcolor": "white",
          "polar": {
           "angularaxis": {
            "gridcolor": "rgb(232,232,232)",
            "linecolor": "rgb(36,36,36)",
            "showgrid": false,
            "showline": true,
            "ticks": "outside"
           },
           "bgcolor": "white",
           "radialaxis": {
            "gridcolor": "rgb(232,232,232)",
            "linecolor": "rgb(36,36,36)",
            "showgrid": false,
            "showline": true,
            "ticks": "outside"
           }
          },
          "scene": {
           "xaxis": {
            "backgroundcolor": "white",
            "gridcolor": "rgb(232,232,232)",
            "gridwidth": 2,
            "linecolor": "rgb(36,36,36)",
            "showbackground": true,
            "showgrid": false,
            "showline": true,
            "ticks": "outside",
            "zeroline": false,
            "zerolinecolor": "rgb(36,36,36)"
           },
           "yaxis": {
            "backgroundcolor": "white",
            "gridcolor": "rgb(232,232,232)",
            "gridwidth": 2,
            "linecolor": "rgb(36,36,36)",
            "showbackground": true,
            "showgrid": false,
            "showline": true,
            "ticks": "outside",
            "zeroline": false,
            "zerolinecolor": "rgb(36,36,36)"
           },
           "zaxis": {
            "backgroundcolor": "white",
            "gridcolor": "rgb(232,232,232)",
            "gridwidth": 2,
            "linecolor": "rgb(36,36,36)",
            "showbackground": true,
            "showgrid": false,
            "showline": true,
            "ticks": "outside",
            "zeroline": false,
            "zerolinecolor": "rgb(36,36,36)"
           }
          },
          "shapedefaults": {
           "fillcolor": "black",
           "line": {
            "width": 0
           },
           "opacity": 0.3
          },
          "ternary": {
           "aaxis": {
            "gridcolor": "rgb(232,232,232)",
            "linecolor": "rgb(36,36,36)",
            "showgrid": false,
            "showline": true,
            "ticks": "outside"
           },
           "baxis": {
            "gridcolor": "rgb(232,232,232)",
            "linecolor": "rgb(36,36,36)",
            "showgrid": false,
            "showline": true,
            "ticks": "outside"
           },
           "bgcolor": "white",
           "caxis": {
            "gridcolor": "rgb(232,232,232)",
            "linecolor": "rgb(36,36,36)",
            "showgrid": false,
            "showline": true,
            "ticks": "outside"
           }
          },
          "title": {
           "x": 0.05
          },
          "xaxis": {
           "automargin": true,
           "gridcolor": "rgb(232,232,232)",
           "linecolor": "rgb(36,36,36)",
           "showgrid": false,
           "showline": true,
           "ticks": "outside",
           "title": {
            "standoff": 15
           },
           "zeroline": false,
           "zerolinecolor": "rgb(36,36,36)"
          },
          "yaxis": {
           "automargin": true,
           "gridcolor": "rgb(232,232,232)",
           "linecolor": "rgb(36,36,36)",
           "showgrid": false,
           "showline": true,
           "ticks": "outside",
           "title": {
            "standoff": 15
           },
           "zeroline": false,
           "zerolinecolor": "rgb(36,36,36)"
          }
         }
        },
        "xaxis": {
         "anchor": "y",
         "domain": [
          0,
          1
         ],
         "title": {
          "text": "Obesity"
         }
        },
        "yaxis": {
         "anchor": "x",
         "domain": [
          0,
          1
         ],
         "title": {
          "text": "Deaths"
         }
        }
       }
      }
     },
     "metadata": {},
     "output_type": "display_data"
    }
   ],
   "source": [
    "fig = px.scatter(food_cluster_df, x=\"Obesity\", y = \"Deaths\", hover_name='Country',\n",
    "                 hover_data=['Animal Food Intake', 'Plant Food Intake'], color='Cluster',\n",
    "                 opacity = 0.8, size_max=30, template=\"simple_white\")\n",
    "\n",
    "fig.update_traces(marker=dict(size=12,\n",
    "                              line=dict(width=2,\n",
    "                                        color='DarkSlateGrey')),\n",
    "                  selector=dict(mode='markers'))\n",
    "\n",
    "fig.show()"
   ]
  },
  {
   "cell_type": "markdown",
   "id": "6d25b9ff",
   "metadata": {
    "collapsed": false,
    "pycharm": {
     "name": "#%% md\n"
    }
   },
   "source": [
    "Details about all three clusters will then be shown by calling the `describe()` function for each one."
   ]
  },
  {
   "cell_type": "code",
   "execution_count": 48,
   "id": "2c5c3380",
   "metadata": {
    "collapsed": false,
    "pycharm": {
     "name": "#%%\n"
    }
   },
   "outputs": [
    {
     "data": {
      "text/html": [
       "<div>\n",
       "<style scoped>\n",
       "    .dataframe tbody tr th:only-of-type {\n",
       "        vertical-align: middle;\n",
       "    }\n",
       "\n",
       "    .dataframe tbody tr th {\n",
       "        vertical-align: top;\n",
       "    }\n",
       "\n",
       "    .dataframe thead th {\n",
       "        text-align: right;\n",
       "    }\n",
       "</style>\n",
       "<table border=\"1\" class=\"dataframe\">\n",
       "  <thead>\n",
       "    <tr style=\"text-align: right;\">\n",
       "      <th></th>\n",
       "      <th>Obesity</th>\n",
       "      <th>Deaths</th>\n",
       "    </tr>\n",
       "  </thead>\n",
       "  <tbody>\n",
       "    <tr>\n",
       "      <th>count</th>\n",
       "      <td>30.000000</td>\n",
       "      <td>30.000000</td>\n",
       "    </tr>\n",
       "    <tr>\n",
       "      <th>mean</th>\n",
       "      <td>24.696667</td>\n",
       "      <td>0.126975</td>\n",
       "    </tr>\n",
       "    <tr>\n",
       "      <th>std</th>\n",
       "      <td>3.886447</td>\n",
       "      <td>0.024052</td>\n",
       "    </tr>\n",
       "    <tr>\n",
       "      <th>min</th>\n",
       "      <td>18.700000</td>\n",
       "      <td>0.092435</td>\n",
       "    </tr>\n",
       "    <tr>\n",
       "      <th>25%</th>\n",
       "      <td>22.325000</td>\n",
       "      <td>0.108321</td>\n",
       "    </tr>\n",
       "    <tr>\n",
       "      <th>50%</th>\n",
       "      <td>24.050000</td>\n",
       "      <td>0.127856</td>\n",
       "    </tr>\n",
       "    <tr>\n",
       "      <th>75%</th>\n",
       "      <td>27.325000</td>\n",
       "      <td>0.139095</td>\n",
       "    </tr>\n",
       "    <tr>\n",
       "      <th>max</th>\n",
       "      <td>37.300000</td>\n",
       "      <td>0.185428</td>\n",
       "    </tr>\n",
       "  </tbody>\n",
       "</table>\n",
       "</div>"
      ],
      "text/plain": [
       "         Obesity     Deaths\n",
       "count  30.000000  30.000000\n",
       "mean   24.696667   0.126975\n",
       "std     3.886447   0.024052\n",
       "min    18.700000   0.092435\n",
       "25%    22.325000   0.108321\n",
       "50%    24.050000   0.127856\n",
       "75%    27.325000   0.139095\n",
       "max    37.300000   0.185428"
      ]
     },
     "execution_count": 48,
     "metadata": {},
     "output_type": "execute_result"
    }
   ],
   "source": [
    "cluster_0.describe()"
   ]
  },
  {
   "cell_type": "code",
   "execution_count": 49,
   "id": "0855aa1b",
   "metadata": {
    "collapsed": false,
    "pycharm": {
     "name": "#%%\n"
    }
   },
   "outputs": [
    {
     "data": {
      "text/html": [
       "<div>\n",
       "<style scoped>\n",
       "    .dataframe tbody tr th:only-of-type {\n",
       "        vertical-align: middle;\n",
       "    }\n",
       "\n",
       "    .dataframe tbody tr th {\n",
       "        vertical-align: top;\n",
       "    }\n",
       "\n",
       "    .dataframe thead th {\n",
       "        text-align: right;\n",
       "    }\n",
       "</style>\n",
       "<table border=\"1\" class=\"dataframe\">\n",
       "  <thead>\n",
       "    <tr style=\"text-align: right;\">\n",
       "      <th></th>\n",
       "      <th>Obesity</th>\n",
       "      <th>Deaths</th>\n",
       "    </tr>\n",
       "  </thead>\n",
       "  <tbody>\n",
       "    <tr>\n",
       "      <th>count</th>\n",
       "      <td>94.000000</td>\n",
       "      <td>94.000000</td>\n",
       "    </tr>\n",
       "    <tr>\n",
       "      <th>mean</th>\n",
       "      <td>14.476596</td>\n",
       "      <td>0.006662</td>\n",
       "    </tr>\n",
       "    <tr>\n",
       "      <th>std</th>\n",
       "      <td>9.876326</td>\n",
       "      <td>0.007634</td>\n",
       "    </tr>\n",
       "    <tr>\n",
       "      <th>min</th>\n",
       "      <td>2.100000</td>\n",
       "      <td>0.000000</td>\n",
       "    </tr>\n",
       "    <tr>\n",
       "      <th>25%</th>\n",
       "      <td>6.525000</td>\n",
       "      <td>0.000963</td>\n",
       "    </tr>\n",
       "    <tr>\n",
       "      <th>50%</th>\n",
       "      <td>10.700000</td>\n",
       "      <td>0.003424</td>\n",
       "    </tr>\n",
       "    <tr>\n",
       "      <th>75%</th>\n",
       "      <td>23.000000</td>\n",
       "      <td>0.009778</td>\n",
       "    </tr>\n",
       "    <tr>\n",
       "      <th>max</th>\n",
       "      <td>45.500000</td>\n",
       "      <td>0.031223</td>\n",
       "    </tr>\n",
       "  </tbody>\n",
       "</table>\n",
       "</div>"
      ],
      "text/plain": [
       "         Obesity     Deaths\n",
       "count  94.000000  94.000000\n",
       "mean   14.476596   0.006662\n",
       "std     9.876326   0.007634\n",
       "min     2.100000   0.000000\n",
       "25%     6.525000   0.000963\n",
       "50%    10.700000   0.003424\n",
       "75%    23.000000   0.009778\n",
       "max    45.500000   0.031223"
      ]
     },
     "execution_count": 49,
     "metadata": {},
     "output_type": "execute_result"
    }
   ],
   "source": [
    "cluster_1.describe()"
   ]
  },
  {
   "cell_type": "code",
   "execution_count": 50,
   "id": "c66b22a9",
   "metadata": {
    "collapsed": false,
    "pycharm": {
     "name": "#%%\n"
    }
   },
   "outputs": [
    {
     "data": {
      "text/html": [
       "<div>\n",
       "<style scoped>\n",
       "    .dataframe tbody tr th:only-of-type {\n",
       "        vertical-align: middle;\n",
       "    }\n",
       "\n",
       "    .dataframe tbody tr th {\n",
       "        vertical-align: top;\n",
       "    }\n",
       "\n",
       "    .dataframe thead th {\n",
       "        text-align: right;\n",
       "    }\n",
       "</style>\n",
       "<table border=\"1\" class=\"dataframe\">\n",
       "  <thead>\n",
       "    <tr style=\"text-align: right;\">\n",
       "      <th></th>\n",
       "      <th>Obesity</th>\n",
       "      <th>Deaths</th>\n",
       "    </tr>\n",
       "  </thead>\n",
       "  <tbody>\n",
       "    <tr>\n",
       "      <th>count</th>\n",
       "      <td>30.000000</td>\n",
       "      <td>30.000000</td>\n",
       "    </tr>\n",
       "    <tr>\n",
       "      <th>mean</th>\n",
       "      <td>24.650000</td>\n",
       "      <td>0.056877</td>\n",
       "    </tr>\n",
       "    <tr>\n",
       "      <th>std</th>\n",
       "      <td>4.345568</td>\n",
       "      <td>0.018085</td>\n",
       "    </tr>\n",
       "    <tr>\n",
       "      <th>min</th>\n",
       "      <td>13.500000</td>\n",
       "      <td>0.031868</td>\n",
       "    </tr>\n",
       "    <tr>\n",
       "      <th>25%</th>\n",
       "      <td>22.325000</td>\n",
       "      <td>0.039246</td>\n",
       "    </tr>\n",
       "    <tr>\n",
       "      <th>50%</th>\n",
       "      <td>25.600000</td>\n",
       "      <td>0.054867</td>\n",
       "    </tr>\n",
       "    <tr>\n",
       "      <th>75%</th>\n",
       "      <td>26.975000</td>\n",
       "      <td>0.072215</td>\n",
       "    </tr>\n",
       "    <tr>\n",
       "      <th>max</th>\n",
       "      <td>33.400000</td>\n",
       "      <td>0.089679</td>\n",
       "    </tr>\n",
       "  </tbody>\n",
       "</table>\n",
       "</div>"
      ],
      "text/plain": [
       "         Obesity     Deaths\n",
       "count  30.000000  30.000000\n",
       "mean   24.650000   0.056877\n",
       "std     4.345568   0.018085\n",
       "min    13.500000   0.031868\n",
       "25%    22.325000   0.039246\n",
       "50%    25.600000   0.054867\n",
       "75%    26.975000   0.072215\n",
       "max    33.400000   0.089679"
      ]
     },
     "execution_count": 50,
     "metadata": {},
     "output_type": "execute_result"
    }
   ],
   "source": [
    "cluster_2.describe()"
   ]
  },
  {
   "cell_type": "markdown",
   "id": "80d283a2",
   "metadata": {
    "collapsed": false,
    "pycharm": {
     "name": "#%% md\n"
    }
   },
   "source": [
    "Upon seeing the details for each `Cluster` through both the visualization and the calling of the `describe()` function, it is important to note the differing `counts`  and `means` for both the variables `Obesity` and `Deaths`. `Cluster 0` has a mean of 24.70 for `Obesity`, a mean of 0.13 for `Deaths`, and a count of 30. `Cluster 1`, on the other hand, has a mean of 14.48 for `Obesity`, a mean of 0.01 for `Deaths`, and a count of 94. Lastly, `Cluster 2` has a mean of 24.65 for `Obesity`, a mean of 0.06 for `Deaths`, and a count of 30.\n",
    "\n",
    "It is apparent that `Cluster 0` holds the highest values for the means of both `Obesity` and `Deaths`, while `Cluster 1` holds the lowest values for both. Moreover, `Cluster 1` has the highest value for count with 94 countries belonging to this cluster. It is interesting to also note that despite having a mean `Obesity` rate of 24.65 for `Cluster 2`, which only falls slightly behind `Cluster 0`'s mean of 24.70, `Cluster 2` boasts a significantly lower mean for `Deaths` with 0.05, as compared to `Cluster 0`'s mean of 0.13.\n",
    "\n",
    "Based on these results, the researchers have then decided to categorize `Cluster 0` as `Unhealthy`, `Cluster 1` as `Very Healthy`, and `Cluster 2` as `Moderately Healthy`.\n",
    "\n",
    "Next is to check each cluster's `Animal Food Intake` and `Plant Food Intake`."
   ]
  },
  {
   "cell_type": "code",
   "execution_count": 51,
   "id": "d6d3c631",
   "metadata": {
    "collapsed": false,
    "pycharm": {
     "name": "#%%\n"
    }
   },
   "outputs": [
    {
     "name": "stdout",
     "output_type": "stream",
     "text": [
      "Percentage of Data Points in Each Cluster:\n",
      "Cluster 0 (Unhealthy):\n",
      "Above Average Animal Food Intake:\t 90.0 %\n",
      "Below Average Animal Food Intake:\t 10.0 %\n",
      "Above Average Plant Food Intake:\t 10.0 %\n",
      "Below Average Plant Food Intake:\t 90.0 %\n",
      "Cluster 1 (Very Healthy):\n",
      "Above Average Animal Food Intake:\t 28.72340425531915 %\n",
      "Below Average Animal Food Intake:\t 71.27659574468085 %\n",
      "Above Average Plant Food Intake:\t 71.27659574468085 %\n",
      "Below Average Plant Food Intake:\t 28.72340425531915 %\n",
      "Cluster 2 (Moderately Healthy):\n",
      "Above Average Animal Food Intake:\t 66.66666666666667 %\n",
      "Below Average Animal Food Intake:\t 33.333333333333336 %\n",
      "Above Average Plant Food Intake:\t 33.333333333333336 %\n",
      "Below Average Plant Food Intake:\t 66.66666666666667 %\n"
     ]
    }
   ],
   "source": [
    "print('Percentage of Data Points in Each Cluster:')\n",
    "print('Cluster 0 (Unhealthy):')\n",
    "print('Above Average Animal Food Intake:\\t', 100 * cluster_0.loc[cluster_0['Animal Food Intake'] == 'Above Average'].shape[0] / cluster_0.shape[0], '%')\n",
    "print('Below Average Animal Food Intake:\\t', 100 * cluster_0.loc[cluster_0['Animal Food Intake'] == 'Below Average'].shape[0] / cluster_0.shape[0], '%')\n",
    "print('Above Average Plant Food Intake:\\t', 100 * cluster_0.loc[cluster_0['Plant Food Intake'] == 'Above Average'].shape[0] / cluster_0.shape[0], '%')\n",
    "print('Below Average Plant Food Intake:\\t', 100 * cluster_0.loc[cluster_0['Plant Food Intake'] == 'Below Average'].shape[0] / cluster_0.shape[0], '%')\n",
    "print('Cluster 1 (Very Healthy):')\n",
    "print('Above Average Animal Food Intake:\\t', 100 * cluster_1.loc[cluster_1['Animal Food Intake'] == 'Above Average'].shape[0] / cluster_1.shape[0], '%')\n",
    "print('Below Average Animal Food Intake:\\t', 100 * cluster_1.loc[cluster_1['Animal Food Intake'] == 'Below Average'].shape[0] / cluster_1.shape[0], '%')\n",
    "print('Above Average Plant Food Intake:\\t', 100 * cluster_1.loc[cluster_1['Plant Food Intake'] == 'Above Average'].shape[0] / cluster_1.shape[0], '%')\n",
    "print('Below Average Plant Food Intake:\\t', 100 * cluster_1.loc[cluster_1['Plant Food Intake'] == 'Below Average'].shape[0] / cluster_1.shape[0], '%')\n",
    "print('Cluster 2 (Moderately Healthy):')\n",
    "print('Above Average Animal Food Intake:\\t', 100 * cluster_2.loc[cluster_2['Animal Food Intake'] == 'Above Average'].shape[0] / cluster_2.shape[0], '%')\n",
    "print('Below Average Animal Food Intake:\\t', 100 * cluster_2.loc[cluster_2['Animal Food Intake'] == 'Below Average'].shape[0] / cluster_2.shape[0], '%')\n",
    "print('Above Average Plant Food Intake:\\t', 100 * cluster_2.loc[cluster_2['Plant Food Intake'] == 'Above Average'].shape[0] / cluster_2.shape[0], '%')\n",
    "print('Below Average Plant Food Intake:\\t', 100 * cluster_2.loc[cluster_2['Plant Food Intake'] == 'Below Average'].shape[0] / cluster_2.shape[0], '%')"
   ]
  },
  {
   "cell_type": "markdown",
   "id": "3823b4d9",
   "metadata": {
    "collapsed": false,
    "pycharm": {
     "name": "#%% md\n"
    }
   },
   "source": [
    "As seen above, `Cluster 0`, the `Unhealthy` cluster, contains extremely high amounts of countries with `Above Average Animal Food Intake` and `Below Average Plant Food Intake`, having 90% for both, while 10% for their counterparts. This means that most of these countries that are categorized as `Unhealthy` have diets composed mainly of animal-based food products, rather than plant-based ones.\n",
    "\n",
    "In `Cluster 1`, the `Very Healthy` cluster, contains high amounts of countries with `Below Average Animal Food Intake` and `Above Average Plant Food Intake`, having 71.28% for both, while 28.72% for their counterparts. Here, it can be seen that the diets of `Very Healthy` countries contain great quantities of plant-based food products, rather than animal-based food products, which is completely opposite the diets of the `Unhealthy` counties.\n",
    "\n",
    "Lastly, in `Cluster 2`, the `Moderately Healthy` cluster, the countries lean closer to having a similar diet with the `Unhealthy` countries rather than the `Very Healthy` countries. The countries in this cluster have a moderately high percentage of 66.67% for both `Above Average Animal Food Intake` and `Below Average Plant Food Intake`, while 33.33% for their counterparts. Despite a diet like this, however, the countries in `Cluster 2` are still considerably healthier compared to the countries in `Cluster 0` when taking into account their `Obesity` and `Death` rates. This means that as long as one's diet is not overwhelmingly only composed of animal-based food products, having them as the majority with a decent mix of plant-based food products in the diet is healthy enough.\n",
    "\n"
   ]
  },
  {
   "attachments": {},
   "cell_type": "markdown",
   "id": "c5d20b67",
   "metadata": {
    "collapsed": false,
    "pycharm": {
     "name": "#%% md\n"
    }
   },
   "source": [
    "# Statistical Inference\n",
    "This section aims to support the research question by performing hypothesis testing."
   ]
  },
  {
   "cell_type": "code",
   "execution_count": 52,
   "id": "dd732884",
   "metadata": {
    "pycharm": {
     "name": "#%%\n"
    }
   },
   "outputs": [],
   "source": [
    "import matplotlib.pyplot as plt"
   ]
  },
  {
   "cell_type": "code",
   "execution_count": 53,
   "id": "9d8616db",
   "metadata": {
    "pycharm": {
     "name": "#%%\n"
    }
   },
   "outputs": [
    {
     "data": {
      "text/plain": [
       "(array([84., 15., 12.,  8.,  6.,  8.,  9.,  7.,  2.,  3.]),\n",
       " array([0.        , 0.01854277, 0.03708554, 0.05562831, 0.07417108,\n",
       "        0.09271385, 0.11125662, 0.12979939, 0.14834216, 0.16688493,\n",
       "        0.1854277 ]),\n",
       " <BarContainer object of 10 artists>)"
      ]
     },
     "execution_count": 53,
     "metadata": {},
     "output_type": "execute_result"
    },
    {
     "data": {
      "image/png": "[encoded data removed]",
      "text/plain": [
       "<Figure size 640x480 with 1 Axes>"
      ]
     },
     "metadata": {},
     "output_type": "display_data"
    }
   ],
   "source": [
    "plt.hist(food_cluster_df['Deaths'])"
   ]
  },
  {
   "attachments": {},
   "cell_type": "markdown",
   "id": "ec3faa8f",
   "metadata": {
    "pycharm": {
     "name": "#%% md\n"
    }
   },
   "source": [
    "Since the data to be used, which is `food_cluster_df['Deaths]`, has a non-normal distribution, as seen from the histogram. The researchers would be using `Krus-Wallis` instead of `One-way ANOVA`.\n",
    "\n",
    "The `Kruskak-Wallis Test` is a non-parametric test and an `alternative` to One-Way Anova, which means that the data is not assumed to come from a particular distribution. The Kruskak-Wallis Test is used to determine whether there is a statistical difference among the medians of at least 3 groups. The medians to be used for the test would be coming from the 3 different clusters formed earlier."
   ]
  },
  {
   "attachments": {},
   "cell_type": "markdown",
   "id": "af2d1543",
   "metadata": {
    "pycharm": {
     "name": "#%% md\n"
    }
   },
   "source": [
    "\n",
    "  \n",
    "With that said, the setup for the hypotheses is as follows:\n",
    "\n",
    "`HO`: *The median is the same for all clusters*\n",
    "\n",
    "`HA`: *At least one of the median in the cluster varies* \n",
    "\n",
    "Where the `level of significance` to be used for this test is `0.05`"
   ]
  },
  {
   "attachments": {},
   "cell_type": "markdown",
   "id": "cf755693",
   "metadata": {
    "pycharm": {
     "name": "#%% md\n"
    }
   },
   "source": [
    "The code below computes for the `Kruskal-Wallis value`"
   ]
  },
  {
   "cell_type": "code",
   "execution_count": 59,
   "id": "909e6db7",
   "metadata": {
    "pycharm": {
     "name": "#%%\n"
    }
   },
   "outputs": [
    {
     "data": {
      "text/plain": [
       "KruskalResult(statistic=115.95872033701971, pvalue=6.605167183655492e-26)"
      ]
     },
     "execution_count": 59,
     "metadata": {},
     "output_type": "execute_result"
    }
   ],
   "source": [
    "D0 = cluster_0['Deaths']\n",
    "D1 = cluster_1['Deaths']\n",
    "D2 = cluster_2['Deaths']\n",
    "\n",
    "result = stats.kruskal(D0, D1, D2)\n",
    "result"
   ]
  },
  {
   "attachments": {},
   "cell_type": "markdown",
   "id": "848ac9be",
   "metadata": {
    "pycharm": {
     "name": "#%% md\n"
    }
   },
   "source": [
    "The p-value computed from the Kruskal-Wallis Test is `6.61e-26`, which is statistically significant to `reject the null hypothesis`. \n",
    "\n",
    "The data provides `strong evidence` that at least one of the median in the cluster varies under a significance level of 5%. In other words, since the *medians are not the same*, then their *variability should be high*. "
   ]
  },
  {
   "cell_type": "code",
   "execution_count": 61,
   "id": "670c9180",
   "metadata": {
    "pycharm": {
     "name": "#%%\n"
    }
   },
   "outputs": [
    {
     "data": {
      "text/html": [
       "<div>\n",
       "<style scoped>\n",
       "    .dataframe tbody tr th:only-of-type {\n",
       "        vertical-align: middle;\n",
       "    }\n",
       "\n",
       "    .dataframe tbody tr th {\n",
       "        vertical-align: top;\n",
       "    }\n",
       "\n",
       "    .dataframe thead th {\n",
       "        text-align: right;\n",
       "    }\n",
       "</style>\n",
       "<table border=\"1\" class=\"dataframe\">\n",
       "  <thead>\n",
       "    <tr style=\"text-align: right;\">\n",
       "      <th></th>\n",
       "      <th>Country</th>\n",
       "      <th>Obesity</th>\n",
       "      <th>Deaths</th>\n",
       "      <th>Animal Food Intake</th>\n",
       "      <th>Plant Food Intake</th>\n",
       "      <th>Cluster</th>\n",
       "    </tr>\n",
       "  </thead>\n",
       "  <tbody>\n",
       "    <tr>\n",
       "      <th>0</th>\n",
       "      <td>Afghanistan</td>\n",
       "      <td>4.5</td>\n",
       "      <td>0.006186</td>\n",
       "      <td>Below Average</td>\n",
       "      <td>Above Average</td>\n",
       "      <td>1</td>\n",
       "    </tr>\n",
       "    <tr>\n",
       "      <th>1</th>\n",
       "      <td>Albania</td>\n",
       "      <td>22.3</td>\n",
       "      <td>0.050951</td>\n",
       "      <td>Above Average</td>\n",
       "      <td>Below Average</td>\n",
       "      <td>2</td>\n",
       "    </tr>\n",
       "    <tr>\n",
       "      <th>2</th>\n",
       "      <td>Algeria</td>\n",
       "      <td>26.6</td>\n",
       "      <td>0.006558</td>\n",
       "      <td>Below Average</td>\n",
       "      <td>Above Average</td>\n",
       "      <td>1</td>\n",
       "    </tr>\n",
       "    <tr>\n",
       "      <th>3</th>\n",
       "      <td>Angola</td>\n",
       "      <td>6.8</td>\n",
       "      <td>0.001461</td>\n",
       "      <td>Below Average</td>\n",
       "      <td>Above Average</td>\n",
       "      <td>1</td>\n",
       "    </tr>\n",
       "    <tr>\n",
       "      <th>4</th>\n",
       "      <td>Argentina</td>\n",
       "      <td>28.5</td>\n",
       "      <td>0.108227</td>\n",
       "      <td>Above Average</td>\n",
       "      <td>Below Average</td>\n",
       "      <td>0</td>\n",
       "    </tr>\n",
       "    <tr>\n",
       "      <th>...</th>\n",
       "      <td>...</td>\n",
       "      <td>...</td>\n",
       "      <td>...</td>\n",
       "      <td>...</td>\n",
       "      <td>...</td>\n",
       "      <td>...</td>\n",
       "    </tr>\n",
       "    <tr>\n",
       "      <th>149</th>\n",
       "      <td>Venezuela (Bolivarian Republic of)</td>\n",
       "      <td>25.2</td>\n",
       "      <td>0.004287</td>\n",
       "      <td>Above Average</td>\n",
       "      <td>Below Average</td>\n",
       "      <td>1</td>\n",
       "    </tr>\n",
       "    <tr>\n",
       "      <th>150</th>\n",
       "      <td>Vietnam</td>\n",
       "      <td>2.1</td>\n",
       "      <td>0.000036</td>\n",
       "      <td>Below Average</td>\n",
       "      <td>Above Average</td>\n",
       "      <td>1</td>\n",
       "    </tr>\n",
       "    <tr>\n",
       "      <th>151</th>\n",
       "      <td>Yemen</td>\n",
       "      <td>14.1</td>\n",
       "      <td>0.002062</td>\n",
       "      <td>Below Average</td>\n",
       "      <td>Above Average</td>\n",
       "      <td>1</td>\n",
       "    </tr>\n",
       "    <tr>\n",
       "      <th>152</th>\n",
       "      <td>Zambia</td>\n",
       "      <td>6.5</td>\n",
       "      <td>0.004564</td>\n",
       "      <td>Below Average</td>\n",
       "      <td>Above Average</td>\n",
       "      <td>1</td>\n",
       "    </tr>\n",
       "    <tr>\n",
       "      <th>153</th>\n",
       "      <td>Zimbabwe</td>\n",
       "      <td>12.3</td>\n",
       "      <td>0.008854</td>\n",
       "      <td>Below Average</td>\n",
       "      <td>Above Average</td>\n",
       "      <td>1</td>\n",
       "    </tr>\n",
       "  </tbody>\n",
       "</table>\n",
       "<p>154 rows × 6 columns</p>\n",
       "</div>"
      ],
      "text/plain": [
       "                                Country  Obesity    Deaths Animal Food Intake  \\\n",
       "0                           Afghanistan      4.5  0.006186      Below Average   \n",
       "1                               Albania     22.3  0.050951      Above Average   \n",
       "2                               Algeria     26.6  0.006558      Below Average   \n",
       "3                                Angola      6.8  0.001461      Below Average   \n",
       "4                             Argentina     28.5  0.108227      Above Average   \n",
       "..                                  ...      ...       ...                ...   \n",
       "149  Venezuela (Bolivarian Republic of)     25.2  0.004287      Above Average   \n",
       "150                             Vietnam      2.1  0.000036      Below Average   \n",
       "151                               Yemen     14.1  0.002062      Below Average   \n",
       "152                              Zambia      6.5  0.004564      Below Average   \n",
       "153                            Zimbabwe     12.3  0.008854      Below Average   \n",
       "\n",
       "    Plant Food Intake  Cluster  \n",
       "0       Above Average        1  \n",
       "1       Below Average        2  \n",
       "2       Above Average        1  \n",
       "3       Above Average        1  \n",
       "4       Below Average        0  \n",
       "..                ...      ...  \n",
       "149     Below Average        1  \n",
       "150     Above Average        1  \n",
       "151     Above Average        1  \n",
       "152     Above Average        1  \n",
       "153     Above Average        1  \n",
       "\n",
       "[154 rows x 6 columns]"
      ]
     },
     "execution_count": 61,
     "metadata": {},
     "output_type": "execute_result"
    }
   ],
   "source": [
    "food_cluster_df"
   ]
  },
  {
   "cell_type": "markdown",
   "id": "1d283696",
   "metadata": {
    "collapsed": false,
    "pycharm": {
     "name": "#%% md\n"
    }
   },
   "source": [
    "# Insights and Conclusions"
   ]
  },
  {
   "cell_type": "markdown",
   "id": "84b2b908",
   "metadata": {
    "collapsed": false,
    "pycharm": {
     "name": "#%% md\n"
    }
   },
   "source": []
  }
 ],
 "metadata": {
  "kernelspec": {
   "display_name": "Python 3 (ipykernel)",
   "language": "python",
   "name": "python3"
  },
  "language_info": {
   "codemirror_mode": {
    "name": "ipython",
    "version": 3
   },
   "file_extension": ".py",
   "mimetype": "text/x-python",
   "name": "python",
   "nbconvert_exporter": "python",
   "pygments_lexer": "ipython3",
   "version": "3.10.0"
  },
  "vscode": {
   "interpreter": {
    "hash": "ec910b0e4d0395e14069f6b0633059fe919d083d0d249d3dfddc5d0b137a627c"
   }
  }
 },
 "nbformat": 4,
 "nbformat_minor": 5
}