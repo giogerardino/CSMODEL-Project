{
 "cells": [
  {
   "cell_type": "code",
   "execution_count": 40,
   "id": "fac6bba5-068c-4c70-9b0b-dfc4a55931fc",
   "metadata": {},
   "outputs": [],
   "source": [
    "import numpy as np\n",
    "import pandas as pd\n",
    "food_df = pd.read_csv(\"Food_Supply_Quantity_kg_Data.csv\")"
   ]
  },
  {
   "cell_type": "code",
   "execution_count": 25,
   "id": "472acd5e",
   "metadata": {},
   "outputs": [],
   "source": [
    "# About the Dataset\n",
    "\n",
    "# This dataset was created last 2020 as COVID-19 was just emerging to be a global health crisis.\n",
    "# Back then, scientists and doctors did not know how to fight COVID-19.\n",
    "# As a result, the author stated that adapting a healthy diet as a way to protect your family.\n",
    "\n",
    "# The author obtained the Data for different food group supply quantities, nutrition values, obesity, \n",
    "# and undernourished percentages from Food and Agriculture Organization of the United Nations FAO website\n",
    "# The population count from each country came from the Population Reference Bureau Website while the COVID-19 confirmed, deaths, recovered and active cases\n",
    "# came from CSSE Website\n",
    "\n",
    "# test"
   ]
  },
  {
   "cell_type": "code",
   "execution_count": 26,
   "id": "78042d14",
   "metadata": {},
   "outputs": [],
   "source": [
    "# Structure of the dataset file\n",
    "\n",
    "## The rows in the dataset represent the countries\n",
    "## The columns represent different variables such as the intake of a certain food, obesity, undernourished, confirmed cases, deaths, recovered, active cases, etc. \n",
    "## All of these variables are represented in percentage.  \n",
    "## There are a total of 170 observations and 32 variables in the dataset. \n"
   ]
  },
  {
   "cell_type": "code",
   "execution_count": 27,
   "id": "7d9f9ed6",
   "metadata": {},
   "outputs": [],
   "source": [
    "# Variables\n",
    "\n",
    "## The first few columns in the dataset represent the several type of food that individuals consumed in each country. \n",
    "## While the last few columns represent the percentaage of obese and undernourished people in each country. \n",
    "## The percentage of confirmed COVID-19 cases, deaths, recovered individuals, active COVID-19 cases, and population of each country can also be seen at the last few columns."
   ]
  },
  {
   "cell_type": "code",
   "execution_count": 41,
   "id": "199ad60f",
   "metadata": {},
   "outputs": [],
   "source": [
    "# Pre-Processing\n",
    "\n",
    "food_df = food_df.drop('Unit (all except Population)', axis=1)\n",
    "food_df = food_df.dropna()"
   ]
  },
  {
   "cell_type": "code",
   "execution_count": null,
   "id": "34c446cd",
   "metadata": {},
   "outputs": [],
   "source": []
  }
 ],
 "metadata": {
  "kernelspec": {
   "display_name": "Python 3 (ipykernel)",
   "language": "python",
   "name": "python3"
  },
  "language_info": {
   "codemirror_mode": {
    "name": "ipython",
    "version": 3
   },
   "file_extension": ".py",
   "mimetype": "text/x-python",
   "name": "python",
   "nbconvert_exporter": "python",
   "pygments_lexer": "ipython3",
   "version": "3.10.0"
  },
  "vscode": {
   "interpreter": {
    "hash": "ec910b0e4d0395e14069f6b0633059fe919d083d0d249d3dfddc5d0b137a627c"
   }
  }
 },
 "nbformat": 4,
 "nbformat_minor": 5
}
