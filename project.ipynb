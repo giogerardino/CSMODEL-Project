{
 "cells": [
  {
   "cell_type": "code",
   "execution_count": 62,
   "id": "fac6bba5-068c-4c70-9b0b-dfc4a55931fc",
   "metadata": {},
   "outputs": [],
   "source": [
    "import numpy as np\n",
    "import pandas as pd\n",
    "\n",
    "import datetime as dt\n",
    "import matplotlib.pyplot as plt\n",
    "import plotly.express as px\n",
    "food_df = pd.read_csv(\"Food_Supply_Quantity_kg_Data.csv\")"
   ]
  },
  {
   "cell_type": "code",
   "execution_count": 63,
   "id": "472acd5e",
   "metadata": {},
   "outputs": [],
   "source": [
    "# About the Dataset\n",
    "\n",
    "# This dataset was created last 2020 as COVID-19 was just emerging to be a global health crisis.\n",
    "# Back then, scientists and doctors did not know how to fight COVID-19.\n",
    "# As a result, the author stated that adapting a healthy diet as a way to protect your family.\n",
    "\n",
    "# The author obtained the Data for different food group supply quantities, nutrition values, obesity, \n",
    "# and undernourished percentages from Food and Agriculture Organization of the United Nations FAO website\n",
    "# The population count from each country came from the Population Reference Bureau Website while the COVID-19 confirmed, deaths, recovered and active cases\n",
    "# came from CSSE Website\n"
   ]
  },
  {
   "cell_type": "code",
   "execution_count": 64,
   "id": "78042d14",
   "metadata": {},
   "outputs": [],
   "source": [
    "# Structure of the dataset file\n",
    "\n",
    "## The rows in the dataset represent the countries\n",
    "## The columns represent different variables such as the intake of a certain food, obesity, undernourished, confirmed cases, deaths, recovered, active cases, etc. \n",
    "## All of these variables are represented in percentage.  \n",
    "## There are a total of 170 observations and 32 variables in the dataset. \n"
   ]
  },
  {
   "cell_type": "code",
   "execution_count": 65,
   "id": "7d9f9ed6",
   "metadata": {},
   "outputs": [],
   "source": [
    "# Variables\n",
    "\n",
    "## The first few columns in the dataset represent the several type of food that individuals consumed in each country. \n",
    "## While the last few columns represent the percentaage of obese and undernourished people in each country. \n",
    "## The percentage of confirmed COVID-19 cases, deaths, recovered individuals, active COVID-19 cases, and population of each country can also be seen at the last few columns."
   ]
  },
  {
   "cell_type": "code",
   "execution_count": 66,
   "id": "199ad60f",
   "metadata": {},
   "outputs": [],
   "source": [
    "# Pre-Processing\n",
    "\n",
    "food_df = food_df.drop('Unit (all except Population)', axis=1)\n",
    "food_df = food_df.dropna()\n",
    "# Temporarily changed <2.5 values to 2.4 \n",
    "food_df['Undernourished'] = food_df['Undernourished'].replace('<2.5', '2.4')\n",
    "food_df['Undernourished'] = food_df['Undernourished'].astype(float) "
   ]
  },
  {
   "cell_type": "code",
   "execution_count": 67,
   "id": "34c446cd",
   "metadata": {},
   "outputs": [],
   "source": [
    "# EDA 2\n",
    "food_df['Mortality'] = food_df['Deaths'] / food_df['Confirmed']*100 # adds a Mortality Column \n"
   ]
  },
  {
   "cell_type": "code",
   "execution_count": 68,
   "id": "cb8f65d2",
   "metadata": {},
   "outputs": [
    {
     "data": {
      "application/vnd.plotly.v1+json": {
       "config": {
        "plotlyServerURL": "https://plot.ly"
       },
       "data": [
        {
         "hovertemplate": "<b>%{hovertext}</b><br><br>Mortality=%{x}<br>Obesity=%{y}<br>Active=%{marker.size}<extra></extra>",
         "hovertext": [
          "Afghanistan",
          "Albania",
          "Algeria",
          "Angola",
          "Argentina",
          "Armenia",
          "Australia",
          "Austria",
          "Azerbaijan",
          "Bangladesh",
          "Barbados",
          "Belarus",
          "Belgium",
          "Belize",
          "Benin",
          "Bolivia",
          "Bosnia and Herzegovina",
          "Botswana",
          "Brazil",
          "Bulgaria",
          "Burkina Faso",
          "Cabo Verde",
          "Cambodia",
          "Cameroon",
          "Central African Republic",
          "Chad",
          "China",
          "Colombia",
          "Congo",
          "Costa Rica",
          "Cote d'Ivoire",
          "Croatia",
          "Cuba",
          "Cyprus",
          "Czechia",
          "Denmark",
          "Djibouti",
          "Dominica",
          "Dominican Republic",
          "Ecuador",
          "Egypt",
          "El Salvador",
          "Estonia",
          "Eswatini",
          "Ethiopia",
          "Fiji",
          "Finland",
          "France",
          "Gabon",
          "Gambia",
          "Georgia",
          "Germany",
          "Ghana",
          "Greece",
          "Guatemala",
          "Guinea",
          "Guinea-Bissau",
          "Guyana",
          "Haiti",
          "Honduras",
          "Hungary",
          "Iceland",
          "India",
          "Indonesia",
          "Iran (Islamic Republic of)",
          "Iraq",
          "Ireland",
          "Israel",
          "Italy",
          "Jamaica",
          "Japan",
          "Jordan",
          "Kazakhstan",
          "Kenya",
          "Korea, South",
          "Kuwait",
          "Kyrgyzstan",
          "Lao People's Democratic Republic",
          "Latvia",
          "Lebanon",
          "Lesotho",
          "Liberia",
          "Lithuania",
          "Luxembourg",
          "Madagascar",
          "Malawi",
          "Malaysia",
          "Maldives",
          "Mali",
          "Malta",
          "Mauritania",
          "Mauritius",
          "Mexico",
          "Mongolia",
          "Montenegro",
          "Morocco",
          "Mozambique",
          "Namibia",
          "Nepal",
          "Netherlands",
          "New Zealand",
          "Nicaragua",
          "Niger",
          "Nigeria",
          "North Macedonia",
          "Norway",
          "Oman",
          "Pakistan",
          "Panama",
          "Paraguay",
          "Peru",
          "Philippines",
          "Poland",
          "Portugal",
          "Romania",
          "Russian Federation",
          "Rwanda",
          "Saint Vincent and the Grenadines",
          "Samoa",
          "Sao Tome and Principe",
          "Saudi Arabia",
          "Senegal",
          "Serbia",
          "Sierra Leone",
          "Slovakia",
          "Slovenia",
          "Solomon Islands",
          "South Africa",
          "Spain",
          "Sri Lanka",
          "Sudan",
          "Suriname",
          "Sweden",
          "Switzerland",
          "Thailand",
          "Timor-Leste",
          "Togo",
          "Trinidad and Tobago",
          "Tunisia",
          "Turkey",
          "Uganda",
          "Ukraine",
          "United Arab Emirates",
          "United Kingdom",
          "United Republic of Tanzania",
          "United States of America",
          "Uruguay",
          "Uzbekistan",
          "Vanuatu",
          "Venezuela (Bolivarian Republic of)",
          "Vietnam",
          "Yemen",
          "Zambia",
          "Zimbabwe"
         ],
         "legendgroup": "",
         "marker": {
          "color": "#1F77B4",
          "size": [
           0.0125744965063707,
           1.12371388301621,
           0.0707667335482562,
           0.0034192239099686,
           0.342728695153933,
           0.177469553450609,
           0.0072066475110662,
           0.153432802333408,
           0.0287396121883657,
           0.027524453945315,
           0.107665505226481,
           0.10928,
           6.10089448545376,
           0.0601431980906921,
           0.0047096404291915,
           0.4213960285395,
           0.656232855836635,
           0.162537764350453,
           0.372093649085038,
           0.303883354987729,
           0.0050375544180261,
           0.10089928057554,
           0.0001290572368845,
           0.0053349875930521,
           0.0008488612836438,
           0.0029566866149197,
           0.0001264987859967,
           0.148011892241728,
           0.177437477346865,
           0.735374682058306,
           0.0062349570200573,
           0.0722388059701493,
           0.0508731495434802,
           2.43380281690141,
           0.897667039940276,
           0.117841825355979,
           0.0026315789473684,
           0.0152777777777778,
           0.511314285714286,
           0.184438353035235,
           0.0272293483328869,
           0.0637710229902793,
           0.706836964688204,
           0.372101449275362,
           0.0119887570051168,
           0.0001116071428571,
           0.281678422861277,
           4.70961964890668,
           0.0264007171671896,
           0.0089780719900703,
           0.149017496635262,
           0.21784393757503,
           0.0196150999259808,
           0.593439252336449,
           0.0452009299236134,
           0.002078025477707,
           0.0155163466528282,
           0.101270648030496,
           0.0206699991230378,
           0.896289537712895,
           0.861574690283608,
           0.0089673913043478,
           0.0106253839011499,
           0.0649273751651401,
           0.182512180629828,
           0.0381069855254877,
           3.50809514291425,
           0.774392361111111,
           0.708229401618681,
           0.151619793520826,
           0.0309914501417038,
           0.09360427006274,
           0.144987187700192,
           0.0291660439396204,
           0.0165311600780209,
           0.170091664890215,
           0.0307400667273279,
           0.0000552333609500138,
           0.556992639327024,
           1.65768498168498,
           0.303034547152194,
           0.0020166073546856,
           1.6226914817466,
           0.395727848101266,
           0.0020548192553537,
           0.0767903815995818,
           0.155254568194991,
           0.37818853974122,
           0.0087304330650338,
           0.459961685823755,
           0.0082150537634408,
           0.0026877470355731,
           0.217663077500939,
           0.0170187444213032,
           1.23392282958199,
           0.0352247441032488,
           0.0541327087210422,
           0.0438410074773711,
           0.006530870782771,
           5.65639777866835,
           0.0013234409464608,
           0.0288659793814433,
           0.001996775393774,
           0.0121461142912584,
           0.382115384615385,
           0.85526266938927,
           0.132463399108848,
           0.0146035122657735,
           0.721106700910577,
           0.295382494831151,
           0.135477089934194,
           0.0328031319298054,
           0.534208194328607,
           1.44669917113603,
           0.182215061587236,
           0.295842107773984,
           0.0314468807906115,
           0.718918918918919,
           0,
           0.13,
           0.006640792214834,
           0.0270066889632107,
           5.78180250107805,
           0.0155572270277047,
           0.337202489930428,
           0.751212553495007,
           0.0009790209790209,
           0.14594318105588,
           5.73155872782618,
           0.0256689611159229,
           0.013703847294123,
           0.0852892561983471,
           5.5502264623687,
           2.37047718322909,
           0.0095439925451648,
           0.0014415781487101,
           0.0099287353545114,
           0.0162162162162162,
           0.303707128446537,
           0.102220046096708,
           0.0549725629085503,
           0.363334769495907,
           0.218930251585191,
           5.68610184633711,
           0.0005105969799444,
           8.01981884211739,
           0.166015293118097,
           0.0027330719260256,
           0,
           0.0238994588933496,
           0.000500992630627,
           0.00028163347415,
           0.0390448215839861,
           0.0322142232389154
          ],
          "sizemode": "area",
          "sizeref": 0.008910909824574877,
          "symbol": "circle"
         },
         "mode": "markers",
         "name": "",
         "orientation": "v",
         "showlegend": false,
         "type": "scatter",
         "x": [
          4.352069401771176,
          1.717094950838359,
          2.677922101832838,
          2.3676602532149635,
          2.4844575955044093,
          1.8542667786134115,
          3.150670687324479,
          1.8919724890064906,
          1.3661036611231818,
          1.5229559105193446,
          1.0739856801909273,
          0.6899933452418479,
          2.9497009131473866,
          2.5421616681897454,
          1.3117099928451212,
          4.734334824416184,
          3.8684641184762842,
          0.6935284857252216,
          2.434952708034622,
          4.1650264815344915,
          1.1935512603544514,
          0.9388038942976333,
          0,
          1.509842645091354,
          1.2627781118460006,
          3.59919378059302,
          4.805277633833631,
          2.5889186861143494,
          2.5392296718972953,
          1.3602256182612322,
          0.5479081408326841,
          2.187763156775512,
          0.7278747930398786,
          0.6667930729364175,
          1.6628288962753528,
          1.0977307290299227,
          1.0604275374515941,
          0,
          1.2608711309577398,
          5.835521070338193,
          5.67927808593425,
          2.9749097569215976,
          0.9597575349385394,
          3.7327730053766808,
          1.5164047422111782,
          3.5714285714272003,
          1.4557149507003473,
          2.338085920955278,
          0.6197084751680058,
          3.162615057823919,
          1.2495222077822783,
          2.6936944940553724,
          0.6410073380349677,
          3.6461556371122272,
          3.592799671038502,
          0.5727923627684148,
          1.6594516594516089,
          2.267288071545528,
          2.083687701990058,
          2.4105779539326178,
          3.472442519160284,
          0.4816475668493597,
          1.4316534555510503,
          2.7369421365114532,
          4.002549045135918,
          2.0896821247784514,
          1.813891028299463,
          0.7396624478728323,
          3.4666515307238015,
          2.11982661362151,
          1.576975611687368,
          1.3086519596830934,
          1.2814086867923244,
          1.7464844134132844,
          1.8183840981012265,
          0.5669387659083954,
          1.674275225903617,
          0,
          1.860628154795289,
          1.1207037591713966,
          1.9509594882729038,
          4.294478527607231,
          1.5713074007665992,
          1.145364186985557,
          1.4739050616311615,
          3.114418604651148,
          0.3589964854369718,
          0.3242074927953887,
          4.142156862745105,
          1.501937984496126,
          2.5309671272034104,
          1.7123287671230836,
          8.607430636318348,
          0.0988630746416214,
          1.291339069185499,
          1.764547357073975,
          1.0223975335509343,
          1.064745723797499,
          0.7486957609471403,
          1.4243564159538173,
          1.0775862068965336,
          2.69884108588658,
          3.588516746411267,
          1.1828327659756783,
          3.082485015697845,
          0.9001902463922752,
          1.1344702719914677,
          2.1582617038850955,
          1.6709346206626199,
          2.039926455091825,
          3.5747136725359967,
          2.0746151878264283,
          2.523017993827355,
          1.8314595238782685,
          2.530325838811961,
          1.9195665531202482,
          1.328273244781726,
          0.24958402662229656,
          0,
          1.3323464100666071,
          1.7291011755293173,
          2.3693355330127055,
          1.011930542977517,
          2.0943796394484098,
          1.9616157448791693,
          2.0854383057834607,
          0,
          3.1336092827576865,
          2.0865468611382068,
          0.5118408772748326,
          6.178713639738081,
          1.84971098265896,
          2.0601569222292837,
          1.8060702460925737,
          0.3380257584183738,
          0,
          1.4532744665193644,
          1.7735155018391897,
          3.3130412256679715,
          1.056921259861232,
          0.8211747570376574,
          1.9248143470455454,
          0.28262039195799604,
          2.849460060239427,
          4.12573673870378,
          1.7169650684879818,
          1.0733732036061732,
          0.7856284394964747,
          0,
          0.9472165870891425,
          1.763224181360229,
          28.913963328631993,
          1.365848893808903,
          3.815930640531178
         ],
         "xaxis": "x",
         "y": [
          4.5,
          22.3,
          26.6,
          6.8,
          28.5,
          20.9,
          30.4,
          21.9,
          19.9,
          3.4,
          24.8,
          26.6,
          24.5,
          22.4,
          8.2,
          18.7,
          19.4,
          16.1,
          22.3,
          27.4,
          4.5,
          10.6,
          3.5,
          9.5,
          6.3,
          4.8,
          6.6,
          22.1,
          8.4,
          25.7,
          9,
          27.1,
          26.7,
          22.6,
          28.5,
          21.3,
          12.2,
          28.2,
          26.9,
          19.3,
          31.1,
          22.7,
          23.8,
          13.5,
          3.6,
          30,
          24.9,
          23.2,
          13.4,
          8.7,
          23.3,
          25.7,
          9.7,
          27.4,
          18.8,
          6.6,
          8.2,
          19.2,
          20.5,
          19.4,
          28.6,
          23.1,
          3.8,
          6.9,
          25.5,
          27.4,
          26.9,
          26.7,
          22.9,
          24.4,
          4.4,
          33.4,
          21.3,
          6,
          4.9,
          37,
          15.4,
          4.5,
          25.7,
          31.3,
          13.5,
          8.6,
          28.4,
          24.2,
          4.5,
          4.7,
          15.3,
          7.9,
          7.1,
          31,
          11.3,
          11.5,
          28.4,
          19.6,
          24.9,
          25.6,
          6,
          15,
          3.8,
          23.1,
          32,
          21.8,
          4.7,
          7.8,
          23.9,
          25,
          22.9,
          7.8,
          22.5,
          19,
          19.1,
          6,
          25.6,
          23.2,
          24.5,
          25.7,
          4.8,
          23.8,
          45.5,
          10.6,
          35,
          7.4,
          23.5,
          7.5,
          22.4,
          22.5,
          20.5,
          27,
          27.1,
          5.4,
          7.4,
          26.5,
          22.1,
          21.2,
          10.8,
          2.9,
          7.1,
          19.7,
          27.3,
          32.2,
          4.1,
          26.1,
          29.9,
          29.5,
          7.1,
          37.3,
          28.9,
          15.3,
          23.5,
          25.2,
          2.1,
          14.1,
          6.5,
          12.3
         ],
         "yaxis": "y"
        }
       ],
       "layout": {
        "legend": {
         "itemsizing": "constant",
         "tracegroupgap": 0
        },
        "margin": {
         "t": 60
        },
        "shapes": [
         {
          "line": {
           "color": "crimson",
           "width": 4
          },
          "type": "line",
          "x0": 0,
          "x1": 28.913963328631993,
          "y0": 18.44935064935065,
          "y1": 18.44935064935065
         }
        ],
        "template": {
         "data": {
          "bar": [
           {
            "error_x": {
             "color": "rgb(36,36,36)"
            },
            "error_y": {
             "color": "rgb(36,36,36)"
            },
            "marker": {
             "line": {
              "color": "white",
              "width": 0.5
             },
             "pattern": {
              "fillmode": "overlay",
              "size": 10,
              "solidity": 0.2
             }
            },
            "type": "bar"
           }
          ],
          "barpolar": [
           {
            "marker": {
             "line": {
              "color": "white",
              "width": 0.5
             },
             "pattern": {
              "fillmode": "overlay",
              "size": 10,
              "solidity": 0.2
             }
            },
            "type": "barpolar"
           }
          ],
          "carpet": [
           {
            "aaxis": {
             "endlinecolor": "rgb(36,36,36)",
             "gridcolor": "white",
             "linecolor": "white",
             "minorgridcolor": "white",
             "startlinecolor": "rgb(36,36,36)"
            },
            "baxis": {
             "endlinecolor": "rgb(36,36,36)",
             "gridcolor": "white",
             "linecolor": "white",
             "minorgridcolor": "white",
             "startlinecolor": "rgb(36,36,36)"
            },
            "type": "carpet"
           }
          ],
          "choropleth": [
           {
            "colorbar": {
             "outlinewidth": 1,
             "tickcolor": "rgb(36,36,36)",
             "ticks": "outside"
            },
            "type": "choropleth"
           }
          ],
          "contour": [
           {
            "colorbar": {
             "outlinewidth": 1,
             "tickcolor": "rgb(36,36,36)",
             "ticks": "outside"
            },
            "colorscale": [
             [
              0,
              "#440154"
             ],
             [
              0.1111111111111111,
              "#482878"
             ],
             [
              0.2222222222222222,
              "#3e4989"
             ],
             [
              0.3333333333333333,
              "#31688e"
             ],
             [
              0.4444444444444444,
              "#26828e"
             ],
             [
              0.5555555555555556,
              "#1f9e89"
             ],
             [
              0.6666666666666666,
              "#35b779"
             ],
             [
              0.7777777777777778,
              "#6ece58"
             ],
             [
              0.8888888888888888,
              "#b5de2b"
             ],
             [
              1,
              "#fde725"
             ]
            ],
            "type": "contour"
           }
          ],
          "contourcarpet": [
           {
            "colorbar": {
             "outlinewidth": 1,
             "tickcolor": "rgb(36,36,36)",
             "ticks": "outside"
            },
            "type": "contourcarpet"
           }
          ],
          "heatmap": [
           {
            "colorbar": {
             "outlinewidth": 1,
             "tickcolor": "rgb(36,36,36)",
             "ticks": "outside"
            },
            "colorscale": [
             [
              0,
              "#440154"
             ],
             [
              0.1111111111111111,
              "#482878"
             ],
             [
              0.2222222222222222,
              "#3e4989"
             ],
             [
              0.3333333333333333,
              "#31688e"
             ],
             [
              0.4444444444444444,
              "#26828e"
             ],
             [
              0.5555555555555556,
              "#1f9e89"
             ],
             [
              0.6666666666666666,
              "#35b779"
             ],
             [
              0.7777777777777778,
              "#6ece58"
             ],
             [
              0.8888888888888888,
              "#b5de2b"
             ],
             [
              1,
              "#fde725"
             ]
            ],
            "type": "heatmap"
           }
          ],
          "heatmapgl": [
           {
            "colorbar": {
             "outlinewidth": 1,
             "tickcolor": "rgb(36,36,36)",
             "ticks": "outside"
            },
            "colorscale": [
             [
              0,
              "#440154"
             ],
             [
              0.1111111111111111,
              "#482878"
             ],
             [
              0.2222222222222222,
              "#3e4989"
             ],
             [
              0.3333333333333333,
              "#31688e"
             ],
             [
              0.4444444444444444,
              "#26828e"
             ],
             [
              0.5555555555555556,
              "#1f9e89"
             ],
             [
              0.6666666666666666,
              "#35b779"
             ],
             [
              0.7777777777777778,
              "#6ece58"
             ],
             [
              0.8888888888888888,
              "#b5de2b"
             ],
             [
              1,
              "#fde725"
             ]
            ],
            "type": "heatmapgl"
           }
          ],
          "histogram": [
           {
            "marker": {
             "line": {
              "color": "white",
              "width": 0.6
             }
            },
            "type": "histogram"
           }
          ],
          "histogram2d": [
           {
            "colorbar": {
             "outlinewidth": 1,
             "tickcolor": "rgb(36,36,36)",
             "ticks": "outside"
            },
            "colorscale": [
             [
              0,
              "#440154"
             ],
             [
              0.1111111111111111,
              "#482878"
             ],
             [
              0.2222222222222222,
              "#3e4989"
             ],
             [
              0.3333333333333333,
              "#31688e"
             ],
             [
              0.4444444444444444,
              "#26828e"
             ],
             [
              0.5555555555555556,
              "#1f9e89"
             ],
             [
              0.6666666666666666,
              "#35b779"
             ],
             [
              0.7777777777777778,
              "#6ece58"
             ],
             [
              0.8888888888888888,
              "#b5de2b"
             ],
             [
              1,
              "#fde725"
             ]
            ],
            "type": "histogram2d"
           }
          ],
          "histogram2dcontour": [
           {
            "colorbar": {
             "outlinewidth": 1,
             "tickcolor": "rgb(36,36,36)",
             "ticks": "outside"
            },
            "colorscale": [
             [
              0,
              "#440154"
             ],
             [
              0.1111111111111111,
              "#482878"
             ],
             [
              0.2222222222222222,
              "#3e4989"
             ],
             [
              0.3333333333333333,
              "#31688e"
             ],
             [
              0.4444444444444444,
              "#26828e"
             ],
             [
              0.5555555555555556,
              "#1f9e89"
             ],
             [
              0.6666666666666666,
              "#35b779"
             ],
             [
              0.7777777777777778,
              "#6ece58"
             ],
             [
              0.8888888888888888,
              "#b5de2b"
             ],
             [
              1,
              "#fde725"
             ]
            ],
            "type": "histogram2dcontour"
           }
          ],
          "mesh3d": [
           {
            "colorbar": {
             "outlinewidth": 1,
             "tickcolor": "rgb(36,36,36)",
             "ticks": "outside"
            },
            "type": "mesh3d"
           }
          ],
          "parcoords": [
           {
            "line": {
             "colorbar": {
              "outlinewidth": 1,
              "tickcolor": "rgb(36,36,36)",
              "ticks": "outside"
             }
            },
            "type": "parcoords"
           }
          ],
          "pie": [
           {
            "automargin": true,
            "type": "pie"
           }
          ],
          "scatter": [
           {
            "fillpattern": {
             "fillmode": "overlay",
             "size": 10,
             "solidity": 0.2
            },
            "type": "scatter"
           }
          ],
          "scatter3d": [
           {
            "line": {
             "colorbar": {
              "outlinewidth": 1,
              "tickcolor": "rgb(36,36,36)",
              "ticks": "outside"
             }
            },
            "marker": {
             "colorbar": {
              "outlinewidth": 1,
              "tickcolor": "rgb(36,36,36)",
              "ticks": "outside"
             }
            },
            "type": "scatter3d"
           }
          ],
          "scattercarpet": [
           {
            "marker": {
             "colorbar": {
              "outlinewidth": 1,
              "tickcolor": "rgb(36,36,36)",
              "ticks": "outside"
             }
            },
            "type": "scattercarpet"
           }
          ],
          "scattergeo": [
           {
            "marker": {
             "colorbar": {
              "outlinewidth": 1,
              "tickcolor": "rgb(36,36,36)",
              "ticks": "outside"
             }
            },
            "type": "scattergeo"
           }
          ],
          "scattergl": [
           {
            "marker": {
             "colorbar": {
              "outlinewidth": 1,
              "tickcolor": "rgb(36,36,36)",
              "ticks": "outside"
             }
            },
            "type": "scattergl"
           }
          ],
          "scattermapbox": [
           {
            "marker": {
             "colorbar": {
              "outlinewidth": 1,
              "tickcolor": "rgb(36,36,36)",
              "ticks": "outside"
             }
            },
            "type": "scattermapbox"
           }
          ],
          "scatterpolar": [
           {
            "marker": {
             "colorbar": {
              "outlinewidth": 1,
              "tickcolor": "rgb(36,36,36)",
              "ticks": "outside"
             }
            },
            "type": "scatterpolar"
           }
          ],
          "scatterpolargl": [
           {
            "marker": {
             "colorbar": {
              "outlinewidth": 1,
              "tickcolor": "rgb(36,36,36)",
              "ticks": "outside"
             }
            },
            "type": "scatterpolargl"
           }
          ],
          "scatterternary": [
           {
            "marker": {
             "colorbar": {
              "outlinewidth": 1,
              "tickcolor": "rgb(36,36,36)",
              "ticks": "outside"
             }
            },
            "type": "scatterternary"
           }
          ],
          "surface": [
           {
            "colorbar": {
             "outlinewidth": 1,
             "tickcolor": "rgb(36,36,36)",
             "ticks": "outside"
            },
            "colorscale": [
             [
              0,
              "#440154"
             ],
             [
              0.1111111111111111,
              "#482878"
             ],
             [
              0.2222222222222222,
              "#3e4989"
             ],
             [
              0.3333333333333333,
              "#31688e"
             ],
             [
              0.4444444444444444,
              "#26828e"
             ],
             [
              0.5555555555555556,
              "#1f9e89"
             ],
             [
              0.6666666666666666,
              "#35b779"
             ],
             [
              0.7777777777777778,
              "#6ece58"
             ],
             [
              0.8888888888888888,
              "#b5de2b"
             ],
             [
              1,
              "#fde725"
             ]
            ],
            "type": "surface"
           }
          ],
          "table": [
           {
            "cells": {
             "fill": {
              "color": "rgb(237,237,237)"
             },
             "line": {
              "color": "white"
             }
            },
            "header": {
             "fill": {
              "color": "rgb(217,217,217)"
             },
             "line": {
              "color": "white"
             }
            },
            "type": "table"
           }
          ]
         },
         "layout": {
          "annotationdefaults": {
           "arrowhead": 0,
           "arrowwidth": 1
          },
          "autotypenumbers": "strict",
          "coloraxis": {
           "colorbar": {
            "outlinewidth": 1,
            "tickcolor": "rgb(36,36,36)",
            "ticks": "outside"
           }
          },
          "colorscale": {
           "diverging": [
            [
             0,
             "rgb(103,0,31)"
            ],
            [
             0.1,
             "rgb(178,24,43)"
            ],
            [
             0.2,
             "rgb(214,96,77)"
            ],
            [
             0.3,
             "rgb(244,165,130)"
            ],
            [
             0.4,
             "rgb(253,219,199)"
            ],
            [
             0.5,
             "rgb(247,247,247)"
            ],
            [
             0.6,
             "rgb(209,229,240)"
            ],
            [
             0.7,
             "rgb(146,197,222)"
            ],
            [
             0.8,
             "rgb(67,147,195)"
            ],
            [
             0.9,
             "rgb(33,102,172)"
            ],
            [
             1,
             "rgb(5,48,97)"
            ]
           ],
           "sequential": [
            [
             0,
             "#440154"
            ],
            [
             0.1111111111111111,
             "#482878"
            ],
            [
             0.2222222222222222,
             "#3e4989"
            ],
            [
             0.3333333333333333,
             "#31688e"
            ],
            [
             0.4444444444444444,
             "#26828e"
            ],
            [
             0.5555555555555556,
             "#1f9e89"
            ],
            [
             0.6666666666666666,
             "#35b779"
            ],
            [
             0.7777777777777778,
             "#6ece58"
            ],
            [
             0.8888888888888888,
             "#b5de2b"
            ],
            [
             1,
             "#fde725"
            ]
           ],
           "sequentialminus": [
            [
             0,
             "#440154"
            ],
            [
             0.1111111111111111,
             "#482878"
            ],
            [
             0.2222222222222222,
             "#3e4989"
            ],
            [
             0.3333333333333333,
             "#31688e"
            ],
            [
             0.4444444444444444,
             "#26828e"
            ],
            [
             0.5555555555555556,
             "#1f9e89"
            ],
            [
             0.6666666666666666,
             "#35b779"
            ],
            [
             0.7777777777777778,
             "#6ece58"
            ],
            [
             0.8888888888888888,
             "#b5de2b"
            ],
            [
             1,
             "#fde725"
            ]
           ]
          },
          "colorway": [
           "#1F77B4",
           "#FF7F0E",
           "#2CA02C",
           "#D62728",
           "#9467BD",
           "#8C564B",
           "#E377C2",
           "#7F7F7F",
           "#BCBD22",
           "#17BECF"
          ],
          "font": {
           "color": "rgb(36,36,36)"
          },
          "geo": {
           "bgcolor": "white",
           "lakecolor": "white",
           "landcolor": "white",
           "showlakes": true,
           "showland": true,
           "subunitcolor": "white"
          },
          "hoverlabel": {
           "align": "left"
          },
          "hovermode": "closest",
          "mapbox": {
           "style": "light"
          },
          "paper_bgcolor": "white",
          "plot_bgcolor": "white",
          "polar": {
           "angularaxis": {
            "gridcolor": "rgb(232,232,232)",
            "linecolor": "rgb(36,36,36)",
            "showgrid": false,
            "showline": true,
            "ticks": "outside"
           },
           "bgcolor": "white",
           "radialaxis": {
            "gridcolor": "rgb(232,232,232)",
            "linecolor": "rgb(36,36,36)",
            "showgrid": false,
            "showline": true,
            "ticks": "outside"
           }
          },
          "scene": {
           "xaxis": {
            "backgroundcolor": "white",
            "gridcolor": "rgb(232,232,232)",
            "gridwidth": 2,
            "linecolor": "rgb(36,36,36)",
            "showbackground": true,
            "showgrid": false,
            "showline": true,
            "ticks": "outside",
            "zeroline": false,
            "zerolinecolor": "rgb(36,36,36)"
           },
           "yaxis": {
            "backgroundcolor": "white",
            "gridcolor": "rgb(232,232,232)",
            "gridwidth": 2,
            "linecolor": "rgb(36,36,36)",
            "showbackground": true,
            "showgrid": false,
            "showline": true,
            "ticks": "outside",
            "zeroline": false,
            "zerolinecolor": "rgb(36,36,36)"
           },
           "zaxis": {
            "backgroundcolor": "white",
            "gridcolor": "rgb(232,232,232)",
            "gridwidth": 2,
            "linecolor": "rgb(36,36,36)",
            "showbackground": true,
            "showgrid": false,
            "showline": true,
            "ticks": "outside",
            "zeroline": false,
            "zerolinecolor": "rgb(36,36,36)"
           }
          },
          "shapedefaults": {
           "fillcolor": "black",
           "line": {
            "width": 0
           },
           "opacity": 0.3
          },
          "ternary": {
           "aaxis": {
            "gridcolor": "rgb(232,232,232)",
            "linecolor": "rgb(36,36,36)",
            "showgrid": false,
            "showline": true,
            "ticks": "outside"
           },
           "baxis": {
            "gridcolor": "rgb(232,232,232)",
            "linecolor": "rgb(36,36,36)",
            "showgrid": false,
            "showline": true,
            "ticks": "outside"
           },
           "bgcolor": "white",
           "caxis": {
            "gridcolor": "rgb(232,232,232)",
            "linecolor": "rgb(36,36,36)",
            "showgrid": false,
            "showline": true,
            "ticks": "outside"
           }
          },
          "title": {
           "x": 0.05
          },
          "xaxis": {
           "automargin": true,
           "gridcolor": "rgb(232,232,232)",
           "linecolor": "rgb(36,36,36)",
           "showgrid": false,
           "showline": true,
           "ticks": "outside",
           "title": {
            "standoff": 15
           },
           "zeroline": false,
           "zerolinecolor": "rgb(36,36,36)"
          },
          "yaxis": {
           "automargin": true,
           "gridcolor": "rgb(232,232,232)",
           "linecolor": "rgb(36,36,36)",
           "showgrid": false,
           "showline": true,
           "ticks": "outside",
           "title": {
            "standoff": 15
           },
           "zeroline": false,
           "zerolinecolor": "rgb(36,36,36)"
          }
         }
        },
        "xaxis": {
         "anchor": "y",
         "domain": [
          0,
          1
         ],
         "title": {
          "text": "Mortality"
         }
        },
        "yaxis": {
         "anchor": "x",
         "domain": [
          0,
          1
         ],
         "title": {
          "text": "Obesity"
         }
        }
       }
      }
     },
     "metadata": {},
     "output_type": "display_data"
    }
   ],
   "source": [
    "fig = px.scatter(food_df, x=\"Mortality\", y = \"Obesity\", size = \"Active\", hover_name='Country', log_x=False,\n",
    "                 size_max=30, template=\"simple_white\")\n",
    "\n",
    "fig.add_shape(\n",
    "    # Line Horizontal   \n",
    "    type=\"line\",\n",
    "    x0=0,\n",
    "    y0 = food_df['Obesity'].mean(),\n",
    "    x1 = food_df['Mortality'].max(),\n",
    "    y1 = food_df['Obesity'].mean(),\n",
    "    line=dict(\n",
    "        color=\"crimson\",\n",
    "        width=4\n",
    "    ),\n",
    ")\n",
    "fig.show()"
   ]
  },
  {
   "cell_type": "code",
   "execution_count": 69,
   "id": "df87a2bf",
   "metadata": {},
   "outputs": [
    {
     "data": {
      "application/vnd.plotly.v1+json": {
       "config": {
        "plotlyServerURL": "https://plot.ly"
       },
       "data": [
        {
         "hovertemplate": "<b>%{hovertext}</b><br><br>Mortality=%{x}<br>Undernourished=%{y}<br>Active=%{marker.size}<extra></extra>",
         "hovertext": [
          "Afghanistan",
          "Albania",
          "Algeria",
          "Angola",
          "Argentina",
          "Armenia",
          "Australia",
          "Austria",
          "Azerbaijan",
          "Bangladesh",
          "Barbados",
          "Belarus",
          "Belgium",
          "Belize",
          "Benin",
          "Bolivia",
          "Bosnia and Herzegovina",
          "Botswana",
          "Brazil",
          "Bulgaria",
          "Burkina Faso",
          "Cabo Verde",
          "Cambodia",
          "Cameroon",
          "Central African Republic",
          "Chad",
          "China",
          "Colombia",
          "Congo",
          "Costa Rica",
          "Cote d'Ivoire",
          "Croatia",
          "Cuba",
          "Cyprus",
          "Czechia",
          "Denmark",
          "Djibouti",
          "Dominica",
          "Dominican Republic",
          "Ecuador",
          "Egypt",
          "El Salvador",
          "Estonia",
          "Eswatini",
          "Ethiopia",
          "Fiji",
          "Finland",
          "France",
          "Gabon",
          "Gambia",
          "Georgia",
          "Germany",
          "Ghana",
          "Greece",
          "Guatemala",
          "Guinea",
          "Guinea-Bissau",
          "Guyana",
          "Haiti",
          "Honduras",
          "Hungary",
          "Iceland",
          "India",
          "Indonesia",
          "Iran (Islamic Republic of)",
          "Iraq",
          "Ireland",
          "Israel",
          "Italy",
          "Jamaica",
          "Japan",
          "Jordan",
          "Kazakhstan",
          "Kenya",
          "Korea, South",
          "Kuwait",
          "Kyrgyzstan",
          "Lao People's Democratic Republic",
          "Latvia",
          "Lebanon",
          "Lesotho",
          "Liberia",
          "Lithuania",
          "Luxembourg",
          "Madagascar",
          "Malawi",
          "Malaysia",
          "Maldives",
          "Mali",
          "Malta",
          "Mauritania",
          "Mauritius",
          "Mexico",
          "Mongolia",
          "Montenegro",
          "Morocco",
          "Mozambique",
          "Namibia",
          "Nepal",
          "Netherlands",
          "New Zealand",
          "Nicaragua",
          "Niger",
          "Nigeria",
          "North Macedonia",
          "Norway",
          "Oman",
          "Pakistan",
          "Panama",
          "Paraguay",
          "Peru",
          "Philippines",
          "Poland",
          "Portugal",
          "Romania",
          "Russian Federation",
          "Rwanda",
          "Saint Vincent and the Grenadines",
          "Samoa",
          "Sao Tome and Principe",
          "Saudi Arabia",
          "Senegal",
          "Serbia",
          "Sierra Leone",
          "Slovakia",
          "Slovenia",
          "Solomon Islands",
          "South Africa",
          "Spain",
          "Sri Lanka",
          "Sudan",
          "Suriname",
          "Sweden",
          "Switzerland",
          "Thailand",
          "Timor-Leste",
          "Togo",
          "Trinidad and Tobago",
          "Tunisia",
          "Turkey",
          "Uganda",
          "Ukraine",
          "United Arab Emirates",
          "United Kingdom",
          "United Republic of Tanzania",
          "United States of America",
          "Uruguay",
          "Uzbekistan",
          "Vanuatu",
          "Venezuela (Bolivarian Republic of)",
          "Vietnam",
          "Yemen",
          "Zambia",
          "Zimbabwe"
         ],
         "legendgroup": "",
         "marker": {
          "color": "#1F77B4",
          "size": [
           0.0125744965063707,
           1.12371388301621,
           0.0707667335482562,
           0.0034192239099686,
           0.342728695153933,
           0.177469553450609,
           0.0072066475110662,
           0.153432802333408,
           0.0287396121883657,
           0.027524453945315,
           0.107665505226481,
           0.10928,
           6.10089448545376,
           0.0601431980906921,
           0.0047096404291915,
           0.4213960285395,
           0.656232855836635,
           0.162537764350453,
           0.372093649085038,
           0.303883354987729,
           0.0050375544180261,
           0.10089928057554,
           0.0001290572368845,
           0.0053349875930521,
           0.0008488612836438,
           0.0029566866149197,
           0.0001264987859967,
           0.148011892241728,
           0.177437477346865,
           0.735374682058306,
           0.0062349570200573,
           0.0722388059701493,
           0.0508731495434802,
           2.43380281690141,
           0.897667039940276,
           0.117841825355979,
           0.0026315789473684,
           0.0152777777777778,
           0.511314285714286,
           0.184438353035235,
           0.0272293483328869,
           0.0637710229902793,
           0.706836964688204,
           0.372101449275362,
           0.0119887570051168,
           0.0001116071428571,
           0.281678422861277,
           4.70961964890668,
           0.0264007171671896,
           0.0089780719900703,
           0.149017496635262,
           0.21784393757503,
           0.0196150999259808,
           0.593439252336449,
           0.0452009299236134,
           0.002078025477707,
           0.0155163466528282,
           0.101270648030496,
           0.0206699991230378,
           0.896289537712895,
           0.861574690283608,
           0.0089673913043478,
           0.0106253839011499,
           0.0649273751651401,
           0.182512180629828,
           0.0381069855254877,
           3.50809514291425,
           0.774392361111111,
           0.708229401618681,
           0.151619793520826,
           0.0309914501417038,
           0.09360427006274,
           0.144987187700192,
           0.0291660439396204,
           0.0165311600780209,
           0.170091664890215,
           0.0307400667273279,
           0.0000552333609500138,
           0.556992639327024,
           1.65768498168498,
           0.303034547152194,
           0.0020166073546856,
           1.6226914817466,
           0.395727848101266,
           0.0020548192553537,
           0.0767903815995818,
           0.155254568194991,
           0.37818853974122,
           0.0087304330650338,
           0.459961685823755,
           0.0082150537634408,
           0.0026877470355731,
           0.217663077500939,
           0.0170187444213032,
           1.23392282958199,
           0.0352247441032488,
           0.0541327087210422,
           0.0438410074773711,
           0.006530870782771,
           5.65639777866835,
           0.0013234409464608,
           0.0288659793814433,
           0.001996775393774,
           0.0121461142912584,
           0.382115384615385,
           0.85526266938927,
           0.132463399108848,
           0.0146035122657735,
           0.721106700910577,
           0.295382494831151,
           0.135477089934194,
           0.0328031319298054,
           0.534208194328607,
           1.44669917113603,
           0.182215061587236,
           0.295842107773984,
           0.0314468807906115,
           0.718918918918919,
           0,
           0.13,
           0.006640792214834,
           0.0270066889632107,
           5.78180250107805,
           0.0155572270277047,
           0.337202489930428,
           0.751212553495007,
           0.0009790209790209,
           0.14594318105588,
           5.73155872782618,
           0.0256689611159229,
           0.013703847294123,
           0.0852892561983471,
           5.5502264623687,
           2.37047718322909,
           0.0095439925451648,
           0.0014415781487101,
           0.0099287353545114,
           0.0162162162162162,
           0.303707128446537,
           0.102220046096708,
           0.0549725629085503,
           0.363334769495907,
           0.218930251585191,
           5.68610184633711,
           0.0005105969799444,
           8.01981884211739,
           0.166015293118097,
           0.0027330719260256,
           0,
           0.0238994588933496,
           0.000500992630627,
           0.00028163347415,
           0.0390448215839861,
           0.0322142232389154
          ],
          "sizemode": "area",
          "sizeref": 0.008910909824574877,
          "symbol": "circle"
         },
         "mode": "markers",
         "name": "",
         "orientation": "v",
         "showlegend": false,
         "type": "scatter",
         "x": [
          4.352069401771176,
          1.717094950838359,
          2.677922101832838,
          2.3676602532149635,
          2.4844575955044093,
          1.8542667786134115,
          3.150670687324479,
          1.8919724890064906,
          1.3661036611231818,
          1.5229559105193446,
          1.0739856801909273,
          0.6899933452418479,
          2.9497009131473866,
          2.5421616681897454,
          1.3117099928451212,
          4.734334824416184,
          3.8684641184762842,
          0.6935284857252216,
          2.434952708034622,
          4.1650264815344915,
          1.1935512603544514,
          0.9388038942976333,
          0,
          1.509842645091354,
          1.2627781118460006,
          3.59919378059302,
          4.805277633833631,
          2.5889186861143494,
          2.5392296718972953,
          1.3602256182612322,
          0.5479081408326841,
          2.187763156775512,
          0.7278747930398786,
          0.6667930729364175,
          1.6628288962753528,
          1.0977307290299227,
          1.0604275374515941,
          0,
          1.2608711309577398,
          5.835521070338193,
          5.67927808593425,
          2.9749097569215976,
          0.9597575349385394,
          3.7327730053766808,
          1.5164047422111782,
          3.5714285714272003,
          1.4557149507003473,
          2.338085920955278,
          0.6197084751680058,
          3.162615057823919,
          1.2495222077822783,
          2.6936944940553724,
          0.6410073380349677,
          3.6461556371122272,
          3.592799671038502,
          0.5727923627684148,
          1.6594516594516089,
          2.267288071545528,
          2.083687701990058,
          2.4105779539326178,
          3.472442519160284,
          0.4816475668493597,
          1.4316534555510503,
          2.7369421365114532,
          4.002549045135918,
          2.0896821247784514,
          1.813891028299463,
          0.7396624478728323,
          3.4666515307238015,
          2.11982661362151,
          1.576975611687368,
          1.3086519596830934,
          1.2814086867923244,
          1.7464844134132844,
          1.8183840981012265,
          0.5669387659083954,
          1.674275225903617,
          0,
          1.860628154795289,
          1.1207037591713966,
          1.9509594882729038,
          4.294478527607231,
          1.5713074007665992,
          1.145364186985557,
          1.4739050616311615,
          3.114418604651148,
          0.3589964854369718,
          0.3242074927953887,
          4.142156862745105,
          1.501937984496126,
          2.5309671272034104,
          1.7123287671230836,
          8.607430636318348,
          0.0988630746416214,
          1.291339069185499,
          1.764547357073975,
          1.0223975335509343,
          1.064745723797499,
          0.7486957609471403,
          1.4243564159538173,
          1.0775862068965336,
          2.69884108588658,
          3.588516746411267,
          1.1828327659756783,
          3.082485015697845,
          0.9001902463922752,
          1.1344702719914677,
          2.1582617038850955,
          1.6709346206626199,
          2.039926455091825,
          3.5747136725359967,
          2.0746151878264283,
          2.523017993827355,
          1.8314595238782685,
          2.530325838811961,
          1.9195665531202482,
          1.328273244781726,
          0.24958402662229656,
          0,
          1.3323464100666071,
          1.7291011755293173,
          2.3693355330127055,
          1.011930542977517,
          2.0943796394484098,
          1.9616157448791693,
          2.0854383057834607,
          0,
          3.1336092827576865,
          2.0865468611382068,
          0.5118408772748326,
          6.178713639738081,
          1.84971098265896,
          2.0601569222292837,
          1.8060702460925737,
          0.3380257584183738,
          0,
          1.4532744665193644,
          1.7735155018391897,
          3.3130412256679715,
          1.056921259861232,
          0.8211747570376574,
          1.9248143470455454,
          0.28262039195799604,
          2.849460060239427,
          4.12573673870378,
          1.7169650684879818,
          1.0733732036061732,
          0.7856284394964747,
          0,
          0.9472165870891425,
          1.763224181360229,
          28.913963328631993,
          1.365848893808903,
          3.815930640531178
         ],
         "xaxis": "x",
         "y": [
          29.8,
          6.2,
          3.9,
          25,
          4.6,
          4.3,
          2.4,
          2.4,
          2.4,
          14.7,
          3.9,
          2.4,
          2.4,
          7.5,
          10.1,
          17.1,
          2.4,
          26.4,
          2.4,
          3.6,
          20,
          12.6,
          16.4,
          9.9,
          59.6,
          37.5,
          8.5,
          4.8,
          40.3,
          4.8,
          19,
          2.4,
          2.4,
          5.6,
          2.4,
          2.4,
          18.9,
          6.2,
          9.5,
          7.9,
          4.5,
          9,
          2.9,
          20.6,
          20.6,
          3.7,
          2.4,
          2.4,
          10.5,
          10.2,
          7.9,
          2.4,
          5.5,
          2.4,
          15.2,
          16.5,
          28,
          8.1,
          49.3,
          12.9,
          2.4,
          2.4,
          14.5,
          8.3,
          4.9,
          29,
          2.4,
          2.4,
          2.4,
          8,
          2.4,
          12.2,
          2.4,
          29.4,
          2.4,
          2.8,
          7.1,
          16.5,
          2.4,
          11,
          13.1,
          37.2,
          2.4,
          2.4,
          44.4,
          17.5,
          2.5,
          10.3,
          6.3,
          2.4,
          10.4,
          6.5,
          3.6,
          13.4,
          2.4,
          3.4,
          27.9,
          27.3,
          8.7,
          2.4,
          2.4,
          17,
          16.5,
          13.4,
          3.2,
          2.4,
          6.8,
          20.3,
          10,
          10.7,
          9.7,
          13.3,
          2.4,
          2.4,
          2.4,
          2.4,
          36.8,
          5.7,
          2.7,
          7,
          7.1,
          11.3,
          5.7,
          25.6,
          3.4,
          2.4,
          8.9,
          6.2,
          2.4,
          9,
          20.1,
          8.5,
          2.4,
          2.4,
          7.8,
          24.9,
          16.1,
          5.5,
          4.3,
          2.4,
          41,
          3.5,
          2.6,
          2.4,
          30.7,
          2.4,
          2.4,
          6.3,
          7.2,
          21.2,
          9.3,
          38.9,
          46.7,
          51.3
         ],
         "yaxis": "y"
        }
       ],
       "layout": {
        "legend": {
         "itemsizing": "constant",
         "tracegroupgap": 0
        },
        "margin": {
         "t": 60
        },
        "shapes": [
         {
          "line": {
           "color": "crimson",
           "width": 4
          },
          "type": "line",
          "x0": 0,
          "x1": 28.913963328631993,
          "y0": 11.296103896103897,
          "y1": 11.296103896103897
         }
        ],
        "template": {
         "data": {
          "bar": [
           {
            "error_x": {
             "color": "rgb(36,36,36)"
            },
            "error_y": {
             "color": "rgb(36,36,36)"
            },
            "marker": {
             "line": {
              "color": "white",
              "width": 0.5
             },
             "pattern": {
              "fillmode": "overlay",
              "size": 10,
              "solidity": 0.2
             }
            },
            "type": "bar"
           }
          ],
          "barpolar": [
           {
            "marker": {
             "line": {
              "color": "white",
              "width": 0.5
             },
             "pattern": {
              "fillmode": "overlay",
              "size": 10,
              "solidity": 0.2
             }
            },
            "type": "barpolar"
           }
          ],
          "carpet": [
           {
            "aaxis": {
             "endlinecolor": "rgb(36,36,36)",
             "gridcolor": "white",
             "linecolor": "white",
             "minorgridcolor": "white",
             "startlinecolor": "rgb(36,36,36)"
            },
            "baxis": {
             "endlinecolor": "rgb(36,36,36)",
             "gridcolor": "white",
             "linecolor": "white",
             "minorgridcolor": "white",
             "startlinecolor": "rgb(36,36,36)"
            },
            "type": "carpet"
           }
          ],
          "choropleth": [
           {
            "colorbar": {
             "outlinewidth": 1,
             "tickcolor": "rgb(36,36,36)",
             "ticks": "outside"
            },
            "type": "choropleth"
           }
          ],
          "contour": [
           {
            "colorbar": {
             "outlinewidth": 1,
             "tickcolor": "rgb(36,36,36)",
             "ticks": "outside"
            },
            "colorscale": [
             [
              0,
              "#440154"
             ],
             [
              0.1111111111111111,
              "#482878"
             ],
             [
              0.2222222222222222,
              "#3e4989"
             ],
             [
              0.3333333333333333,
              "#31688e"
             ],
             [
              0.4444444444444444,
              "#26828e"
             ],
             [
              0.5555555555555556,
              "#1f9e89"
             ],
             [
              0.6666666666666666,
              "#35b779"
             ],
             [
              0.7777777777777778,
              "#6ece58"
             ],
             [
              0.8888888888888888,
              "#b5de2b"
             ],
             [
              1,
              "#fde725"
             ]
            ],
            "type": "contour"
           }
          ],
          "contourcarpet": [
           {
            "colorbar": {
             "outlinewidth": 1,
             "tickcolor": "rgb(36,36,36)",
             "ticks": "outside"
            },
            "type": "contourcarpet"
           }
          ],
          "heatmap": [
           {
            "colorbar": {
             "outlinewidth": 1,
             "tickcolor": "rgb(36,36,36)",
             "ticks": "outside"
            },
            "colorscale": [
             [
              0,
              "#440154"
             ],
             [
              0.1111111111111111,
              "#482878"
             ],
             [
              0.2222222222222222,
              "#3e4989"
             ],
             [
              0.3333333333333333,
              "#31688e"
             ],
             [
              0.4444444444444444,
              "#26828e"
             ],
             [
              0.5555555555555556,
              "#1f9e89"
             ],
             [
              0.6666666666666666,
              "#35b779"
             ],
             [
              0.7777777777777778,
              "#6ece58"
             ],
             [
              0.8888888888888888,
              "#b5de2b"
             ],
             [
              1,
              "#fde725"
             ]
            ],
            "type": "heatmap"
           }
          ],
          "heatmapgl": [
           {
            "colorbar": {
             "outlinewidth": 1,
             "tickcolor": "rgb(36,36,36)",
             "ticks": "outside"
            },
            "colorscale": [
             [
              0,
              "#440154"
             ],
             [
              0.1111111111111111,
              "#482878"
             ],
             [
              0.2222222222222222,
              "#3e4989"
             ],
             [
              0.3333333333333333,
              "#31688e"
             ],
             [
              0.4444444444444444,
              "#26828e"
             ],
             [
              0.5555555555555556,
              "#1f9e89"
             ],
             [
              0.6666666666666666,
              "#35b779"
             ],
             [
              0.7777777777777778,
              "#6ece58"
             ],
             [
              0.8888888888888888,
              "#b5de2b"
             ],
             [
              1,
              "#fde725"
             ]
            ],
            "type": "heatmapgl"
           }
          ],
          "histogram": [
           {
            "marker": {
             "line": {
              "color": "white",
              "width": 0.6
             }
            },
            "type": "histogram"
           }
          ],
          "histogram2d": [
           {
            "colorbar": {
             "outlinewidth": 1,
             "tickcolor": "rgb(36,36,36)",
             "ticks": "outside"
            },
            "colorscale": [
             [
              0,
              "#440154"
             ],
             [
              0.1111111111111111,
              "#482878"
             ],
             [
              0.2222222222222222,
              "#3e4989"
             ],
             [
              0.3333333333333333,
              "#31688e"
             ],
             [
              0.4444444444444444,
              "#26828e"
             ],
             [
              0.5555555555555556,
              "#1f9e89"
             ],
             [
              0.6666666666666666,
              "#35b779"
             ],
             [
              0.7777777777777778,
              "#6ece58"
             ],
             [
              0.8888888888888888,
              "#b5de2b"
             ],
             [
              1,
              "#fde725"
             ]
            ],
            "type": "histogram2d"
           }
          ],
          "histogram2dcontour": [
           {
            "colorbar": {
             "outlinewidth": 1,
             "tickcolor": "rgb(36,36,36)",
             "ticks": "outside"
            },
            "colorscale": [
             [
              0,
              "#440154"
             ],
             [
              0.1111111111111111,
              "#482878"
             ],
             [
              0.2222222222222222,
              "#3e4989"
             ],
             [
              0.3333333333333333,
              "#31688e"
             ],
             [
              0.4444444444444444,
              "#26828e"
             ],
             [
              0.5555555555555556,
              "#1f9e89"
             ],
             [
              0.6666666666666666,
              "#35b779"
             ],
             [
              0.7777777777777778,
              "#6ece58"
             ],
             [
              0.8888888888888888,
              "#b5de2b"
             ],
             [
              1,
              "#fde725"
             ]
            ],
            "type": "histogram2dcontour"
           }
          ],
          "mesh3d": [
           {
            "colorbar": {
             "outlinewidth": 1,
             "tickcolor": "rgb(36,36,36)",
             "ticks": "outside"
            },
            "type": "mesh3d"
           }
          ],
          "parcoords": [
           {
            "line": {
             "colorbar": {
              "outlinewidth": 1,
              "tickcolor": "rgb(36,36,36)",
              "ticks": "outside"
             }
            },
            "type": "parcoords"
           }
          ],
          "pie": [
           {
            "automargin": true,
            "type": "pie"
           }
          ],
          "scatter": [
           {
            "fillpattern": {
             "fillmode": "overlay",
             "size": 10,
             "solidity": 0.2
            },
            "type": "scatter"
           }
          ],
          "scatter3d": [
           {
            "line": {
             "colorbar": {
              "outlinewidth": 1,
              "tickcolor": "rgb(36,36,36)",
              "ticks": "outside"
             }
            },
            "marker": {
             "colorbar": {
              "outlinewidth": 1,
              "tickcolor": "rgb(36,36,36)",
              "ticks": "outside"
             }
            },
            "type": "scatter3d"
           }
          ],
          "scattercarpet": [
           {
            "marker": {
             "colorbar": {
              "outlinewidth": 1,
              "tickcolor": "rgb(36,36,36)",
              "ticks": "outside"
             }
            },
            "type": "scattercarpet"
           }
          ],
          "scattergeo": [
           {
            "marker": {
             "colorbar": {
              "outlinewidth": 1,
              "tickcolor": "rgb(36,36,36)",
              "ticks": "outside"
             }
            },
            "type": "scattergeo"
           }
          ],
          "scattergl": [
           {
            "marker": {
             "colorbar": {
              "outlinewidth": 1,
              "tickcolor": "rgb(36,36,36)",
              "ticks": "outside"
             }
            },
            "type": "scattergl"
           }
          ],
          "scattermapbox": [
           {
            "marker": {
             "colorbar": {
              "outlinewidth": 1,
              "tickcolor": "rgb(36,36,36)",
              "ticks": "outside"
             }
            },
            "type": "scattermapbox"
           }
          ],
          "scatterpolar": [
           {
            "marker": {
             "colorbar": {
              "outlinewidth": 1,
              "tickcolor": "rgb(36,36,36)",
              "ticks": "outside"
             }
            },
            "type": "scatterpolar"
           }
          ],
          "scatterpolargl": [
           {
            "marker": {
             "colorbar": {
              "outlinewidth": 1,
              "tickcolor": "rgb(36,36,36)",
              "ticks": "outside"
             }
            },
            "type": "scatterpolargl"
           }
          ],
          "scatterternary": [
           {
            "marker": {
             "colorbar": {
              "outlinewidth": 1,
              "tickcolor": "rgb(36,36,36)",
              "ticks": "outside"
             }
            },
            "type": "scatterternary"
           }
          ],
          "surface": [
           {
            "colorbar": {
             "outlinewidth": 1,
             "tickcolor": "rgb(36,36,36)",
             "ticks": "outside"
            },
            "colorscale": [
             [
              0,
              "#440154"
             ],
             [
              0.1111111111111111,
              "#482878"
             ],
             [
              0.2222222222222222,
              "#3e4989"
             ],
             [
              0.3333333333333333,
              "#31688e"
             ],
             [
              0.4444444444444444,
              "#26828e"
             ],
             [
              0.5555555555555556,
              "#1f9e89"
             ],
             [
              0.6666666666666666,
              "#35b779"
             ],
             [
              0.7777777777777778,
              "#6ece58"
             ],
             [
              0.8888888888888888,
              "#b5de2b"
             ],
             [
              1,
              "#fde725"
             ]
            ],
            "type": "surface"
           }
          ],
          "table": [
           {
            "cells": {
             "fill": {
              "color": "rgb(237,237,237)"
             },
             "line": {
              "color": "white"
             }
            },
            "header": {
             "fill": {
              "color": "rgb(217,217,217)"
             },
             "line": {
              "color": "white"
             }
            },
            "type": "table"
           }
          ]
         },
         "layout": {
          "annotationdefaults": {
           "arrowhead": 0,
           "arrowwidth": 1
          },
          "autotypenumbers": "strict",
          "coloraxis": {
           "colorbar": {
            "outlinewidth": 1,
            "tickcolor": "rgb(36,36,36)",
            "ticks": "outside"
           }
          },
          "colorscale": {
           "diverging": [
            [
             0,
             "rgb(103,0,31)"
            ],
            [
             0.1,
             "rgb(178,24,43)"
            ],
            [
             0.2,
             "rgb(214,96,77)"
            ],
            [
             0.3,
             "rgb(244,165,130)"
            ],
            [
             0.4,
             "rgb(253,219,199)"
            ],
            [
             0.5,
             "rgb(247,247,247)"
            ],
            [
             0.6,
             "rgb(209,229,240)"
            ],
            [
             0.7,
             "rgb(146,197,222)"
            ],
            [
             0.8,
             "rgb(67,147,195)"
            ],
            [
             0.9,
             "rgb(33,102,172)"
            ],
            [
             1,
             "rgb(5,48,97)"
            ]
           ],
           "sequential": [
            [
             0,
             "#440154"
            ],
            [
             0.1111111111111111,
             "#482878"
            ],
            [
             0.2222222222222222,
             "#3e4989"
            ],
            [
             0.3333333333333333,
             "#31688e"
            ],
            [
             0.4444444444444444,
             "#26828e"
            ],
            [
             0.5555555555555556,
             "#1f9e89"
            ],
            [
             0.6666666666666666,
             "#35b779"
            ],
            [
             0.7777777777777778,
             "#6ece58"
            ],
            [
             0.8888888888888888,
             "#b5de2b"
            ],
            [
             1,
             "#fde725"
            ]
           ],
           "sequentialminus": [
            [
             0,
             "#440154"
            ],
            [
             0.1111111111111111,
             "#482878"
            ],
            [
             0.2222222222222222,
             "#3e4989"
            ],
            [
             0.3333333333333333,
             "#31688e"
            ],
            [
             0.4444444444444444,
             "#26828e"
            ],
            [
             0.5555555555555556,
             "#1f9e89"
            ],
            [
             0.6666666666666666,
             "#35b779"
            ],
            [
             0.7777777777777778,
             "#6ece58"
            ],
            [
             0.8888888888888888,
             "#b5de2b"
            ],
            [
             1,
             "#fde725"
            ]
           ]
          },
          "colorway": [
           "#1F77B4",
           "#FF7F0E",
           "#2CA02C",
           "#D62728",
           "#9467BD",
           "#8C564B",
           "#E377C2",
           "#7F7F7F",
           "#BCBD22",
           "#17BECF"
          ],
          "font": {
           "color": "rgb(36,36,36)"
          },
          "geo": {
           "bgcolor": "white",
           "lakecolor": "white",
           "landcolor": "white",
           "showlakes": true,
           "showland": true,
           "subunitcolor": "white"
          },
          "hoverlabel": {
           "align": "left"
          },
          "hovermode": "closest",
          "mapbox": {
           "style": "light"
          },
          "paper_bgcolor": "white",
          "plot_bgcolor": "white",
          "polar": {
           "angularaxis": {
            "gridcolor": "rgb(232,232,232)",
            "linecolor": "rgb(36,36,36)",
            "showgrid": false,
            "showline": true,
            "ticks": "outside"
           },
           "bgcolor": "white",
           "radialaxis": {
            "gridcolor": "rgb(232,232,232)",
            "linecolor": "rgb(36,36,36)",
            "showgrid": false,
            "showline": true,
            "ticks": "outside"
           }
          },
          "scene": {
           "xaxis": {
            "backgroundcolor": "white",
            "gridcolor": "rgb(232,232,232)",
            "gridwidth": 2,
            "linecolor": "rgb(36,36,36)",
            "showbackground": true,
            "showgrid": false,
            "showline": true,
            "ticks": "outside",
            "zeroline": false,
            "zerolinecolor": "rgb(36,36,36)"
           },
           "yaxis": {
            "backgroundcolor": "white",
            "gridcolor": "rgb(232,232,232)",
            "gridwidth": 2,
            "linecolor": "rgb(36,36,36)",
            "showbackground": true,
            "showgrid": false,
            "showline": true,
            "ticks": "outside",
            "zeroline": false,
            "zerolinecolor": "rgb(36,36,36)"
           },
           "zaxis": {
            "backgroundcolor": "white",
            "gridcolor": "rgb(232,232,232)",
            "gridwidth": 2,
            "linecolor": "rgb(36,36,36)",
            "showbackground": true,
            "showgrid": false,
            "showline": true,
            "ticks": "outside",
            "zeroline": false,
            "zerolinecolor": "rgb(36,36,36)"
           }
          },
          "shapedefaults": {
           "fillcolor": "black",
           "line": {
            "width": 0
           },
           "opacity": 0.3
          },
          "ternary": {
           "aaxis": {
            "gridcolor": "rgb(232,232,232)",
            "linecolor": "rgb(36,36,36)",
            "showgrid": false,
            "showline": true,
            "ticks": "outside"
           },
           "baxis": {
            "gridcolor": "rgb(232,232,232)",
            "linecolor": "rgb(36,36,36)",
            "showgrid": false,
            "showline": true,
            "ticks": "outside"
           },
           "bgcolor": "white",
           "caxis": {
            "gridcolor": "rgb(232,232,232)",
            "linecolor": "rgb(36,36,36)",
            "showgrid": false,
            "showline": true,
            "ticks": "outside"
           }
          },
          "title": {
           "x": 0.05
          },
          "xaxis": {
           "automargin": true,
           "gridcolor": "rgb(232,232,232)",
           "linecolor": "rgb(36,36,36)",
           "showgrid": false,
           "showline": true,
           "ticks": "outside",
           "title": {
            "standoff": 15
           },
           "zeroline": false,
           "zerolinecolor": "rgb(36,36,36)"
          },
          "yaxis": {
           "automargin": true,
           "gridcolor": "rgb(232,232,232)",
           "linecolor": "rgb(36,36,36)",
           "showgrid": false,
           "showline": true,
           "ticks": "outside",
           "title": {
            "standoff": 15
           },
           "zeroline": false,
           "zerolinecolor": "rgb(36,36,36)"
          }
         }
        },
        "xaxis": {
         "anchor": "y",
         "domain": [
          0,
          1
         ],
         "title": {
          "text": "Mortality"
         }
        },
        "yaxis": {
         "anchor": "x",
         "domain": [
          0,
          1
         ],
         "title": {
          "text": "Undernourished"
         }
        }
       }
      }
     },
     "metadata": {},
     "output_type": "display_data"
    }
   ],
   "source": [
    "# EDA 3\n",
    "\n",
    "fig = px.scatter(food_df, x=\"Mortality\", y = \"Undernourished\", size = \"Active\", hover_name='Country', log_x=False,\n",
    "                 size_max=30, template=\"simple_white\")\n",
    "\n",
    "fig.add_shape(\n",
    "    # Line Horizontal   \n",
    "    type=\"line\",\n",
    "    x0=0,\n",
    "    y0 = food_df['Undernourished'].mean(),\n",
    "    x1 = food_df['Mortality'].max(),\n",
    "    y1 = food_df['Undernourished'].mean(),\n",
    "    line=dict(\n",
    "        color=\"crimson\",\n",
    "        width=4\n",
    "    ),\n",
    ")\n",
    "fig.show()"
   ]
  },
  {
   "cell_type": "code",
   "execution_count": null,
   "id": "22772744",
   "metadata": {},
   "outputs": [],
   "source": []
  }
 ],
 "metadata": {
  "kernelspec": {
   "display_name": "Python 3 (ipykernel)",
   "language": "python",
   "name": "python3"
  },
  "language_info": {
   "codemirror_mode": {
    "name": "ipython",
    "version": 3
   },
   "file_extension": ".py",
   "mimetype": "text/x-python",
   "name": "python",
   "nbconvert_exporter": "python",
   "pygments_lexer": "ipython3",
   "version": "3.10.0"
  },
  "vscode": {
   "interpreter": {
    "hash": "ec910b0e4d0395e14069f6b0633059fe919d083d0d249d3dfddc5d0b137a627c"
   }
  }
 },
 "nbformat": 4,
 "nbformat_minor": 5
}
