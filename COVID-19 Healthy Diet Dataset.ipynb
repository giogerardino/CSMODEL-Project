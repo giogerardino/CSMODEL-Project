{
 "cells": [
  {
   "cell_type": "markdown",
   "id": "d2a5030b",
   "metadata": {
    "pycharm": {
     "name": "#%% md\n"
    }
   },
   "source": [
    "# COVID-19 Healthy Diet Dataset\n",
    "\n",
    "*CSMODEL S13 - Group 11: Philipe Chan, Gio Gerardino, Jaira Santos*"
   ]
  },
  {
   "cell_type": "markdown",
   "id": "da0b573e",
   "metadata": {
    "pycharm": {
     "name": "#%% md\n"
    }
   },
   "source": [
    "# I. Dataset Description"
   ]
  },
  {
   "cell_type": "markdown",
   "id": "a55151ce",
   "metadata": {
    "pycharm": {
     "name": "#%% md\n"
    }
   },
   "source": [
    "## About the Dataset\n",
    "\n",
    "The **Food Supply Quantity** dataset was created in 2020, right as the COVID-19 pandemic was just emerging to be a global health crisis. During this period, the exponentially rising number of cases of COVID-19 became a huge challenge for doctors, nurses, paramedics and thousands of medical workers, as they have placed their lives on the frontline to save a number patients who are infected. With this in mind, the researcher/author sought to identify methods by which people might help in protecting each another amidst the pandemic—one of which, would be **adopting healthy diets** as a means of looking after oneself and one's family. "
   ]
  },
  {
   "cell_type": "markdown",
   "id": "e2f8da9e",
   "metadata": {
    "pycharm": {
     "name": "#%% md\n"
    }
   },
   "source": [
    "## Collection Process \n",
    "\n",
    "**insert more collection details**\n",
    "\n",
    "The author obtained the data for different food group supply quantities, nutrition values, obesity, and undernourished percentages from Food and Agriculture Organization of the United Nations FAO website. The population count from each country was acquired from the Population Reference Bureau Website while the COVID-19 confirmed, deaths, recovered and active cases came from CSSE Website."
   ]
  },
  {
   "cell_type": "markdown",
   "id": "1b780ec1",
   "metadata": {
    "pycharm": {
     "name": "#%% md\n"
    }
   },
   "source": [
    "## Import\n",
    "\n",
    "Import **pandas**, **datetime**, **matplotlib**, and **plotly**."
   ]
  },
  {
   "cell_type": "code",
   "execution_count": 1,
   "id": "fac6bba5-068c-4c70-9b0b-dfc4a55931fc",
   "metadata": {
    "pycharm": {
     "name": "#%%\n"
    }
   },
   "outputs": [],
   "source": [
    "import numpy as np\n",
    "import pandas as pd\n",
    "\n",
    "import datetime as dt\n",
    "import matplotlib.pyplot as plt\n",
    "import plotly.express as px\n",
    "import scipy.stats as stats\n",
    "\n",
    "food_df = pd.read_csv(\"Food_Supply_Quantity_kg_Data.csv\")\n",
    "food_desc = pd.read_csv(\"Supply_Food_Data_Descriptions.csv\")"
   ]
  },
  {
   "cell_type": "markdown",
   "id": "153894d3",
   "metadata": {
    "pycharm": {
     "name": "#%% md\n"
    }
   },
   "source": [
    "## Structure of the Dataset File\n",
    "\n",
    "- The **rows** in the dataset represent the combined data of food categories intake, national population obesity and undernourished rates, national COVID-19 cases (confirmed, deaths, recovered, active), and population counts of **countries** around the world.\n",
    "- The **columns** represent the food-supply related variables pertaining to the intake of certain food groups such as grains, vegetables, fruits, and proteins, among others.  Additionally, variables representing the national obesity and undernutrition rates, COVID-19 confirmed cases, deaths, recovered cases, active cases, and country population counts are included. With the exception of the population count, each of these variables is represented as a **percentage**.\n",
    "- There are a total of **170 observations and 32 variables** in the dataset. \n",
    "\n",
    "## Variables\n",
    "\n",
    "- The first 23 variables in the dataset represent the various **food categories** that individuals consume in each country. \n",
    "- Meanwhile, the 24th and 25th variables represent the **percentages of obese and undernourished people in each country**, respectively. \n",
    "- Finally, the remaining 6 variables of the dataset represent the **proportion of confirmed COVID-19 cases, deaths, recovered cases, active COVID-19 cases, population counts of each country, and the unit used for each of the variables (with the exception of the population)**.\n",
    "\n",
    "\n",
    "More comprehensive descriptions of each variable in the dataset are listed below:\n",
    "\n",
    "  - **Alcoholic Beverages:** Percentage of food intake (kg) alcoholic beverages\n",
    "  - **Animal Fats:** Percentage of food intake (kg) animal fats\n",
    "  - **Animal Products:** Percentage of food intake (kg) animal products\n",
    "  - **Aquatic Products, Other:** Percentage of food intake (kg) aquatic products\n",
    "  - **Cereals — Excluding Beer:** Percentage of food intake (kg) cereals — excluding beer\n",
    "  - **Eggs:** Percentage of food intake (kg) eggs\n",
    "  - **Fish, Seafood:** Percentage of food intake (kg) fish, seafood\n",
    "  - **Fruits — Excluding Wine:** Percentage of food intake (kg) fruits — excluding wine\n",
    "  - **Meat:** Percentage of food intake (kg) meat\n",
    "  - **Milk — Excluding Butter:** Percentage of food intake (kg) milk — excluding butter\n",
    "  - **Miscellaneous:** Percentage of food intake (kg) miscellaneous\n",
    "  - **Offals:** Percentage of food intake (kg) offals\n",
    "  - **Oilcrops:** Percentage of food intake (kg) oilcrops\n",
    "  - **Pulses:** Percentage of food intake (kg) pulses\n",
    "  - **Spices:** Percentage of food intake (kg) spices\n",
    "  - **Starchy Roots:** Percentage of food intake (kg) starchy roots\n",
    "  - **Stimulants:** Percentage of food intake (kg) stimulants\n",
    "  - **Sugars & Sweeteners:** Percentage of food intake (kg) sugars and sweeteners\n",
    "  - **Sugar Crops:** Percentage of food intake (kg) sugar crops\n",
    "  - **Treenuts:** Percentage of food intake (kg) treenuts\n",
    "  - **Vegetable Oils:** Percentage of food intake (kg) vegetable oils\n",
    "  - **Vegetables:** Percentage of food intake (kg) vegetables\n",
    "  - **Vegetal Products:** Percentage of food intake (kg) vegetal products\n",
    "  - **Obesity:** Obesity rate\n",
    "  - **Undernourished:** Undernourished rate\n",
    "  - **Confirmed:** Percentage of confirmed COVID-19 cases\n",
    "  - **Deaths:** Percentage of COVID-19 deaths\n",
    "  - **Recovered:** Percentage of COVID-19 recovered\n",
    "  - **Active:** Percentage of COVID-19 active cases\n",
    "  - **Population:** Population count\n",
    "  - **Unit (all except Population):** Unit for data (%)"
   ]
  },
  {
   "cell_type": "markdown",
   "id": "e59a6414",
   "metadata": {
    "pycharm": {
     "name": "#%% md\n"
    }
   },
   "source": [
    "Show the contents of the `Food Description` which contains:\n",
    "\n",
    "   - **Category:** the different categories of food; and\n",
    "   - **Items:** the different types of food that belong to each category."
   ]
  },
  {
   "cell_type": "code",
   "execution_count": 2,
   "id": "c20c77ce",
   "metadata": {
    "pycharm": {
     "name": "#%%\n"
    }
   },
   "outputs": [
    {
     "data": {
      "text/html": [
       "<div>\n",
       "<style scoped>\n",
       "    .dataframe tbody tr th:only-of-type {\n",
       "        vertical-align: middle;\n",
       "    }\n",
       "\n",
       "    .dataframe tbody tr th {\n",
       "        vertical-align: top;\n",
       "    }\n",
       "\n",
       "    .dataframe thead th {\n",
       "        text-align: right;\n",
       "    }\n",
       "</style>\n",
       "<table border=\"1\" class=\"dataframe\">\n",
       "  <thead>\n",
       "    <tr style=\"text-align: right;\">\n",
       "      <th></th>\n",
       "      <th>Categories</th>\n",
       "      <th>Items</th>\n",
       "    </tr>\n",
       "  </thead>\n",
       "  <tbody>\n",
       "    <tr>\n",
       "      <th>0</th>\n",
       "      <td>Alcoholic Beverages</td>\n",
       "      <td>Alcohol, Non-Food; Beer; Beverages, Alcoholic;...</td>\n",
       "    </tr>\n",
       "    <tr>\n",
       "      <th>1</th>\n",
       "      <td>Animal fats</td>\n",
       "      <td>Butter, Ghee; Cream; Fats, Animals, Raw; Fish,...</td>\n",
       "    </tr>\n",
       "    <tr>\n",
       "      <th>2</th>\n",
       "      <td>Animal Products</td>\n",
       "      <td>Aquatic Animals, Others; Aquatic Plants; Bovin...</td>\n",
       "    </tr>\n",
       "    <tr>\n",
       "      <th>3</th>\n",
       "      <td>Aquatic Products, Other</td>\n",
       "      <td>Aquatic Animals, Others; Aquatic Plants; Meat,...</td>\n",
       "    </tr>\n",
       "    <tr>\n",
       "      <th>4</th>\n",
       "      <td>Cereals - Excluding Beer</td>\n",
       "      <td>Barley and products; Cereals, Other; Maize and...</td>\n",
       "    </tr>\n",
       "    <tr>\n",
       "      <th>5</th>\n",
       "      <td>Eggs</td>\n",
       "      <td>Eggs</td>\n",
       "    </tr>\n",
       "    <tr>\n",
       "      <th>6</th>\n",
       "      <td>Fish, Seafood</td>\n",
       "      <td>Cephalopods; Crustaceans; Demersal Fish; Fresh...</td>\n",
       "    </tr>\n",
       "    <tr>\n",
       "      <th>7</th>\n",
       "      <td>Fruits - Excluding Wine</td>\n",
       "      <td>Apples and products; Bananas; Citrus, Other; D...</td>\n",
       "    </tr>\n",
       "    <tr>\n",
       "      <th>8</th>\n",
       "      <td>Meat</td>\n",
       "      <td>Bovine Meat; Meat, Other; Mutton &amp; Goat Meat; ...</td>\n",
       "    </tr>\n",
       "    <tr>\n",
       "      <th>9</th>\n",
       "      <td>Milk - Excluding Butter</td>\n",
       "      <td>Milk - Excluding Butter</td>\n",
       "    </tr>\n",
       "    <tr>\n",
       "      <th>10</th>\n",
       "      <td>Miscellaneous</td>\n",
       "      <td>Infant food; Miscellaneous</td>\n",
       "    </tr>\n",
       "    <tr>\n",
       "      <th>11</th>\n",
       "      <td>Offals</td>\n",
       "      <td>Offals, Edible</td>\n",
       "    </tr>\n",
       "    <tr>\n",
       "      <th>12</th>\n",
       "      <td>Oilcrops</td>\n",
       "      <td>Coconuts - Incl Copra; Cottonseed; Groundnuts ...</td>\n",
       "    </tr>\n",
       "    <tr>\n",
       "      <th>13</th>\n",
       "      <td>Pulses</td>\n",
       "      <td>Beans; Peas; Pulses, Other and products</td>\n",
       "    </tr>\n",
       "    <tr>\n",
       "      <th>14</th>\n",
       "      <td>Spices</td>\n",
       "      <td>Cloves; Pepper; Pimento; Spices, Other</td>\n",
       "    </tr>\n",
       "    <tr>\n",
       "      <th>15</th>\n",
       "      <td>Starchy Roots</td>\n",
       "      <td>Cassava and products; Potatoes and products; R...</td>\n",
       "    </tr>\n",
       "    <tr>\n",
       "      <th>16</th>\n",
       "      <td>Stimulants</td>\n",
       "      <td>Cocoa Beans and products; Coffee and products;...</td>\n",
       "    </tr>\n",
       "    <tr>\n",
       "      <th>17</th>\n",
       "      <td>Sugar &amp; Sweeteners</td>\n",
       "      <td>Honey; Sugar (Raw Equivalent); Sugar non-centr...</td>\n",
       "    </tr>\n",
       "    <tr>\n",
       "      <th>18</th>\n",
       "      <td>Sugar Crops</td>\n",
       "      <td>Sugar beet; Sugar cane</td>\n",
       "    </tr>\n",
       "    <tr>\n",
       "      <th>19</th>\n",
       "      <td>Treenuts</td>\n",
       "      <td>Nuts and products</td>\n",
       "    </tr>\n",
       "    <tr>\n",
       "      <th>20</th>\n",
       "      <td>Vegetable Oils</td>\n",
       "      <td>Coconut Oil; Cottonseed Oil; Groundnut Oil; Ma...</td>\n",
       "    </tr>\n",
       "    <tr>\n",
       "      <th>21</th>\n",
       "      <td>Vegetables</td>\n",
       "      <td>Onions; Tomatoes and products; Vegetables, Other</td>\n",
       "    </tr>\n",
       "    <tr>\n",
       "      <th>22</th>\n",
       "      <td>Vegetal Products</td>\n",
       "      <td>Alcohol, Non-Food; Apples and products; Banana...</td>\n",
       "    </tr>\n",
       "  </tbody>\n",
       "</table>\n",
       "</div>"
      ],
      "text/plain": [
       "                  Categories  \\\n",
       "0        Alcoholic Beverages   \n",
       "1                Animal fats   \n",
       "2            Animal Products   \n",
       "3    Aquatic Products, Other   \n",
       "4   Cereals - Excluding Beer   \n",
       "5                       Eggs   \n",
       "6              Fish, Seafood   \n",
       "7    Fruits - Excluding Wine   \n",
       "8                       Meat   \n",
       "9    Milk - Excluding Butter   \n",
       "10             Miscellaneous   \n",
       "11                    Offals   \n",
       "12                  Oilcrops   \n",
       "13                    Pulses   \n",
       "14                    Spices   \n",
       "15             Starchy Roots   \n",
       "16                Stimulants   \n",
       "17        Sugar & Sweeteners   \n",
       "18               Sugar Crops   \n",
       "19                  Treenuts   \n",
       "20            Vegetable Oils   \n",
       "21                Vegetables   \n",
       "22          Vegetal Products   \n",
       "\n",
       "                                                Items  \n",
       "0   Alcohol, Non-Food; Beer; Beverages, Alcoholic;...  \n",
       "1   Butter, Ghee; Cream; Fats, Animals, Raw; Fish,...  \n",
       "2   Aquatic Animals, Others; Aquatic Plants; Bovin...  \n",
       "3   Aquatic Animals, Others; Aquatic Plants; Meat,...  \n",
       "4   Barley and products; Cereals, Other; Maize and...  \n",
       "5                                                Eggs  \n",
       "6   Cephalopods; Crustaceans; Demersal Fish; Fresh...  \n",
       "7   Apples and products; Bananas; Citrus, Other; D...  \n",
       "8   Bovine Meat; Meat, Other; Mutton & Goat Meat; ...  \n",
       "9                             Milk - Excluding Butter  \n",
       "10                         Infant food; Miscellaneous  \n",
       "11                                     Offals, Edible  \n",
       "12  Coconuts - Incl Copra; Cottonseed; Groundnuts ...  \n",
       "13            Beans; Peas; Pulses, Other and products  \n",
       "14             Cloves; Pepper; Pimento; Spices, Other  \n",
       "15  Cassava and products; Potatoes and products; R...  \n",
       "16  Cocoa Beans and products; Coffee and products;...  \n",
       "17  Honey; Sugar (Raw Equivalent); Sugar non-centr...  \n",
       "18                             Sugar beet; Sugar cane  \n",
       "19                                  Nuts and products  \n",
       "20  Coconut Oil; Cottonseed Oil; Groundnut Oil; Ma...  \n",
       "21   Onions; Tomatoes and products; Vegetables, Other  \n",
       "22  Alcohol, Non-Food; Apples and products; Banana...  "
      ]
     },
     "execution_count": 2,
     "metadata": {},
     "output_type": "execute_result"
    }
   ],
   "source": [
    "food_desc"
   ]
  },
  {
   "cell_type": "markdown",
   "id": "301b9434",
   "metadata": {
    "pycharm": {
     "name": "#%% md\n"
    }
   },
   "source": [
    "Show the contents of the `Food DataFrame` which contains the combined data of various food categories intake, world population obesity and undernourished rates, national COVID-19 cases (confirmed, deaths, recovered, active), and population counts of countries around the world."
   ]
  },
  {
   "cell_type": "code",
   "execution_count": 3,
   "id": "032ace3c",
   "metadata": {
    "pycharm": {
     "name": "#%%\n"
    }
   },
   "outputs": [
    {
     "data": {
      "text/html": [
       "<div>\n",
       "<style scoped>\n",
       "    .dataframe tbody tr th:only-of-type {\n",
       "        vertical-align: middle;\n",
       "    }\n",
       "\n",
       "    .dataframe tbody tr th {\n",
       "        vertical-align: top;\n",
       "    }\n",
       "\n",
       "    .dataframe thead th {\n",
       "        text-align: right;\n",
       "    }\n",
       "</style>\n",
       "<table border=\"1\" class=\"dataframe\">\n",
       "  <thead>\n",
       "    <tr style=\"text-align: right;\">\n",
       "      <th></th>\n",
       "      <th>Country</th>\n",
       "      <th>Alcoholic Beverages</th>\n",
       "      <th>Animal fats</th>\n",
       "      <th>Animal Products</th>\n",
       "      <th>Aquatic Products, Other</th>\n",
       "      <th>Cereals - Excluding Beer</th>\n",
       "      <th>Eggs</th>\n",
       "      <th>Fish, Seafood</th>\n",
       "      <th>Fruits - Excluding Wine</th>\n",
       "      <th>Meat</th>\n",
       "      <th>...</th>\n",
       "      <th>Vegetables</th>\n",
       "      <th>Vegetal Products</th>\n",
       "      <th>Obesity</th>\n",
       "      <th>Undernourished</th>\n",
       "      <th>Confirmed</th>\n",
       "      <th>Deaths</th>\n",
       "      <th>Recovered</th>\n",
       "      <th>Active</th>\n",
       "      <th>Population</th>\n",
       "      <th>Unit (all except Population)</th>\n",
       "    </tr>\n",
       "  </thead>\n",
       "  <tbody>\n",
       "    <tr>\n",
       "      <th>0</th>\n",
       "      <td>Afghanistan</td>\n",
       "      <td>0.0014</td>\n",
       "      <td>0.1973</td>\n",
       "      <td>9.4341</td>\n",
       "      <td>0.0000</td>\n",
       "      <td>24.8097</td>\n",
       "      <td>0.2099</td>\n",
       "      <td>0.0350</td>\n",
       "      <td>5.3495</td>\n",
       "      <td>1.2020</td>\n",
       "      <td>...</td>\n",
       "      <td>6.7642</td>\n",
       "      <td>40.5645</td>\n",
       "      <td>4.5</td>\n",
       "      <td>29.8</td>\n",
       "      <td>0.142134</td>\n",
       "      <td>0.006186</td>\n",
       "      <td>0.123374</td>\n",
       "      <td>0.012574</td>\n",
       "      <td>38928000.0</td>\n",
       "      <td>%</td>\n",
       "    </tr>\n",
       "    <tr>\n",
       "      <th>1</th>\n",
       "      <td>Albania</td>\n",
       "      <td>1.6719</td>\n",
       "      <td>0.1357</td>\n",
       "      <td>18.7684</td>\n",
       "      <td>0.0000</td>\n",
       "      <td>5.7817</td>\n",
       "      <td>0.5815</td>\n",
       "      <td>0.2126</td>\n",
       "      <td>6.7861</td>\n",
       "      <td>1.8845</td>\n",
       "      <td>...</td>\n",
       "      <td>11.7753</td>\n",
       "      <td>31.2304</td>\n",
       "      <td>22.3</td>\n",
       "      <td>6.2</td>\n",
       "      <td>2.967301</td>\n",
       "      <td>0.050951</td>\n",
       "      <td>1.792636</td>\n",
       "      <td>1.123714</td>\n",
       "      <td>2838000.0</td>\n",
       "      <td>%</td>\n",
       "    </tr>\n",
       "    <tr>\n",
       "      <th>2</th>\n",
       "      <td>Algeria</td>\n",
       "      <td>0.2711</td>\n",
       "      <td>0.0282</td>\n",
       "      <td>9.6334</td>\n",
       "      <td>0.0000</td>\n",
       "      <td>13.6816</td>\n",
       "      <td>0.5277</td>\n",
       "      <td>0.2416</td>\n",
       "      <td>6.3801</td>\n",
       "      <td>1.1305</td>\n",
       "      <td>...</td>\n",
       "      <td>11.6484</td>\n",
       "      <td>40.3651</td>\n",
       "      <td>26.6</td>\n",
       "      <td>3.9</td>\n",
       "      <td>0.244897</td>\n",
       "      <td>0.006558</td>\n",
       "      <td>0.167572</td>\n",
       "      <td>0.070767</td>\n",
       "      <td>44357000.0</td>\n",
       "      <td>%</td>\n",
       "    </tr>\n",
       "    <tr>\n",
       "      <th>3</th>\n",
       "      <td>Angola</td>\n",
       "      <td>5.8087</td>\n",
       "      <td>0.0560</td>\n",
       "      <td>4.9278</td>\n",
       "      <td>0.0000</td>\n",
       "      <td>9.1085</td>\n",
       "      <td>0.0587</td>\n",
       "      <td>1.7707</td>\n",
       "      <td>6.0005</td>\n",
       "      <td>2.0571</td>\n",
       "      <td>...</td>\n",
       "      <td>2.3041</td>\n",
       "      <td>45.0722</td>\n",
       "      <td>6.8</td>\n",
       "      <td>25</td>\n",
       "      <td>0.061687</td>\n",
       "      <td>0.001461</td>\n",
       "      <td>0.056808</td>\n",
       "      <td>0.003419</td>\n",
       "      <td>32522000.0</td>\n",
       "      <td>%</td>\n",
       "    </tr>\n",
       "    <tr>\n",
       "      <th>4</th>\n",
       "      <td>Antigua and Barbuda</td>\n",
       "      <td>3.5764</td>\n",
       "      <td>0.0087</td>\n",
       "      <td>16.6613</td>\n",
       "      <td>0.0000</td>\n",
       "      <td>5.9960</td>\n",
       "      <td>0.2274</td>\n",
       "      <td>4.1489</td>\n",
       "      <td>10.7451</td>\n",
       "      <td>5.6888</td>\n",
       "      <td>...</td>\n",
       "      <td>5.4495</td>\n",
       "      <td>33.3233</td>\n",
       "      <td>19.1</td>\n",
       "      <td>NaN</td>\n",
       "      <td>0.293878</td>\n",
       "      <td>0.007143</td>\n",
       "      <td>0.190816</td>\n",
       "      <td>0.095918</td>\n",
       "      <td>98000.0</td>\n",
       "      <td>%</td>\n",
       "    </tr>\n",
       "    <tr>\n",
       "      <th>...</th>\n",
       "      <td>...</td>\n",
       "      <td>...</td>\n",
       "      <td>...</td>\n",
       "      <td>...</td>\n",
       "      <td>...</td>\n",
       "      <td>...</td>\n",
       "      <td>...</td>\n",
       "      <td>...</td>\n",
       "      <td>...</td>\n",
       "      <td>...</td>\n",
       "      <td>...</td>\n",
       "      <td>...</td>\n",
       "      <td>...</td>\n",
       "      <td>...</td>\n",
       "      <td>...</td>\n",
       "      <td>...</td>\n",
       "      <td>...</td>\n",
       "      <td>...</td>\n",
       "      <td>...</td>\n",
       "      <td>...</td>\n",
       "      <td>...</td>\n",
       "    </tr>\n",
       "    <tr>\n",
       "      <th>165</th>\n",
       "      <td>Venezuela (Bolivarian Republic of)</td>\n",
       "      <td>2.5952</td>\n",
       "      <td>0.0403</td>\n",
       "      <td>14.7565</td>\n",
       "      <td>0.0000</td>\n",
       "      <td>12.9253</td>\n",
       "      <td>0.3389</td>\n",
       "      <td>0.9456</td>\n",
       "      <td>7.6460</td>\n",
       "      <td>3.8328</td>\n",
       "      <td>...</td>\n",
       "      <td>4.1474</td>\n",
       "      <td>35.2416</td>\n",
       "      <td>25.2</td>\n",
       "      <td>21.2</td>\n",
       "      <td>0.452585</td>\n",
       "      <td>0.004287</td>\n",
       "      <td>0.424399</td>\n",
       "      <td>0.023899</td>\n",
       "      <td>28645000.0</td>\n",
       "      <td>%</td>\n",
       "    </tr>\n",
       "    <tr>\n",
       "      <th>166</th>\n",
       "      <td>Vietnam</td>\n",
       "      <td>1.4591</td>\n",
       "      <td>0.1640</td>\n",
       "      <td>8.5765</td>\n",
       "      <td>0.0042</td>\n",
       "      <td>16.8740</td>\n",
       "      <td>0.3077</td>\n",
       "      <td>2.6392</td>\n",
       "      <td>5.9029</td>\n",
       "      <td>4.4382</td>\n",
       "      <td>...</td>\n",
       "      <td>11.9508</td>\n",
       "      <td>41.4232</td>\n",
       "      <td>2.1</td>\n",
       "      <td>9.3</td>\n",
       "      <td>0.002063</td>\n",
       "      <td>0.000036</td>\n",
       "      <td>0.001526</td>\n",
       "      <td>0.000501</td>\n",
       "      <td>96209000.0</td>\n",
       "      <td>%</td>\n",
       "    </tr>\n",
       "    <tr>\n",
       "      <th>167</th>\n",
       "      <td>Yemen</td>\n",
       "      <td>0.0364</td>\n",
       "      <td>0.0446</td>\n",
       "      <td>5.7874</td>\n",
       "      <td>0.0000</td>\n",
       "      <td>27.2077</td>\n",
       "      <td>0.2579</td>\n",
       "      <td>0.5240</td>\n",
       "      <td>5.1344</td>\n",
       "      <td>2.7871</td>\n",
       "      <td>...</td>\n",
       "      <td>3.2135</td>\n",
       "      <td>44.2126</td>\n",
       "      <td>14.1</td>\n",
       "      <td>38.9</td>\n",
       "      <td>0.007131</td>\n",
       "      <td>0.002062</td>\n",
       "      <td>0.004788</td>\n",
       "      <td>0.000282</td>\n",
       "      <td>29826000.0</td>\n",
       "      <td>%</td>\n",
       "    </tr>\n",
       "    <tr>\n",
       "      <th>168</th>\n",
       "      <td>Zambia</td>\n",
       "      <td>5.7360</td>\n",
       "      <td>0.0829</td>\n",
       "      <td>6.0197</td>\n",
       "      <td>0.0000</td>\n",
       "      <td>21.1938</td>\n",
       "      <td>0.3399</td>\n",
       "      <td>1.6924</td>\n",
       "      <td>1.0183</td>\n",
       "      <td>1.8427</td>\n",
       "      <td>...</td>\n",
       "      <td>3.4649</td>\n",
       "      <td>43.9789</td>\n",
       "      <td>6.5</td>\n",
       "      <td>46.7</td>\n",
       "      <td>0.334133</td>\n",
       "      <td>0.004564</td>\n",
       "      <td>0.290524</td>\n",
       "      <td>0.039045</td>\n",
       "      <td>18384000.0</td>\n",
       "      <td>%</td>\n",
       "    </tr>\n",
       "    <tr>\n",
       "      <th>169</th>\n",
       "      <td>Zimbabwe</td>\n",
       "      <td>4.0552</td>\n",
       "      <td>0.0755</td>\n",
       "      <td>8.1489</td>\n",
       "      <td>0.0000</td>\n",
       "      <td>22.6240</td>\n",
       "      <td>0.2678</td>\n",
       "      <td>0.5518</td>\n",
       "      <td>2.2000</td>\n",
       "      <td>2.6142</td>\n",
       "      <td>...</td>\n",
       "      <td>2.3213</td>\n",
       "      <td>41.8526</td>\n",
       "      <td>12.3</td>\n",
       "      <td>51.3</td>\n",
       "      <td>0.232033</td>\n",
       "      <td>0.008854</td>\n",
       "      <td>0.190964</td>\n",
       "      <td>0.032214</td>\n",
       "      <td>14863000.0</td>\n",
       "      <td>%</td>\n",
       "    </tr>\n",
       "  </tbody>\n",
       "</table>\n",
       "<p>170 rows × 32 columns</p>\n",
       "</div>"
      ],
      "text/plain": [
       "                                Country  Alcoholic Beverages  Animal fats  \\\n",
       "0                           Afghanistan               0.0014       0.1973   \n",
       "1                               Albania               1.6719       0.1357   \n",
       "2                               Algeria               0.2711       0.0282   \n",
       "3                                Angola               5.8087       0.0560   \n",
       "4                   Antigua and Barbuda               3.5764       0.0087   \n",
       "..                                  ...                  ...          ...   \n",
       "165  Venezuela (Bolivarian Republic of)               2.5952       0.0403   \n",
       "166                             Vietnam               1.4591       0.1640   \n",
       "167                               Yemen               0.0364       0.0446   \n",
       "168                              Zambia               5.7360       0.0829   \n",
       "169                            Zimbabwe               4.0552       0.0755   \n",
       "\n",
       "     Animal Products  Aquatic Products, Other  Cereals - Excluding Beer  \\\n",
       "0             9.4341                   0.0000                   24.8097   \n",
       "1            18.7684                   0.0000                    5.7817   \n",
       "2             9.6334                   0.0000                   13.6816   \n",
       "3             4.9278                   0.0000                    9.1085   \n",
       "4            16.6613                   0.0000                    5.9960   \n",
       "..               ...                      ...                       ...   \n",
       "165          14.7565                   0.0000                   12.9253   \n",
       "166           8.5765                   0.0042                   16.8740   \n",
       "167           5.7874                   0.0000                   27.2077   \n",
       "168           6.0197                   0.0000                   21.1938   \n",
       "169           8.1489                   0.0000                   22.6240   \n",
       "\n",
       "       Eggs  Fish, Seafood  Fruits - Excluding Wine    Meat  ...  Vegetables  \\\n",
       "0    0.2099         0.0350                   5.3495  1.2020  ...      6.7642   \n",
       "1    0.5815         0.2126                   6.7861  1.8845  ...     11.7753   \n",
       "2    0.5277         0.2416                   6.3801  1.1305  ...     11.6484   \n",
       "3    0.0587         1.7707                   6.0005  2.0571  ...      2.3041   \n",
       "4    0.2274         4.1489                  10.7451  5.6888  ...      5.4495   \n",
       "..      ...            ...                      ...     ...  ...         ...   \n",
       "165  0.3389         0.9456                   7.6460  3.8328  ...      4.1474   \n",
       "166  0.3077         2.6392                   5.9029  4.4382  ...     11.9508   \n",
       "167  0.2579         0.5240                   5.1344  2.7871  ...      3.2135   \n",
       "168  0.3399         1.6924                   1.0183  1.8427  ...      3.4649   \n",
       "169  0.2678         0.5518                   2.2000  2.6142  ...      2.3213   \n",
       "\n",
       "     Vegetal Products  Obesity  Undernourished  Confirmed    Deaths  \\\n",
       "0             40.5645      4.5            29.8   0.142134  0.006186   \n",
       "1             31.2304     22.3             6.2   2.967301  0.050951   \n",
       "2             40.3651     26.6             3.9   0.244897  0.006558   \n",
       "3             45.0722      6.8              25   0.061687  0.001461   \n",
       "4             33.3233     19.1             NaN   0.293878  0.007143   \n",
       "..                ...      ...             ...        ...       ...   \n",
       "165           35.2416     25.2            21.2   0.452585  0.004287   \n",
       "166           41.4232      2.1             9.3   0.002063  0.000036   \n",
       "167           44.2126     14.1            38.9   0.007131  0.002062   \n",
       "168           43.9789      6.5            46.7   0.334133  0.004564   \n",
       "169           41.8526     12.3            51.3   0.232033  0.008854   \n",
       "\n",
       "     Recovered    Active  Population  Unit (all except Population)  \n",
       "0     0.123374  0.012574  38928000.0                             %  \n",
       "1     1.792636  1.123714   2838000.0                             %  \n",
       "2     0.167572  0.070767  44357000.0                             %  \n",
       "3     0.056808  0.003419  32522000.0                             %  \n",
       "4     0.190816  0.095918     98000.0                             %  \n",
       "..         ...       ...         ...                           ...  \n",
       "165   0.424399  0.023899  28645000.0                             %  \n",
       "166   0.001526  0.000501  96209000.0                             %  \n",
       "167   0.004788  0.000282  29826000.0                             %  \n",
       "168   0.290524  0.039045  18384000.0                             %  \n",
       "169   0.190964  0.032214  14863000.0                             %  \n",
       "\n",
       "[170 rows x 32 columns]"
      ]
     },
     "execution_count": 3,
     "metadata": {},
     "output_type": "execute_result"
    }
   ],
   "source": [
    "food_df"
   ]
  },
  {
   "cell_type": "markdown",
   "id": "88aa7ac5",
   "metadata": {
    "pycharm": {
     "name": "#%% md\n"
    }
   },
   "source": [
    "Display Food Dataset info using the `info` function."
   ]
  },
  {
   "cell_type": "code",
   "execution_count": 4,
   "id": "f7b2ba62",
   "metadata": {
    "pycharm": {
     "name": "#%%\n"
    }
   },
   "outputs": [
    {
     "name": "stdout",
     "output_type": "stream",
     "text": [
      "<class 'pandas.core.frame.DataFrame'>\n",
      "RangeIndex: 170 entries, 0 to 169\n",
      "Data columns (total 32 columns):\n",
      " #   Column                        Non-Null Count  Dtype  \n",
      "---  ------                        --------------  -----  \n",
      " 0   Country                       170 non-null    object \n",
      " 1   Alcoholic Beverages           170 non-null    float64\n",
      " 2   Animal fats                   170 non-null    float64\n",
      " 3   Animal Products               170 non-null    float64\n",
      " 4   Aquatic Products, Other       170 non-null    float64\n",
      " 5   Cereals - Excluding Beer      170 non-null    float64\n",
      " 6   Eggs                          170 non-null    float64\n",
      " 7   Fish, Seafood                 170 non-null    float64\n",
      " 8   Fruits - Excluding Wine       170 non-null    float64\n",
      " 9   Meat                          170 non-null    float64\n",
      " 10  Milk - Excluding Butter       170 non-null    float64\n",
      " 11  Miscellaneous                 170 non-null    float64\n",
      " 12  Offals                        170 non-null    float64\n",
      " 13  Oilcrops                      170 non-null    float64\n",
      " 14  Pulses                        170 non-null    float64\n",
      " 15  Spices                        170 non-null    float64\n",
      " 16  Starchy Roots                 170 non-null    float64\n",
      " 17  Stimulants                    170 non-null    float64\n",
      " 18  Sugar & Sweeteners            170 non-null    float64\n",
      " 19  Sugar Crops                   170 non-null    float64\n",
      " 20  Treenuts                      170 non-null    float64\n",
      " 21  Vegetable Oils                170 non-null    float64\n",
      " 22  Vegetables                    170 non-null    float64\n",
      " 23  Vegetal Products              170 non-null    float64\n",
      " 24  Obesity                       167 non-null    float64\n",
      " 25  Undernourished                163 non-null    object \n",
      " 26  Confirmed                     164 non-null    float64\n",
      " 27  Deaths                        164 non-null    float64\n",
      " 28  Recovered                     164 non-null    float64\n",
      " 29  Active                        162 non-null    float64\n",
      " 30  Population                    170 non-null    float64\n",
      " 31  Unit (all except Population)  170 non-null    object \n",
      "dtypes: float64(29), object(3)\n",
      "memory usage: 42.6+ KB\n"
     ]
    }
   ],
   "source": [
    "food_df.info()"
   ]
  },
  {
   "cell_type": "markdown",
   "id": "292d7bd8",
   "metadata": {
    "pycharm": {
     "name": "#%% md\n"
    }
   },
   "source": [
    "Display Food Dataset description using the `describe` function."
   ]
  },
  {
   "cell_type": "code",
   "execution_count": 5,
   "id": "02cdae39",
   "metadata": {
    "pycharm": {
     "name": "#%%\n"
    }
   },
   "outputs": [
    {
     "data": {
      "text/html": [
       "<div>\n",
       "<style scoped>\n",
       "    .dataframe tbody tr th:only-of-type {\n",
       "        vertical-align: middle;\n",
       "    }\n",
       "\n",
       "    .dataframe tbody tr th {\n",
       "        vertical-align: top;\n",
       "    }\n",
       "\n",
       "    .dataframe thead th {\n",
       "        text-align: right;\n",
       "    }\n",
       "</style>\n",
       "<table border=\"1\" class=\"dataframe\">\n",
       "  <thead>\n",
       "    <tr style=\"text-align: right;\">\n",
       "      <th></th>\n",
       "      <th>Alcoholic Beverages</th>\n",
       "      <th>Animal fats</th>\n",
       "      <th>Animal Products</th>\n",
       "      <th>Aquatic Products, Other</th>\n",
       "      <th>Cereals - Excluding Beer</th>\n",
       "      <th>Eggs</th>\n",
       "      <th>Fish, Seafood</th>\n",
       "      <th>Fruits - Excluding Wine</th>\n",
       "      <th>Meat</th>\n",
       "      <th>Milk - Excluding Butter</th>\n",
       "      <th>...</th>\n",
       "      <th>Treenuts</th>\n",
       "      <th>Vegetable Oils</th>\n",
       "      <th>Vegetables</th>\n",
       "      <th>Vegetal Products</th>\n",
       "      <th>Obesity</th>\n",
       "      <th>Confirmed</th>\n",
       "      <th>Deaths</th>\n",
       "      <th>Recovered</th>\n",
       "      <th>Active</th>\n",
       "      <th>Population</th>\n",
       "    </tr>\n",
       "  </thead>\n",
       "  <tbody>\n",
       "    <tr>\n",
       "      <th>count</th>\n",
       "      <td>170.000000</td>\n",
       "      <td>170.000000</td>\n",
       "      <td>170.000000</td>\n",
       "      <td>170.000000</td>\n",
       "      <td>170.000000</td>\n",
       "      <td>170.000000</td>\n",
       "      <td>170.000000</td>\n",
       "      <td>170.000000</td>\n",
       "      <td>170.000000</td>\n",
       "      <td>170.000000</td>\n",
       "      <td>...</td>\n",
       "      <td>170.000000</td>\n",
       "      <td>170.000000</td>\n",
       "      <td>170.000000</td>\n",
       "      <td>170.000000</td>\n",
       "      <td>167.000000</td>\n",
       "      <td>164.000000</td>\n",
       "      <td>164.000000</td>\n",
       "      <td>164.000000</td>\n",
       "      <td>162.000000</td>\n",
       "      <td>1.700000e+02</td>\n",
       "    </tr>\n",
       "    <tr>\n",
       "      <th>mean</th>\n",
       "      <td>3.022971</td>\n",
       "      <td>0.221064</td>\n",
       "      <td>12.181871</td>\n",
       "      <td>0.013994</td>\n",
       "      <td>11.800347</td>\n",
       "      <td>0.470570</td>\n",
       "      <td>1.387195</td>\n",
       "      <td>5.621405</td>\n",
       "      <td>3.375934</td>\n",
       "      <td>6.519776</td>\n",
       "      <td>...</td>\n",
       "      <td>0.117474</td>\n",
       "      <td>0.851554</td>\n",
       "      <td>6.085912</td>\n",
       "      <td>37.814834</td>\n",
       "      <td>18.707784</td>\n",
       "      <td>2.021972</td>\n",
       "      <td>0.039370</td>\n",
       "      <td>1.452356</td>\n",
       "      <td>0.535158</td>\n",
       "      <td>4.452364e+07</td>\n",
       "    </tr>\n",
       "    <tr>\n",
       "      <th>std</th>\n",
       "      <td>2.382243</td>\n",
       "      <td>0.278304</td>\n",
       "      <td>5.852635</td>\n",
       "      <td>0.129382</td>\n",
       "      <td>5.824870</td>\n",
       "      <td>0.331209</td>\n",
       "      <td>1.257382</td>\n",
       "      <td>3.152849</td>\n",
       "      <td>1.762911</td>\n",
       "      <td>5.020379</td>\n",
       "      <td>...</td>\n",
       "      <td>0.146143</td>\n",
       "      <td>0.445335</td>\n",
       "      <td>3.560148</td>\n",
       "      <td>5.852943</td>\n",
       "      <td>9.633557</td>\n",
       "      <td>2.360454</td>\n",
       "      <td>0.048718</td>\n",
       "      <td>1.927617</td>\n",
       "      <td>1.329249</td>\n",
       "      <td>1.564182e+08</td>\n",
       "    </tr>\n",
       "    <tr>\n",
       "      <th>min</th>\n",
       "      <td>0.000000</td>\n",
       "      <td>0.001000</td>\n",
       "      <td>1.739100</td>\n",
       "      <td>0.000000</td>\n",
       "      <td>3.401400</td>\n",
       "      <td>0.023900</td>\n",
       "      <td>0.034200</td>\n",
       "      <td>0.659600</td>\n",
       "      <td>0.356000</td>\n",
       "      <td>0.096300</td>\n",
       "      <td>...</td>\n",
       "      <td>0.000000</td>\n",
       "      <td>0.091500</td>\n",
       "      <td>0.857000</td>\n",
       "      <td>23.113200</td>\n",
       "      <td>2.100000</td>\n",
       "      <td>0.000312</td>\n",
       "      <td>0.000000</td>\n",
       "      <td>0.000000</td>\n",
       "      <td>0.000000</td>\n",
       "      <td>5.400000e+04</td>\n",
       "    </tr>\n",
       "    <tr>\n",
       "      <th>25%</th>\n",
       "      <td>0.895625</td>\n",
       "      <td>0.040225</td>\n",
       "      <td>7.236850</td>\n",
       "      <td>0.000000</td>\n",
       "      <td>7.226850</td>\n",
       "      <td>0.187575</td>\n",
       "      <td>0.557100</td>\n",
       "      <td>3.541950</td>\n",
       "      <td>1.891475</td>\n",
       "      <td>2.172250</td>\n",
       "      <td>...</td>\n",
       "      <td>0.020750</td>\n",
       "      <td>0.507700</td>\n",
       "      <td>3.616500</td>\n",
       "      <td>33.552775</td>\n",
       "      <td>8.500000</td>\n",
       "      <td>0.140976</td>\n",
       "      <td>0.002013</td>\n",
       "      <td>0.099107</td>\n",
       "      <td>0.012028</td>\n",
       "      <td>2.816250e+06</td>\n",
       "    </tr>\n",
       "    <tr>\n",
       "      <th>50%</th>\n",
       "      <td>2.866150</td>\n",
       "      <td>0.116850</td>\n",
       "      <td>12.097550</td>\n",
       "      <td>0.000000</td>\n",
       "      <td>10.142750</td>\n",
       "      <td>0.460150</td>\n",
       "      <td>1.029250</td>\n",
       "      <td>5.021250</td>\n",
       "      <td>3.424750</td>\n",
       "      <td>5.336900</td>\n",
       "      <td>...</td>\n",
       "      <td>0.079950</td>\n",
       "      <td>0.774450</td>\n",
       "      <td>5.028100</td>\n",
       "      <td>37.900700</td>\n",
       "      <td>21.200000</td>\n",
       "      <td>1.011570</td>\n",
       "      <td>0.011998</td>\n",
       "      <td>0.475402</td>\n",
       "      <td>0.081040</td>\n",
       "      <td>1.018150e+07</td>\n",
       "    </tr>\n",
       "    <tr>\n",
       "      <th>75%</th>\n",
       "      <td>4.710950</td>\n",
       "      <td>0.253900</td>\n",
       "      <td>16.444125</td>\n",
       "      <td>0.001400</td>\n",
       "      <td>15.148950</td>\n",
       "      <td>0.644150</td>\n",
       "      <td>1.821275</td>\n",
       "      <td>6.827750</td>\n",
       "      <td>4.422450</td>\n",
       "      <td>10.407100</td>\n",
       "      <td>...</td>\n",
       "      <td>0.148650</td>\n",
       "      <td>1.070900</td>\n",
       "      <td>7.801650</td>\n",
       "      <td>42.762775</td>\n",
       "      <td>25.700000</td>\n",
       "      <td>3.487069</td>\n",
       "      <td>0.069503</td>\n",
       "      <td>2.622874</td>\n",
       "      <td>0.358183</td>\n",
       "      <td>3.271625e+07</td>\n",
       "    </tr>\n",
       "    <tr>\n",
       "      <th>max</th>\n",
       "      <td>15.370600</td>\n",
       "      <td>1.355900</td>\n",
       "      <td>26.886500</td>\n",
       "      <td>1.679400</td>\n",
       "      <td>29.804500</td>\n",
       "      <td>1.696000</td>\n",
       "      <td>8.795900</td>\n",
       "      <td>19.302800</td>\n",
       "      <td>8.170000</td>\n",
       "      <td>20.837800</td>\n",
       "      <td>...</td>\n",
       "      <td>0.756900</td>\n",
       "      <td>2.202600</td>\n",
       "      <td>19.299500</td>\n",
       "      <td>48.258500</td>\n",
       "      <td>45.600000</td>\n",
       "      <td>10.408199</td>\n",
       "      <td>0.185428</td>\n",
       "      <td>9.039871</td>\n",
       "      <td>8.019819</td>\n",
       "      <td>1.402385e+09</td>\n",
       "    </tr>\n",
       "  </tbody>\n",
       "</table>\n",
       "<p>8 rows × 29 columns</p>\n",
       "</div>"
      ],
      "text/plain": [
       "       Alcoholic Beverages  Animal fats  Animal Products  \\\n",
       "count           170.000000   170.000000       170.000000   \n",
       "mean              3.022971     0.221064        12.181871   \n",
       "std               2.382243     0.278304         5.852635   \n",
       "min               0.000000     0.001000         1.739100   \n",
       "25%               0.895625     0.040225         7.236850   \n",
       "50%               2.866150     0.116850        12.097550   \n",
       "75%               4.710950     0.253900        16.444125   \n",
       "max              15.370600     1.355900        26.886500   \n",
       "\n",
       "       Aquatic Products, Other  Cereals - Excluding Beer        Eggs  \\\n",
       "count               170.000000                170.000000  170.000000   \n",
       "mean                  0.013994                 11.800347    0.470570   \n",
       "std                   0.129382                  5.824870    0.331209   \n",
       "min                   0.000000                  3.401400    0.023900   \n",
       "25%                   0.000000                  7.226850    0.187575   \n",
       "50%                   0.000000                 10.142750    0.460150   \n",
       "75%                   0.001400                 15.148950    0.644150   \n",
       "max                   1.679400                 29.804500    1.696000   \n",
       "\n",
       "       Fish, Seafood  Fruits - Excluding Wine        Meat  \\\n",
       "count     170.000000               170.000000  170.000000   \n",
       "mean        1.387195                 5.621405    3.375934   \n",
       "std         1.257382                 3.152849    1.762911   \n",
       "min         0.034200                 0.659600    0.356000   \n",
       "25%         0.557100                 3.541950    1.891475   \n",
       "50%         1.029250                 5.021250    3.424750   \n",
       "75%         1.821275                 6.827750    4.422450   \n",
       "max         8.795900                19.302800    8.170000   \n",
       "\n",
       "       Milk - Excluding Butter  ...    Treenuts  Vegetable Oils  Vegetables  \\\n",
       "count               170.000000  ...  170.000000      170.000000  170.000000   \n",
       "mean                  6.519776  ...    0.117474        0.851554    6.085912   \n",
       "std                   5.020379  ...    0.146143        0.445335    3.560148   \n",
       "min                   0.096300  ...    0.000000        0.091500    0.857000   \n",
       "25%                   2.172250  ...    0.020750        0.507700    3.616500   \n",
       "50%                   5.336900  ...    0.079950        0.774450    5.028100   \n",
       "75%                  10.407100  ...    0.148650        1.070900    7.801650   \n",
       "max                  20.837800  ...    0.756900        2.202600   19.299500   \n",
       "\n",
       "       Vegetal Products     Obesity   Confirmed      Deaths   Recovered  \\\n",
       "count        170.000000  167.000000  164.000000  164.000000  164.000000   \n",
       "mean          37.814834   18.707784    2.021972    0.039370    1.452356   \n",
       "std            5.852943    9.633557    2.360454    0.048718    1.927617   \n",
       "min           23.113200    2.100000    0.000312    0.000000    0.000000   \n",
       "25%           33.552775    8.500000    0.140976    0.002013    0.099107   \n",
       "50%           37.900700   21.200000    1.011570    0.011998    0.475402   \n",
       "75%           42.762775   25.700000    3.487069    0.069503    2.622874   \n",
       "max           48.258500   45.600000   10.408199    0.185428    9.039871   \n",
       "\n",
       "           Active    Population  \n",
       "count  162.000000  1.700000e+02  \n",
       "mean     0.535158  4.452364e+07  \n",
       "std      1.329249  1.564182e+08  \n",
       "min      0.000000  5.400000e+04  \n",
       "25%      0.012028  2.816250e+06  \n",
       "50%      0.081040  1.018150e+07  \n",
       "75%      0.358183  3.271625e+07  \n",
       "max      8.019819  1.402385e+09  \n",
       "\n",
       "[8 rows x 29 columns]"
      ]
     },
     "execution_count": 5,
     "metadata": {},
     "output_type": "execute_result"
    }
   ],
   "source": [
    "food_df.describe()"
   ]
  },
  {
   "cell_type": "markdown",
   "id": "85af9d9e",
   "metadata": {
    "pycharm": {
     "name": "#%% md\n"
    }
   },
   "source": [
    "# II. Data Cleaning\n",
    "\n",
    "In this section of the notebook, the researchers have employed different preprocessing techniques in order to address certain inconsistencies within the dataset. For each of the **used variables** in the study, the researchers specifically checked for the following:\n",
    "\n",
    "- **Multiple representations** of the same categorical value;\n",
    "- Correctness of the **datatype** of the variable;\n",
    "- Set **default values** of the variable;\n",
    "- **Missing data**;\n",
    "- **Duplicate data**; and\n",
    "- **Inconsistent formatting** of values."
   ]
  },
  {
   "cell_type": "markdown",
   "id": "70ff74a3",
   "metadata": {},
   "source": [
    "## Checking for Multiple Representations of the Same Categorical Value"
   ]
  },
  {
   "cell_type": "markdown",
   "id": "22e9029a",
   "metadata": {
    "pycharm": {
     "name": "#%% md\n"
    }
   },
   "source": [
    "The single categorical variable relevant in this phase of the analysis would be the one representing the **countries**. With this, the researchers ought to identify the unique countries currently represented in the dataset."
   ]
  },
  {
   "cell_type": "code",
   "execution_count": 6,
   "id": "586fa754",
   "metadata": {
    "jupyter": {
     "outputs_hidden": true
    },
    "pycharm": {
     "name": "#%%\n"
    },
    "tags": []
   },
   "outputs": [
    {
     "data": {
      "text/plain": [
       "array(['Afghanistan', 'Albania', 'Algeria', 'Angola',\n",
       "       'Antigua and Barbuda', 'Argentina', 'Armenia', 'Australia',\n",
       "       'Austria', 'Azerbaijan', 'Bahamas', 'Bangladesh', 'Barbados',\n",
       "       'Belarus', 'Belgium', 'Belize', 'Benin', 'Bolivia',\n",
       "       'Bosnia and Herzegovina', 'Botswana', 'Brazil', 'Bulgaria',\n",
       "       'Burkina Faso', 'Cabo Verde', 'Cambodia', 'Cameroon', 'Canada',\n",
       "       'Central African Republic', 'Chad', 'Chile', 'China', 'Colombia',\n",
       "       'Congo', 'Costa Rica', \"Cote d'Ivoire\", 'Croatia', 'Cuba',\n",
       "       'Cyprus', 'Czechia', 'Denmark', 'Djibouti', 'Dominica',\n",
       "       'Dominican Republic', 'Ecuador', 'Egypt', 'El Salvador', 'Estonia',\n",
       "       'Eswatini', 'Ethiopia', 'Fiji', 'Finland', 'France',\n",
       "       'French Polynesia', 'Gabon', 'Gambia', 'Georgia', 'Germany',\n",
       "       'Ghana', 'Greece', 'Grenada', 'Guatemala', 'Guinea',\n",
       "       'Guinea-Bissau', 'Guyana', 'Haiti', 'Honduras', 'Hungary',\n",
       "       'Iceland', 'India', 'Indonesia', 'Iran (Islamic Republic of)',\n",
       "       'Iraq', 'Ireland', 'Israel', 'Italy', 'Jamaica', 'Japan', 'Jordan',\n",
       "       'Kazakhstan', 'Kenya', 'Kiribati', 'Korea, North', 'Korea, South',\n",
       "       'Kuwait', 'Kyrgyzstan', \"Lao People's Democratic Republic\",\n",
       "       'Latvia', 'Lebanon', 'Lesotho', 'Liberia', 'Lithuania',\n",
       "       'Luxembourg', 'Madagascar', 'Malawi', 'Malaysia', 'Maldives',\n",
       "       'Mali', 'Malta', 'Mauritania', 'Mauritius', 'Mexico', 'Mongolia',\n",
       "       'Montenegro', 'Morocco', 'Mozambique', 'Myanmar', 'Namibia',\n",
       "       'Nepal', 'Netherlands', 'New Caledonia', 'New Zealand',\n",
       "       'Nicaragua', 'Niger', 'Nigeria', 'North Macedonia', 'Norway',\n",
       "       'Oman', 'Pakistan', 'Panama', 'Paraguay', 'Peru', 'Philippines',\n",
       "       'Poland', 'Portugal', 'Republic of Moldova', 'Romania',\n",
       "       'Russian Federation', 'Rwanda', 'Saint Kitts and Nevis',\n",
       "       'Saint Lucia', 'Saint Vincent and the Grenadines', 'Samoa',\n",
       "       'Sao Tome and Principe', 'Saudi Arabia', 'Senegal', 'Serbia',\n",
       "       'Sierra Leone', 'Slovakia', 'Slovenia', 'Solomon Islands',\n",
       "       'South Africa', 'Spain', 'Sri Lanka', 'Sudan', 'Suriname',\n",
       "       'Sweden', 'Switzerland', 'Taiwan*', 'Tajikistan', 'Thailand',\n",
       "       'Timor-Leste', 'Togo', 'Trinidad and Tobago', 'Tunisia', 'Turkey',\n",
       "       'Turkmenistan', 'Uganda', 'Ukraine', 'United Arab Emirates',\n",
       "       'United Kingdom', 'United Republic of Tanzania',\n",
       "       'United States of America', 'Uruguay', 'Uzbekistan', 'Vanuatu',\n",
       "       'Venezuela (Bolivarian Republic of)', 'Vietnam', 'Yemen', 'Zambia',\n",
       "       'Zimbabwe'], dtype=object)"
      ]
     },
     "execution_count": 6,
     "metadata": {},
     "output_type": "execute_result"
    }
   ],
   "source": [
    "food_df['Country'].unique()"
   ]
  },
  {
   "cell_type": "markdown",
   "id": "6b9e958d",
   "metadata": {
    "pycharm": {
     "name": "#%% md\n"
    }
   },
   "source": [
    "Get the total number of unique countries in the `Food Dataframe` using the nunique() function."
   ]
  },
  {
   "cell_type": "code",
   "execution_count": 7,
   "id": "8b8f0d68",
   "metadata": {
    "pycharm": {
     "name": "#%%\n"
    }
   },
   "outputs": [
    {
     "data": {
      "text/plain": [
       "170"
      ]
     },
     "execution_count": 7,
     "metadata": {},
     "output_type": "execute_result"
    }
   ],
   "source": [
    "food_df['Country'].nunique()"
   ]
  },
  {
   "cell_type": "markdown",
   "id": "2b0a333f",
   "metadata": {
    "pycharm": {
     "name": "#%% md\n"
    }
   },
   "source": [
    "The `Food Dataframe` information presented in the previous section indicates that the total number of entries present in the dataframe is **170**. Since the number of unique country values (170) match with the total number of entries in the dataframe, the researchers have determined that **all the countries represented in the `Food Dataframe` are unique.**"
   ]
  },
  {
   "cell_type": "markdown",
   "id": "a7d0781a",
   "metadata": {},
   "source": [
    "## Checking for Correctness of the Datatypes of Each Variable"
   ]
  },
  {
   "cell_type": "markdown",
   "id": "bf057cb9",
   "metadata": {},
   "source": [
    "As can be seen in the previous section, upon calling the info() function on the Food Dataset, the only variables that **are not** of type **float64** are **Country, Undernourished, and Unit (all except Population)**. Having observed this, the researchers then decided to explore the unique values found under each variable."
   ]
  },
  {
   "cell_type": "markdown",
   "id": "90dd8541",
   "metadata": {},
   "source": [
    "It has only recently been observed that the data type \"object\" is appropriate for the values under the **Country** variable. Country names are strings, and since **strings are by default stored as the object data type, there is no cleaning needed for this column.**"
   ]
  },
  {
   "cell_type": "markdown",
   "id": "bea3fe13",
   "metadata": {},
   "source": [
    "The researchers then proceeded to explore the values under the **Undernourished** variable. First, we try to obtain the **counts of unique values**."
   ]
  },
  {
   "cell_type": "code",
   "execution_count": 8,
   "id": "8718232a",
   "metadata": {},
   "outputs": [
    {
     "data": {
      "text/plain": [
       "<2.5    44\n",
       "16.5     3\n",
       "7.1      3\n",
       "2.7      3\n",
       "6.2      3\n",
       "        ..\n",
       "15.2     1\n",
       "10.2     1\n",
       "10.5     1\n",
       "4.2      1\n",
       "51.3     1\n",
       "Name: Undernourished, Length: 98, dtype: int64"
      ]
     },
     "execution_count": 8,
     "metadata": {},
     "output_type": "execute_result"
    }
   ],
   "source": [
    "food_df['Undernourished'].value_counts()"
   ]
  },
  {
   "cell_type": "markdown",
   "id": "d0bd0343",
   "metadata": {},
   "source": [
    "As seen above, the values in the **Undernourished** column appear to be of various datatypes, with the string \"<2.5\" making up the majority of the values. Given that this column shows the **rate** of undernourished people in a certain country, the expected datatype for this field is **float**. Consequently, the datatype **object** has been evaluated by the researchers as being unsuitable for this variable.\n",
    "\n",
    "That being said, preprocessing and cleaning will be required for the **Undernourished** variable in order to guarantee that the datatype for the column is consistent across all values."
   ]
  },
  {
   "cell_type": "markdown",
   "id": "1a047265",
   "metadata": {},
   "source": [
    "Next, the researchers have chosen to investigate the data under the **Unit (all except Population)** variable."
   ]
  },
  {
   "cell_type": "code",
   "execution_count": 9,
   "id": "9c1b23bf",
   "metadata": {},
   "outputs": [
    {
     "data": {
      "text/plain": [
       "%    170\n",
       "Name: Unit (all except Population), dtype: int64"
      ]
     },
     "execution_count": 9,
     "metadata": {},
     "output_type": "execute_result"
    }
   ],
   "source": [
    "food_df['Unit (all except Population)'].value_counts()"
   ]
  },
  {
   "cell_type": "markdown",
   "id": "10f03e41",
   "metadata": {
    "pycharm": {
     "name": "#%% md\n"
    }
   },
   "source": [
    "The researchers have decided to drop the `Unit (all except Population)` column since it merely contains the symbol `%` for all the observations in the dataset, denoting the unit for all the variables of an observation excluding the variable `Population`. It does not provide any information that may help in the analysis of the dataset later on."
   ]
  },
  {
   "cell_type": "code",
   "execution_count": 10,
   "id": "9b5ba37f",
   "metadata": {
    "pycharm": {
     "name": "#%%\n"
    }
   },
   "outputs": [],
   "source": [
    "# Drop 'Unit (all except Population)' column\n",
    "\n",
    "food_df = food_df.drop('Unit (all except Population)', axis=1)"
   ]
  },
  {
   "cell_type": "markdown",
   "id": "6d0d5a04",
   "metadata": {},
   "source": [
    "The researchers have determined that the remaining variables, which represent the combined data of food category intake, national obesity rates, and national COVID-19 cases (confirmed, deaths, recovered, and active), have an appropriate datatype of **float** because the unit of measurement for these variables is of type `%`. The datatype **float** is also suitable for the **Population** count because it nevertheless provides numerical data. That being said, there is **no requirement for preprocessing the aforementioned variables' datatypes.**"
   ]
  },
  {
   "cell_type": "markdown",
   "id": "c00caf03",
   "metadata": {},
   "source": [
    "## Checking for Inconsistent Formatting of Values"
   ]
  },
  {
   "cell_type": "markdown",
   "id": "1c7f16f0",
   "metadata": {
    "pycharm": {
     "name": "#%% md\n"
    }
   },
   "source": [
    "When the [`info`](https://pandas.pydata.org/pandas-docs/stable/reference/api/pandas.DataFrame.info.html) function was called earlier, it can seen in the `Dtype` column of the variable `Undernourished` that it is labeled as `object` when it should be `float64`—similar to its counterpart variable `Obesity`. Hence, upon calling the `value_counts` function, `<2.5` is identified to be the culprit to the misidentified datatype of the variable `Undernourished`."
   ]
  },
  {
   "cell_type": "code",
   "execution_count": 11,
   "id": "a7211d58",
   "metadata": {
    "pycharm": {
     "name": "#%%\n"
    }
   },
   "outputs": [
    {
     "data": {
      "text/plain": [
       "<2.5    44\n",
       "16.5     3\n",
       "7.1      3\n",
       "2.7      3\n",
       "6.2      3\n",
       "        ..\n",
       "15.2     1\n",
       "10.2     1\n",
       "10.5     1\n",
       "4.2      1\n",
       "51.3     1\n",
       "Name: Undernourished, Length: 98, dtype: int64"
      ]
     },
     "execution_count": 11,
     "metadata": {},
     "output_type": "execute_result"
    }
   ],
   "source": [
    "food_df['Undernourished'].value_counts()"
   ]
  },
  {
   "cell_type": "markdown",
   "id": "02c934ed",
   "metadata": {
    "pycharm": {
     "name": "#%% md\n"
    }
   },
   "source": [
    "The researchers have, thus, decided to replace every value of `<2.5` with `2.4` instead, and assigning it with the datatype `float64`."
   ]
  },
  {
   "cell_type": "code",
   "execution_count": 12,
   "id": "593a1055",
   "metadata": {
    "pycharm": {
     "name": "#%%\n"
    }
   },
   "outputs": [],
   "source": [
    "# Replace '< 2.5' values in 'Undernoursihed' column to '2.4'\n",
    "\n",
    "food_df['Undernourished'] = food_df['Undernourished'].replace('<2.5', '2.4')\n",
    "food_df['Undernourished'] = food_df['Undernourished'].astype(float)"
   ]
  },
  {
   "cell_type": "markdown",
   "id": "2fe8a2f5",
   "metadata": {
    "pycharm": {
     "name": "#%% md\n"
    }
   },
   "source": [
    "It can now be seen below that the variable `Undernourished` is of datatype `float64`, and `<2.5` has been replaced with `2.4` for all the 43 times it appeared under the variable `Undernourished` in the dataset."
   ]
  },
  {
   "cell_type": "code",
   "execution_count": 13,
   "id": "436d758a",
   "metadata": {
    "pycharm": {
     "name": "#%%\n"
    }
   },
   "outputs": [
    {
     "name": "stdout",
     "output_type": "stream",
     "text": [
      "<class 'pandas.core.series.Series'>\n",
      "RangeIndex: 170 entries, 0 to 169\n",
      "Series name: Undernourished\n",
      "Non-Null Count  Dtype  \n",
      "--------------  -----  \n",
      "163 non-null    float64\n",
      "dtypes: float64(1)\n",
      "memory usage: 1.5 KB\n"
     ]
    }
   ],
   "source": [
    "food_df['Undernourished'].info()"
   ]
  },
  {
   "cell_type": "code",
   "execution_count": 14,
   "id": "03d75235",
   "metadata": {
    "pycharm": {
     "name": "#%%\n"
    }
   },
   "outputs": [
    {
     "data": {
      "text/plain": [
       "2.4     44\n",
       "16.5     3\n",
       "7.1      3\n",
       "2.7      3\n",
       "6.2      3\n",
       "        ..\n",
       "15.2     1\n",
       "10.2     1\n",
       "10.5     1\n",
       "4.2      1\n",
       "51.3     1\n",
       "Name: Undernourished, Length: 98, dtype: int64"
      ]
     },
     "execution_count": 14,
     "metadata": {},
     "output_type": "execute_result"
    }
   ],
   "source": [
    "food_df['Undernourished'].value_counts()"
   ]
  },
  {
   "cell_type": "markdown",
   "id": "fde4a724",
   "metadata": {
    "pycharm": {
     "name": "#%% md\n"
    }
   },
   "source": [
    "## Checking for `NaN`s\n",
    "We will now handle missing data in our dataset. Let us check each variable if it contains a `NaN` / `null` value. We'll use the [`isnull`](https://pandas.pydata.org/pandas-docs/stable/reference/api/pandas.DataFrame.isnull.html) and [`any`](https://pandas.pydata.org/pandas-docs/stable/reference/api/pandas.DataFrame.any.html) functions for this. This function call will list each variable with a boolean value indicating if the variable contains a `NaN` / `null` value."
   ]
  },
  {
   "cell_type": "code",
   "execution_count": 15,
   "id": "e85bd1bd",
   "metadata": {
    "pycharm": {
     "name": "#%%\n"
    }
   },
   "outputs": [
    {
     "data": {
      "text/plain": [
       "Country                     False\n",
       "Alcoholic Beverages         False\n",
       "Animal fats                 False\n",
       "Animal Products             False\n",
       "Aquatic Products, Other     False\n",
       "Cereals - Excluding Beer    False\n",
       "Eggs                        False\n",
       "Fish, Seafood               False\n",
       "Fruits - Excluding Wine     False\n",
       "Meat                        False\n",
       "Milk - Excluding Butter     False\n",
       "Miscellaneous               False\n",
       "Offals                      False\n",
       "Oilcrops                    False\n",
       "Pulses                      False\n",
       "Spices                      False\n",
       "Starchy Roots               False\n",
       "Stimulants                  False\n",
       "Sugar & Sweeteners          False\n",
       "Sugar Crops                 False\n",
       "Treenuts                    False\n",
       "Vegetable Oils              False\n",
       "Vegetables                  False\n",
       "Vegetal Products            False\n",
       "Obesity                      True\n",
       "Undernourished               True\n",
       "Confirmed                    True\n",
       "Deaths                       True\n",
       "Recovered                    True\n",
       "Active                       True\n",
       "Population                  False\n",
       "dtype: bool"
      ]
     },
     "execution_count": 15,
     "metadata": {},
     "output_type": "execute_result"
    }
   ],
   "source": [
    "food_df.isnull().any()"
   ]
  },
  {
   "cell_type": "markdown",
   "id": "c1d11f01",
   "metadata": {
    "pycharm": {
     "name": "#%% md\n"
    }
   },
   "source": [
    "Let's get the list of columns with `NaN` / `null` values."
   ]
  },
  {
   "cell_type": "code",
   "execution_count": 16,
   "id": "437b77db",
   "metadata": {
    "pycharm": {
     "name": "#%%\n"
    }
   },
   "outputs": [
    {
     "name": "stdout",
     "output_type": "stream",
     "text": [
      "['Obesity', 'Undernourished', 'Confirmed', 'Deaths', 'Recovered', 'Active']\n"
     ]
    }
   ],
   "source": [
    "nan_variables = food_df.columns[food_df.isnull().any()].tolist()\n",
    "print(nan_variables)"
   ]
  },
  {
   "cell_type": "markdown",
   "id": "c53d48b4",
   "metadata": {
    "pycharm": {
     "name": "#%% md\n"
    }
   },
   "source": [
    "For each variable, show the total number of observations with `NaN` / `null` value. The [`sum`](https://pandas.pydata.org/docs/reference/api/pandas.DataFrame.sum.html) function is used to get the counts of null values per column."
   ]
  },
  {
   "cell_type": "code",
   "execution_count": 17,
   "id": "c414610c",
   "metadata": {
    "pycharm": {
     "name": "#%%\n"
    }
   },
   "outputs": [
    {
     "data": {
      "text/plain": [
       "Obesity           3\n",
       "Undernourished    7\n",
       "Confirmed         6\n",
       "Deaths            6\n",
       "Recovered         6\n",
       "Active            8\n",
       "dtype: int64"
      ]
     },
     "execution_count": 17,
     "metadata": {},
     "output_type": "execute_result"
    }
   ],
   "source": [
    "food_df[nan_variables].isnull().sum()"
   ]
  },
  {
   "cell_type": "markdown",
   "id": "a3b2b768",
   "metadata": {
    "pycharm": {
     "name": "#%% md\n"
    }
   },
   "source": [
    "Since we see that there is a very small number of observations with `NaN` / `null` value for these variable, we can decide to drop those observations from the dataset."
   ]
  },
  {
   "cell_type": "code",
   "execution_count": 18,
   "id": "dfe9edb9",
   "metadata": {
    "pycharm": {
     "name": "#%%\n"
    }
   },
   "outputs": [],
   "source": [
    "food_df = food_df.dropna()"
   ]
  },
  {
   "cell_type": "markdown",
   "id": "3637539f",
   "metadata": {
    "pycharm": {
     "name": "#%% md\n"
    }
   },
   "source": [
    "Display the dimensions of the `Food Dataframe` and the number of null observations from each variable."
   ]
  },
  {
   "cell_type": "code",
   "execution_count": 19,
   "id": "13ad5f53",
   "metadata": {
    "pycharm": {
     "name": "#%%\n"
    }
   },
   "outputs": [
    {
     "name": "stdout",
     "output_type": "stream",
     "text": [
      "(154, 31)\n"
     ]
    },
    {
     "data": {
      "text/plain": [
       "Country                     0\n",
       "Alcoholic Beverages         0\n",
       "Animal fats                 0\n",
       "Animal Products             0\n",
       "Aquatic Products, Other     0\n",
       "Cereals - Excluding Beer    0\n",
       "Eggs                        0\n",
       "Fish, Seafood               0\n",
       "Fruits - Excluding Wine     0\n",
       "Meat                        0\n",
       "Milk - Excluding Butter     0\n",
       "Miscellaneous               0\n",
       "Offals                      0\n",
       "Oilcrops                    0\n",
       "Pulses                      0\n",
       "Spices                      0\n",
       "Starchy Roots               0\n",
       "Stimulants                  0\n",
       "Sugar & Sweeteners          0\n",
       "Sugar Crops                 0\n",
       "Treenuts                    0\n",
       "Vegetable Oils              0\n",
       "Vegetables                  0\n",
       "Vegetal Products            0\n",
       "Obesity                     0\n",
       "Undernourished              0\n",
       "Confirmed                   0\n",
       "Deaths                      0\n",
       "Recovered                   0\n",
       "Active                      0\n",
       "Population                  0\n",
       "dtype: int64"
      ]
     },
     "execution_count": 19,
     "metadata": {},
     "output_type": "execute_result"
    }
   ],
   "source": [
    "print (food_df.shape)\n",
    "food_df.isnull().sum()"
   ]
  },
  {
   "cell_type": "markdown",
   "id": "1e9c9693",
   "metadata": {
    "pycharm": {
     "name": "#%% md\n"
    }
   },
   "source": [
    "# III. Exploratory Data Analysis (EDA)\n",
    "\n",
    "This section of the notebook is focuses on the research team's area of interest, which includes discovering and establishing connections between the **mortality, death, undernutrition, and obesity rates in various countries**. This focus also looks for **potential patterns in the food consumption of countries** with comparable rates of obesity, undernutrition, death, and mortality."
   ]
  },
  {
   "cell_type": "markdown",
   "id": "8ef8f7f2",
   "metadata": {
    "pycharm": {
     "name": "#%% md\n"
    }
   },
   "source": [
    "## *EDA #1* - Which Countries Have the Highest Death and Mortality Rates?\n",
    "\n",
    "The first EDA question seeks to identify the **top five countries with the highest death and mortality rates**—as a foundation for identifying potential patterns within their obesity rates, undernourishment rates, and food consumptions in later portions of the analysis."
   ]
  },
  {
   "cell_type": "markdown",
   "id": "ef97c21b",
   "metadata": {},
   "source": [
    "To do this, the researchers first need to create a new variable named `Mortality`, so as to measure the number of deaths resulting from the total number of confirmed cases per country."
   ]
  },
  {
   "cell_type": "code",
   "execution_count": 20,
   "id": "9e58b5ce",
   "metadata": {
    "pycharm": {
     "name": "#%%\n"
    }
   },
   "outputs": [],
   "source": [
    "# Create a Mortality column to measure of the frequency of occurrence of COVID-19 deaths\n",
    "\n",
    "food_df['Mortality'] = food_df['Deaths'] / food_df['Confirmed']*100"
   ]
  },
  {
   "cell_type": "markdown",
   "id": "4435cb25",
   "metadata": {},
   "source": [
    "Next, to identify the **top 5 countries with the highest death rates**, we plot the death rates of each country in a bar graph, sorted in descending order."
   ]
  },
  {
   "cell_type": "code",
   "execution_count": 30,
   "id": "4b036851",
   "metadata": {
    "pycharm": {
     "name": "#%%\n"
    }
   },
   "outputs": [
    {
     "data": {
      "application/vnd.plotly.v1+json": {
       "config": {
        "plotlyServerURL": "https://plot.ly"
       },
       "data": [
        {
         "alignmentgroup": "True",
         "hovertemplate": "Country=%{x}<br>Deaths=%{y}<extra></extra>",
         "legendgroup": "",
         "marker": {
          "color": "#636efa",
          "pattern": {
           "shape": ""
          }
         },
         "name": "",
         "offsetgroup": "",
         "orientation": "v",
         "showlegend": false,
         "textposition": "auto",
         "type": "bar",
         "x": [
          "Afghanistan",
          "Albania",
          "Algeria",
          "Angola",
          "Argentina",
          "Armenia",
          "Australia",
          "Austria",
          "Azerbaijan",
          "Bangladesh",
          "Barbados",
          "Belarus",
          "Belgium",
          "Belize",
          "Benin",
          "Bolivia",
          "Bosnia and Herzegovina",
          "Botswana",
          "Brazil",
          "Bulgaria",
          "Burkina Faso",
          "Cabo Verde",
          "Cambodia",
          "Cameroon",
          "Central African Republic",
          "Chad",
          "China",
          "Colombia",
          "Congo",
          "Costa Rica",
          "Cote d'Ivoire",
          "Croatia",
          "Cuba",
          "Cyprus",
          "Czechia",
          "Denmark",
          "Djibouti",
          "Dominica",
          "Dominican Republic",
          "Ecuador",
          "Egypt",
          "El Salvador",
          "Estonia",
          "Eswatini",
          "Ethiopia",
          "Fiji",
          "Finland",
          "France",
          "Gabon",
          "Gambia",
          "Georgia",
          "Germany",
          "Ghana",
          "Greece",
          "Guatemala",
          "Guinea",
          "Guinea-Bissau",
          "Guyana",
          "Haiti",
          "Honduras",
          "Hungary",
          "Iceland",
          "India",
          "Indonesia",
          "Iran (Islamic Republic of)",
          "Iraq",
          "Ireland",
          "Israel",
          "Italy",
          "Jamaica",
          "Japan",
          "Jordan",
          "Kazakhstan",
          "Kenya",
          "Korea, South",
          "Kuwait",
          "Kyrgyzstan",
          "Lao People's Democratic Republic",
          "Latvia",
          "Lebanon",
          "Lesotho",
          "Liberia",
          "Lithuania",
          "Luxembourg",
          "Madagascar",
          "Malawi",
          "Malaysia",
          "Maldives",
          "Mali",
          "Malta",
          "Mauritania",
          "Mauritius",
          "Mexico",
          "Mongolia",
          "Montenegro",
          "Morocco",
          "Mozambique",
          "Namibia",
          "Nepal",
          "Netherlands",
          "New Zealand",
          "Nicaragua",
          "Niger",
          "Nigeria",
          "North Macedonia",
          "Norway",
          "Oman",
          "Pakistan",
          "Panama",
          "Paraguay",
          "Peru",
          "Philippines",
          "Poland",
          "Portugal",
          "Romania",
          "Russian Federation",
          "Rwanda",
          "Saint Vincent and the Grenadines",
          "Samoa",
          "Sao Tome and Principe",
          "Saudi Arabia",
          "Senegal",
          "Serbia",
          "Sierra Leone",
          "Slovakia",
          "Slovenia",
          "Solomon Islands",
          "South Africa",
          "Spain",
          "Sri Lanka",
          "Sudan",
          "Suriname",
          "Sweden",
          "Switzerland",
          "Thailand",
          "Timor-Leste",
          "Togo",
          "Trinidad and Tobago",
          "Tunisia",
          "Turkey",
          "Uganda",
          "Ukraine",
          "United Arab Emirates",
          "United Kingdom",
          "United Republic of Tanzania",
          "United States of America",
          "Uruguay",
          "Uzbekistan",
          "Vanuatu",
          "Venezuela (Bolivarian Republic of)",
          "Vietnam",
          "Yemen",
          "Zambia",
          "Zimbabwe"
         ],
         "xaxis": "x",
         "y": [
          0.0061857788738183,
          0.0509513742071882,
          0.0065581531663548,
          0.0014605497816862,
          0.108226634638694,
          0.105345060893099,
          0.0035295488079521,
          0.0896791563832174,
          0.0312227938266719,
          0.0048230659152341,
          0.0062717770034843,
          0.018912,
          0.185427702996092,
          0.0730310262529833,
          0.0004504873454009,
          0.0924353133327602,
          0.145534897896983,
          0.0070349589987052,
          0.108602912016316,
          0.134416053125451,
          0.000641056307707,
          0.0242805755395683,
          0,
          0.001782088878863,
          0.0013043478260869,
          0.0007406529596492,
          0.0003438428106404,
          0.112638540571151,
          0.0145161290322581,
          0.0522793973782039,
          0.0006189111747851,
          0.127960199004975,
          0.0020654197322932,
          0.0174813587406794,
          0.159845091452034,
          0.0380168124892777,
          0.0063765182186234,
          0,
          0.0266761904761905,
          0.0856832847924162,
          0.0095274942214021,
          0.0258139176053078,
          0.0342599549211119,
          0.0547101449275362,
          0.0018665808068502,
          0.0002232142857142,
          0.0124434798336046,
          0.121558361564521,
          0.0031824294038547,
          0.0055440628878775,
          0.0879946164199192,
          0.073890756302521,
          0.0014449843915939,
          0.0556168224299065,
          0.0324034097199159,
          0.0006687898089171,
          0.0023871302542812,
          0.0228716645489199,
          0.0021485573971761,
          0.0376115166261152,
          0.13336746186137,
          0.0078804347826087,
          0.0110703521177059,
          0.0115526295452622,
          0.0694141414141414,
          0.0330044052863436,
          0.0734359384369378,
          0.0550238715277778,
          0.150927093007828,
          0.0127091491634033,
          0.0050592615526288,
          0.0409120704185785,
          0.0166506512919069,
          0.0033178897025855,
          0.0028408103358374,
          0.0205499893412918,
          0.0215802244464665,
          0,
          0.0697686645636172,
          0.0521904761904762,
          0.0085434173669467,
          0.0016607354685646,
          0.104760200429492,
          0.0933544303797468,
          0.0010147701419233,
          0.0043753267119707,
          0.002614319270309,
          0.0099815157116451,
          0.00166905338008,
          0.053448275862069,
          0.0091397849462365,
          0.000790513833992,
          0.129731125579066,
          5.9506099375186e-05,
          0.134405144694534,
          0.0233116377392078,
          0.0014470897773214,
          0.0146005509641873,
          0.0067842378983864,
          0.0828304803343448,
          0.0005013033888109,
          0.0025773195876288,
          0.0006821282401091,
          0.0007989715727175,
          0.140192307692308,
          0.0108037868943753,
          0.0325058349246764,
          0.0054164026432515,
          0.127363997198226,
          0.0386905582356995,
          0.127751035827443,
          0.0101386189211633,
          0.101631567973311,
          0.136070209653827,
          0.0977547944493529,
          0.0511200616084998,
          0.0016754169240271,
          0.0027027027027027,
          0,
          0.0085714285714285,
          0.0182557575411661,
          0.0040312947921643,
          0.0591059364668679,
          0.0009903472483389,
          0.094013181984621,
          0.171754636233952,
          0,
          0.0774468370564164,
          0.128867429411147,
          0.0016000364680676,
          0.0041756938584688,
          0.0264462809917355,
          0.11674857858726,
          0.111257817929117,
          0.0001187362852075,
          0,
          0.0009542215243386,
          0.0098612125639152,
          0.0602051109616678,
          0.0318676331848526,
          0.0007148947333901,
          0.0592058020967974,
          0.0093475148292084,
          0.167220071471114,
          3.51558576355175e-05,
          0.140103007778633,
          0.0136222033418295,
          0.0018171709486744,
          0,
          0.0042869610752312,
          3.63791329293517e-05,
          0.002061959364313,
          0.0045637510879025,
          0.0088542017089416
         ],
         "yaxis": "y"
        }
       ],
       "layout": {
        "barmode": "relative",
        "legend": {
         "tracegroupgap": 0
        },
        "margin": {
         "t": 60
        },
        "template": {
         "data": {
          "bar": [
           {
            "error_x": {
             "color": "#2a3f5f"
            },
            "error_y": {
             "color": "#2a3f5f"
            },
            "marker": {
             "line": {
              "color": "#E5ECF6",
              "width": 0.5
             },
             "pattern": {
              "fillmode": "overlay",
              "size": 10,
              "solidity": 0.2
             }
            },
            "type": "bar"
           }
          ],
          "barpolar": [
           {
            "marker": {
             "line": {
              "color": "#E5ECF6",
              "width": 0.5
             },
             "pattern": {
              "fillmode": "overlay",
              "size": 10,
              "solidity": 0.2
             }
            },
            "type": "barpolar"
           }
          ],
          "carpet": [
           {
            "aaxis": {
             "endlinecolor": "#2a3f5f",
             "gridcolor": "white",
             "linecolor": "white",
             "minorgridcolor": "white",
             "startlinecolor": "#2a3f5f"
            },
            "baxis": {
             "endlinecolor": "#2a3f5f",
             "gridcolor": "white",
             "linecolor": "white",
             "minorgridcolor": "white",
             "startlinecolor": "#2a3f5f"
            },
            "type": "carpet"
           }
          ],
          "choropleth": [
           {
            "colorbar": {
             "outlinewidth": 0,
             "ticks": ""
            },
            "type": "choropleth"
           }
          ],
          "contour": [
           {
            "colorbar": {
             "outlinewidth": 0,
             "ticks": ""
            },
            "colorscale": [
             [
              0,
              "#0d0887"
             ],
             [
              0.1111111111111111,
              "#46039f"
             ],
             [
              0.2222222222222222,
              "#7201a8"
             ],
             [
              0.3333333333333333,
              "#9c179e"
             ],
             [
              0.4444444444444444,
              "#bd3786"
             ],
             [
              0.5555555555555556,
              "#d8576b"
             ],
             [
              0.6666666666666666,
              "#ed7953"
             ],
             [
              0.7777777777777778,
              "#fb9f3a"
             ],
             [
              0.8888888888888888,
              "#fdca26"
             ],
             [
              1,
              "#f0f921"
             ]
            ],
            "type": "contour"
           }
          ],
          "contourcarpet": [
           {
            "colorbar": {
             "outlinewidth": 0,
             "ticks": ""
            },
            "type": "contourcarpet"
           }
          ],
          "heatmap": [
           {
            "colorbar": {
             "outlinewidth": 0,
             "ticks": ""
            },
            "colorscale": [
             [
              0,
              "#0d0887"
             ],
             [
              0.1111111111111111,
              "#46039f"
             ],
             [
              0.2222222222222222,
              "#7201a8"
             ],
             [
              0.3333333333333333,
              "#9c179e"
             ],
             [
              0.4444444444444444,
              "#bd3786"
             ],
             [
              0.5555555555555556,
              "#d8576b"
             ],
             [
              0.6666666666666666,
              "#ed7953"
             ],
             [
              0.7777777777777778,
              "#fb9f3a"
             ],
             [
              0.8888888888888888,
              "#fdca26"
             ],
             [
              1,
              "#f0f921"
             ]
            ],
            "type": "heatmap"
           }
          ],
          "heatmapgl": [
           {
            "colorbar": {
             "outlinewidth": 0,
             "ticks": ""
            },
            "colorscale": [
             [
              0,
              "#0d0887"
             ],
             [
              0.1111111111111111,
              "#46039f"
             ],
             [
              0.2222222222222222,
              "#7201a8"
             ],
             [
              0.3333333333333333,
              "#9c179e"
             ],
             [
              0.4444444444444444,
              "#bd3786"
             ],
             [
              0.5555555555555556,
              "#d8576b"
             ],
             [
              0.6666666666666666,
              "#ed7953"
             ],
             [
              0.7777777777777778,
              "#fb9f3a"
             ],
             [
              0.8888888888888888,
              "#fdca26"
             ],
             [
              1,
              "#f0f921"
             ]
            ],
            "type": "heatmapgl"
           }
          ],
          "histogram": [
           {
            "marker": {
             "pattern": {
              "fillmode": "overlay",
              "size": 10,
              "solidity": 0.2
             }
            },
            "type": "histogram"
           }
          ],
          "histogram2d": [
           {
            "colorbar": {
             "outlinewidth": 0,
             "ticks": ""
            },
            "colorscale": [
             [
              0,
              "#0d0887"
             ],
             [
              0.1111111111111111,
              "#46039f"
             ],
             [
              0.2222222222222222,
              "#7201a8"
             ],
             [
              0.3333333333333333,
              "#9c179e"
             ],
             [
              0.4444444444444444,
              "#bd3786"
             ],
             [
              0.5555555555555556,
              "#d8576b"
             ],
             [
              0.6666666666666666,
              "#ed7953"
             ],
             [
              0.7777777777777778,
              "#fb9f3a"
             ],
             [
              0.8888888888888888,
              "#fdca26"
             ],
             [
              1,
              "#f0f921"
             ]
            ],
            "type": "histogram2d"
           }
          ],
          "histogram2dcontour": [
           {
            "colorbar": {
             "outlinewidth": 0,
             "ticks": ""
            },
            "colorscale": [
             [
              0,
              "#0d0887"
             ],
             [
              0.1111111111111111,
              "#46039f"
             ],
             [
              0.2222222222222222,
              "#7201a8"
             ],
             [
              0.3333333333333333,
              "#9c179e"
             ],
             [
              0.4444444444444444,
              "#bd3786"
             ],
             [
              0.5555555555555556,
              "#d8576b"
             ],
             [
              0.6666666666666666,
              "#ed7953"
             ],
             [
              0.7777777777777778,
              "#fb9f3a"
             ],
             [
              0.8888888888888888,
              "#fdca26"
             ],
             [
              1,
              "#f0f921"
             ]
            ],
            "type": "histogram2dcontour"
           }
          ],
          "mesh3d": [
           {
            "colorbar": {
             "outlinewidth": 0,
             "ticks": ""
            },
            "type": "mesh3d"
           }
          ],
          "parcoords": [
           {
            "line": {
             "colorbar": {
              "outlinewidth": 0,
              "ticks": ""
             }
            },
            "type": "parcoords"
           }
          ],
          "pie": [
           {
            "automargin": true,
            "type": "pie"
           }
          ],
          "scatter": [
           {
            "marker": {
             "colorbar": {
              "outlinewidth": 0,
              "ticks": ""
             }
            },
            "type": "scatter"
           }
          ],
          "scatter3d": [
           {
            "line": {
             "colorbar": {
              "outlinewidth": 0,
              "ticks": ""
             }
            },
            "marker": {
             "colorbar": {
              "outlinewidth": 0,
              "ticks": ""
             }
            },
            "type": "scatter3d"
           }
          ],
          "scattercarpet": [
           {
            "marker": {
             "colorbar": {
              "outlinewidth": 0,
              "ticks": ""
             }
            },
            "type": "scattercarpet"
           }
          ],
          "scattergeo": [
           {
            "marker": {
             "colorbar": {
              "outlinewidth": 0,
              "ticks": ""
             }
            },
            "type": "scattergeo"
           }
          ],
          "scattergl": [
           {
            "marker": {
             "colorbar": {
              "outlinewidth": 0,
              "ticks": ""
             }
            },
            "type": "scattergl"
           }
          ],
          "scattermapbox": [
           {
            "marker": {
             "colorbar": {
              "outlinewidth": 0,
              "ticks": ""
             }
            },
            "type": "scattermapbox"
           }
          ],
          "scatterpolar": [
           {
            "marker": {
             "colorbar": {
              "outlinewidth": 0,
              "ticks": ""
             }
            },
            "type": "scatterpolar"
           }
          ],
          "scatterpolargl": [
           {
            "marker": {
             "colorbar": {
              "outlinewidth": 0,
              "ticks": ""
             }
            },
            "type": "scatterpolargl"
           }
          ],
          "scatterternary": [
           {
            "marker": {
             "colorbar": {
              "outlinewidth": 0,
              "ticks": ""
             }
            },
            "type": "scatterternary"
           }
          ],
          "surface": [
           {
            "colorbar": {
             "outlinewidth": 0,
             "ticks": ""
            },
            "colorscale": [
             [
              0,
              "#0d0887"
             ],
             [
              0.1111111111111111,
              "#46039f"
             ],
             [
              0.2222222222222222,
              "#7201a8"
             ],
             [
              0.3333333333333333,
              "#9c179e"
             ],
             [
              0.4444444444444444,
              "#bd3786"
             ],
             [
              0.5555555555555556,
              "#d8576b"
             ],
             [
              0.6666666666666666,
              "#ed7953"
             ],
             [
              0.7777777777777778,
              "#fb9f3a"
             ],
             [
              0.8888888888888888,
              "#fdca26"
             ],
             [
              1,
              "#f0f921"
             ]
            ],
            "type": "surface"
           }
          ],
          "table": [
           {
            "cells": {
             "fill": {
              "color": "#EBF0F8"
             },
             "line": {
              "color": "white"
             }
            },
            "header": {
             "fill": {
              "color": "#C8D4E3"
             },
             "line": {
              "color": "white"
             }
            },
            "type": "table"
           }
          ]
         },
         "layout": {
          "annotationdefaults": {
           "arrowcolor": "#2a3f5f",
           "arrowhead": 0,
           "arrowwidth": 1
          },
          "autotypenumbers": "strict",
          "coloraxis": {
           "colorbar": {
            "outlinewidth": 0,
            "ticks": ""
           }
          },
          "colorscale": {
           "diverging": [
            [
             0,
             "#8e0152"
            ],
            [
             0.1,
             "#c51b7d"
            ],
            [
             0.2,
             "#de77ae"
            ],
            [
             0.3,
             "#f1b6da"
            ],
            [
             0.4,
             "#fde0ef"
            ],
            [
             0.5,
             "#f7f7f7"
            ],
            [
             0.6,
             "#e6f5d0"
            ],
            [
             0.7,
             "#b8e186"
            ],
            [
             0.8,
             "#7fbc41"
            ],
            [
             0.9,
             "#4d9221"
            ],
            [
             1,
             "#276419"
            ]
           ],
           "sequential": [
            [
             0,
             "#0d0887"
            ],
            [
             0.1111111111111111,
             "#46039f"
            ],
            [
             0.2222222222222222,
             "#7201a8"
            ],
            [
             0.3333333333333333,
             "#9c179e"
            ],
            [
             0.4444444444444444,
             "#bd3786"
            ],
            [
             0.5555555555555556,
             "#d8576b"
            ],
            [
             0.6666666666666666,
             "#ed7953"
            ],
            [
             0.7777777777777778,
             "#fb9f3a"
            ],
            [
             0.8888888888888888,
             "#fdca26"
            ],
            [
             1,
             "#f0f921"
            ]
           ],
           "sequentialminus": [
            [
             0,
             "#0d0887"
            ],
            [
             0.1111111111111111,
             "#46039f"
            ],
            [
             0.2222222222222222,
             "#7201a8"
            ],
            [
             0.3333333333333333,
             "#9c179e"
            ],
            [
             0.4444444444444444,
             "#bd3786"
            ],
            [
             0.5555555555555556,
             "#d8576b"
            ],
            [
             0.6666666666666666,
             "#ed7953"
            ],
            [
             0.7777777777777778,
             "#fb9f3a"
            ],
            [
             0.8888888888888888,
             "#fdca26"
            ],
            [
             1,
             "#f0f921"
            ]
           ]
          },
          "colorway": [
           "#636efa",
           "#EF553B",
           "#00cc96",
           "#ab63fa",
           "#FFA15A",
           "#19d3f3",
           "#FF6692",
           "#B6E880",
           "#FF97FF",
           "#FECB52"
          ],
          "font": {
           "color": "#2a3f5f"
          },
          "geo": {
           "bgcolor": "white",
           "lakecolor": "white",
           "landcolor": "#E5ECF6",
           "showlakes": true,
           "showland": true,
           "subunitcolor": "white"
          },
          "hoverlabel": {
           "align": "left"
          },
          "hovermode": "closest",
          "mapbox": {
           "style": "light"
          },
          "paper_bgcolor": "white",
          "plot_bgcolor": "#E5ECF6",
          "polar": {
           "angularaxis": {
            "gridcolor": "white",
            "linecolor": "white",
            "ticks": ""
           },
           "bgcolor": "#E5ECF6",
           "radialaxis": {
            "gridcolor": "white",
            "linecolor": "white",
            "ticks": ""
           }
          },
          "scene": {
           "xaxis": {
            "backgroundcolor": "#E5ECF6",
            "gridcolor": "white",
            "gridwidth": 2,
            "linecolor": "white",
            "showbackground": true,
            "ticks": "",
            "zerolinecolor": "white"
           },
           "yaxis": {
            "backgroundcolor": "#E5ECF6",
            "gridcolor": "white",
            "gridwidth": 2,
            "linecolor": "white",
            "showbackground": true,
            "ticks": "",
            "zerolinecolor": "white"
           },
           "zaxis": {
            "backgroundcolor": "#E5ECF6",
            "gridcolor": "white",
            "gridwidth": 2,
            "linecolor": "white",
            "showbackground": true,
            "ticks": "",
            "zerolinecolor": "white"
           }
          },
          "shapedefaults": {
           "line": {
            "color": "#2a3f5f"
           }
          },
          "ternary": {
           "aaxis": {
            "gridcolor": "white",
            "linecolor": "white",
            "ticks": ""
           },
           "baxis": {
            "gridcolor": "white",
            "linecolor": "white",
            "ticks": ""
           },
           "bgcolor": "#E5ECF6",
           "caxis": {
            "gridcolor": "white",
            "linecolor": "white",
            "ticks": ""
           }
          },
          "title": {
           "x": 0.05
          },
          "xaxis": {
           "automargin": true,
           "gridcolor": "white",
           "linecolor": "white",
           "ticks": "",
           "title": {
            "standoff": 15
           },
           "zerolinecolor": "white",
           "zerolinewidth": 2
          },
          "yaxis": {
           "automargin": true,
           "gridcolor": "white",
           "linecolor": "white",
           "ticks": "",
           "title": {
            "standoff": 15
           },
           "zerolinecolor": "white",
           "zerolinewidth": 2
          }
         }
        },
        "xaxis": {
         "anchor": "y",
         "categoryorder": "total descending",
         "domain": [
          0,
          1
         ],
         "title": {
          "text": "Country"
         }
        },
        "yaxis": {
         "anchor": "x",
         "domain": [
          0,
          1
         ],
         "title": {
          "text": "Deaths"
         }
        }
       }
      },
      "text/html": [
       "<div>                            <div id=\"c7674c88-0e78-4b46-9118-1ab7553fe824\" class=\"plotly-graph-div\" style=\"height:525px; width:100%;\"></div>            <script type=\"text/javascript\">                require([\"plotly\"], function(Plotly) {                    window.PLOTLYENV=window.PLOTLYENV || {};                                    if (document.getElementById(\"c7674c88-0e78-4b46-9118-1ab7553fe824\")) {                    Plotly.newPlot(                        \"c7674c88-0e78-4b46-9118-1ab7553fe824\",                        [{\"alignmentgroup\":\"True\",\"hovertemplate\":\"Country=%{x}<br>Deaths=%{y}<extra></extra>\",\"legendgroup\":\"\",\"marker\":{\"color\":\"#636efa\",\"pattern\":{\"shape\":\"\"}},\"name\":\"\",\"offsetgroup\":\"\",\"orientation\":\"v\",\"showlegend\":false,\"textposition\":\"auto\",\"x\":[\"Afghanistan\",\"Albania\",\"Algeria\",\"Angola\",\"Argentina\",\"Armenia\",\"Australia\",\"Austria\",\"Azerbaijan\",\"Bangladesh\",\"Barbados\",\"Belarus\",\"Belgium\",\"Belize\",\"Benin\",\"Bolivia\",\"Bosnia and Herzegovina\",\"Botswana\",\"Brazil\",\"Bulgaria\",\"Burkina Faso\",\"Cabo Verde\",\"Cambodia\",\"Cameroon\",\"Central African Republic\",\"Chad\",\"China\",\"Colombia\",\"Congo\",\"Costa Rica\",\"Cote d'Ivoire\",\"Croatia\",\"Cuba\",\"Cyprus\",\"Czechia\",\"Denmark\",\"Djibouti\",\"Dominica\",\"Dominican Republic\",\"Ecuador\",\"Egypt\",\"El Salvador\",\"Estonia\",\"Eswatini\",\"Ethiopia\",\"Fiji\",\"Finland\",\"France\",\"Gabon\",\"Gambia\",\"Georgia\",\"Germany\",\"Ghana\",\"Greece\",\"Guatemala\",\"Guinea\",\"Guinea-Bissau\",\"Guyana\",\"Haiti\",\"Honduras\",\"Hungary\",\"Iceland\",\"India\",\"Indonesia\",\"Iran (Islamic Republic of)\",\"Iraq\",\"Ireland\",\"Israel\",\"Italy\",\"Jamaica\",\"Japan\",\"Jordan\",\"Kazakhstan\",\"Kenya\",\"Korea, South\",\"Kuwait\",\"Kyrgyzstan\",\"Lao People's Democratic Republic\",\"Latvia\",\"Lebanon\",\"Lesotho\",\"Liberia\",\"Lithuania\",\"Luxembourg\",\"Madagascar\",\"Malawi\",\"Malaysia\",\"Maldives\",\"Mali\",\"Malta\",\"Mauritania\",\"Mauritius\",\"Mexico\",\"Mongolia\",\"Montenegro\",\"Morocco\",\"Mozambique\",\"Namibia\",\"Nepal\",\"Netherlands\",\"New Zealand\",\"Nicaragua\",\"Niger\",\"Nigeria\",\"North Macedonia\",\"Norway\",\"Oman\",\"Pakistan\",\"Panama\",\"Paraguay\",\"Peru\",\"Philippines\",\"Poland\",\"Portugal\",\"Romania\",\"Russian Federation\",\"Rwanda\",\"Saint Vincent and the Grenadines\",\"Samoa\",\"Sao Tome and Principe\",\"Saudi Arabia\",\"Senegal\",\"Serbia\",\"Sierra Leone\",\"Slovakia\",\"Slovenia\",\"Solomon Islands\",\"South Africa\",\"Spain\",\"Sri Lanka\",\"Sudan\",\"Suriname\",\"Sweden\",\"Switzerland\",\"Thailand\",\"Timor-Leste\",\"Togo\",\"Trinidad and Tobago\",\"Tunisia\",\"Turkey\",\"Uganda\",\"Ukraine\",\"United Arab Emirates\",\"United Kingdom\",\"United Republic of Tanzania\",\"United States of America\",\"Uruguay\",\"Uzbekistan\",\"Vanuatu\",\"Venezuela (Bolivarian Republic of)\",\"Vietnam\",\"Yemen\",\"Zambia\",\"Zimbabwe\"],\"xaxis\":\"x\",\"y\":[0.0061857788738183,0.0509513742071882,0.0065581531663548,0.0014605497816862,0.108226634638694,0.105345060893099,0.0035295488079521,0.0896791563832174,0.0312227938266719,0.0048230659152341,0.0062717770034843,0.018912,0.185427702996092,0.0730310262529833,0.0004504873454009,0.0924353133327602,0.145534897896983,0.0070349589987052,0.108602912016316,0.134416053125451,0.000641056307707,0.0242805755395683,0.0,0.001782088878863,0.0013043478260869,0.0007406529596492,0.0003438428106404,0.112638540571151,0.0145161290322581,0.0522793973782039,0.0006189111747851,0.127960199004975,0.0020654197322932,0.0174813587406794,0.159845091452034,0.0380168124892777,0.0063765182186234,0.0,0.0266761904761905,0.0856832847924162,0.0095274942214021,0.0258139176053078,0.0342599549211119,0.0547101449275362,0.0018665808068502,0.0002232142857142,0.0124434798336046,0.121558361564521,0.0031824294038547,0.0055440628878775,0.0879946164199192,0.073890756302521,0.0014449843915939,0.0556168224299065,0.0324034097199159,0.0006687898089171,0.0023871302542812,0.0228716645489199,0.0021485573971761,0.0376115166261152,0.13336746186137,0.0078804347826087,0.0110703521177059,0.0115526295452622,0.0694141414141414,0.0330044052863436,0.0734359384369378,0.0550238715277778,0.150927093007828,0.0127091491634033,0.0050592615526288,0.0409120704185785,0.0166506512919069,0.0033178897025855,0.0028408103358374,0.0205499893412918,0.0215802244464665,0.0,0.0697686645636172,0.0521904761904762,0.0085434173669467,0.0016607354685646,0.104760200429492,0.0933544303797468,0.0010147701419233,0.0043753267119707,0.002614319270309,0.0099815157116451,0.00166905338008,0.053448275862069,0.0091397849462365,0.000790513833992,0.129731125579066,5.9506099375186e-05,0.134405144694534,0.0233116377392078,0.0014470897773214,0.0146005509641873,0.0067842378983864,0.0828304803343448,0.0005013033888109,0.0025773195876288,0.0006821282401091,0.0007989715727175,0.140192307692308,0.0108037868943753,0.0325058349246764,0.0054164026432515,0.127363997198226,0.0386905582356995,0.127751035827443,0.0101386189211633,0.101631567973311,0.136070209653827,0.0977547944493529,0.0511200616084998,0.0016754169240271,0.0027027027027027,0.0,0.0085714285714285,0.0182557575411661,0.0040312947921643,0.0591059364668679,0.0009903472483389,0.094013181984621,0.171754636233952,0.0,0.0774468370564164,0.128867429411147,0.0016000364680676,0.0041756938584688,0.0264462809917355,0.11674857858726,0.111257817929117,0.0001187362852075,0.0,0.0009542215243386,0.0098612125639152,0.0602051109616678,0.0318676331848526,0.0007148947333901,0.0592058020967974,0.0093475148292084,0.167220071471114,3.51558576355175e-05,0.140103007778633,0.0136222033418295,0.0018171709486744,0.0,0.0042869610752312,3.63791329293517e-05,0.002061959364313,0.0045637510879025,0.0088542017089416],\"yaxis\":\"y\",\"type\":\"bar\"}],                        {\"template\":{\"data\":{\"bar\":[{\"error_x\":{\"color\":\"#2a3f5f\"},\"error_y\":{\"color\":\"#2a3f5f\"},\"marker\":{\"line\":{\"color\":\"#E5ECF6\",\"width\":0.5},\"pattern\":{\"fillmode\":\"overlay\",\"size\":10,\"solidity\":0.2}},\"type\":\"bar\"}],\"barpolar\":[{\"marker\":{\"line\":{\"color\":\"#E5ECF6\",\"width\":0.5},\"pattern\":{\"fillmode\":\"overlay\",\"size\":10,\"solidity\":0.2}},\"type\":\"barpolar\"}],\"carpet\":[{\"aaxis\":{\"endlinecolor\":\"#2a3f5f\",\"gridcolor\":\"white\",\"linecolor\":\"white\",\"minorgridcolor\":\"white\",\"startlinecolor\":\"#2a3f5f\"},\"baxis\":{\"endlinecolor\":\"#2a3f5f\",\"gridcolor\":\"white\",\"linecolor\":\"white\",\"minorgridcolor\":\"white\",\"startlinecolor\":\"#2a3f5f\"},\"type\":\"carpet\"}],\"choropleth\":[{\"colorbar\":{\"outlinewidth\":0,\"ticks\":\"\"},\"type\":\"choropleth\"}],\"contour\":[{\"colorbar\":{\"outlinewidth\":0,\"ticks\":\"\"},\"colorscale\":[[0.0,\"#0d0887\"],[0.1111111111111111,\"#46039f\"],[0.2222222222222222,\"#7201a8\"],[0.3333333333333333,\"#9c179e\"],[0.4444444444444444,\"#bd3786\"],[0.5555555555555556,\"#d8576b\"],[0.6666666666666666,\"#ed7953\"],[0.7777777777777778,\"#fb9f3a\"],[0.8888888888888888,\"#fdca26\"],[1.0,\"#f0f921\"]],\"type\":\"contour\"}],\"contourcarpet\":[{\"colorbar\":{\"outlinewidth\":0,\"ticks\":\"\"},\"type\":\"contourcarpet\"}],\"heatmap\":[{\"colorbar\":{\"outlinewidth\":0,\"ticks\":\"\"},\"colorscale\":[[0.0,\"#0d0887\"],[0.1111111111111111,\"#46039f\"],[0.2222222222222222,\"#7201a8\"],[0.3333333333333333,\"#9c179e\"],[0.4444444444444444,\"#bd3786\"],[0.5555555555555556,\"#d8576b\"],[0.6666666666666666,\"#ed7953\"],[0.7777777777777778,\"#fb9f3a\"],[0.8888888888888888,\"#fdca26\"],[1.0,\"#f0f921\"]],\"type\":\"heatmap\"}],\"heatmapgl\":[{\"colorbar\":{\"outlinewidth\":0,\"ticks\":\"\"},\"colorscale\":[[0.0,\"#0d0887\"],[0.1111111111111111,\"#46039f\"],[0.2222222222222222,\"#7201a8\"],[0.3333333333333333,\"#9c179e\"],[0.4444444444444444,\"#bd3786\"],[0.5555555555555556,\"#d8576b\"],[0.6666666666666666,\"#ed7953\"],[0.7777777777777778,\"#fb9f3a\"],[0.8888888888888888,\"#fdca26\"],[1.0,\"#f0f921\"]],\"type\":\"heatmapgl\"}],\"histogram\":[{\"marker\":{\"pattern\":{\"fillmode\":\"overlay\",\"size\":10,\"solidity\":0.2}},\"type\":\"histogram\"}],\"histogram2d\":[{\"colorbar\":{\"outlinewidth\":0,\"ticks\":\"\"},\"colorscale\":[[0.0,\"#0d0887\"],[0.1111111111111111,\"#46039f\"],[0.2222222222222222,\"#7201a8\"],[0.3333333333333333,\"#9c179e\"],[0.4444444444444444,\"#bd3786\"],[0.5555555555555556,\"#d8576b\"],[0.6666666666666666,\"#ed7953\"],[0.7777777777777778,\"#fb9f3a\"],[0.8888888888888888,\"#fdca26\"],[1.0,\"#f0f921\"]],\"type\":\"histogram2d\"}],\"histogram2dcontour\":[{\"colorbar\":{\"outlinewidth\":0,\"ticks\":\"\"},\"colorscale\":[[0.0,\"#0d0887\"],[0.1111111111111111,\"#46039f\"],[0.2222222222222222,\"#7201a8\"],[0.3333333333333333,\"#9c179e\"],[0.4444444444444444,\"#bd3786\"],[0.5555555555555556,\"#d8576b\"],[0.6666666666666666,\"#ed7953\"],[0.7777777777777778,\"#fb9f3a\"],[0.8888888888888888,\"#fdca26\"],[1.0,\"#f0f921\"]],\"type\":\"histogram2dcontour\"}],\"mesh3d\":[{\"colorbar\":{\"outlinewidth\":0,\"ticks\":\"\"},\"type\":\"mesh3d\"}],\"parcoords\":[{\"line\":{\"colorbar\":{\"outlinewidth\":0,\"ticks\":\"\"}},\"type\":\"parcoords\"}],\"pie\":[{\"automargin\":true,\"type\":\"pie\"}],\"scatter\":[{\"marker\":{\"colorbar\":{\"outlinewidth\":0,\"ticks\":\"\"}},\"type\":\"scatter\"}],\"scatter3d\":[{\"line\":{\"colorbar\":{\"outlinewidth\":0,\"ticks\":\"\"}},\"marker\":{\"colorbar\":{\"outlinewidth\":0,\"ticks\":\"\"}},\"type\":\"scatter3d\"}],\"scattercarpet\":[{\"marker\":{\"colorbar\":{\"outlinewidth\":0,\"ticks\":\"\"}},\"type\":\"scattercarpet\"}],\"scattergeo\":[{\"marker\":{\"colorbar\":{\"outlinewidth\":0,\"ticks\":\"\"}},\"type\":\"scattergeo\"}],\"scattergl\":[{\"marker\":{\"colorbar\":{\"outlinewidth\":0,\"ticks\":\"\"}},\"type\":\"scattergl\"}],\"scattermapbox\":[{\"marker\":{\"colorbar\":{\"outlinewidth\":0,\"ticks\":\"\"}},\"type\":\"scattermapbox\"}],\"scatterpolar\":[{\"marker\":{\"colorbar\":{\"outlinewidth\":0,\"ticks\":\"\"}},\"type\":\"scatterpolar\"}],\"scatterpolargl\":[{\"marker\":{\"colorbar\":{\"outlinewidth\":0,\"ticks\":\"\"}},\"type\":\"scatterpolargl\"}],\"scatterternary\":[{\"marker\":{\"colorbar\":{\"outlinewidth\":0,\"ticks\":\"\"}},\"type\":\"scatterternary\"}],\"surface\":[{\"colorbar\":{\"outlinewidth\":0,\"ticks\":\"\"},\"colorscale\":[[0.0,\"#0d0887\"],[0.1111111111111111,\"#46039f\"],[0.2222222222222222,\"#7201a8\"],[0.3333333333333333,\"#9c179e\"],[0.4444444444444444,\"#bd3786\"],[0.5555555555555556,\"#d8576b\"],[0.6666666666666666,\"#ed7953\"],[0.7777777777777778,\"#fb9f3a\"],[0.8888888888888888,\"#fdca26\"],[1.0,\"#f0f921\"]],\"type\":\"surface\"}],\"table\":[{\"cells\":{\"fill\":{\"color\":\"#EBF0F8\"},\"line\":{\"color\":\"white\"}},\"header\":{\"fill\":{\"color\":\"#C8D4E3\"},\"line\":{\"color\":\"white\"}},\"type\":\"table\"}]},\"layout\":{\"annotationdefaults\":{\"arrowcolor\":\"#2a3f5f\",\"arrowhead\":0,\"arrowwidth\":1},\"autotypenumbers\":\"strict\",\"coloraxis\":{\"colorbar\":{\"outlinewidth\":0,\"ticks\":\"\"}},\"colorscale\":{\"diverging\":[[0,\"#8e0152\"],[0.1,\"#c51b7d\"],[0.2,\"#de77ae\"],[0.3,\"#f1b6da\"],[0.4,\"#fde0ef\"],[0.5,\"#f7f7f7\"],[0.6,\"#e6f5d0\"],[0.7,\"#b8e186\"],[0.8,\"#7fbc41\"],[0.9,\"#4d9221\"],[1,\"#276419\"]],\"sequential\":[[0.0,\"#0d0887\"],[0.1111111111111111,\"#46039f\"],[0.2222222222222222,\"#7201a8\"],[0.3333333333333333,\"#9c179e\"],[0.4444444444444444,\"#bd3786\"],[0.5555555555555556,\"#d8576b\"],[0.6666666666666666,\"#ed7953\"],[0.7777777777777778,\"#fb9f3a\"],[0.8888888888888888,\"#fdca26\"],[1.0,\"#f0f921\"]],\"sequentialminus\":[[0.0,\"#0d0887\"],[0.1111111111111111,\"#46039f\"],[0.2222222222222222,\"#7201a8\"],[0.3333333333333333,\"#9c179e\"],[0.4444444444444444,\"#bd3786\"],[0.5555555555555556,\"#d8576b\"],[0.6666666666666666,\"#ed7953\"],[0.7777777777777778,\"#fb9f3a\"],[0.8888888888888888,\"#fdca26\"],[1.0,\"#f0f921\"]]},\"colorway\":[\"#636efa\",\"#EF553B\",\"#00cc96\",\"#ab63fa\",\"#FFA15A\",\"#19d3f3\",\"#FF6692\",\"#B6E880\",\"#FF97FF\",\"#FECB52\"],\"font\":{\"color\":\"#2a3f5f\"},\"geo\":{\"bgcolor\":\"white\",\"lakecolor\":\"white\",\"landcolor\":\"#E5ECF6\",\"showlakes\":true,\"showland\":true,\"subunitcolor\":\"white\"},\"hoverlabel\":{\"align\":\"left\"},\"hovermode\":\"closest\",\"mapbox\":{\"style\":\"light\"},\"paper_bgcolor\":\"white\",\"plot_bgcolor\":\"#E5ECF6\",\"polar\":{\"angularaxis\":{\"gridcolor\":\"white\",\"linecolor\":\"white\",\"ticks\":\"\"},\"bgcolor\":\"#E5ECF6\",\"radialaxis\":{\"gridcolor\":\"white\",\"linecolor\":\"white\",\"ticks\":\"\"}},\"scene\":{\"xaxis\":{\"backgroundcolor\":\"#E5ECF6\",\"gridcolor\":\"white\",\"gridwidth\":2,\"linecolor\":\"white\",\"showbackground\":true,\"ticks\":\"\",\"zerolinecolor\":\"white\"},\"yaxis\":{\"backgroundcolor\":\"#E5ECF6\",\"gridcolor\":\"white\",\"gridwidth\":2,\"linecolor\":\"white\",\"showbackground\":true,\"ticks\":\"\",\"zerolinecolor\":\"white\"},\"zaxis\":{\"backgroundcolor\":\"#E5ECF6\",\"gridcolor\":\"white\",\"gridwidth\":2,\"linecolor\":\"white\",\"showbackground\":true,\"ticks\":\"\",\"zerolinecolor\":\"white\"}},\"shapedefaults\":{\"line\":{\"color\":\"#2a3f5f\"}},\"ternary\":{\"aaxis\":{\"gridcolor\":\"white\",\"linecolor\":\"white\",\"ticks\":\"\"},\"baxis\":{\"gridcolor\":\"white\",\"linecolor\":\"white\",\"ticks\":\"\"},\"bgcolor\":\"#E5ECF6\",\"caxis\":{\"gridcolor\":\"white\",\"linecolor\":\"white\",\"ticks\":\"\"}},\"title\":{\"x\":0.05},\"xaxis\":{\"automargin\":true,\"gridcolor\":\"white\",\"linecolor\":\"white\",\"ticks\":\"\",\"title\":{\"standoff\":15},\"zerolinecolor\":\"white\",\"zerolinewidth\":2},\"yaxis\":{\"automargin\":true,\"gridcolor\":\"white\",\"linecolor\":\"white\",\"ticks\":\"\",\"title\":{\"standoff\":15},\"zerolinecolor\":\"white\",\"zerolinewidth\":2}}},\"xaxis\":{\"anchor\":\"y\",\"domain\":[0.0,1.0],\"title\":{\"text\":\"Country\"},\"categoryorder\":\"total descending\"},\"yaxis\":{\"anchor\":\"x\",\"domain\":[0.0,1.0],\"title\":{\"text\":\"Deaths\"}},\"legend\":{\"tracegroupgap\":0},\"margin\":{\"t\":60},\"barmode\":\"relative\"},                        {\"responsive\": true}                    ).then(function(){\n",
       "                            \n",
       "var gd = document.getElementById('c7674c88-0e78-4b46-9118-1ab7553fe824');\n",
       "var x = new MutationObserver(function (mutations, observer) {{\n",
       "        var display = window.getComputedStyle(gd).display;\n",
       "        if (!display || display === 'none') {{\n",
       "            console.log([gd, 'removed!']);\n",
       "            Plotly.purge(gd);\n",
       "            observer.disconnect();\n",
       "        }}\n",
       "}});\n",
       "\n",
       "// Listen for the removal of the full notebook cells\n",
       "var notebookContainer = gd.closest('#notebook-container');\n",
       "if (notebookContainer) {{\n",
       "    x.observe(notebookContainer, {childList: true});\n",
       "}}\n",
       "\n",
       "// Listen for the clearing of the current output cell\n",
       "var outputEl = gd.closest('.output');\n",
       "if (outputEl) {{\n",
       "    x.observe(outputEl, {childList: true});\n",
       "}}\n",
       "\n",
       "                        })                };                });            </script>        </div>"
      ]
     },
     "metadata": {},
     "output_type": "display_data"
    }
   ],
   "source": [
    "# Figure to present the Death rates of each country, sorted in descending order\n",
    "\n",
    "fig = px.bar(food_df, x='Country', y='Deaths').update_xaxes(categoryorder=\"total descending\")\n",
    "fig.show()"
   ]
  },
  {
   "cell_type": "markdown",
   "id": "3966829a",
   "metadata": {},
   "source": [
    "Upon analyzing the graph above, the researchers discovered that the top 5 countries with the highest death rates are **Belgium, Slovenia, United Kingdom, Czechia, and Italy**. Provided below are the precise death rates of the aforementioned countries:"
   ]
  },
  {
   "cell_type": "code",
   "execution_count": 46,
   "id": "26cbeebb",
   "metadata": {},
   "outputs": [
    {
     "data": {
      "text/html": [
       "<div>\n",
       "<style scoped>\n",
       "    .dataframe tbody tr th:only-of-type {\n",
       "        vertical-align: middle;\n",
       "    }\n",
       "\n",
       "    .dataframe tbody tr th {\n",
       "        vertical-align: top;\n",
       "    }\n",
       "\n",
       "    .dataframe thead th {\n",
       "        text-align: right;\n",
       "    }\n",
       "</style>\n",
       "<table border=\"1\" class=\"dataframe\">\n",
       "  <thead>\n",
       "    <tr style=\"text-align: right;\">\n",
       "      <th></th>\n",
       "      <th>Country</th>\n",
       "      <th>Deaths</th>\n",
       "    </tr>\n",
       "  </thead>\n",
       "  <tbody>\n",
       "    <tr>\n",
       "      <th>14</th>\n",
       "      <td>Belgium</td>\n",
       "      <td>18.542770</td>\n",
       "    </tr>\n",
       "    <tr>\n",
       "      <th>138</th>\n",
       "      <td>Slovenia</td>\n",
       "      <td>17.175464</td>\n",
       "    </tr>\n",
       "    <tr>\n",
       "      <th>159</th>\n",
       "      <td>United Kingdom</td>\n",
       "      <td>16.722007</td>\n",
       "    </tr>\n",
       "    <tr>\n",
       "      <th>38</th>\n",
       "      <td>Czechia</td>\n",
       "      <td>15.984509</td>\n",
       "    </tr>\n",
       "    <tr>\n",
       "      <th>74</th>\n",
       "      <td>Italy</td>\n",
       "      <td>15.092709</td>\n",
       "    </tr>\n",
       "  </tbody>\n",
       "</table>\n",
       "</div>"
      ],
      "text/plain": [
       "            Country     Deaths\n",
       "14          Belgium  18.542770\n",
       "138        Slovenia  17.175464\n",
       "159  United Kingdom  16.722007\n",
       "38          Czechia  15.984509\n",
       "74            Italy  15.092709"
      ]
     },
     "execution_count": 46,
     "metadata": {},
     "output_type": "execute_result"
    }
   ],
   "source": [
    "# Get the countries with highest death rates by sorting the dataframe in descending order\n",
    "top_5_deaths = food_df.sort_values(by='Deaths', ascending=False, inplace=False)\n",
    "\n",
    "# Get the top 5\n",
    "top_5_deaths = top_5_deaths.head(5)\n",
    "\n",
    "# Represent in percentage\n",
    "top_5_deaths['Deaths'] = top_5_deaths['Deaths'] * 100\n",
    "top_5_deaths.iloc[:,[0,27]]"
   ]
  },
  {
   "cell_type": "markdown",
   "id": "a97ce855",
   "metadata": {},
   "source": [
    "Top 5 Countries with the Highest Death Rates:\n",
    "\n",
    "- **Belgium:** 18.54%\n",
    "- **Slovenia:** 17.18%\n",
    "- **United Kingdom:** 16.72%\n",
    "- **Czechia:** 15.98%\n",
    "- **Italy:** 15.09%"
   ]
  },
  {
   "cell_type": "markdown",
   "id": "5f01a272",
   "metadata": {},
   "source": [
    "Get the statistical summary of the `Deaths` variable by calling the function `describe()`"
   ]
  },
  {
   "cell_type": "code",
   "execution_count": 22,
   "id": "5e9d1f37",
   "metadata": {
    "pycharm": {
     "name": "#%%\n"
    }
   },
   "outputs": [
    {
     "data": {
      "text/plain": [
       "count    154.000000\n",
       "mean       0.039882\n",
       "std        0.049285\n",
       "min        0.000000\n",
       "25%        0.002086\n",
       "50%        0.012576\n",
       "75%        0.069680\n",
       "max        0.185428\n",
       "Name: Deaths, dtype: float64"
      ]
     },
     "execution_count": 22,
     "metadata": {},
     "output_type": "execute_result"
    }
   ],
   "source": [
    "food_df['Deaths'].describe()"
   ]
  },
  {
   "cell_type": "code",
   "execution_count": 55,
   "id": "b8413867",
   "metadata": {},
   "outputs": [
    {
     "name": "stdout",
     "output_type": "stream",
     "text": [
      "1.2357759652791966\n"
     ]
    }
   ],
   "source": [
    "# Get the mean and std\n",
    "mean = food_df['Deaths'].mean()\n",
    "std = food_df['Deaths'].std()\n",
    "\n",
    "# Get the coefficient of variation\n",
    "cv = std / mean\n",
    "\n",
    "print(cv)"
   ]
  },
  {
   "cell_type": "markdown",
   "id": "73ccaf67",
   "metadata": {},
   "source": [
    "Based on the data above, the researchers may state the following:\n",
    "- Average death rate of the countries is 3.99% \n",
    "- Standard deviation of death rates is 0.0493 \n",
    "\n",
    "The coefficient of variation indicates that the death rates are widely spread out across different values."
   ]
  },
  {
   "cell_type": "markdown",
   "id": "553c6113",
   "metadata": {},
   "source": [
    "Next, to identify the **top 5 countries with the highest mortality rates**, we plot the mortality rates of each country in a bar graph, sorted in descending order."
   ]
  },
  {
   "cell_type": "code",
   "execution_count": 23,
   "id": "af7ce5d3",
   "metadata": {
    "pycharm": {
     "name": "#%%\n"
    }
   },
   "outputs": [
    {
     "data": {
      "application/vnd.plotly.v1+json": {
       "config": {
        "plotlyServerURL": "https://plot.ly"
       },
       "data": [
        {
         "alignmentgroup": "True",
         "hovertemplate": "Country=%{x}<br>Mortality=%{y}<extra></extra>",
         "legendgroup": "",
         "marker": {
          "color": "#636efa",
          "pattern": {
           "shape": ""
          }
         },
         "name": "",
         "offsetgroup": "",
         "orientation": "v",
         "showlegend": false,
         "textposition": "auto",
         "type": "bar",
         "x": [
          "Afghanistan",
          "Albania",
          "Algeria",
          "Angola",
          "Argentina",
          "Armenia",
          "Australia",
          "Austria",
          "Azerbaijan",
          "Bangladesh",
          "Barbados",
          "Belarus",
          "Belgium",
          "Belize",
          "Benin",
          "Bolivia",
          "Bosnia and Herzegovina",
          "Botswana",
          "Brazil",
          "Bulgaria",
          "Burkina Faso",
          "Cabo Verde",
          "Cambodia",
          "Cameroon",
          "Central African Republic",
          "Chad",
          "China",
          "Colombia",
          "Congo",
          "Costa Rica",
          "Cote d'Ivoire",
          "Croatia",
          "Cuba",
          "Cyprus",
          "Czechia",
          "Denmark",
          "Djibouti",
          "Dominica",
          "Dominican Republic",
          "Ecuador",
          "Egypt",
          "El Salvador",
          "Estonia",
          "Eswatini",
          "Ethiopia",
          "Fiji",
          "Finland",
          "France",
          "Gabon",
          "Gambia",
          "Georgia",
          "Germany",
          "Ghana",
          "Greece",
          "Guatemala",
          "Guinea",
          "Guinea-Bissau",
          "Guyana",
          "Haiti",
          "Honduras",
          "Hungary",
          "Iceland",
          "India",
          "Indonesia",
          "Iran (Islamic Republic of)",
          "Iraq",
          "Ireland",
          "Israel",
          "Italy",
          "Jamaica",
          "Japan",
          "Jordan",
          "Kazakhstan",
          "Kenya",
          "Korea, South",
          "Kuwait",
          "Kyrgyzstan",
          "Lao People's Democratic Republic",
          "Latvia",
          "Lebanon",
          "Lesotho",
          "Liberia",
          "Lithuania",
          "Luxembourg",
          "Madagascar",
          "Malawi",
          "Malaysia",
          "Maldives",
          "Mali",
          "Malta",
          "Mauritania",
          "Mauritius",
          "Mexico",
          "Mongolia",
          "Montenegro",
          "Morocco",
          "Mozambique",
          "Namibia",
          "Nepal",
          "Netherlands",
          "New Zealand",
          "Nicaragua",
          "Niger",
          "Nigeria",
          "North Macedonia",
          "Norway",
          "Oman",
          "Pakistan",
          "Panama",
          "Paraguay",
          "Peru",
          "Philippines",
          "Poland",
          "Portugal",
          "Romania",
          "Russian Federation",
          "Rwanda",
          "Saint Vincent and the Grenadines",
          "Samoa",
          "Sao Tome and Principe",
          "Saudi Arabia",
          "Senegal",
          "Serbia",
          "Sierra Leone",
          "Slovakia",
          "Slovenia",
          "Solomon Islands",
          "South Africa",
          "Spain",
          "Sri Lanka",
          "Sudan",
          "Suriname",
          "Sweden",
          "Switzerland",
          "Thailand",
          "Timor-Leste",
          "Togo",
          "Trinidad and Tobago",
          "Tunisia",
          "Turkey",
          "Uganda",
          "Ukraine",
          "United Arab Emirates",
          "United Kingdom",
          "United Republic of Tanzania",
          "United States of America",
          "Uruguay",
          "Uzbekistan",
          "Vanuatu",
          "Venezuela (Bolivarian Republic of)",
          "Vietnam",
          "Yemen",
          "Zambia",
          "Zimbabwe"
         ],
         "xaxis": "x",
         "y": [
          4.352069401771176,
          1.717094950838359,
          2.677922101832838,
          2.3676602532149635,
          2.4844575955044093,
          1.8542667786134115,
          3.150670687324479,
          1.8919724890064906,
          1.3661036611231818,
          1.5229559105193446,
          1.0739856801909273,
          0.6899933452418479,
          2.9497009131473866,
          2.5421616681897454,
          1.3117099928451212,
          4.734334824416184,
          3.8684641184762842,
          0.6935284857252216,
          2.434952708034622,
          4.1650264815344915,
          1.1935512603544514,
          0.9388038942976333,
          0,
          1.509842645091354,
          1.2627781118460006,
          3.59919378059302,
          4.805277633833631,
          2.5889186861143494,
          2.5392296718972953,
          1.3602256182612322,
          0.5479081408326841,
          2.187763156775512,
          0.7278747930398786,
          0.6667930729364175,
          1.6628288962753528,
          1.0977307290299227,
          1.0604275374515941,
          0,
          1.2608711309577398,
          5.835521070338193,
          5.67927808593425,
          2.9749097569215976,
          0.9597575349385394,
          3.7327730053766808,
          1.5164047422111782,
          3.5714285714272003,
          1.4557149507003473,
          2.338085920955278,
          0.6197084751680058,
          3.162615057823919,
          1.2495222077822783,
          2.6936944940553724,
          0.6410073380349677,
          3.6461556371122272,
          3.592799671038502,
          0.5727923627684148,
          1.6594516594516089,
          2.267288071545528,
          2.083687701990058,
          2.4105779539326178,
          3.472442519160284,
          0.4816475668493597,
          1.4316534555510503,
          2.7369421365114532,
          4.002549045135918,
          2.0896821247784514,
          1.813891028299463,
          0.7396624478728323,
          3.4666515307238015,
          2.11982661362151,
          1.576975611687368,
          1.3086519596830934,
          1.2814086867923244,
          1.7464844134132844,
          1.8183840981012265,
          0.5669387659083954,
          1.674275225903617,
          0,
          1.860628154795289,
          1.1207037591713966,
          1.9509594882729038,
          4.294478527607231,
          1.5713074007665992,
          1.145364186985557,
          1.4739050616311615,
          3.114418604651148,
          0.3589964854369718,
          0.3242074927953887,
          4.142156862745105,
          1.501937984496126,
          2.5309671272034104,
          1.7123287671230836,
          8.607430636318348,
          0.0988630746416214,
          1.291339069185499,
          1.764547357073975,
          1.0223975335509343,
          1.064745723797499,
          0.7486957609471403,
          1.4243564159538173,
          1.0775862068965336,
          2.69884108588658,
          3.588516746411267,
          1.1828327659756783,
          3.082485015697845,
          0.9001902463922752,
          1.1344702719914677,
          2.1582617038850955,
          1.6709346206626199,
          2.039926455091825,
          3.5747136725359967,
          2.0746151878264283,
          2.523017993827355,
          1.8314595238782685,
          2.530325838811961,
          1.9195665531202482,
          1.328273244781726,
          0.24958402662229656,
          0,
          1.3323464100666071,
          1.7291011755293173,
          2.3693355330127055,
          1.011930542977517,
          2.0943796394484098,
          1.9616157448791693,
          2.0854383057834607,
          0,
          3.1336092827576865,
          2.0865468611382068,
          0.5118408772748326,
          6.178713639738081,
          1.84971098265896,
          2.0601569222292837,
          1.8060702460925737,
          0.3380257584183738,
          0,
          1.4532744665193644,
          1.7735155018391897,
          3.3130412256679715,
          1.056921259861232,
          0.8211747570376574,
          1.9248143470455454,
          0.28262039195799604,
          2.849460060239427,
          4.12573673870378,
          1.7169650684879818,
          1.0733732036061732,
          0.7856284394964747,
          0,
          0.9472165870891425,
          1.763224181360229,
          28.913963328631993,
          1.365848893808903,
          3.815930640531178
         ],
         "yaxis": "y"
        }
       ],
       "layout": {
        "barmode": "relative",
        "legend": {
         "tracegroupgap": 0
        },
        "margin": {
         "t": 60
        },
        "template": {
         "data": {
          "bar": [
           {
            "error_x": {
             "color": "#2a3f5f"
            },
            "error_y": {
             "color": "#2a3f5f"
            },
            "marker": {
             "line": {
              "color": "#E5ECF6",
              "width": 0.5
             },
             "pattern": {
              "fillmode": "overlay",
              "size": 10,
              "solidity": 0.2
             }
            },
            "type": "bar"
           }
          ],
          "barpolar": [
           {
            "marker": {
             "line": {
              "color": "#E5ECF6",
              "width": 0.5
             },
             "pattern": {
              "fillmode": "overlay",
              "size": 10,
              "solidity": 0.2
             }
            },
            "type": "barpolar"
           }
          ],
          "carpet": [
           {
            "aaxis": {
             "endlinecolor": "#2a3f5f",
             "gridcolor": "white",
             "linecolor": "white",
             "minorgridcolor": "white",
             "startlinecolor": "#2a3f5f"
            },
            "baxis": {
             "endlinecolor": "#2a3f5f",
             "gridcolor": "white",
             "linecolor": "white",
             "minorgridcolor": "white",
             "startlinecolor": "#2a3f5f"
            },
            "type": "carpet"
           }
          ],
          "choropleth": [
           {
            "colorbar": {
             "outlinewidth": 0,
             "ticks": ""
            },
            "type": "choropleth"
           }
          ],
          "contour": [
           {
            "colorbar": {
             "outlinewidth": 0,
             "ticks": ""
            },
            "colorscale": [
             [
              0,
              "#0d0887"
             ],
             [
              0.1111111111111111,
              "#46039f"
             ],
             [
              0.2222222222222222,
              "#7201a8"
             ],
             [
              0.3333333333333333,
              "#9c179e"
             ],
             [
              0.4444444444444444,
              "#bd3786"
             ],
             [
              0.5555555555555556,
              "#d8576b"
             ],
             [
              0.6666666666666666,
              "#ed7953"
             ],
             [
              0.7777777777777778,
              "#fb9f3a"
             ],
             [
              0.8888888888888888,
              "#fdca26"
             ],
             [
              1,
              "#f0f921"
             ]
            ],
            "type": "contour"
           }
          ],
          "contourcarpet": [
           {
            "colorbar": {
             "outlinewidth": 0,
             "ticks": ""
            },
            "type": "contourcarpet"
           }
          ],
          "heatmap": [
           {
            "colorbar": {
             "outlinewidth": 0,
             "ticks": ""
            },
            "colorscale": [
             [
              0,
              "#0d0887"
             ],
             [
              0.1111111111111111,
              "#46039f"
             ],
             [
              0.2222222222222222,
              "#7201a8"
             ],
             [
              0.3333333333333333,
              "#9c179e"
             ],
             [
              0.4444444444444444,
              "#bd3786"
             ],
             [
              0.5555555555555556,
              "#d8576b"
             ],
             [
              0.6666666666666666,
              "#ed7953"
             ],
             [
              0.7777777777777778,
              "#fb9f3a"
             ],
             [
              0.8888888888888888,
              "#fdca26"
             ],
             [
              1,
              "#f0f921"
             ]
            ],
            "type": "heatmap"
           }
          ],
          "heatmapgl": [
           {
            "colorbar": {
             "outlinewidth": 0,
             "ticks": ""
            },
            "colorscale": [
             [
              0,
              "#0d0887"
             ],
             [
              0.1111111111111111,
              "#46039f"
             ],
             [
              0.2222222222222222,
              "#7201a8"
             ],
             [
              0.3333333333333333,
              "#9c179e"
             ],
             [
              0.4444444444444444,
              "#bd3786"
             ],
             [
              0.5555555555555556,
              "#d8576b"
             ],
             [
              0.6666666666666666,
              "#ed7953"
             ],
             [
              0.7777777777777778,
              "#fb9f3a"
             ],
             [
              0.8888888888888888,
              "#fdca26"
             ],
             [
              1,
              "#f0f921"
             ]
            ],
            "type": "heatmapgl"
           }
          ],
          "histogram": [
           {
            "marker": {
             "pattern": {
              "fillmode": "overlay",
              "size": 10,
              "solidity": 0.2
             }
            },
            "type": "histogram"
           }
          ],
          "histogram2d": [
           {
            "colorbar": {
             "outlinewidth": 0,
             "ticks": ""
            },
            "colorscale": [
             [
              0,
              "#0d0887"
             ],
             [
              0.1111111111111111,
              "#46039f"
             ],
             [
              0.2222222222222222,
              "#7201a8"
             ],
             [
              0.3333333333333333,
              "#9c179e"
             ],
             [
              0.4444444444444444,
              "#bd3786"
             ],
             [
              0.5555555555555556,
              "#d8576b"
             ],
             [
              0.6666666666666666,
              "#ed7953"
             ],
             [
              0.7777777777777778,
              "#fb9f3a"
             ],
             [
              0.8888888888888888,
              "#fdca26"
             ],
             [
              1,
              "#f0f921"
             ]
            ],
            "type": "histogram2d"
           }
          ],
          "histogram2dcontour": [
           {
            "colorbar": {
             "outlinewidth": 0,
             "ticks": ""
            },
            "colorscale": [
             [
              0,
              "#0d0887"
             ],
             [
              0.1111111111111111,
              "#46039f"
             ],
             [
              0.2222222222222222,
              "#7201a8"
             ],
             [
              0.3333333333333333,
              "#9c179e"
             ],
             [
              0.4444444444444444,
              "#bd3786"
             ],
             [
              0.5555555555555556,
              "#d8576b"
             ],
             [
              0.6666666666666666,
              "#ed7953"
             ],
             [
              0.7777777777777778,
              "#fb9f3a"
             ],
             [
              0.8888888888888888,
              "#fdca26"
             ],
             [
              1,
              "#f0f921"
             ]
            ],
            "type": "histogram2dcontour"
           }
          ],
          "mesh3d": [
           {
            "colorbar": {
             "outlinewidth": 0,
             "ticks": ""
            },
            "type": "mesh3d"
           }
          ],
          "parcoords": [
           {
            "line": {
             "colorbar": {
              "outlinewidth": 0,
              "ticks": ""
             }
            },
            "type": "parcoords"
           }
          ],
          "pie": [
           {
            "automargin": true,
            "type": "pie"
           }
          ],
          "scatter": [
           {
            "marker": {
             "colorbar": {
              "outlinewidth": 0,
              "ticks": ""
             }
            },
            "type": "scatter"
           }
          ],
          "scatter3d": [
           {
            "line": {
             "colorbar": {
              "outlinewidth": 0,
              "ticks": ""
             }
            },
            "marker": {
             "colorbar": {
              "outlinewidth": 0,
              "ticks": ""
             }
            },
            "type": "scatter3d"
           }
          ],
          "scattercarpet": [
           {
            "marker": {
             "colorbar": {
              "outlinewidth": 0,
              "ticks": ""
             }
            },
            "type": "scattercarpet"
           }
          ],
          "scattergeo": [
           {
            "marker": {
             "colorbar": {
              "outlinewidth": 0,
              "ticks": ""
             }
            },
            "type": "scattergeo"
           }
          ],
          "scattergl": [
           {
            "marker": {
             "colorbar": {
              "outlinewidth": 0,
              "ticks": ""
             }
            },
            "type": "scattergl"
           }
          ],
          "scattermapbox": [
           {
            "marker": {
             "colorbar": {
              "outlinewidth": 0,
              "ticks": ""
             }
            },
            "type": "scattermapbox"
           }
          ],
          "scatterpolar": [
           {
            "marker": {
             "colorbar": {
              "outlinewidth": 0,
              "ticks": ""
             }
            },
            "type": "scatterpolar"
           }
          ],
          "scatterpolargl": [
           {
            "marker": {
             "colorbar": {
              "outlinewidth": 0,
              "ticks": ""
             }
            },
            "type": "scatterpolargl"
           }
          ],
          "scatterternary": [
           {
            "marker": {
             "colorbar": {
              "outlinewidth": 0,
              "ticks": ""
             }
            },
            "type": "scatterternary"
           }
          ],
          "surface": [
           {
            "colorbar": {
             "outlinewidth": 0,
             "ticks": ""
            },
            "colorscale": [
             [
              0,
              "#0d0887"
             ],
             [
              0.1111111111111111,
              "#46039f"
             ],
             [
              0.2222222222222222,
              "#7201a8"
             ],
             [
              0.3333333333333333,
              "#9c179e"
             ],
             [
              0.4444444444444444,
              "#bd3786"
             ],
             [
              0.5555555555555556,
              "#d8576b"
             ],
             [
              0.6666666666666666,
              "#ed7953"
             ],
             [
              0.7777777777777778,
              "#fb9f3a"
             ],
             [
              0.8888888888888888,
              "#fdca26"
             ],
             [
              1,
              "#f0f921"
             ]
            ],
            "type": "surface"
           }
          ],
          "table": [
           {
            "cells": {
             "fill": {
              "color": "#EBF0F8"
             },
             "line": {
              "color": "white"
             }
            },
            "header": {
             "fill": {
              "color": "#C8D4E3"
             },
             "line": {
              "color": "white"
             }
            },
            "type": "table"
           }
          ]
         },
         "layout": {
          "annotationdefaults": {
           "arrowcolor": "#2a3f5f",
           "arrowhead": 0,
           "arrowwidth": 1
          },
          "autotypenumbers": "strict",
          "coloraxis": {
           "colorbar": {
            "outlinewidth": 0,
            "ticks": ""
           }
          },
          "colorscale": {
           "diverging": [
            [
             0,
             "#8e0152"
            ],
            [
             0.1,
             "#c51b7d"
            ],
            [
             0.2,
             "#de77ae"
            ],
            [
             0.3,
             "#f1b6da"
            ],
            [
             0.4,
             "#fde0ef"
            ],
            [
             0.5,
             "#f7f7f7"
            ],
            [
             0.6,
             "#e6f5d0"
            ],
            [
             0.7,
             "#b8e186"
            ],
            [
             0.8,
             "#7fbc41"
            ],
            [
             0.9,
             "#4d9221"
            ],
            [
             1,
             "#276419"
            ]
           ],
           "sequential": [
            [
             0,
             "#0d0887"
            ],
            [
             0.1111111111111111,
             "#46039f"
            ],
            [
             0.2222222222222222,
             "#7201a8"
            ],
            [
             0.3333333333333333,
             "#9c179e"
            ],
            [
             0.4444444444444444,
             "#bd3786"
            ],
            [
             0.5555555555555556,
             "#d8576b"
            ],
            [
             0.6666666666666666,
             "#ed7953"
            ],
            [
             0.7777777777777778,
             "#fb9f3a"
            ],
            [
             0.8888888888888888,
             "#fdca26"
            ],
            [
             1,
             "#f0f921"
            ]
           ],
           "sequentialminus": [
            [
             0,
             "#0d0887"
            ],
            [
             0.1111111111111111,
             "#46039f"
            ],
            [
             0.2222222222222222,
             "#7201a8"
            ],
            [
             0.3333333333333333,
             "#9c179e"
            ],
            [
             0.4444444444444444,
             "#bd3786"
            ],
            [
             0.5555555555555556,
             "#d8576b"
            ],
            [
             0.6666666666666666,
             "#ed7953"
            ],
            [
             0.7777777777777778,
             "#fb9f3a"
            ],
            [
             0.8888888888888888,
             "#fdca26"
            ],
            [
             1,
             "#f0f921"
            ]
           ]
          },
          "colorway": [
           "#636efa",
           "#EF553B",
           "#00cc96",
           "#ab63fa",
           "#FFA15A",
           "#19d3f3",
           "#FF6692",
           "#B6E880",
           "#FF97FF",
           "#FECB52"
          ],
          "font": {
           "color": "#2a3f5f"
          },
          "geo": {
           "bgcolor": "white",
           "lakecolor": "white",
           "landcolor": "#E5ECF6",
           "showlakes": true,
           "showland": true,
           "subunitcolor": "white"
          },
          "hoverlabel": {
           "align": "left"
          },
          "hovermode": "closest",
          "mapbox": {
           "style": "light"
          },
          "paper_bgcolor": "white",
          "plot_bgcolor": "#E5ECF6",
          "polar": {
           "angularaxis": {
            "gridcolor": "white",
            "linecolor": "white",
            "ticks": ""
           },
           "bgcolor": "#E5ECF6",
           "radialaxis": {
            "gridcolor": "white",
            "linecolor": "white",
            "ticks": ""
           }
          },
          "scene": {
           "xaxis": {
            "backgroundcolor": "#E5ECF6",
            "gridcolor": "white",
            "gridwidth": 2,
            "linecolor": "white",
            "showbackground": true,
            "ticks": "",
            "zerolinecolor": "white"
           },
           "yaxis": {
            "backgroundcolor": "#E5ECF6",
            "gridcolor": "white",
            "gridwidth": 2,
            "linecolor": "white",
            "showbackground": true,
            "ticks": "",
            "zerolinecolor": "white"
           },
           "zaxis": {
            "backgroundcolor": "#E5ECF6",
            "gridcolor": "white",
            "gridwidth": 2,
            "linecolor": "white",
            "showbackground": true,
            "ticks": "",
            "zerolinecolor": "white"
           }
          },
          "shapedefaults": {
           "line": {
            "color": "#2a3f5f"
           }
          },
          "ternary": {
           "aaxis": {
            "gridcolor": "white",
            "linecolor": "white",
            "ticks": ""
           },
           "baxis": {
            "gridcolor": "white",
            "linecolor": "white",
            "ticks": ""
           },
           "bgcolor": "#E5ECF6",
           "caxis": {
            "gridcolor": "white",
            "linecolor": "white",
            "ticks": ""
           }
          },
          "title": {
           "x": 0.05
          },
          "xaxis": {
           "automargin": true,
           "gridcolor": "white",
           "linecolor": "white",
           "ticks": "",
           "title": {
            "standoff": 15
           },
           "zerolinecolor": "white",
           "zerolinewidth": 2
          },
          "yaxis": {
           "automargin": true,
           "gridcolor": "white",
           "linecolor": "white",
           "ticks": "",
           "title": {
            "standoff": 15
           },
           "zerolinecolor": "white",
           "zerolinewidth": 2
          }
         }
        },
        "xaxis": {
         "anchor": "y",
         "categoryorder": "total descending",
         "domain": [
          0,
          1
         ],
         "title": {
          "text": "Country"
         }
        },
        "yaxis": {
         "anchor": "x",
         "domain": [
          0,
          1
         ],
         "title": {
          "text": "Mortality"
         }
        }
       }
      },
      "text/html": [
       "<div>                            <div id=\"f4ddc8e5-a2bb-4308-836b-7b7f19270188\" class=\"plotly-graph-div\" style=\"height:525px; width:100%;\"></div>            <script type=\"text/javascript\">                require([\"plotly\"], function(Plotly) {                    window.PLOTLYENV=window.PLOTLYENV || {};                                    if (document.getElementById(\"f4ddc8e5-a2bb-4308-836b-7b7f19270188\")) {                    Plotly.newPlot(                        \"f4ddc8e5-a2bb-4308-836b-7b7f19270188\",                        [{\"alignmentgroup\":\"True\",\"hovertemplate\":\"Country=%{x}<br>Mortality=%{y}<extra></extra>\",\"legendgroup\":\"\",\"marker\":{\"color\":\"#636efa\",\"pattern\":{\"shape\":\"\"}},\"name\":\"\",\"offsetgroup\":\"\",\"orientation\":\"v\",\"showlegend\":false,\"textposition\":\"auto\",\"x\":[\"Afghanistan\",\"Albania\",\"Algeria\",\"Angola\",\"Argentina\",\"Armenia\",\"Australia\",\"Austria\",\"Azerbaijan\",\"Bangladesh\",\"Barbados\",\"Belarus\",\"Belgium\",\"Belize\",\"Benin\",\"Bolivia\",\"Bosnia and Herzegovina\",\"Botswana\",\"Brazil\",\"Bulgaria\",\"Burkina Faso\",\"Cabo Verde\",\"Cambodia\",\"Cameroon\",\"Central African Republic\",\"Chad\",\"China\",\"Colombia\",\"Congo\",\"Costa Rica\",\"Cote d'Ivoire\",\"Croatia\",\"Cuba\",\"Cyprus\",\"Czechia\",\"Denmark\",\"Djibouti\",\"Dominica\",\"Dominican Republic\",\"Ecuador\",\"Egypt\",\"El Salvador\",\"Estonia\",\"Eswatini\",\"Ethiopia\",\"Fiji\",\"Finland\",\"France\",\"Gabon\",\"Gambia\",\"Georgia\",\"Germany\",\"Ghana\",\"Greece\",\"Guatemala\",\"Guinea\",\"Guinea-Bissau\",\"Guyana\",\"Haiti\",\"Honduras\",\"Hungary\",\"Iceland\",\"India\",\"Indonesia\",\"Iran (Islamic Republic of)\",\"Iraq\",\"Ireland\",\"Israel\",\"Italy\",\"Jamaica\",\"Japan\",\"Jordan\",\"Kazakhstan\",\"Kenya\",\"Korea, South\",\"Kuwait\",\"Kyrgyzstan\",\"Lao People's Democratic Republic\",\"Latvia\",\"Lebanon\",\"Lesotho\",\"Liberia\",\"Lithuania\",\"Luxembourg\",\"Madagascar\",\"Malawi\",\"Malaysia\",\"Maldives\",\"Mali\",\"Malta\",\"Mauritania\",\"Mauritius\",\"Mexico\",\"Mongolia\",\"Montenegro\",\"Morocco\",\"Mozambique\",\"Namibia\",\"Nepal\",\"Netherlands\",\"New Zealand\",\"Nicaragua\",\"Niger\",\"Nigeria\",\"North Macedonia\",\"Norway\",\"Oman\",\"Pakistan\",\"Panama\",\"Paraguay\",\"Peru\",\"Philippines\",\"Poland\",\"Portugal\",\"Romania\",\"Russian Federation\",\"Rwanda\",\"Saint Vincent and the Grenadines\",\"Samoa\",\"Sao Tome and Principe\",\"Saudi Arabia\",\"Senegal\",\"Serbia\",\"Sierra Leone\",\"Slovakia\",\"Slovenia\",\"Solomon Islands\",\"South Africa\",\"Spain\",\"Sri Lanka\",\"Sudan\",\"Suriname\",\"Sweden\",\"Switzerland\",\"Thailand\",\"Timor-Leste\",\"Togo\",\"Trinidad and Tobago\",\"Tunisia\",\"Turkey\",\"Uganda\",\"Ukraine\",\"United Arab Emirates\",\"United Kingdom\",\"United Republic of Tanzania\",\"United States of America\",\"Uruguay\",\"Uzbekistan\",\"Vanuatu\",\"Venezuela (Bolivarian Republic of)\",\"Vietnam\",\"Yemen\",\"Zambia\",\"Zimbabwe\"],\"xaxis\":\"x\",\"y\":[4.352069401771176,1.717094950838359,2.677922101832838,2.3676602532149635,2.4844575955044093,1.8542667786134115,3.150670687324479,1.8919724890064906,1.3661036611231818,1.5229559105193446,1.0739856801909273,0.6899933452418479,2.9497009131473866,2.5421616681897454,1.3117099928451212,4.734334824416184,3.8684641184762842,0.6935284857252216,2.434952708034622,4.1650264815344915,1.1935512603544514,0.9388038942976333,0.0,1.509842645091354,1.2627781118460006,3.59919378059302,4.805277633833631,2.5889186861143494,2.5392296718972953,1.3602256182612322,0.5479081408326841,2.187763156775512,0.7278747930398786,0.6667930729364175,1.6628288962753528,1.0977307290299227,1.0604275374515941,0.0,1.2608711309577398,5.835521070338193,5.67927808593425,2.9749097569215976,0.9597575349385394,3.7327730053766808,1.5164047422111782,3.5714285714272003,1.4557149507003473,2.338085920955278,0.6197084751680058,3.162615057823919,1.2495222077822783,2.6936944940553724,0.6410073380349677,3.6461556371122272,3.592799671038502,0.5727923627684148,1.6594516594516089,2.267288071545528,2.083687701990058,2.4105779539326178,3.472442519160284,0.4816475668493597,1.4316534555510503,2.7369421365114532,4.002549045135918,2.0896821247784514,1.813891028299463,0.7396624478728323,3.4666515307238015,2.11982661362151,1.576975611687368,1.3086519596830934,1.2814086867923244,1.7464844134132844,1.8183840981012265,0.5669387659083954,1.674275225903617,0.0,1.860628154795289,1.1207037591713966,1.9509594882729038,4.294478527607231,1.5713074007665992,1.145364186985557,1.4739050616311615,3.114418604651148,0.3589964854369718,0.3242074927953887,4.142156862745105,1.501937984496126,2.5309671272034104,1.7123287671230836,8.607430636318348,0.0988630746416214,1.291339069185499,1.764547357073975,1.0223975335509343,1.064745723797499,0.7486957609471403,1.4243564159538173,1.0775862068965336,2.69884108588658,3.588516746411267,1.1828327659756783,3.082485015697845,0.9001902463922752,1.1344702719914677,2.1582617038850955,1.6709346206626199,2.039926455091825,3.5747136725359967,2.0746151878264283,2.523017993827355,1.8314595238782685,2.530325838811961,1.9195665531202482,1.328273244781726,0.24958402662229656,0.0,1.3323464100666071,1.7291011755293173,2.3693355330127055,1.011930542977517,2.0943796394484098,1.9616157448791693,2.0854383057834607,0.0,3.1336092827576865,2.0865468611382068,0.5118408772748326,6.178713639738081,1.84971098265896,2.0601569222292837,1.8060702460925737,0.3380257584183738,0.0,1.4532744665193644,1.7735155018391897,3.3130412256679715,1.056921259861232,0.8211747570376574,1.9248143470455454,0.28262039195799604,2.849460060239427,4.12573673870378,1.7169650684879818,1.0733732036061732,0.7856284394964747,0.0,0.9472165870891425,1.763224181360229,28.913963328631993,1.365848893808903,3.815930640531178],\"yaxis\":\"y\",\"type\":\"bar\"}],                        {\"template\":{\"data\":{\"bar\":[{\"error_x\":{\"color\":\"#2a3f5f\"},\"error_y\":{\"color\":\"#2a3f5f\"},\"marker\":{\"line\":{\"color\":\"#E5ECF6\",\"width\":0.5},\"pattern\":{\"fillmode\":\"overlay\",\"size\":10,\"solidity\":0.2}},\"type\":\"bar\"}],\"barpolar\":[{\"marker\":{\"line\":{\"color\":\"#E5ECF6\",\"width\":0.5},\"pattern\":{\"fillmode\":\"overlay\",\"size\":10,\"solidity\":0.2}},\"type\":\"barpolar\"}],\"carpet\":[{\"aaxis\":{\"endlinecolor\":\"#2a3f5f\",\"gridcolor\":\"white\",\"linecolor\":\"white\",\"minorgridcolor\":\"white\",\"startlinecolor\":\"#2a3f5f\"},\"baxis\":{\"endlinecolor\":\"#2a3f5f\",\"gridcolor\":\"white\",\"linecolor\":\"white\",\"minorgridcolor\":\"white\",\"startlinecolor\":\"#2a3f5f\"},\"type\":\"carpet\"}],\"choropleth\":[{\"colorbar\":{\"outlinewidth\":0,\"ticks\":\"\"},\"type\":\"choropleth\"}],\"contour\":[{\"colorbar\":{\"outlinewidth\":0,\"ticks\":\"\"},\"colorscale\":[[0.0,\"#0d0887\"],[0.1111111111111111,\"#46039f\"],[0.2222222222222222,\"#7201a8\"],[0.3333333333333333,\"#9c179e\"],[0.4444444444444444,\"#bd3786\"],[0.5555555555555556,\"#d8576b\"],[0.6666666666666666,\"#ed7953\"],[0.7777777777777778,\"#fb9f3a\"],[0.8888888888888888,\"#fdca26\"],[1.0,\"#f0f921\"]],\"type\":\"contour\"}],\"contourcarpet\":[{\"colorbar\":{\"outlinewidth\":0,\"ticks\":\"\"},\"type\":\"contourcarpet\"}],\"heatmap\":[{\"colorbar\":{\"outlinewidth\":0,\"ticks\":\"\"},\"colorscale\":[[0.0,\"#0d0887\"],[0.1111111111111111,\"#46039f\"],[0.2222222222222222,\"#7201a8\"],[0.3333333333333333,\"#9c179e\"],[0.4444444444444444,\"#bd3786\"],[0.5555555555555556,\"#d8576b\"],[0.6666666666666666,\"#ed7953\"],[0.7777777777777778,\"#fb9f3a\"],[0.8888888888888888,\"#fdca26\"],[1.0,\"#f0f921\"]],\"type\":\"heatmap\"}],\"heatmapgl\":[{\"colorbar\":{\"outlinewidth\":0,\"ticks\":\"\"},\"colorscale\":[[0.0,\"#0d0887\"],[0.1111111111111111,\"#46039f\"],[0.2222222222222222,\"#7201a8\"],[0.3333333333333333,\"#9c179e\"],[0.4444444444444444,\"#bd3786\"],[0.5555555555555556,\"#d8576b\"],[0.6666666666666666,\"#ed7953\"],[0.7777777777777778,\"#fb9f3a\"],[0.8888888888888888,\"#fdca26\"],[1.0,\"#f0f921\"]],\"type\":\"heatmapgl\"}],\"histogram\":[{\"marker\":{\"pattern\":{\"fillmode\":\"overlay\",\"size\":10,\"solidity\":0.2}},\"type\":\"histogram\"}],\"histogram2d\":[{\"colorbar\":{\"outlinewidth\":0,\"ticks\":\"\"},\"colorscale\":[[0.0,\"#0d0887\"],[0.1111111111111111,\"#46039f\"],[0.2222222222222222,\"#7201a8\"],[0.3333333333333333,\"#9c179e\"],[0.4444444444444444,\"#bd3786\"],[0.5555555555555556,\"#d8576b\"],[0.6666666666666666,\"#ed7953\"],[0.7777777777777778,\"#fb9f3a\"],[0.8888888888888888,\"#fdca26\"],[1.0,\"#f0f921\"]],\"type\":\"histogram2d\"}],\"histogram2dcontour\":[{\"colorbar\":{\"outlinewidth\":0,\"ticks\":\"\"},\"colorscale\":[[0.0,\"#0d0887\"],[0.1111111111111111,\"#46039f\"],[0.2222222222222222,\"#7201a8\"],[0.3333333333333333,\"#9c179e\"],[0.4444444444444444,\"#bd3786\"],[0.5555555555555556,\"#d8576b\"],[0.6666666666666666,\"#ed7953\"],[0.7777777777777778,\"#fb9f3a\"],[0.8888888888888888,\"#fdca26\"],[1.0,\"#f0f921\"]],\"type\":\"histogram2dcontour\"}],\"mesh3d\":[{\"colorbar\":{\"outlinewidth\":0,\"ticks\":\"\"},\"type\":\"mesh3d\"}],\"parcoords\":[{\"line\":{\"colorbar\":{\"outlinewidth\":0,\"ticks\":\"\"}},\"type\":\"parcoords\"}],\"pie\":[{\"automargin\":true,\"type\":\"pie\"}],\"scatter\":[{\"marker\":{\"colorbar\":{\"outlinewidth\":0,\"ticks\":\"\"}},\"type\":\"scatter\"}],\"scatter3d\":[{\"line\":{\"colorbar\":{\"outlinewidth\":0,\"ticks\":\"\"}},\"marker\":{\"colorbar\":{\"outlinewidth\":0,\"ticks\":\"\"}},\"type\":\"scatter3d\"}],\"scattercarpet\":[{\"marker\":{\"colorbar\":{\"outlinewidth\":0,\"ticks\":\"\"}},\"type\":\"scattercarpet\"}],\"scattergeo\":[{\"marker\":{\"colorbar\":{\"outlinewidth\":0,\"ticks\":\"\"}},\"type\":\"scattergeo\"}],\"scattergl\":[{\"marker\":{\"colorbar\":{\"outlinewidth\":0,\"ticks\":\"\"}},\"type\":\"scattergl\"}],\"scattermapbox\":[{\"marker\":{\"colorbar\":{\"outlinewidth\":0,\"ticks\":\"\"}},\"type\":\"scattermapbox\"}],\"scatterpolar\":[{\"marker\":{\"colorbar\":{\"outlinewidth\":0,\"ticks\":\"\"}},\"type\":\"scatterpolar\"}],\"scatterpolargl\":[{\"marker\":{\"colorbar\":{\"outlinewidth\":0,\"ticks\":\"\"}},\"type\":\"scatterpolargl\"}],\"scatterternary\":[{\"marker\":{\"colorbar\":{\"outlinewidth\":0,\"ticks\":\"\"}},\"type\":\"scatterternary\"}],\"surface\":[{\"colorbar\":{\"outlinewidth\":0,\"ticks\":\"\"},\"colorscale\":[[0.0,\"#0d0887\"],[0.1111111111111111,\"#46039f\"],[0.2222222222222222,\"#7201a8\"],[0.3333333333333333,\"#9c179e\"],[0.4444444444444444,\"#bd3786\"],[0.5555555555555556,\"#d8576b\"],[0.6666666666666666,\"#ed7953\"],[0.7777777777777778,\"#fb9f3a\"],[0.8888888888888888,\"#fdca26\"],[1.0,\"#f0f921\"]],\"type\":\"surface\"}],\"table\":[{\"cells\":{\"fill\":{\"color\":\"#EBF0F8\"},\"line\":{\"color\":\"white\"}},\"header\":{\"fill\":{\"color\":\"#C8D4E3\"},\"line\":{\"color\":\"white\"}},\"type\":\"table\"}]},\"layout\":{\"annotationdefaults\":{\"arrowcolor\":\"#2a3f5f\",\"arrowhead\":0,\"arrowwidth\":1},\"autotypenumbers\":\"strict\",\"coloraxis\":{\"colorbar\":{\"outlinewidth\":0,\"ticks\":\"\"}},\"colorscale\":{\"diverging\":[[0,\"#8e0152\"],[0.1,\"#c51b7d\"],[0.2,\"#de77ae\"],[0.3,\"#f1b6da\"],[0.4,\"#fde0ef\"],[0.5,\"#f7f7f7\"],[0.6,\"#e6f5d0\"],[0.7,\"#b8e186\"],[0.8,\"#7fbc41\"],[0.9,\"#4d9221\"],[1,\"#276419\"]],\"sequential\":[[0.0,\"#0d0887\"],[0.1111111111111111,\"#46039f\"],[0.2222222222222222,\"#7201a8\"],[0.3333333333333333,\"#9c179e\"],[0.4444444444444444,\"#bd3786\"],[0.5555555555555556,\"#d8576b\"],[0.6666666666666666,\"#ed7953\"],[0.7777777777777778,\"#fb9f3a\"],[0.8888888888888888,\"#fdca26\"],[1.0,\"#f0f921\"]],\"sequentialminus\":[[0.0,\"#0d0887\"],[0.1111111111111111,\"#46039f\"],[0.2222222222222222,\"#7201a8\"],[0.3333333333333333,\"#9c179e\"],[0.4444444444444444,\"#bd3786\"],[0.5555555555555556,\"#d8576b\"],[0.6666666666666666,\"#ed7953\"],[0.7777777777777778,\"#fb9f3a\"],[0.8888888888888888,\"#fdca26\"],[1.0,\"#f0f921\"]]},\"colorway\":[\"#636efa\",\"#EF553B\",\"#00cc96\",\"#ab63fa\",\"#FFA15A\",\"#19d3f3\",\"#FF6692\",\"#B6E880\",\"#FF97FF\",\"#FECB52\"],\"font\":{\"color\":\"#2a3f5f\"},\"geo\":{\"bgcolor\":\"white\",\"lakecolor\":\"white\",\"landcolor\":\"#E5ECF6\",\"showlakes\":true,\"showland\":true,\"subunitcolor\":\"white\"},\"hoverlabel\":{\"align\":\"left\"},\"hovermode\":\"closest\",\"mapbox\":{\"style\":\"light\"},\"paper_bgcolor\":\"white\",\"plot_bgcolor\":\"#E5ECF6\",\"polar\":{\"angularaxis\":{\"gridcolor\":\"white\",\"linecolor\":\"white\",\"ticks\":\"\"},\"bgcolor\":\"#E5ECF6\",\"radialaxis\":{\"gridcolor\":\"white\",\"linecolor\":\"white\",\"ticks\":\"\"}},\"scene\":{\"xaxis\":{\"backgroundcolor\":\"#E5ECF6\",\"gridcolor\":\"white\",\"gridwidth\":2,\"linecolor\":\"white\",\"showbackground\":true,\"ticks\":\"\",\"zerolinecolor\":\"white\"},\"yaxis\":{\"backgroundcolor\":\"#E5ECF6\",\"gridcolor\":\"white\",\"gridwidth\":2,\"linecolor\":\"white\",\"showbackground\":true,\"ticks\":\"\",\"zerolinecolor\":\"white\"},\"zaxis\":{\"backgroundcolor\":\"#E5ECF6\",\"gridcolor\":\"white\",\"gridwidth\":2,\"linecolor\":\"white\",\"showbackground\":true,\"ticks\":\"\",\"zerolinecolor\":\"white\"}},\"shapedefaults\":{\"line\":{\"color\":\"#2a3f5f\"}},\"ternary\":{\"aaxis\":{\"gridcolor\":\"white\",\"linecolor\":\"white\",\"ticks\":\"\"},\"baxis\":{\"gridcolor\":\"white\",\"linecolor\":\"white\",\"ticks\":\"\"},\"bgcolor\":\"#E5ECF6\",\"caxis\":{\"gridcolor\":\"white\",\"linecolor\":\"white\",\"ticks\":\"\"}},\"title\":{\"x\":0.05},\"xaxis\":{\"automargin\":true,\"gridcolor\":\"white\",\"linecolor\":\"white\",\"ticks\":\"\",\"title\":{\"standoff\":15},\"zerolinecolor\":\"white\",\"zerolinewidth\":2},\"yaxis\":{\"automargin\":true,\"gridcolor\":\"white\",\"linecolor\":\"white\",\"ticks\":\"\",\"title\":{\"standoff\":15},\"zerolinecolor\":\"white\",\"zerolinewidth\":2}}},\"xaxis\":{\"anchor\":\"y\",\"domain\":[0.0,1.0],\"title\":{\"text\":\"Country\"},\"categoryorder\":\"total descending\"},\"yaxis\":{\"anchor\":\"x\",\"domain\":[0.0,1.0],\"title\":{\"text\":\"Mortality\"}},\"legend\":{\"tracegroupgap\":0},\"margin\":{\"t\":60},\"barmode\":\"relative\"},                        {\"responsive\": true}                    ).then(function(){\n",
       "                            \n",
       "var gd = document.getElementById('f4ddc8e5-a2bb-4308-836b-7b7f19270188');\n",
       "var x = new MutationObserver(function (mutations, observer) {{\n",
       "        var display = window.getComputedStyle(gd).display;\n",
       "        if (!display || display === 'none') {{\n",
       "            console.log([gd, 'removed!']);\n",
       "            Plotly.purge(gd);\n",
       "            observer.disconnect();\n",
       "        }}\n",
       "}});\n",
       "\n",
       "// Listen for the removal of the full notebook cells\n",
       "var notebookContainer = gd.closest('#notebook-container');\n",
       "if (notebookContainer) {{\n",
       "    x.observe(notebookContainer, {childList: true});\n",
       "}}\n",
       "\n",
       "// Listen for the clearing of the current output cell\n",
       "var outputEl = gd.closest('.output');\n",
       "if (outputEl) {{\n",
       "    x.observe(outputEl, {childList: true});\n",
       "}}\n",
       "\n",
       "                        })                };                });            </script>        </div>"
      ]
     },
     "metadata": {},
     "output_type": "display_data"
    }
   ],
   "source": [
    "# Figure to present the Mortality rates of each country, sorted in descending order\n",
    "\n",
    "fig = px.bar(food_df, x='Country', y='Mortality').update_xaxes(categoryorder=\"total descending\")\n",
    "fig.show()"
   ]
  },
  {
   "cell_type": "markdown",
   "id": "fdd3cc29",
   "metadata": {},
   "source": [
    "Upon analyzing the graph above, the researchers discovered that the top 5 countries with the highest mortality rates are **Yemen, Mexico, Sudan, Ecuador, Egypt**. Provided below are the precise mortality rates of the aforementioned countries:"
   ]
  },
  {
   "cell_type": "code",
   "execution_count": 51,
   "id": "c320aaf1",
   "metadata": {},
   "outputs": [
    {
     "data": {
      "text/html": [
       "<div>\n",
       "<style scoped>\n",
       "    .dataframe tbody tr th:only-of-type {\n",
       "        vertical-align: middle;\n",
       "    }\n",
       "\n",
       "    .dataframe tbody tr th {\n",
       "        vertical-align: top;\n",
       "    }\n",
       "\n",
       "    .dataframe thead th {\n",
       "        text-align: right;\n",
       "    }\n",
       "</style>\n",
       "<table border=\"1\" class=\"dataframe\">\n",
       "  <thead>\n",
       "    <tr style=\"text-align: right;\">\n",
       "      <th></th>\n",
       "      <th>Country</th>\n",
       "      <th>Mortality</th>\n",
       "    </tr>\n",
       "  </thead>\n",
       "  <tbody>\n",
       "    <tr>\n",
       "      <th>167</th>\n",
       "      <td>Yemen</td>\n",
       "      <td>28.913963</td>\n",
       "    </tr>\n",
       "    <tr>\n",
       "      <th>100</th>\n",
       "      <td>Mexico</td>\n",
       "      <td>8.607431</td>\n",
       "    </tr>\n",
       "    <tr>\n",
       "      <th>143</th>\n",
       "      <td>Sudan</td>\n",
       "      <td>6.178714</td>\n",
       "    </tr>\n",
       "    <tr>\n",
       "      <th>43</th>\n",
       "      <td>Ecuador</td>\n",
       "      <td>5.835521</td>\n",
       "    </tr>\n",
       "    <tr>\n",
       "      <th>44</th>\n",
       "      <td>Egypt</td>\n",
       "      <td>5.679278</td>\n",
       "    </tr>\n",
       "  </tbody>\n",
       "</table>\n",
       "</div>"
      ],
      "text/plain": [
       "     Country  Mortality\n",
       "167    Yemen  28.913963\n",
       "100   Mexico   8.607431\n",
       "143    Sudan   6.178714\n",
       "43   Ecuador   5.835521\n",
       "44     Egypt   5.679278"
      ]
     },
     "execution_count": 51,
     "metadata": {},
     "output_type": "execute_result"
    }
   ],
   "source": [
    "# Get the countries with highest mortality rates by sorting the dataframe in descending order\n",
    "top_5_mortality = food_df.sort_values(by='Mortality', ascending=False, inplace=False)\n",
    "\n",
    "# Get the top 5\n",
    "top_5_mortality = top_5_mortality.head(5)\n",
    "top_5_mortality.iloc[:,[0,31]]"
   ]
  },
  {
   "cell_type": "markdown",
   "id": "81b76474",
   "metadata": {},
   "source": [
    "Top 5 Countries with the Highest Mortality Rates:\n",
    "\n",
    "- **Yemen:** 28.91%\n",
    "- **Mexico:** 8.61%\n",
    "- **Sudan:** 6.17%\n",
    "- **Ecuador:** 5.84%\n",
    "- **Egypt:** 5.68%"
   ]
  },
  {
   "cell_type": "code",
   "execution_count": 24,
   "id": "05e497c3",
   "metadata": {
    "pycharm": {
     "name": "#%%\n"
    }
   },
   "outputs": [
    {
     "data": {
      "text/plain": [
       "count    154.000000\n",
       "mean       2.136832\n",
       "std        2.555027\n",
       "min        0.000000\n",
       "25%        1.074886\n",
       "50%        1.737793\n",
       "75%        2.541429\n",
       "max       28.913963\n",
       "Name: Mortality, dtype: float64"
      ]
     },
     "execution_count": 24,
     "metadata": {},
     "output_type": "execute_result"
    }
   ],
   "source": [
    "food_df['Mortality'].describe()"
   ]
  },
  {
   "cell_type": "code",
   "execution_count": 54,
   "id": "3e515b71",
   "metadata": {},
   "outputs": [
    {
     "name": "stdout",
     "output_type": "stream",
     "text": [
      "1.1957080415576808\n"
     ]
    }
   ],
   "source": [
    "# Get the mean and std\n",
    "mean = food_df['Mortality'].mean()\n",
    "std = food_df['Mortality'].std()\n",
    "\n",
    "# Get the coefficient of variation\n",
    "cv = std / mean\n",
    "\n",
    "print(cv)"
   ]
  },
  {
   "cell_type": "markdown",
   "id": "8fca57d0",
   "metadata": {},
   "source": [
    "Based on the data above, the researchers may state the following:\n",
    "- Average mortality rate of the countries is 2.14% \n",
    "- Standard deviation of mortality rates is 2.56\n",
    "\n",
    "The coefficient of variation indicates that the mortality rates are widely spread out across different values."
   ]
  },
  {
   "cell_type": "markdown",
   "id": "0807831e",
   "metadata": {
    "pycharm": {
     "name": "#%% md\n"
    }
   },
   "source": [
    "## *EDA #2* - Is There a Correlation Between Obesity and Mortality, Obesity and Deaths, Undernourishment and Mortality, and Undernourishment and Deaths?\n",
    "\n",
    "insert details"
   ]
  },
  {
   "cell_type": "code",
   "execution_count": 29,
   "id": "cb8f65d2",
   "metadata": {
    "pycharm": {
     "name": "#%%\n"
    }
   },
   "outputs": [
    {
     "data": {
      "application/vnd.plotly.v1+json": {
       "config": {
        "plotlyServerURL": "https://plot.ly"
       },
       "data": [
        {
         "hovertemplate": "<b>%{hovertext}</b><br><br>Mortality=%{x}<br>Obesity=%{y}<br>Active=%{marker.size}<extra></extra>",
         "hovertext": [
          "Afghanistan",
          "Albania",
          "Algeria",
          "Angola",
          "Argentina",
          "Armenia",
          "Australia",
          "Austria",
          "Azerbaijan",
          "Bangladesh",
          "Barbados",
          "Belarus",
          "Belgium",
          "Belize",
          "Benin",
          "Bolivia",
          "Bosnia and Herzegovina",
          "Botswana",
          "Brazil",
          "Bulgaria",
          "Burkina Faso",
          "Cabo Verde",
          "Cambodia",
          "Cameroon",
          "Central African Republic",
          "Chad",
          "China",
          "Colombia",
          "Congo",
          "Costa Rica",
          "Cote d'Ivoire",
          "Croatia",
          "Cuba",
          "Cyprus",
          "Czechia",
          "Denmark",
          "Djibouti",
          "Dominica",
          "Dominican Republic",
          "Ecuador",
          "Egypt",
          "El Salvador",
          "Estonia",
          "Eswatini",
          "Ethiopia",
          "Fiji",
          "Finland",
          "France",
          "Gabon",
          "Gambia",
          "Georgia",
          "Germany",
          "Ghana",
          "Greece",
          "Guatemala",
          "Guinea",
          "Guinea-Bissau",
          "Guyana",
          "Haiti",
          "Honduras",
          "Hungary",
          "Iceland",
          "India",
          "Indonesia",
          "Iran (Islamic Republic of)",
          "Iraq",
          "Ireland",
          "Israel",
          "Italy",
          "Jamaica",
          "Japan",
          "Jordan",
          "Kazakhstan",
          "Kenya",
          "Korea, South",
          "Kuwait",
          "Kyrgyzstan",
          "Lao People's Democratic Republic",
          "Latvia",
          "Lebanon",
          "Lesotho",
          "Liberia",
          "Lithuania",
          "Luxembourg",
          "Madagascar",
          "Malawi",
          "Malaysia",
          "Maldives",
          "Mali",
          "Malta",
          "Mauritania",
          "Mauritius",
          "Mexico",
          "Mongolia",
          "Montenegro",
          "Morocco",
          "Mozambique",
          "Namibia",
          "Nepal",
          "Netherlands",
          "New Zealand",
          "Nicaragua",
          "Niger",
          "Nigeria",
          "North Macedonia",
          "Norway",
          "Oman",
          "Pakistan",
          "Panama",
          "Paraguay",
          "Peru",
          "Philippines",
          "Poland",
          "Portugal",
          "Romania",
          "Russian Federation",
          "Rwanda",
          "Saint Vincent and the Grenadines",
          "Samoa",
          "Sao Tome and Principe",
          "Saudi Arabia",
          "Senegal",
          "Serbia",
          "Sierra Leone",
          "Slovakia",
          "Slovenia",
          "Solomon Islands",
          "South Africa",
          "Spain",
          "Sri Lanka",
          "Sudan",
          "Suriname",
          "Sweden",
          "Switzerland",
          "Thailand",
          "Timor-Leste",
          "Togo",
          "Trinidad and Tobago",
          "Tunisia",
          "Turkey",
          "Uganda",
          "Ukraine",
          "United Arab Emirates",
          "United Kingdom",
          "United Republic of Tanzania",
          "United States of America",
          "Uruguay",
          "Uzbekistan",
          "Vanuatu",
          "Venezuela (Bolivarian Republic of)",
          "Vietnam",
          "Yemen",
          "Zambia",
          "Zimbabwe"
         ],
         "legendgroup": "",
         "marker": {
          "color": "#1F77B4",
          "size": [
           0.0125744965063707,
           1.12371388301621,
           0.0707667335482562,
           0.0034192239099686,
           0.342728695153933,
           0.177469553450609,
           0.0072066475110662,
           0.153432802333408,
           0.0287396121883657,
           0.027524453945315,
           0.107665505226481,
           0.10928,
           6.10089448545376,
           0.0601431980906921,
           0.0047096404291915,
           0.4213960285395,
           0.656232855836635,
           0.162537764350453,
           0.372093649085038,
           0.303883354987729,
           0.0050375544180261,
           0.10089928057554,
           0.0001290572368845,
           0.0053349875930521,
           0.0008488612836438,
           0.0029566866149197,
           0.0001264987859967,
           0.148011892241728,
           0.177437477346865,
           0.735374682058306,
           0.0062349570200573,
           0.0722388059701493,
           0.0508731495434802,
           2.43380281690141,
           0.897667039940276,
           0.117841825355979,
           0.0026315789473684,
           0.0152777777777778,
           0.511314285714286,
           0.184438353035235,
           0.0272293483328869,
           0.0637710229902793,
           0.706836964688204,
           0.372101449275362,
           0.0119887570051168,
           0.0001116071428571,
           0.281678422861277,
           4.70961964890668,
           0.0264007171671896,
           0.0089780719900703,
           0.149017496635262,
           0.21784393757503,
           0.0196150999259808,
           0.593439252336449,
           0.0452009299236134,
           0.002078025477707,
           0.0155163466528282,
           0.101270648030496,
           0.0206699991230378,
           0.896289537712895,
           0.861574690283608,
           0.0089673913043478,
           0.0106253839011499,
           0.0649273751651401,
           0.182512180629828,
           0.0381069855254877,
           3.50809514291425,
           0.774392361111111,
           0.708229401618681,
           0.151619793520826,
           0.0309914501417038,
           0.09360427006274,
           0.144987187700192,
           0.0291660439396204,
           0.0165311600780209,
           0.170091664890215,
           0.0307400667273279,
           5.52333609500138e-05,
           0.556992639327024,
           1.65768498168498,
           0.303034547152194,
           0.0020166073546856,
           1.6226914817466,
           0.395727848101266,
           0.0020548192553537,
           0.0767903815995818,
           0.155254568194991,
           0.37818853974122,
           0.0087304330650338,
           0.459961685823755,
           0.0082150537634408,
           0.0026877470355731,
           0.217663077500939,
           0.0170187444213032,
           1.23392282958199,
           0.0352247441032488,
           0.0541327087210422,
           0.0438410074773711,
           0.006530870782771,
           5.65639777866835,
           0.0013234409464608,
           0.0288659793814433,
           0.001996775393774,
           0.0121461142912584,
           0.382115384615385,
           0.85526266938927,
           0.132463399108848,
           0.0146035122657735,
           0.721106700910577,
           0.295382494831151,
           0.135477089934194,
           0.0328031319298054,
           0.534208194328607,
           1.44669917113603,
           0.182215061587236,
           0.295842107773984,
           0.0314468807906115,
           0.718918918918919,
           0,
           0.13,
           0.006640792214834,
           0.0270066889632107,
           5.78180250107805,
           0.0155572270277047,
           0.337202489930428,
           0.751212553495007,
           0.0009790209790209,
           0.14594318105588,
           5.73155872782618,
           0.0256689611159229,
           0.013703847294123,
           0.0852892561983471,
           5.5502264623687,
           2.37047718322909,
           0.0095439925451648,
           0.0014415781487101,
           0.0099287353545114,
           0.0162162162162162,
           0.303707128446537,
           0.102220046096708,
           0.0549725629085503,
           0.363334769495907,
           0.218930251585191,
           5.68610184633711,
           0.0005105969799444,
           8.01981884211739,
           0.166015293118097,
           0.0027330719260256,
           0,
           0.0238994588933496,
           0.000500992630627,
           0.00028163347415,
           0.0390448215839861,
           0.0322142232389154
          ],
          "sizemode": "area",
          "sizeref": 0.008910909824574877,
          "symbol": "circle"
         },
         "mode": "markers",
         "name": "",
         "orientation": "v",
         "showlegend": false,
         "type": "scatter",
         "x": [
          4.352069401771176,
          1.717094950838359,
          2.677922101832838,
          2.3676602532149635,
          2.4844575955044093,
          1.8542667786134115,
          3.150670687324479,
          1.8919724890064906,
          1.3661036611231818,
          1.5229559105193446,
          1.0739856801909273,
          0.6899933452418479,
          2.9497009131473866,
          2.5421616681897454,
          1.3117099928451212,
          4.734334824416184,
          3.8684641184762842,
          0.6935284857252216,
          2.434952708034622,
          4.1650264815344915,
          1.1935512603544514,
          0.9388038942976333,
          0,
          1.509842645091354,
          1.2627781118460006,
          3.59919378059302,
          4.805277633833631,
          2.5889186861143494,
          2.5392296718972953,
          1.3602256182612322,
          0.5479081408326841,
          2.187763156775512,
          0.7278747930398786,
          0.6667930729364175,
          1.6628288962753528,
          1.0977307290299227,
          1.0604275374515941,
          0,
          1.2608711309577398,
          5.835521070338193,
          5.67927808593425,
          2.9749097569215976,
          0.9597575349385394,
          3.7327730053766808,
          1.5164047422111782,
          3.5714285714272003,
          1.4557149507003473,
          2.338085920955278,
          0.6197084751680058,
          3.162615057823919,
          1.2495222077822783,
          2.6936944940553724,
          0.6410073380349677,
          3.6461556371122272,
          3.592799671038502,
          0.5727923627684148,
          1.6594516594516089,
          2.267288071545528,
          2.083687701990058,
          2.4105779539326178,
          3.472442519160284,
          0.4816475668493597,
          1.4316534555510503,
          2.7369421365114532,
          4.002549045135918,
          2.0896821247784514,
          1.813891028299463,
          0.7396624478728323,
          3.4666515307238015,
          2.11982661362151,
          1.576975611687368,
          1.3086519596830934,
          1.2814086867923244,
          1.7464844134132844,
          1.8183840981012265,
          0.5669387659083954,
          1.674275225903617,
          0,
          1.860628154795289,
          1.1207037591713966,
          1.9509594882729038,
          4.294478527607231,
          1.5713074007665992,
          1.145364186985557,
          1.4739050616311615,
          3.114418604651148,
          0.3589964854369718,
          0.3242074927953887,
          4.142156862745105,
          1.501937984496126,
          2.5309671272034104,
          1.7123287671230836,
          8.607430636318348,
          0.0988630746416214,
          1.291339069185499,
          1.764547357073975,
          1.0223975335509343,
          1.064745723797499,
          0.7486957609471403,
          1.4243564159538173,
          1.0775862068965336,
          2.69884108588658,
          3.588516746411267,
          1.1828327659756783,
          3.082485015697845,
          0.9001902463922752,
          1.1344702719914677,
          2.1582617038850955,
          1.6709346206626199,
          2.039926455091825,
          3.5747136725359967,
          2.0746151878264283,
          2.523017993827355,
          1.8314595238782685,
          2.530325838811961,
          1.9195665531202482,
          1.328273244781726,
          0.24958402662229656,
          0,
          1.3323464100666071,
          1.7291011755293173,
          2.3693355330127055,
          1.011930542977517,
          2.0943796394484098,
          1.9616157448791693,
          2.0854383057834607,
          0,
          3.1336092827576865,
          2.0865468611382068,
          0.5118408772748326,
          6.178713639738081,
          1.84971098265896,
          2.0601569222292837,
          1.8060702460925737,
          0.3380257584183738,
          0,
          1.4532744665193644,
          1.7735155018391897,
          3.3130412256679715,
          1.056921259861232,
          0.8211747570376574,
          1.9248143470455454,
          0.28262039195799604,
          2.849460060239427,
          4.12573673870378,
          1.7169650684879818,
          1.0733732036061732,
          0.7856284394964747,
          0,
          0.9472165870891425,
          1.763224181360229,
          28.913963328631993,
          1.365848893808903,
          3.815930640531178
         ],
         "xaxis": "x",
         "y": [
          4.5,
          22.3,
          26.6,
          6.8,
          28.5,
          20.9,
          30.4,
          21.9,
          19.9,
          3.4,
          24.8,
          26.6,
          24.5,
          22.4,
          8.2,
          18.7,
          19.4,
          16.1,
          22.3,
          27.4,
          4.5,
          10.6,
          3.5,
          9.5,
          6.3,
          4.8,
          6.6,
          22.1,
          8.4,
          25.7,
          9,
          27.1,
          26.7,
          22.6,
          28.5,
          21.3,
          12.2,
          28.2,
          26.9,
          19.3,
          31.1,
          22.7,
          23.8,
          13.5,
          3.6,
          30,
          24.9,
          23.2,
          13.4,
          8.7,
          23.3,
          25.7,
          9.7,
          27.4,
          18.8,
          6.6,
          8.2,
          19.2,
          20.5,
          19.4,
          28.6,
          23.1,
          3.8,
          6.9,
          25.5,
          27.4,
          26.9,
          26.7,
          22.9,
          24.4,
          4.4,
          33.4,
          21.3,
          6,
          4.9,
          37,
          15.4,
          4.5,
          25.7,
          31.3,
          13.5,
          8.6,
          28.4,
          24.2,
          4.5,
          4.7,
          15.3,
          7.9,
          7.1,
          31,
          11.3,
          11.5,
          28.4,
          19.6,
          24.9,
          25.6,
          6,
          15,
          3.8,
          23.1,
          32,
          21.8,
          4.7,
          7.8,
          23.9,
          25,
          22.9,
          7.8,
          22.5,
          19,
          19.1,
          6,
          25.6,
          23.2,
          24.5,
          25.7,
          4.8,
          23.8,
          45.5,
          10.6,
          35,
          7.4,
          23.5,
          7.5,
          22.4,
          22.5,
          20.5,
          27,
          27.1,
          5.4,
          7.4,
          26.5,
          22.1,
          21.2,
          10.8,
          2.9,
          7.1,
          19.7,
          27.3,
          32.2,
          4.1,
          26.1,
          29.9,
          29.5,
          7.1,
          37.3,
          28.9,
          15.3,
          23.5,
          25.2,
          2.1,
          14.1,
          6.5,
          12.3
         ],
         "yaxis": "y"
        }
       ],
       "layout": {
        "legend": {
         "itemsizing": "constant",
         "tracegroupgap": 0
        },
        "margin": {
         "t": 60
        },
        "shapes": [
         {
          "line": {
           "color": "crimson",
           "width": 4
          },
          "type": "line",
          "x0": 0,
          "x1": 28.913963328631993,
          "y0": 18.449350649350656,
          "y1": 18.449350649350656
         }
        ],
        "template": {
         "data": {
          "bar": [
           {
            "error_x": {
             "color": "rgb(36,36,36)"
            },
            "error_y": {
             "color": "rgb(36,36,36)"
            },
            "marker": {
             "line": {
              "color": "white",
              "width": 0.5
             },
             "pattern": {
              "fillmode": "overlay",
              "size": 10,
              "solidity": 0.2
             }
            },
            "type": "bar"
           }
          ],
          "barpolar": [
           {
            "marker": {
             "line": {
              "color": "white",
              "width": 0.5
             },
             "pattern": {
              "fillmode": "overlay",
              "size": 10,
              "solidity": 0.2
             }
            },
            "type": "barpolar"
           }
          ],
          "carpet": [
           {
            "aaxis": {
             "endlinecolor": "rgb(36,36,36)",
             "gridcolor": "white",
             "linecolor": "white",
             "minorgridcolor": "white",
             "startlinecolor": "rgb(36,36,36)"
            },
            "baxis": {
             "endlinecolor": "rgb(36,36,36)",
             "gridcolor": "white",
             "linecolor": "white",
             "minorgridcolor": "white",
             "startlinecolor": "rgb(36,36,36)"
            },
            "type": "carpet"
           }
          ],
          "choropleth": [
           {
            "colorbar": {
             "outlinewidth": 1,
             "tickcolor": "rgb(36,36,36)",
             "ticks": "outside"
            },
            "type": "choropleth"
           }
          ],
          "contour": [
           {
            "colorbar": {
             "outlinewidth": 1,
             "tickcolor": "rgb(36,36,36)",
             "ticks": "outside"
            },
            "colorscale": [
             [
              0,
              "#440154"
             ],
             [
              0.1111111111111111,
              "#482878"
             ],
             [
              0.2222222222222222,
              "#3e4989"
             ],
             [
              0.3333333333333333,
              "#31688e"
             ],
             [
              0.4444444444444444,
              "#26828e"
             ],
             [
              0.5555555555555556,
              "#1f9e89"
             ],
             [
              0.6666666666666666,
              "#35b779"
             ],
             [
              0.7777777777777778,
              "#6ece58"
             ],
             [
              0.8888888888888888,
              "#b5de2b"
             ],
             [
              1,
              "#fde725"
             ]
            ],
            "type": "contour"
           }
          ],
          "contourcarpet": [
           {
            "colorbar": {
             "outlinewidth": 1,
             "tickcolor": "rgb(36,36,36)",
             "ticks": "outside"
            },
            "type": "contourcarpet"
           }
          ],
          "heatmap": [
           {
            "colorbar": {
             "outlinewidth": 1,
             "tickcolor": "rgb(36,36,36)",
             "ticks": "outside"
            },
            "colorscale": [
             [
              0,
              "#440154"
             ],
             [
              0.1111111111111111,
              "#482878"
             ],
             [
              0.2222222222222222,
              "#3e4989"
             ],
             [
              0.3333333333333333,
              "#31688e"
             ],
             [
              0.4444444444444444,
              "#26828e"
             ],
             [
              0.5555555555555556,
              "#1f9e89"
             ],
             [
              0.6666666666666666,
              "#35b779"
             ],
             [
              0.7777777777777778,
              "#6ece58"
             ],
             [
              0.8888888888888888,
              "#b5de2b"
             ],
             [
              1,
              "#fde725"
             ]
            ],
            "type": "heatmap"
           }
          ],
          "heatmapgl": [
           {
            "colorbar": {
             "outlinewidth": 1,
             "tickcolor": "rgb(36,36,36)",
             "ticks": "outside"
            },
            "colorscale": [
             [
              0,
              "#440154"
             ],
             [
              0.1111111111111111,
              "#482878"
             ],
             [
              0.2222222222222222,
              "#3e4989"
             ],
             [
              0.3333333333333333,
              "#31688e"
             ],
             [
              0.4444444444444444,
              "#26828e"
             ],
             [
              0.5555555555555556,
              "#1f9e89"
             ],
             [
              0.6666666666666666,
              "#35b779"
             ],
             [
              0.7777777777777778,
              "#6ece58"
             ],
             [
              0.8888888888888888,
              "#b5de2b"
             ],
             [
              1,
              "#fde725"
             ]
            ],
            "type": "heatmapgl"
           }
          ],
          "histogram": [
           {
            "marker": {
             "line": {
              "color": "white",
              "width": 0.6
             }
            },
            "type": "histogram"
           }
          ],
          "histogram2d": [
           {
            "colorbar": {
             "outlinewidth": 1,
             "tickcolor": "rgb(36,36,36)",
             "ticks": "outside"
            },
            "colorscale": [
             [
              0,
              "#440154"
             ],
             [
              0.1111111111111111,
              "#482878"
             ],
             [
              0.2222222222222222,
              "#3e4989"
             ],
             [
              0.3333333333333333,
              "#31688e"
             ],
             [
              0.4444444444444444,
              "#26828e"
             ],
             [
              0.5555555555555556,
              "#1f9e89"
             ],
             [
              0.6666666666666666,
              "#35b779"
             ],
             [
              0.7777777777777778,
              "#6ece58"
             ],
             [
              0.8888888888888888,
              "#b5de2b"
             ],
             [
              1,
              "#fde725"
             ]
            ],
            "type": "histogram2d"
           }
          ],
          "histogram2dcontour": [
           {
            "colorbar": {
             "outlinewidth": 1,
             "tickcolor": "rgb(36,36,36)",
             "ticks": "outside"
            },
            "colorscale": [
             [
              0,
              "#440154"
             ],
             [
              0.1111111111111111,
              "#482878"
             ],
             [
              0.2222222222222222,
              "#3e4989"
             ],
             [
              0.3333333333333333,
              "#31688e"
             ],
             [
              0.4444444444444444,
              "#26828e"
             ],
             [
              0.5555555555555556,
              "#1f9e89"
             ],
             [
              0.6666666666666666,
              "#35b779"
             ],
             [
              0.7777777777777778,
              "#6ece58"
             ],
             [
              0.8888888888888888,
              "#b5de2b"
             ],
             [
              1,
              "#fde725"
             ]
            ],
            "type": "histogram2dcontour"
           }
          ],
          "mesh3d": [
           {
            "colorbar": {
             "outlinewidth": 1,
             "tickcolor": "rgb(36,36,36)",
             "ticks": "outside"
            },
            "type": "mesh3d"
           }
          ],
          "parcoords": [
           {
            "line": {
             "colorbar": {
              "outlinewidth": 1,
              "tickcolor": "rgb(36,36,36)",
              "ticks": "outside"
             }
            },
            "type": "parcoords"
           }
          ],
          "pie": [
           {
            "automargin": true,
            "type": "pie"
           }
          ],
          "scatter": [
           {
            "marker": {
             "colorbar": {
              "outlinewidth": 1,
              "tickcolor": "rgb(36,36,36)",
              "ticks": "outside"
             }
            },
            "type": "scatter"
           }
          ],
          "scatter3d": [
           {
            "line": {
             "colorbar": {
              "outlinewidth": 1,
              "tickcolor": "rgb(36,36,36)",
              "ticks": "outside"
             }
            },
            "marker": {
             "colorbar": {
              "outlinewidth": 1,
              "tickcolor": "rgb(36,36,36)",
              "ticks": "outside"
             }
            },
            "type": "scatter3d"
           }
          ],
          "scattercarpet": [
           {
            "marker": {
             "colorbar": {
              "outlinewidth": 1,
              "tickcolor": "rgb(36,36,36)",
              "ticks": "outside"
             }
            },
            "type": "scattercarpet"
           }
          ],
          "scattergeo": [
           {
            "marker": {
             "colorbar": {
              "outlinewidth": 1,
              "tickcolor": "rgb(36,36,36)",
              "ticks": "outside"
             }
            },
            "type": "scattergeo"
           }
          ],
          "scattergl": [
           {
            "marker": {
             "colorbar": {
              "outlinewidth": 1,
              "tickcolor": "rgb(36,36,36)",
              "ticks": "outside"
             }
            },
            "type": "scattergl"
           }
          ],
          "scattermapbox": [
           {
            "marker": {
             "colorbar": {
              "outlinewidth": 1,
              "tickcolor": "rgb(36,36,36)",
              "ticks": "outside"
             }
            },
            "type": "scattermapbox"
           }
          ],
          "scatterpolar": [
           {
            "marker": {
             "colorbar": {
              "outlinewidth": 1,
              "tickcolor": "rgb(36,36,36)",
              "ticks": "outside"
             }
            },
            "type": "scatterpolar"
           }
          ],
          "scatterpolargl": [
           {
            "marker": {
             "colorbar": {
              "outlinewidth": 1,
              "tickcolor": "rgb(36,36,36)",
              "ticks": "outside"
             }
            },
            "type": "scatterpolargl"
           }
          ],
          "scatterternary": [
           {
            "marker": {
             "colorbar": {
              "outlinewidth": 1,
              "tickcolor": "rgb(36,36,36)",
              "ticks": "outside"
             }
            },
            "type": "scatterternary"
           }
          ],
          "surface": [
           {
            "colorbar": {
             "outlinewidth": 1,
             "tickcolor": "rgb(36,36,36)",
             "ticks": "outside"
            },
            "colorscale": [
             [
              0,
              "#440154"
             ],
             [
              0.1111111111111111,
              "#482878"
             ],
             [
              0.2222222222222222,
              "#3e4989"
             ],
             [
              0.3333333333333333,
              "#31688e"
             ],
             [
              0.4444444444444444,
              "#26828e"
             ],
             [
              0.5555555555555556,
              "#1f9e89"
             ],
             [
              0.6666666666666666,
              "#35b779"
             ],
             [
              0.7777777777777778,
              "#6ece58"
             ],
             [
              0.8888888888888888,
              "#b5de2b"
             ],
             [
              1,
              "#fde725"
             ]
            ],
            "type": "surface"
           }
          ],
          "table": [
           {
            "cells": {
             "fill": {
              "color": "rgb(237,237,237)"
             },
             "line": {
              "color": "white"
             }
            },
            "header": {
             "fill": {
              "color": "rgb(217,217,217)"
             },
             "line": {
              "color": "white"
             }
            },
            "type": "table"
           }
          ]
         },
         "layout": {
          "annotationdefaults": {
           "arrowhead": 0,
           "arrowwidth": 1
          },
          "autotypenumbers": "strict",
          "coloraxis": {
           "colorbar": {
            "outlinewidth": 1,
            "tickcolor": "rgb(36,36,36)",
            "ticks": "outside"
           }
          },
          "colorscale": {
           "diverging": [
            [
             0,
             "rgb(103,0,31)"
            ],
            [
             0.1,
             "rgb(178,24,43)"
            ],
            [
             0.2,
             "rgb(214,96,77)"
            ],
            [
             0.3,
             "rgb(244,165,130)"
            ],
            [
             0.4,
             "rgb(253,219,199)"
            ],
            [
             0.5,
             "rgb(247,247,247)"
            ],
            [
             0.6,
             "rgb(209,229,240)"
            ],
            [
             0.7,
             "rgb(146,197,222)"
            ],
            [
             0.8,
             "rgb(67,147,195)"
            ],
            [
             0.9,
             "rgb(33,102,172)"
            ],
            [
             1,
             "rgb(5,48,97)"
            ]
           ],
           "sequential": [
            [
             0,
             "#440154"
            ],
            [
             0.1111111111111111,
             "#482878"
            ],
            [
             0.2222222222222222,
             "#3e4989"
            ],
            [
             0.3333333333333333,
             "#31688e"
            ],
            [
             0.4444444444444444,
             "#26828e"
            ],
            [
             0.5555555555555556,
             "#1f9e89"
            ],
            [
             0.6666666666666666,
             "#35b779"
            ],
            [
             0.7777777777777778,
             "#6ece58"
            ],
            [
             0.8888888888888888,
             "#b5de2b"
            ],
            [
             1,
             "#fde725"
            ]
           ],
           "sequentialminus": [
            [
             0,
             "#440154"
            ],
            [
             0.1111111111111111,
             "#482878"
            ],
            [
             0.2222222222222222,
             "#3e4989"
            ],
            [
             0.3333333333333333,
             "#31688e"
            ],
            [
             0.4444444444444444,
             "#26828e"
            ],
            [
             0.5555555555555556,
             "#1f9e89"
            ],
            [
             0.6666666666666666,
             "#35b779"
            ],
            [
             0.7777777777777778,
             "#6ece58"
            ],
            [
             0.8888888888888888,
             "#b5de2b"
            ],
            [
             1,
             "#fde725"
            ]
           ]
          },
          "colorway": [
           "#1F77B4",
           "#FF7F0E",
           "#2CA02C",
           "#D62728",
           "#9467BD",
           "#8C564B",
           "#E377C2",
           "#7F7F7F",
           "#BCBD22",
           "#17BECF"
          ],
          "font": {
           "color": "rgb(36,36,36)"
          },
          "geo": {
           "bgcolor": "white",
           "lakecolor": "white",
           "landcolor": "white",
           "showlakes": true,
           "showland": true,
           "subunitcolor": "white"
          },
          "hoverlabel": {
           "align": "left"
          },
          "hovermode": "closest",
          "mapbox": {
           "style": "light"
          },
          "paper_bgcolor": "white",
          "plot_bgcolor": "white",
          "polar": {
           "angularaxis": {
            "gridcolor": "rgb(232,232,232)",
            "linecolor": "rgb(36,36,36)",
            "showgrid": false,
            "showline": true,
            "ticks": "outside"
           },
           "bgcolor": "white",
           "radialaxis": {
            "gridcolor": "rgb(232,232,232)",
            "linecolor": "rgb(36,36,36)",
            "showgrid": false,
            "showline": true,
            "ticks": "outside"
           }
          },
          "scene": {
           "xaxis": {
            "backgroundcolor": "white",
            "gridcolor": "rgb(232,232,232)",
            "gridwidth": 2,
            "linecolor": "rgb(36,36,36)",
            "showbackground": true,
            "showgrid": false,
            "showline": true,
            "ticks": "outside",
            "zeroline": false,
            "zerolinecolor": "rgb(36,36,36)"
           },
           "yaxis": {
            "backgroundcolor": "white",
            "gridcolor": "rgb(232,232,232)",
            "gridwidth": 2,
            "linecolor": "rgb(36,36,36)",
            "showbackground": true,
            "showgrid": false,
            "showline": true,
            "ticks": "outside",
            "zeroline": false,
            "zerolinecolor": "rgb(36,36,36)"
           },
           "zaxis": {
            "backgroundcolor": "white",
            "gridcolor": "rgb(232,232,232)",
            "gridwidth": 2,
            "linecolor": "rgb(36,36,36)",
            "showbackground": true,
            "showgrid": false,
            "showline": true,
            "ticks": "outside",
            "zeroline": false,
            "zerolinecolor": "rgb(36,36,36)"
           }
          },
          "shapedefaults": {
           "fillcolor": "black",
           "line": {
            "width": 0
           },
           "opacity": 0.3
          },
          "ternary": {
           "aaxis": {
            "gridcolor": "rgb(232,232,232)",
            "linecolor": "rgb(36,36,36)",
            "showgrid": false,
            "showline": true,
            "ticks": "outside"
           },
           "baxis": {
            "gridcolor": "rgb(232,232,232)",
            "linecolor": "rgb(36,36,36)",
            "showgrid": false,
            "showline": true,
            "ticks": "outside"
           },
           "bgcolor": "white",
           "caxis": {
            "gridcolor": "rgb(232,232,232)",
            "linecolor": "rgb(36,36,36)",
            "showgrid": false,
            "showline": true,
            "ticks": "outside"
           }
          },
          "title": {
           "x": 0.05
          },
          "xaxis": {
           "automargin": true,
           "gridcolor": "rgb(232,232,232)",
           "linecolor": "rgb(36,36,36)",
           "showgrid": false,
           "showline": true,
           "ticks": "outside",
           "title": {
            "standoff": 15
           },
           "zeroline": false,
           "zerolinecolor": "rgb(36,36,36)"
          },
          "yaxis": {
           "automargin": true,
           "gridcolor": "rgb(232,232,232)",
           "linecolor": "rgb(36,36,36)",
           "showgrid": false,
           "showline": true,
           "ticks": "outside",
           "title": {
            "standoff": 15
           },
           "zeroline": false,
           "zerolinecolor": "rgb(36,36,36)"
          }
         }
        },
        "xaxis": {
         "anchor": "y",
         "domain": [
          0,
          1
         ],
         "title": {
          "text": "Mortality"
         }
        },
        "yaxis": {
         "anchor": "x",
         "domain": [
          0,
          1
         ],
         "title": {
          "text": "Obesity"
         }
        }
       }
      },
      "text/html": [
       "<div>                            <div id=\"86bd77aa-bc68-4b26-97dd-980c61756452\" class=\"plotly-graph-div\" style=\"height:525px; width:100%;\"></div>            <script type=\"text/javascript\">                require([\"plotly\"], function(Plotly) {                    window.PLOTLYENV=window.PLOTLYENV || {};                                    if (document.getElementById(\"86bd77aa-bc68-4b26-97dd-980c61756452\")) {                    Plotly.newPlot(                        \"86bd77aa-bc68-4b26-97dd-980c61756452\",                        [{\"hovertemplate\":\"<b>%{hovertext}</b><br><br>Mortality=%{x}<br>Obesity=%{y}<br>Active=%{marker.size}<extra></extra>\",\"hovertext\":[\"Afghanistan\",\"Albania\",\"Algeria\",\"Angola\",\"Argentina\",\"Armenia\",\"Australia\",\"Austria\",\"Azerbaijan\",\"Bangladesh\",\"Barbados\",\"Belarus\",\"Belgium\",\"Belize\",\"Benin\",\"Bolivia\",\"Bosnia and Herzegovina\",\"Botswana\",\"Brazil\",\"Bulgaria\",\"Burkina Faso\",\"Cabo Verde\",\"Cambodia\",\"Cameroon\",\"Central African Republic\",\"Chad\",\"China\",\"Colombia\",\"Congo\",\"Costa Rica\",\"Cote d'Ivoire\",\"Croatia\",\"Cuba\",\"Cyprus\",\"Czechia\",\"Denmark\",\"Djibouti\",\"Dominica\",\"Dominican Republic\",\"Ecuador\",\"Egypt\",\"El Salvador\",\"Estonia\",\"Eswatini\",\"Ethiopia\",\"Fiji\",\"Finland\",\"France\",\"Gabon\",\"Gambia\",\"Georgia\",\"Germany\",\"Ghana\",\"Greece\",\"Guatemala\",\"Guinea\",\"Guinea-Bissau\",\"Guyana\",\"Haiti\",\"Honduras\",\"Hungary\",\"Iceland\",\"India\",\"Indonesia\",\"Iran (Islamic Republic of)\",\"Iraq\",\"Ireland\",\"Israel\",\"Italy\",\"Jamaica\",\"Japan\",\"Jordan\",\"Kazakhstan\",\"Kenya\",\"Korea, South\",\"Kuwait\",\"Kyrgyzstan\",\"Lao People's Democratic Republic\",\"Latvia\",\"Lebanon\",\"Lesotho\",\"Liberia\",\"Lithuania\",\"Luxembourg\",\"Madagascar\",\"Malawi\",\"Malaysia\",\"Maldives\",\"Mali\",\"Malta\",\"Mauritania\",\"Mauritius\",\"Mexico\",\"Mongolia\",\"Montenegro\",\"Morocco\",\"Mozambique\",\"Namibia\",\"Nepal\",\"Netherlands\",\"New Zealand\",\"Nicaragua\",\"Niger\",\"Nigeria\",\"North Macedonia\",\"Norway\",\"Oman\",\"Pakistan\",\"Panama\",\"Paraguay\",\"Peru\",\"Philippines\",\"Poland\",\"Portugal\",\"Romania\",\"Russian Federation\",\"Rwanda\",\"Saint Vincent and the Grenadines\",\"Samoa\",\"Sao Tome and Principe\",\"Saudi Arabia\",\"Senegal\",\"Serbia\",\"Sierra Leone\",\"Slovakia\",\"Slovenia\",\"Solomon Islands\",\"South Africa\",\"Spain\",\"Sri Lanka\",\"Sudan\",\"Suriname\",\"Sweden\",\"Switzerland\",\"Thailand\",\"Timor-Leste\",\"Togo\",\"Trinidad and Tobago\",\"Tunisia\",\"Turkey\",\"Uganda\",\"Ukraine\",\"United Arab Emirates\",\"United Kingdom\",\"United Republic of Tanzania\",\"United States of America\",\"Uruguay\",\"Uzbekistan\",\"Vanuatu\",\"Venezuela (Bolivarian Republic of)\",\"Vietnam\",\"Yemen\",\"Zambia\",\"Zimbabwe\"],\"legendgroup\":\"\",\"marker\":{\"color\":\"#1F77B4\",\"size\":[0.0125744965063707,1.12371388301621,0.0707667335482562,0.0034192239099686,0.342728695153933,0.177469553450609,0.0072066475110662,0.153432802333408,0.0287396121883657,0.027524453945315,0.107665505226481,0.10928,6.10089448545376,0.0601431980906921,0.0047096404291915,0.4213960285395,0.656232855836635,0.162537764350453,0.372093649085038,0.303883354987729,0.0050375544180261,0.10089928057554,0.0001290572368845,0.0053349875930521,0.0008488612836438,0.0029566866149197,0.0001264987859967,0.148011892241728,0.177437477346865,0.735374682058306,0.0062349570200573,0.0722388059701493,0.0508731495434802,2.43380281690141,0.897667039940276,0.117841825355979,0.0026315789473684,0.0152777777777778,0.511314285714286,0.184438353035235,0.0272293483328869,0.0637710229902793,0.706836964688204,0.372101449275362,0.0119887570051168,0.0001116071428571,0.281678422861277,4.70961964890668,0.0264007171671896,0.0089780719900703,0.149017496635262,0.21784393757503,0.0196150999259808,0.593439252336449,0.0452009299236134,0.002078025477707,0.0155163466528282,0.101270648030496,0.0206699991230378,0.896289537712895,0.861574690283608,0.0089673913043478,0.0106253839011499,0.0649273751651401,0.182512180629828,0.0381069855254877,3.50809514291425,0.774392361111111,0.708229401618681,0.151619793520826,0.0309914501417038,0.09360427006274,0.144987187700192,0.0291660439396204,0.0165311600780209,0.170091664890215,0.0307400667273279,5.52333609500138e-05,0.556992639327024,1.65768498168498,0.303034547152194,0.0020166073546856,1.6226914817466,0.395727848101266,0.0020548192553537,0.0767903815995818,0.155254568194991,0.37818853974122,0.0087304330650338,0.459961685823755,0.0082150537634408,0.0026877470355731,0.217663077500939,0.0170187444213032,1.23392282958199,0.0352247441032488,0.0541327087210422,0.0438410074773711,0.006530870782771,5.65639777866835,0.0013234409464608,0.0288659793814433,0.001996775393774,0.0121461142912584,0.382115384615385,0.85526266938927,0.132463399108848,0.0146035122657735,0.721106700910577,0.295382494831151,0.135477089934194,0.0328031319298054,0.534208194328607,1.44669917113603,0.182215061587236,0.295842107773984,0.0314468807906115,0.718918918918919,0.0,0.13,0.006640792214834,0.0270066889632107,5.78180250107805,0.0155572270277047,0.337202489930428,0.751212553495007,0.0009790209790209,0.14594318105588,5.73155872782618,0.0256689611159229,0.013703847294123,0.0852892561983471,5.5502264623687,2.37047718322909,0.0095439925451648,0.0014415781487101,0.0099287353545114,0.0162162162162162,0.303707128446537,0.102220046096708,0.0549725629085503,0.363334769495907,0.218930251585191,5.68610184633711,0.0005105969799444,8.01981884211739,0.166015293118097,0.0027330719260256,0.0,0.0238994588933496,0.000500992630627,0.00028163347415,0.0390448215839861,0.0322142232389154],\"sizemode\":\"area\",\"sizeref\":0.008910909824574877,\"symbol\":\"circle\"},\"mode\":\"markers\",\"name\":\"\",\"orientation\":\"v\",\"showlegend\":false,\"x\":[4.352069401771176,1.717094950838359,2.677922101832838,2.3676602532149635,2.4844575955044093,1.8542667786134115,3.150670687324479,1.8919724890064906,1.3661036611231818,1.5229559105193446,1.0739856801909273,0.6899933452418479,2.9497009131473866,2.5421616681897454,1.3117099928451212,4.734334824416184,3.8684641184762842,0.6935284857252216,2.434952708034622,4.1650264815344915,1.1935512603544514,0.9388038942976333,0.0,1.509842645091354,1.2627781118460006,3.59919378059302,4.805277633833631,2.5889186861143494,2.5392296718972953,1.3602256182612322,0.5479081408326841,2.187763156775512,0.7278747930398786,0.6667930729364175,1.6628288962753528,1.0977307290299227,1.0604275374515941,0.0,1.2608711309577398,5.835521070338193,5.67927808593425,2.9749097569215976,0.9597575349385394,3.7327730053766808,1.5164047422111782,3.5714285714272003,1.4557149507003473,2.338085920955278,0.6197084751680058,3.162615057823919,1.2495222077822783,2.6936944940553724,0.6410073380349677,3.6461556371122272,3.592799671038502,0.5727923627684148,1.6594516594516089,2.267288071545528,2.083687701990058,2.4105779539326178,3.472442519160284,0.4816475668493597,1.4316534555510503,2.7369421365114532,4.002549045135918,2.0896821247784514,1.813891028299463,0.7396624478728323,3.4666515307238015,2.11982661362151,1.576975611687368,1.3086519596830934,1.2814086867923244,1.7464844134132844,1.8183840981012265,0.5669387659083954,1.674275225903617,0.0,1.860628154795289,1.1207037591713966,1.9509594882729038,4.294478527607231,1.5713074007665992,1.145364186985557,1.4739050616311615,3.114418604651148,0.3589964854369718,0.3242074927953887,4.142156862745105,1.501937984496126,2.5309671272034104,1.7123287671230836,8.607430636318348,0.0988630746416214,1.291339069185499,1.764547357073975,1.0223975335509343,1.064745723797499,0.7486957609471403,1.4243564159538173,1.0775862068965336,2.69884108588658,3.588516746411267,1.1828327659756783,3.082485015697845,0.9001902463922752,1.1344702719914677,2.1582617038850955,1.6709346206626199,2.039926455091825,3.5747136725359967,2.0746151878264283,2.523017993827355,1.8314595238782685,2.530325838811961,1.9195665531202482,1.328273244781726,0.24958402662229656,0.0,1.3323464100666071,1.7291011755293173,2.3693355330127055,1.011930542977517,2.0943796394484098,1.9616157448791693,2.0854383057834607,0.0,3.1336092827576865,2.0865468611382068,0.5118408772748326,6.178713639738081,1.84971098265896,2.0601569222292837,1.8060702460925737,0.3380257584183738,0.0,1.4532744665193644,1.7735155018391897,3.3130412256679715,1.056921259861232,0.8211747570376574,1.9248143470455454,0.28262039195799604,2.849460060239427,4.12573673870378,1.7169650684879818,1.0733732036061732,0.7856284394964747,0.0,0.9472165870891425,1.763224181360229,28.913963328631993,1.365848893808903,3.815930640531178],\"xaxis\":\"x\",\"y\":[4.5,22.3,26.6,6.8,28.5,20.9,30.4,21.9,19.9,3.4,24.8,26.6,24.5,22.4,8.2,18.7,19.4,16.1,22.3,27.4,4.5,10.6,3.5,9.5,6.3,4.8,6.6,22.1,8.4,25.7,9.0,27.1,26.7,22.6,28.5,21.3,12.2,28.2,26.9,19.3,31.1,22.7,23.8,13.5,3.6,30.0,24.9,23.2,13.4,8.7,23.3,25.7,9.7,27.4,18.8,6.6,8.2,19.2,20.5,19.4,28.6,23.1,3.8,6.9,25.5,27.4,26.9,26.7,22.9,24.4,4.4,33.4,21.3,6.0,4.9,37.0,15.4,4.5,25.7,31.3,13.5,8.6,28.4,24.2,4.5,4.7,15.3,7.9,7.1,31.0,11.3,11.5,28.4,19.6,24.9,25.6,6.0,15.0,3.8,23.1,32.0,21.8,4.7,7.8,23.9,25.0,22.9,7.8,22.5,19.0,19.1,6.0,25.6,23.2,24.5,25.7,4.8,23.8,45.5,10.6,35.0,7.4,23.5,7.5,22.4,22.5,20.5,27.0,27.1,5.4,7.4,26.5,22.1,21.2,10.8,2.9,7.1,19.7,27.3,32.2,4.1,26.1,29.9,29.5,7.1,37.3,28.9,15.3,23.5,25.2,2.1,14.1,6.5,12.3],\"yaxis\":\"y\",\"type\":\"scatter\"}],                        {\"template\":{\"data\":{\"barpolar\":[{\"marker\":{\"line\":{\"color\":\"white\",\"width\":0.5},\"pattern\":{\"fillmode\":\"overlay\",\"size\":10,\"solidity\":0.2}},\"type\":\"barpolar\"}],\"bar\":[{\"error_x\":{\"color\":\"rgb(36,36,36)\"},\"error_y\":{\"color\":\"rgb(36,36,36)\"},\"marker\":{\"line\":{\"color\":\"white\",\"width\":0.5},\"pattern\":{\"fillmode\":\"overlay\",\"size\":10,\"solidity\":0.2}},\"type\":\"bar\"}],\"carpet\":[{\"aaxis\":{\"endlinecolor\":\"rgb(36,36,36)\",\"gridcolor\":\"white\",\"linecolor\":\"white\",\"minorgridcolor\":\"white\",\"startlinecolor\":\"rgb(36,36,36)\"},\"baxis\":{\"endlinecolor\":\"rgb(36,36,36)\",\"gridcolor\":\"white\",\"linecolor\":\"white\",\"minorgridcolor\":\"white\",\"startlinecolor\":\"rgb(36,36,36)\"},\"type\":\"carpet\"}],\"choropleth\":[{\"colorbar\":{\"outlinewidth\":1,\"tickcolor\":\"rgb(36,36,36)\",\"ticks\":\"outside\"},\"type\":\"choropleth\"}],\"contourcarpet\":[{\"colorbar\":{\"outlinewidth\":1,\"tickcolor\":\"rgb(36,36,36)\",\"ticks\":\"outside\"},\"type\":\"contourcarpet\"}],\"contour\":[{\"colorbar\":{\"outlinewidth\":1,\"tickcolor\":\"rgb(36,36,36)\",\"ticks\":\"outside\"},\"colorscale\":[[0.0,\"#440154\"],[0.1111111111111111,\"#482878\"],[0.2222222222222222,\"#3e4989\"],[0.3333333333333333,\"#31688e\"],[0.4444444444444444,\"#26828e\"],[0.5555555555555556,\"#1f9e89\"],[0.6666666666666666,\"#35b779\"],[0.7777777777777778,\"#6ece58\"],[0.8888888888888888,\"#b5de2b\"],[1.0,\"#fde725\"]],\"type\":\"contour\"}],\"heatmapgl\":[{\"colorbar\":{\"outlinewidth\":1,\"tickcolor\":\"rgb(36,36,36)\",\"ticks\":\"outside\"},\"colorscale\":[[0.0,\"#440154\"],[0.1111111111111111,\"#482878\"],[0.2222222222222222,\"#3e4989\"],[0.3333333333333333,\"#31688e\"],[0.4444444444444444,\"#26828e\"],[0.5555555555555556,\"#1f9e89\"],[0.6666666666666666,\"#35b779\"],[0.7777777777777778,\"#6ece58\"],[0.8888888888888888,\"#b5de2b\"],[1.0,\"#fde725\"]],\"type\":\"heatmapgl\"}],\"heatmap\":[{\"colorbar\":{\"outlinewidth\":1,\"tickcolor\":\"rgb(36,36,36)\",\"ticks\":\"outside\"},\"colorscale\":[[0.0,\"#440154\"],[0.1111111111111111,\"#482878\"],[0.2222222222222222,\"#3e4989\"],[0.3333333333333333,\"#31688e\"],[0.4444444444444444,\"#26828e\"],[0.5555555555555556,\"#1f9e89\"],[0.6666666666666666,\"#35b779\"],[0.7777777777777778,\"#6ece58\"],[0.8888888888888888,\"#b5de2b\"],[1.0,\"#fde725\"]],\"type\":\"heatmap\"}],\"histogram2dcontour\":[{\"colorbar\":{\"outlinewidth\":1,\"tickcolor\":\"rgb(36,36,36)\",\"ticks\":\"outside\"},\"colorscale\":[[0.0,\"#440154\"],[0.1111111111111111,\"#482878\"],[0.2222222222222222,\"#3e4989\"],[0.3333333333333333,\"#31688e\"],[0.4444444444444444,\"#26828e\"],[0.5555555555555556,\"#1f9e89\"],[0.6666666666666666,\"#35b779\"],[0.7777777777777778,\"#6ece58\"],[0.8888888888888888,\"#b5de2b\"],[1.0,\"#fde725\"]],\"type\":\"histogram2dcontour\"}],\"histogram2d\":[{\"colorbar\":{\"outlinewidth\":1,\"tickcolor\":\"rgb(36,36,36)\",\"ticks\":\"outside\"},\"colorscale\":[[0.0,\"#440154\"],[0.1111111111111111,\"#482878\"],[0.2222222222222222,\"#3e4989\"],[0.3333333333333333,\"#31688e\"],[0.4444444444444444,\"#26828e\"],[0.5555555555555556,\"#1f9e89\"],[0.6666666666666666,\"#35b779\"],[0.7777777777777778,\"#6ece58\"],[0.8888888888888888,\"#b5de2b\"],[1.0,\"#fde725\"]],\"type\":\"histogram2d\"}],\"histogram\":[{\"marker\":{\"line\":{\"color\":\"white\",\"width\":0.6}},\"type\":\"histogram\"}],\"mesh3d\":[{\"colorbar\":{\"outlinewidth\":1,\"tickcolor\":\"rgb(36,36,36)\",\"ticks\":\"outside\"},\"type\":\"mesh3d\"}],\"parcoords\":[{\"line\":{\"colorbar\":{\"outlinewidth\":1,\"tickcolor\":\"rgb(36,36,36)\",\"ticks\":\"outside\"}},\"type\":\"parcoords\"}],\"pie\":[{\"automargin\":true,\"type\":\"pie\"}],\"scatter3d\":[{\"line\":{\"colorbar\":{\"outlinewidth\":1,\"tickcolor\":\"rgb(36,36,36)\",\"ticks\":\"outside\"}},\"marker\":{\"colorbar\":{\"outlinewidth\":1,\"tickcolor\":\"rgb(36,36,36)\",\"ticks\":\"outside\"}},\"type\":\"scatter3d\"}],\"scattercarpet\":[{\"marker\":{\"colorbar\":{\"outlinewidth\":1,\"tickcolor\":\"rgb(36,36,36)\",\"ticks\":\"outside\"}},\"type\":\"scattercarpet\"}],\"scattergeo\":[{\"marker\":{\"colorbar\":{\"outlinewidth\":1,\"tickcolor\":\"rgb(36,36,36)\",\"ticks\":\"outside\"}},\"type\":\"scattergeo\"}],\"scattergl\":[{\"marker\":{\"colorbar\":{\"outlinewidth\":1,\"tickcolor\":\"rgb(36,36,36)\",\"ticks\":\"outside\"}},\"type\":\"scattergl\"}],\"scattermapbox\":[{\"marker\":{\"colorbar\":{\"outlinewidth\":1,\"tickcolor\":\"rgb(36,36,36)\",\"ticks\":\"outside\"}},\"type\":\"scattermapbox\"}],\"scatterpolargl\":[{\"marker\":{\"colorbar\":{\"outlinewidth\":1,\"tickcolor\":\"rgb(36,36,36)\",\"ticks\":\"outside\"}},\"type\":\"scatterpolargl\"}],\"scatterpolar\":[{\"marker\":{\"colorbar\":{\"outlinewidth\":1,\"tickcolor\":\"rgb(36,36,36)\",\"ticks\":\"outside\"}},\"type\":\"scatterpolar\"}],\"scatter\":[{\"marker\":{\"colorbar\":{\"outlinewidth\":1,\"tickcolor\":\"rgb(36,36,36)\",\"ticks\":\"outside\"}},\"type\":\"scatter\"}],\"scatterternary\":[{\"marker\":{\"colorbar\":{\"outlinewidth\":1,\"tickcolor\":\"rgb(36,36,36)\",\"ticks\":\"outside\"}},\"type\":\"scatterternary\"}],\"surface\":[{\"colorbar\":{\"outlinewidth\":1,\"tickcolor\":\"rgb(36,36,36)\",\"ticks\":\"outside\"},\"colorscale\":[[0.0,\"#440154\"],[0.1111111111111111,\"#482878\"],[0.2222222222222222,\"#3e4989\"],[0.3333333333333333,\"#31688e\"],[0.4444444444444444,\"#26828e\"],[0.5555555555555556,\"#1f9e89\"],[0.6666666666666666,\"#35b779\"],[0.7777777777777778,\"#6ece58\"],[0.8888888888888888,\"#b5de2b\"],[1.0,\"#fde725\"]],\"type\":\"surface\"}],\"table\":[{\"cells\":{\"fill\":{\"color\":\"rgb(237,237,237)\"},\"line\":{\"color\":\"white\"}},\"header\":{\"fill\":{\"color\":\"rgb(217,217,217)\"},\"line\":{\"color\":\"white\"}},\"type\":\"table\"}]},\"layout\":{\"annotationdefaults\":{\"arrowhead\":0,\"arrowwidth\":1},\"autotypenumbers\":\"strict\",\"coloraxis\":{\"colorbar\":{\"outlinewidth\":1,\"tickcolor\":\"rgb(36,36,36)\",\"ticks\":\"outside\"}},\"colorscale\":{\"diverging\":[[0.0,\"rgb(103,0,31)\"],[0.1,\"rgb(178,24,43)\"],[0.2,\"rgb(214,96,77)\"],[0.3,\"rgb(244,165,130)\"],[0.4,\"rgb(253,219,199)\"],[0.5,\"rgb(247,247,247)\"],[0.6,\"rgb(209,229,240)\"],[0.7,\"rgb(146,197,222)\"],[0.8,\"rgb(67,147,195)\"],[0.9,\"rgb(33,102,172)\"],[1.0,\"rgb(5,48,97)\"]],\"sequential\":[[0.0,\"#440154\"],[0.1111111111111111,\"#482878\"],[0.2222222222222222,\"#3e4989\"],[0.3333333333333333,\"#31688e\"],[0.4444444444444444,\"#26828e\"],[0.5555555555555556,\"#1f9e89\"],[0.6666666666666666,\"#35b779\"],[0.7777777777777778,\"#6ece58\"],[0.8888888888888888,\"#b5de2b\"],[1.0,\"#fde725\"]],\"sequentialminus\":[[0.0,\"#440154\"],[0.1111111111111111,\"#482878\"],[0.2222222222222222,\"#3e4989\"],[0.3333333333333333,\"#31688e\"],[0.4444444444444444,\"#26828e\"],[0.5555555555555556,\"#1f9e89\"],[0.6666666666666666,\"#35b779\"],[0.7777777777777778,\"#6ece58\"],[0.8888888888888888,\"#b5de2b\"],[1.0,\"#fde725\"]]},\"colorway\":[\"#1F77B4\",\"#FF7F0E\",\"#2CA02C\",\"#D62728\",\"#9467BD\",\"#8C564B\",\"#E377C2\",\"#7F7F7F\",\"#BCBD22\",\"#17BECF\"],\"font\":{\"color\":\"rgb(36,36,36)\"},\"geo\":{\"bgcolor\":\"white\",\"lakecolor\":\"white\",\"landcolor\":\"white\",\"showlakes\":true,\"showland\":true,\"subunitcolor\":\"white\"},\"hoverlabel\":{\"align\":\"left\"},\"hovermode\":\"closest\",\"mapbox\":{\"style\":\"light\"},\"paper_bgcolor\":\"white\",\"plot_bgcolor\":\"white\",\"polar\":{\"angularaxis\":{\"gridcolor\":\"rgb(232,232,232)\",\"linecolor\":\"rgb(36,36,36)\",\"showgrid\":false,\"showline\":true,\"ticks\":\"outside\"},\"bgcolor\":\"white\",\"radialaxis\":{\"gridcolor\":\"rgb(232,232,232)\",\"linecolor\":\"rgb(36,36,36)\",\"showgrid\":false,\"showline\":true,\"ticks\":\"outside\"}},\"scene\":{\"xaxis\":{\"backgroundcolor\":\"white\",\"gridcolor\":\"rgb(232,232,232)\",\"gridwidth\":2,\"linecolor\":\"rgb(36,36,36)\",\"showbackground\":true,\"showgrid\":false,\"showline\":true,\"ticks\":\"outside\",\"zeroline\":false,\"zerolinecolor\":\"rgb(36,36,36)\"},\"yaxis\":{\"backgroundcolor\":\"white\",\"gridcolor\":\"rgb(232,232,232)\",\"gridwidth\":2,\"linecolor\":\"rgb(36,36,36)\",\"showbackground\":true,\"showgrid\":false,\"showline\":true,\"ticks\":\"outside\",\"zeroline\":false,\"zerolinecolor\":\"rgb(36,36,36)\"},\"zaxis\":{\"backgroundcolor\":\"white\",\"gridcolor\":\"rgb(232,232,232)\",\"gridwidth\":2,\"linecolor\":\"rgb(36,36,36)\",\"showbackground\":true,\"showgrid\":false,\"showline\":true,\"ticks\":\"outside\",\"zeroline\":false,\"zerolinecolor\":\"rgb(36,36,36)\"}},\"shapedefaults\":{\"fillcolor\":\"black\",\"line\":{\"width\":0},\"opacity\":0.3},\"ternary\":{\"aaxis\":{\"gridcolor\":\"rgb(232,232,232)\",\"linecolor\":\"rgb(36,36,36)\",\"showgrid\":false,\"showline\":true,\"ticks\":\"outside\"},\"baxis\":{\"gridcolor\":\"rgb(232,232,232)\",\"linecolor\":\"rgb(36,36,36)\",\"showgrid\":false,\"showline\":true,\"ticks\":\"outside\"},\"bgcolor\":\"white\",\"caxis\":{\"gridcolor\":\"rgb(232,232,232)\",\"linecolor\":\"rgb(36,36,36)\",\"showgrid\":false,\"showline\":true,\"ticks\":\"outside\"}},\"title\":{\"x\":0.05},\"xaxis\":{\"automargin\":true,\"gridcolor\":\"rgb(232,232,232)\",\"linecolor\":\"rgb(36,36,36)\",\"showgrid\":false,\"showline\":true,\"ticks\":\"outside\",\"title\":{\"standoff\":15},\"zeroline\":false,\"zerolinecolor\":\"rgb(36,36,36)\"},\"yaxis\":{\"automargin\":true,\"gridcolor\":\"rgb(232,232,232)\",\"linecolor\":\"rgb(36,36,36)\",\"showgrid\":false,\"showline\":true,\"ticks\":\"outside\",\"title\":{\"standoff\":15},\"zeroline\":false,\"zerolinecolor\":\"rgb(36,36,36)\"}}},\"xaxis\":{\"anchor\":\"y\",\"domain\":[0.0,1.0],\"title\":{\"text\":\"Mortality\"}},\"yaxis\":{\"anchor\":\"x\",\"domain\":[0.0,1.0],\"title\":{\"text\":\"Obesity\"}},\"legend\":{\"tracegroupgap\":0,\"itemsizing\":\"constant\"},\"margin\":{\"t\":60},\"shapes\":[{\"line\":{\"color\":\"crimson\",\"width\":4},\"type\":\"line\",\"x0\":0,\"x1\":28.913963328631993,\"y0\":18.449350649350656,\"y1\":18.449350649350656}]},                        {\"responsive\": true}                    ).then(function(){\n",
       "                            \n",
       "var gd = document.getElementById('86bd77aa-bc68-4b26-97dd-980c61756452');\n",
       "var x = new MutationObserver(function (mutations, observer) {{\n",
       "        var display = window.getComputedStyle(gd).display;\n",
       "        if (!display || display === 'none') {{\n",
       "            console.log([gd, 'removed!']);\n",
       "            Plotly.purge(gd);\n",
       "            observer.disconnect();\n",
       "        }}\n",
       "}});\n",
       "\n",
       "// Listen for the removal of the full notebook cells\n",
       "var notebookContainer = gd.closest('#notebook-container');\n",
       "if (notebookContainer) {{\n",
       "    x.observe(notebookContainer, {childList: true});\n",
       "}}\n",
       "\n",
       "// Listen for the clearing of the current output cell\n",
       "var outputEl = gd.closest('.output');\n",
       "if (outputEl) {{\n",
       "    x.observe(outputEl, {childList: true});\n",
       "}}\n",
       "\n",
       "                        })                };                });            </script>        </div>"
      ]
     },
     "metadata": {},
     "output_type": "display_data"
    }
   ],
   "source": [
    "# Figure to present the relationship between Obesity and Mortality \n",
    "# (with each point representing a country and the varying sizes of each point \n",
    "# representing the country's corresponding death rate)\n",
    "\n",
    "fig = px.scatter(food_df, x=\"Mortality\", y = \"Obesity\", size = \"Active\", hover_name='Country', log_x=False,\n",
    "                 size_max=30, template=\"simple_white\")\n",
    "\n",
    "fig.add_shape(\n",
    "    # Line Horizontal   \n",
    "    type=\"line\",\n",
    "    x0=0,\n",
    "    y0 = food_df['Obesity'].mean(),\n",
    "    x1 = food_df['Mortality'].max(),\n",
    "    y1 = food_df['Obesity'].mean(),\n",
    "    line=dict(\n",
    "        color=\"crimson\",\n",
    "        width=4\n",
    "    ),\n",
    ")\n",
    "\n",
    "fig.show()"
   ]
  },
  {
   "cell_type": "markdown",
   "id": "2ca61db0",
   "metadata": {
    "pycharm": {
     "name": "#%% md\n"
    }
   },
   "source": [
    "explain visualization"
   ]
  },
  {
   "cell_type": "code",
   "execution_count": 28,
   "id": "9a18d12e-523e-4f00-8d7a-619fbf06efab",
   "metadata": {
    "pycharm": {
     "name": "#%%\n"
    }
   },
   "outputs": [
    {
     "data": {
      "application/vnd.plotly.v1+json": {
       "config": {
        "plotlyServerURL": "https://plot.ly"
       },
       "data": [
        {
         "hovertemplate": "<b>%{hovertext}</b><br><br>Deaths=%{x}<br>Obesity=%{y}<br>Mortality=%{marker.size}<extra></extra>",
         "hovertext": [
          "Afghanistan",
          "Albania",
          "Algeria",
          "Angola",
          "Argentina",
          "Armenia",
          "Australia",
          "Austria",
          "Azerbaijan",
          "Bangladesh",
          "Barbados",
          "Belarus",
          "Belgium",
          "Belize",
          "Benin",
          "Bolivia",
          "Bosnia and Herzegovina",
          "Botswana",
          "Brazil",
          "Bulgaria",
          "Burkina Faso",
          "Cabo Verde",
          "Cambodia",
          "Cameroon",
          "Central African Republic",
          "Chad",
          "China",
          "Colombia",
          "Congo",
          "Costa Rica",
          "Cote d'Ivoire",
          "Croatia",
          "Cuba",
          "Cyprus",
          "Czechia",
          "Denmark",
          "Djibouti",
          "Dominica",
          "Dominican Republic",
          "Ecuador",
          "Egypt",
          "El Salvador",
          "Estonia",
          "Eswatini",
          "Ethiopia",
          "Fiji",
          "Finland",
          "France",
          "Gabon",
          "Gambia",
          "Georgia",
          "Germany",
          "Ghana",
          "Greece",
          "Guatemala",
          "Guinea",
          "Guinea-Bissau",
          "Guyana",
          "Haiti",
          "Honduras",
          "Hungary",
          "Iceland",
          "India",
          "Indonesia",
          "Iran (Islamic Republic of)",
          "Iraq",
          "Ireland",
          "Israel",
          "Italy",
          "Jamaica",
          "Japan",
          "Jordan",
          "Kazakhstan",
          "Kenya",
          "Korea, South",
          "Kuwait",
          "Kyrgyzstan",
          "Lao People's Democratic Republic",
          "Latvia",
          "Lebanon",
          "Lesotho",
          "Liberia",
          "Lithuania",
          "Luxembourg",
          "Madagascar",
          "Malawi",
          "Malaysia",
          "Maldives",
          "Mali",
          "Malta",
          "Mauritania",
          "Mauritius",
          "Mexico",
          "Mongolia",
          "Montenegro",
          "Morocco",
          "Mozambique",
          "Namibia",
          "Nepal",
          "Netherlands",
          "New Zealand",
          "Nicaragua",
          "Niger",
          "Nigeria",
          "North Macedonia",
          "Norway",
          "Oman",
          "Pakistan",
          "Panama",
          "Paraguay",
          "Peru",
          "Philippines",
          "Poland",
          "Portugal",
          "Romania",
          "Russian Federation",
          "Rwanda",
          "Saint Vincent and the Grenadines",
          "Samoa",
          "Sao Tome and Principe",
          "Saudi Arabia",
          "Senegal",
          "Serbia",
          "Sierra Leone",
          "Slovakia",
          "Slovenia",
          "Solomon Islands",
          "South Africa",
          "Spain",
          "Sri Lanka",
          "Sudan",
          "Suriname",
          "Sweden",
          "Switzerland",
          "Thailand",
          "Timor-Leste",
          "Togo",
          "Trinidad and Tobago",
          "Tunisia",
          "Turkey",
          "Uganda",
          "Ukraine",
          "United Arab Emirates",
          "United Kingdom",
          "United Republic of Tanzania",
          "United States of America",
          "Uruguay",
          "Uzbekistan",
          "Vanuatu",
          "Venezuela (Bolivarian Republic of)",
          "Vietnam",
          "Yemen",
          "Zambia",
          "Zimbabwe"
         ],
         "legendgroup": "",
         "marker": {
          "color": "#1F77B4",
          "size": [
           4.352069401771176,
           1.717094950838359,
           2.677922101832838,
           2.3676602532149635,
           2.4844575955044093,
           1.8542667786134115,
           3.150670687324479,
           1.8919724890064906,
           1.3661036611231818,
           1.5229559105193446,
           1.0739856801909273,
           0.6899933452418479,
           2.9497009131473866,
           2.5421616681897454,
           1.3117099928451212,
           4.734334824416184,
           3.8684641184762842,
           0.6935284857252216,
           2.434952708034622,
           4.1650264815344915,
           1.1935512603544514,
           0.9388038942976333,
           0,
           1.509842645091354,
           1.2627781118460006,
           3.59919378059302,
           4.805277633833631,
           2.5889186861143494,
           2.5392296718972953,
           1.3602256182612322,
           0.5479081408326841,
           2.187763156775512,
           0.7278747930398786,
           0.6667930729364175,
           1.6628288962753528,
           1.0977307290299227,
           1.0604275374515941,
           0,
           1.2608711309577398,
           5.835521070338193,
           5.67927808593425,
           2.9749097569215976,
           0.9597575349385394,
           3.7327730053766808,
           1.5164047422111782,
           3.5714285714272003,
           1.4557149507003473,
           2.338085920955278,
           0.6197084751680058,
           3.162615057823919,
           1.2495222077822783,
           2.6936944940553724,
           0.6410073380349677,
           3.6461556371122272,
           3.592799671038502,
           0.5727923627684148,
           1.6594516594516089,
           2.267288071545528,
           2.083687701990058,
           2.4105779539326178,
           3.472442519160284,
           0.4816475668493597,
           1.4316534555510503,
           2.7369421365114532,
           4.002549045135918,
           2.0896821247784514,
           1.813891028299463,
           0.7396624478728323,
           3.4666515307238015,
           2.11982661362151,
           1.576975611687368,
           1.3086519596830934,
           1.2814086867923244,
           1.7464844134132844,
           1.8183840981012265,
           0.5669387659083954,
           1.674275225903617,
           0,
           1.860628154795289,
           1.1207037591713966,
           1.9509594882729038,
           4.294478527607231,
           1.5713074007665992,
           1.145364186985557,
           1.4739050616311615,
           3.114418604651148,
           0.3589964854369718,
           0.3242074927953887,
           4.142156862745105,
           1.501937984496126,
           2.5309671272034104,
           1.7123287671230836,
           8.607430636318348,
           0.0988630746416214,
           1.291339069185499,
           1.764547357073975,
           1.0223975335509343,
           1.064745723797499,
           0.7486957609471403,
           1.4243564159538173,
           1.0775862068965336,
           2.69884108588658,
           3.588516746411267,
           1.1828327659756783,
           3.082485015697845,
           0.9001902463922752,
           1.1344702719914677,
           2.1582617038850955,
           1.6709346206626199,
           2.039926455091825,
           3.5747136725359967,
           2.0746151878264283,
           2.523017993827355,
           1.8314595238782685,
           2.530325838811961,
           1.9195665531202482,
           1.328273244781726,
           0.24958402662229656,
           0,
           1.3323464100666071,
           1.7291011755293173,
           2.3693355330127055,
           1.011930542977517,
           2.0943796394484098,
           1.9616157448791693,
           2.0854383057834607,
           0,
           3.1336092827576865,
           2.0865468611382068,
           0.5118408772748326,
           6.178713639738081,
           1.84971098265896,
           2.0601569222292837,
           1.8060702460925737,
           0.3380257584183738,
           0,
           1.4532744665193644,
           1.7735155018391897,
           3.3130412256679715,
           1.056921259861232,
           0.8211747570376574,
           1.9248143470455454,
           0.28262039195799604,
           2.849460060239427,
           4.12573673870378,
           1.7169650684879818,
           1.0733732036061732,
           0.7856284394964747,
           0,
           0.9472165870891425,
           1.763224181360229,
           28.913963328631993,
           1.365848893808903,
           3.815930640531178
          ],
          "sizemode": "area",
          "sizeref": 0.032126625920702215,
          "symbol": "circle"
         },
         "mode": "markers",
         "name": "",
         "orientation": "v",
         "showlegend": false,
         "type": "scatter",
         "x": [
          0.0061857788738183,
          0.0509513742071882,
          0.0065581531663548,
          0.0014605497816862,
          0.108226634638694,
          0.105345060893099,
          0.0035295488079521,
          0.0896791563832174,
          0.0312227938266719,
          0.0048230659152341,
          0.0062717770034843,
          0.018912,
          0.185427702996092,
          0.0730310262529833,
          0.0004504873454009,
          0.0924353133327602,
          0.145534897896983,
          0.0070349589987052,
          0.108602912016316,
          0.134416053125451,
          0.000641056307707,
          0.0242805755395683,
          0,
          0.001782088878863,
          0.0013043478260869,
          0.0007406529596492,
          0.0003438428106404,
          0.112638540571151,
          0.0145161290322581,
          0.0522793973782039,
          0.0006189111747851,
          0.127960199004975,
          0.0020654197322932,
          0.0174813587406794,
          0.159845091452034,
          0.0380168124892777,
          0.0063765182186234,
          0,
          0.0266761904761905,
          0.0856832847924162,
          0.0095274942214021,
          0.0258139176053078,
          0.0342599549211119,
          0.0547101449275362,
          0.0018665808068502,
          0.0002232142857142,
          0.0124434798336046,
          0.121558361564521,
          0.0031824294038547,
          0.0055440628878775,
          0.0879946164199192,
          0.073890756302521,
          0.0014449843915939,
          0.0556168224299065,
          0.0324034097199159,
          0.0006687898089171,
          0.0023871302542812,
          0.0228716645489199,
          0.0021485573971761,
          0.0376115166261152,
          0.13336746186137,
          0.0078804347826087,
          0.0110703521177059,
          0.0115526295452622,
          0.0694141414141414,
          0.0330044052863436,
          0.0734359384369378,
          0.0550238715277778,
          0.150927093007828,
          0.0127091491634033,
          0.0050592615526288,
          0.0409120704185785,
          0.0166506512919069,
          0.0033178897025855,
          0.0028408103358374,
          0.0205499893412918,
          0.0215802244464665,
          0,
          0.0697686645636172,
          0.0521904761904762,
          0.0085434173669467,
          0.0016607354685646,
          0.104760200429492,
          0.0933544303797468,
          0.0010147701419233,
          0.0043753267119707,
          0.002614319270309,
          0.0099815157116451,
          0.00166905338008,
          0.053448275862069,
          0.0091397849462365,
          0.000790513833992,
          0.129731125579066,
          5.9506099375186e-05,
          0.134405144694534,
          0.0233116377392078,
          0.0014470897773214,
          0.0146005509641873,
          0.0067842378983864,
          0.0828304803343448,
          0.0005013033888109,
          0.0025773195876288,
          0.0006821282401091,
          0.0007989715727175,
          0.140192307692308,
          0.0108037868943753,
          0.0325058349246764,
          0.0054164026432515,
          0.127363997198226,
          0.0386905582356995,
          0.127751035827443,
          0.0101386189211633,
          0.101631567973311,
          0.136070209653827,
          0.0977547944493529,
          0.0511200616084998,
          0.0016754169240271,
          0.0027027027027027,
          0,
          0.0085714285714285,
          0.0182557575411661,
          0.0040312947921643,
          0.0591059364668679,
          0.0009903472483389,
          0.094013181984621,
          0.171754636233952,
          0,
          0.0774468370564164,
          0.128867429411147,
          0.0016000364680676,
          0.0041756938584688,
          0.0264462809917355,
          0.11674857858726,
          0.111257817929117,
          0.0001187362852075,
          0,
          0.0009542215243386,
          0.0098612125639152,
          0.0602051109616678,
          0.0318676331848526,
          0.0007148947333901,
          0.0592058020967974,
          0.0093475148292084,
          0.167220071471114,
          3.51558576355175e-05,
          0.140103007778633,
          0.0136222033418295,
          0.0018171709486744,
          0,
          0.0042869610752312,
          3.63791329293517e-05,
          0.002061959364313,
          0.0045637510879025,
          0.0088542017089416
         ],
         "xaxis": "x",
         "y": [
          4.5,
          22.3,
          26.6,
          6.8,
          28.5,
          20.9,
          30.4,
          21.9,
          19.9,
          3.4,
          24.8,
          26.6,
          24.5,
          22.4,
          8.2,
          18.7,
          19.4,
          16.1,
          22.3,
          27.4,
          4.5,
          10.6,
          3.5,
          9.5,
          6.3,
          4.8,
          6.6,
          22.1,
          8.4,
          25.7,
          9,
          27.1,
          26.7,
          22.6,
          28.5,
          21.3,
          12.2,
          28.2,
          26.9,
          19.3,
          31.1,
          22.7,
          23.8,
          13.5,
          3.6,
          30,
          24.9,
          23.2,
          13.4,
          8.7,
          23.3,
          25.7,
          9.7,
          27.4,
          18.8,
          6.6,
          8.2,
          19.2,
          20.5,
          19.4,
          28.6,
          23.1,
          3.8,
          6.9,
          25.5,
          27.4,
          26.9,
          26.7,
          22.9,
          24.4,
          4.4,
          33.4,
          21.3,
          6,
          4.9,
          37,
          15.4,
          4.5,
          25.7,
          31.3,
          13.5,
          8.6,
          28.4,
          24.2,
          4.5,
          4.7,
          15.3,
          7.9,
          7.1,
          31,
          11.3,
          11.5,
          28.4,
          19.6,
          24.9,
          25.6,
          6,
          15,
          3.8,
          23.1,
          32,
          21.8,
          4.7,
          7.8,
          23.9,
          25,
          22.9,
          7.8,
          22.5,
          19,
          19.1,
          6,
          25.6,
          23.2,
          24.5,
          25.7,
          4.8,
          23.8,
          45.5,
          10.6,
          35,
          7.4,
          23.5,
          7.5,
          22.4,
          22.5,
          20.5,
          27,
          27.1,
          5.4,
          7.4,
          26.5,
          22.1,
          21.2,
          10.8,
          2.9,
          7.1,
          19.7,
          27.3,
          32.2,
          4.1,
          26.1,
          29.9,
          29.5,
          7.1,
          37.3,
          28.9,
          15.3,
          23.5,
          25.2,
          2.1,
          14.1,
          6.5,
          12.3
         ],
         "yaxis": "y"
        }
       ],
       "layout": {
        "legend": {
         "itemsizing": "constant",
         "tracegroupgap": 0
        },
        "margin": {
         "t": 60
        },
        "shapes": [
         {
          "line": {
           "color": "crimson",
           "width": 4
          },
          "type": "line",
          "x0": 0,
          "x1": 0.185427702996092,
          "y0": 18.449350649350656,
          "y1": 18.449350649350656
         }
        ],
        "template": {
         "data": {
          "bar": [
           {
            "error_x": {
             "color": "rgb(36,36,36)"
            },
            "error_y": {
             "color": "rgb(36,36,36)"
            },
            "marker": {
             "line": {
              "color": "white",
              "width": 0.5
             },
             "pattern": {
              "fillmode": "overlay",
              "size": 10,
              "solidity": 0.2
             }
            },
            "type": "bar"
           }
          ],
          "barpolar": [
           {
            "marker": {
             "line": {
              "color": "white",
              "width": 0.5
             },
             "pattern": {
              "fillmode": "overlay",
              "size": 10,
              "solidity": 0.2
             }
            },
            "type": "barpolar"
           }
          ],
          "carpet": [
           {
            "aaxis": {
             "endlinecolor": "rgb(36,36,36)",
             "gridcolor": "white",
             "linecolor": "white",
             "minorgridcolor": "white",
             "startlinecolor": "rgb(36,36,36)"
            },
            "baxis": {
             "endlinecolor": "rgb(36,36,36)",
             "gridcolor": "white",
             "linecolor": "white",
             "minorgridcolor": "white",
             "startlinecolor": "rgb(36,36,36)"
            },
            "type": "carpet"
           }
          ],
          "choropleth": [
           {
            "colorbar": {
             "outlinewidth": 1,
             "tickcolor": "rgb(36,36,36)",
             "ticks": "outside"
            },
            "type": "choropleth"
           }
          ],
          "contour": [
           {
            "colorbar": {
             "outlinewidth": 1,
             "tickcolor": "rgb(36,36,36)",
             "ticks": "outside"
            },
            "colorscale": [
             [
              0,
              "#440154"
             ],
             [
              0.1111111111111111,
              "#482878"
             ],
             [
              0.2222222222222222,
              "#3e4989"
             ],
             [
              0.3333333333333333,
              "#31688e"
             ],
             [
              0.4444444444444444,
              "#26828e"
             ],
             [
              0.5555555555555556,
              "#1f9e89"
             ],
             [
              0.6666666666666666,
              "#35b779"
             ],
             [
              0.7777777777777778,
              "#6ece58"
             ],
             [
              0.8888888888888888,
              "#b5de2b"
             ],
             [
              1,
              "#fde725"
             ]
            ],
            "type": "contour"
           }
          ],
          "contourcarpet": [
           {
            "colorbar": {
             "outlinewidth": 1,
             "tickcolor": "rgb(36,36,36)",
             "ticks": "outside"
            },
            "type": "contourcarpet"
           }
          ],
          "heatmap": [
           {
            "colorbar": {
             "outlinewidth": 1,
             "tickcolor": "rgb(36,36,36)",
             "ticks": "outside"
            },
            "colorscale": [
             [
              0,
              "#440154"
             ],
             [
              0.1111111111111111,
              "#482878"
             ],
             [
              0.2222222222222222,
              "#3e4989"
             ],
             [
              0.3333333333333333,
              "#31688e"
             ],
             [
              0.4444444444444444,
              "#26828e"
             ],
             [
              0.5555555555555556,
              "#1f9e89"
             ],
             [
              0.6666666666666666,
              "#35b779"
             ],
             [
              0.7777777777777778,
              "#6ece58"
             ],
             [
              0.8888888888888888,
              "#b5de2b"
             ],
             [
              1,
              "#fde725"
             ]
            ],
            "type": "heatmap"
           }
          ],
          "heatmapgl": [
           {
            "colorbar": {
             "outlinewidth": 1,
             "tickcolor": "rgb(36,36,36)",
             "ticks": "outside"
            },
            "colorscale": [
             [
              0,
              "#440154"
             ],
             [
              0.1111111111111111,
              "#482878"
             ],
             [
              0.2222222222222222,
              "#3e4989"
             ],
             [
              0.3333333333333333,
              "#31688e"
             ],
             [
              0.4444444444444444,
              "#26828e"
             ],
             [
              0.5555555555555556,
              "#1f9e89"
             ],
             [
              0.6666666666666666,
              "#35b779"
             ],
             [
              0.7777777777777778,
              "#6ece58"
             ],
             [
              0.8888888888888888,
              "#b5de2b"
             ],
             [
              1,
              "#fde725"
             ]
            ],
            "type": "heatmapgl"
           }
          ],
          "histogram": [
           {
            "marker": {
             "line": {
              "color": "white",
              "width": 0.6
             }
            },
            "type": "histogram"
           }
          ],
          "histogram2d": [
           {
            "colorbar": {
             "outlinewidth": 1,
             "tickcolor": "rgb(36,36,36)",
             "ticks": "outside"
            },
            "colorscale": [
             [
              0,
              "#440154"
             ],
             [
              0.1111111111111111,
              "#482878"
             ],
             [
              0.2222222222222222,
              "#3e4989"
             ],
             [
              0.3333333333333333,
              "#31688e"
             ],
             [
              0.4444444444444444,
              "#26828e"
             ],
             [
              0.5555555555555556,
              "#1f9e89"
             ],
             [
              0.6666666666666666,
              "#35b779"
             ],
             [
              0.7777777777777778,
              "#6ece58"
             ],
             [
              0.8888888888888888,
              "#b5de2b"
             ],
             [
              1,
              "#fde725"
             ]
            ],
            "type": "histogram2d"
           }
          ],
          "histogram2dcontour": [
           {
            "colorbar": {
             "outlinewidth": 1,
             "tickcolor": "rgb(36,36,36)",
             "ticks": "outside"
            },
            "colorscale": [
             [
              0,
              "#440154"
             ],
             [
              0.1111111111111111,
              "#482878"
             ],
             [
              0.2222222222222222,
              "#3e4989"
             ],
             [
              0.3333333333333333,
              "#31688e"
             ],
             [
              0.4444444444444444,
              "#26828e"
             ],
             [
              0.5555555555555556,
              "#1f9e89"
             ],
             [
              0.6666666666666666,
              "#35b779"
             ],
             [
              0.7777777777777778,
              "#6ece58"
             ],
             [
              0.8888888888888888,
              "#b5de2b"
             ],
             [
              1,
              "#fde725"
             ]
            ],
            "type": "histogram2dcontour"
           }
          ],
          "mesh3d": [
           {
            "colorbar": {
             "outlinewidth": 1,
             "tickcolor": "rgb(36,36,36)",
             "ticks": "outside"
            },
            "type": "mesh3d"
           }
          ],
          "parcoords": [
           {
            "line": {
             "colorbar": {
              "outlinewidth": 1,
              "tickcolor": "rgb(36,36,36)",
              "ticks": "outside"
             }
            },
            "type": "parcoords"
           }
          ],
          "pie": [
           {
            "automargin": true,
            "type": "pie"
           }
          ],
          "scatter": [
           {
            "marker": {
             "colorbar": {
              "outlinewidth": 1,
              "tickcolor": "rgb(36,36,36)",
              "ticks": "outside"
             }
            },
            "type": "scatter"
           }
          ],
          "scatter3d": [
           {
            "line": {
             "colorbar": {
              "outlinewidth": 1,
              "tickcolor": "rgb(36,36,36)",
              "ticks": "outside"
             }
            },
            "marker": {
             "colorbar": {
              "outlinewidth": 1,
              "tickcolor": "rgb(36,36,36)",
              "ticks": "outside"
             }
            },
            "type": "scatter3d"
           }
          ],
          "scattercarpet": [
           {
            "marker": {
             "colorbar": {
              "outlinewidth": 1,
              "tickcolor": "rgb(36,36,36)",
              "ticks": "outside"
             }
            },
            "type": "scattercarpet"
           }
          ],
          "scattergeo": [
           {
            "marker": {
             "colorbar": {
              "outlinewidth": 1,
              "tickcolor": "rgb(36,36,36)",
              "ticks": "outside"
             }
            },
            "type": "scattergeo"
           }
          ],
          "scattergl": [
           {
            "marker": {
             "colorbar": {
              "outlinewidth": 1,
              "tickcolor": "rgb(36,36,36)",
              "ticks": "outside"
             }
            },
            "type": "scattergl"
           }
          ],
          "scattermapbox": [
           {
            "marker": {
             "colorbar": {
              "outlinewidth": 1,
              "tickcolor": "rgb(36,36,36)",
              "ticks": "outside"
             }
            },
            "type": "scattermapbox"
           }
          ],
          "scatterpolar": [
           {
            "marker": {
             "colorbar": {
              "outlinewidth": 1,
              "tickcolor": "rgb(36,36,36)",
              "ticks": "outside"
             }
            },
            "type": "scatterpolar"
           }
          ],
          "scatterpolargl": [
           {
            "marker": {
             "colorbar": {
              "outlinewidth": 1,
              "tickcolor": "rgb(36,36,36)",
              "ticks": "outside"
             }
            },
            "type": "scatterpolargl"
           }
          ],
          "scatterternary": [
           {
            "marker": {
             "colorbar": {
              "outlinewidth": 1,
              "tickcolor": "rgb(36,36,36)",
              "ticks": "outside"
             }
            },
            "type": "scatterternary"
           }
          ],
          "surface": [
           {
            "colorbar": {
             "outlinewidth": 1,
             "tickcolor": "rgb(36,36,36)",
             "ticks": "outside"
            },
            "colorscale": [
             [
              0,
              "#440154"
             ],
             [
              0.1111111111111111,
              "#482878"
             ],
             [
              0.2222222222222222,
              "#3e4989"
             ],
             [
              0.3333333333333333,
              "#31688e"
             ],
             [
              0.4444444444444444,
              "#26828e"
             ],
             [
              0.5555555555555556,
              "#1f9e89"
             ],
             [
              0.6666666666666666,
              "#35b779"
             ],
             [
              0.7777777777777778,
              "#6ece58"
             ],
             [
              0.8888888888888888,
              "#b5de2b"
             ],
             [
              1,
              "#fde725"
             ]
            ],
            "type": "surface"
           }
          ],
          "table": [
           {
            "cells": {
             "fill": {
              "color": "rgb(237,237,237)"
             },
             "line": {
              "color": "white"
             }
            },
            "header": {
             "fill": {
              "color": "rgb(217,217,217)"
             },
             "line": {
              "color": "white"
             }
            },
            "type": "table"
           }
          ]
         },
         "layout": {
          "annotationdefaults": {
           "arrowhead": 0,
           "arrowwidth": 1
          },
          "autotypenumbers": "strict",
          "coloraxis": {
           "colorbar": {
            "outlinewidth": 1,
            "tickcolor": "rgb(36,36,36)",
            "ticks": "outside"
           }
          },
          "colorscale": {
           "diverging": [
            [
             0,
             "rgb(103,0,31)"
            ],
            [
             0.1,
             "rgb(178,24,43)"
            ],
            [
             0.2,
             "rgb(214,96,77)"
            ],
            [
             0.3,
             "rgb(244,165,130)"
            ],
            [
             0.4,
             "rgb(253,219,199)"
            ],
            [
             0.5,
             "rgb(247,247,247)"
            ],
            [
             0.6,
             "rgb(209,229,240)"
            ],
            [
             0.7,
             "rgb(146,197,222)"
            ],
            [
             0.8,
             "rgb(67,147,195)"
            ],
            [
             0.9,
             "rgb(33,102,172)"
            ],
            [
             1,
             "rgb(5,48,97)"
            ]
           ],
           "sequential": [
            [
             0,
             "#440154"
            ],
            [
             0.1111111111111111,
             "#482878"
            ],
            [
             0.2222222222222222,
             "#3e4989"
            ],
            [
             0.3333333333333333,
             "#31688e"
            ],
            [
             0.4444444444444444,
             "#26828e"
            ],
            [
             0.5555555555555556,
             "#1f9e89"
            ],
            [
             0.6666666666666666,
             "#35b779"
            ],
            [
             0.7777777777777778,
             "#6ece58"
            ],
            [
             0.8888888888888888,
             "#b5de2b"
            ],
            [
             1,
             "#fde725"
            ]
           ],
           "sequentialminus": [
            [
             0,
             "#440154"
            ],
            [
             0.1111111111111111,
             "#482878"
            ],
            [
             0.2222222222222222,
             "#3e4989"
            ],
            [
             0.3333333333333333,
             "#31688e"
            ],
            [
             0.4444444444444444,
             "#26828e"
            ],
            [
             0.5555555555555556,
             "#1f9e89"
            ],
            [
             0.6666666666666666,
             "#35b779"
            ],
            [
             0.7777777777777778,
             "#6ece58"
            ],
            [
             0.8888888888888888,
             "#b5de2b"
            ],
            [
             1,
             "#fde725"
            ]
           ]
          },
          "colorway": [
           "#1F77B4",
           "#FF7F0E",
           "#2CA02C",
           "#D62728",
           "#9467BD",
           "#8C564B",
           "#E377C2",
           "#7F7F7F",
           "#BCBD22",
           "#17BECF"
          ],
          "font": {
           "color": "rgb(36,36,36)"
          },
          "geo": {
           "bgcolor": "white",
           "lakecolor": "white",
           "landcolor": "white",
           "showlakes": true,
           "showland": true,
           "subunitcolor": "white"
          },
          "hoverlabel": {
           "align": "left"
          },
          "hovermode": "closest",
          "mapbox": {
           "style": "light"
          },
          "paper_bgcolor": "white",
          "plot_bgcolor": "white",
          "polar": {
           "angularaxis": {
            "gridcolor": "rgb(232,232,232)",
            "linecolor": "rgb(36,36,36)",
            "showgrid": false,
            "showline": true,
            "ticks": "outside"
           },
           "bgcolor": "white",
           "radialaxis": {
            "gridcolor": "rgb(232,232,232)",
            "linecolor": "rgb(36,36,36)",
            "showgrid": false,
            "showline": true,
            "ticks": "outside"
           }
          },
          "scene": {
           "xaxis": {
            "backgroundcolor": "white",
            "gridcolor": "rgb(232,232,232)",
            "gridwidth": 2,
            "linecolor": "rgb(36,36,36)",
            "showbackground": true,
            "showgrid": false,
            "showline": true,
            "ticks": "outside",
            "zeroline": false,
            "zerolinecolor": "rgb(36,36,36)"
           },
           "yaxis": {
            "backgroundcolor": "white",
            "gridcolor": "rgb(232,232,232)",
            "gridwidth": 2,
            "linecolor": "rgb(36,36,36)",
            "showbackground": true,
            "showgrid": false,
            "showline": true,
            "ticks": "outside",
            "zeroline": false,
            "zerolinecolor": "rgb(36,36,36)"
           },
           "zaxis": {
            "backgroundcolor": "white",
            "gridcolor": "rgb(232,232,232)",
            "gridwidth": 2,
            "linecolor": "rgb(36,36,36)",
            "showbackground": true,
            "showgrid": false,
            "showline": true,
            "ticks": "outside",
            "zeroline": false,
            "zerolinecolor": "rgb(36,36,36)"
           }
          },
          "shapedefaults": {
           "fillcolor": "black",
           "line": {
            "width": 0
           },
           "opacity": 0.3
          },
          "ternary": {
           "aaxis": {
            "gridcolor": "rgb(232,232,232)",
            "linecolor": "rgb(36,36,36)",
            "showgrid": false,
            "showline": true,
            "ticks": "outside"
           },
           "baxis": {
            "gridcolor": "rgb(232,232,232)",
            "linecolor": "rgb(36,36,36)",
            "showgrid": false,
            "showline": true,
            "ticks": "outside"
           },
           "bgcolor": "white",
           "caxis": {
            "gridcolor": "rgb(232,232,232)",
            "linecolor": "rgb(36,36,36)",
            "showgrid": false,
            "showline": true,
            "ticks": "outside"
           }
          },
          "title": {
           "x": 0.05
          },
          "xaxis": {
           "automargin": true,
           "gridcolor": "rgb(232,232,232)",
           "linecolor": "rgb(36,36,36)",
           "showgrid": false,
           "showline": true,
           "ticks": "outside",
           "title": {
            "standoff": 15
           },
           "zeroline": false,
           "zerolinecolor": "rgb(36,36,36)"
          },
          "yaxis": {
           "automargin": true,
           "gridcolor": "rgb(232,232,232)",
           "linecolor": "rgb(36,36,36)",
           "showgrid": false,
           "showline": true,
           "ticks": "outside",
           "title": {
            "standoff": 15
           },
           "zeroline": false,
           "zerolinecolor": "rgb(36,36,36)"
          }
         }
        },
        "xaxis": {
         "anchor": "y",
         "domain": [
          0,
          1
         ],
         "title": {
          "text": "Deaths"
         }
        },
        "yaxis": {
         "anchor": "x",
         "domain": [
          0,
          1
         ],
         "title": {
          "text": "Obesity"
         }
        }
       }
      },
      "text/html": [
       "<div>                            <div id=\"6cd407d7-e441-45ab-82c2-f25f6afbda31\" class=\"plotly-graph-div\" style=\"height:525px; width:100%;\"></div>            <script type=\"text/javascript\">                require([\"plotly\"], function(Plotly) {                    window.PLOTLYENV=window.PLOTLYENV || {};                                    if (document.getElementById(\"6cd407d7-e441-45ab-82c2-f25f6afbda31\")) {                    Plotly.newPlot(                        \"6cd407d7-e441-45ab-82c2-f25f6afbda31\",                        [{\"hovertemplate\":\"<b>%{hovertext}</b><br><br>Deaths=%{x}<br>Obesity=%{y}<br>Mortality=%{marker.size}<extra></extra>\",\"hovertext\":[\"Afghanistan\",\"Albania\",\"Algeria\",\"Angola\",\"Argentina\",\"Armenia\",\"Australia\",\"Austria\",\"Azerbaijan\",\"Bangladesh\",\"Barbados\",\"Belarus\",\"Belgium\",\"Belize\",\"Benin\",\"Bolivia\",\"Bosnia and Herzegovina\",\"Botswana\",\"Brazil\",\"Bulgaria\",\"Burkina Faso\",\"Cabo Verde\",\"Cambodia\",\"Cameroon\",\"Central African Republic\",\"Chad\",\"China\",\"Colombia\",\"Congo\",\"Costa Rica\",\"Cote d'Ivoire\",\"Croatia\",\"Cuba\",\"Cyprus\",\"Czechia\",\"Denmark\",\"Djibouti\",\"Dominica\",\"Dominican Republic\",\"Ecuador\",\"Egypt\",\"El Salvador\",\"Estonia\",\"Eswatini\",\"Ethiopia\",\"Fiji\",\"Finland\",\"France\",\"Gabon\",\"Gambia\",\"Georgia\",\"Germany\",\"Ghana\",\"Greece\",\"Guatemala\",\"Guinea\",\"Guinea-Bissau\",\"Guyana\",\"Haiti\",\"Honduras\",\"Hungary\",\"Iceland\",\"India\",\"Indonesia\",\"Iran (Islamic Republic of)\",\"Iraq\",\"Ireland\",\"Israel\",\"Italy\",\"Jamaica\",\"Japan\",\"Jordan\",\"Kazakhstan\",\"Kenya\",\"Korea, South\",\"Kuwait\",\"Kyrgyzstan\",\"Lao People's Democratic Republic\",\"Latvia\",\"Lebanon\",\"Lesotho\",\"Liberia\",\"Lithuania\",\"Luxembourg\",\"Madagascar\",\"Malawi\",\"Malaysia\",\"Maldives\",\"Mali\",\"Malta\",\"Mauritania\",\"Mauritius\",\"Mexico\",\"Mongolia\",\"Montenegro\",\"Morocco\",\"Mozambique\",\"Namibia\",\"Nepal\",\"Netherlands\",\"New Zealand\",\"Nicaragua\",\"Niger\",\"Nigeria\",\"North Macedonia\",\"Norway\",\"Oman\",\"Pakistan\",\"Panama\",\"Paraguay\",\"Peru\",\"Philippines\",\"Poland\",\"Portugal\",\"Romania\",\"Russian Federation\",\"Rwanda\",\"Saint Vincent and the Grenadines\",\"Samoa\",\"Sao Tome and Principe\",\"Saudi Arabia\",\"Senegal\",\"Serbia\",\"Sierra Leone\",\"Slovakia\",\"Slovenia\",\"Solomon Islands\",\"South Africa\",\"Spain\",\"Sri Lanka\",\"Sudan\",\"Suriname\",\"Sweden\",\"Switzerland\",\"Thailand\",\"Timor-Leste\",\"Togo\",\"Trinidad and Tobago\",\"Tunisia\",\"Turkey\",\"Uganda\",\"Ukraine\",\"United Arab Emirates\",\"United Kingdom\",\"United Republic of Tanzania\",\"United States of America\",\"Uruguay\",\"Uzbekistan\",\"Vanuatu\",\"Venezuela (Bolivarian Republic of)\",\"Vietnam\",\"Yemen\",\"Zambia\",\"Zimbabwe\"],\"legendgroup\":\"\",\"marker\":{\"color\":\"#1F77B4\",\"size\":[4.352069401771176,1.717094950838359,2.677922101832838,2.3676602532149635,2.4844575955044093,1.8542667786134115,3.150670687324479,1.8919724890064906,1.3661036611231818,1.5229559105193446,1.0739856801909273,0.6899933452418479,2.9497009131473866,2.5421616681897454,1.3117099928451212,4.734334824416184,3.8684641184762842,0.6935284857252216,2.434952708034622,4.1650264815344915,1.1935512603544514,0.9388038942976333,0.0,1.509842645091354,1.2627781118460006,3.59919378059302,4.805277633833631,2.5889186861143494,2.5392296718972953,1.3602256182612322,0.5479081408326841,2.187763156775512,0.7278747930398786,0.6667930729364175,1.6628288962753528,1.0977307290299227,1.0604275374515941,0.0,1.2608711309577398,5.835521070338193,5.67927808593425,2.9749097569215976,0.9597575349385394,3.7327730053766808,1.5164047422111782,3.5714285714272003,1.4557149507003473,2.338085920955278,0.6197084751680058,3.162615057823919,1.2495222077822783,2.6936944940553724,0.6410073380349677,3.6461556371122272,3.592799671038502,0.5727923627684148,1.6594516594516089,2.267288071545528,2.083687701990058,2.4105779539326178,3.472442519160284,0.4816475668493597,1.4316534555510503,2.7369421365114532,4.002549045135918,2.0896821247784514,1.813891028299463,0.7396624478728323,3.4666515307238015,2.11982661362151,1.576975611687368,1.3086519596830934,1.2814086867923244,1.7464844134132844,1.8183840981012265,0.5669387659083954,1.674275225903617,0.0,1.860628154795289,1.1207037591713966,1.9509594882729038,4.294478527607231,1.5713074007665992,1.145364186985557,1.4739050616311615,3.114418604651148,0.3589964854369718,0.3242074927953887,4.142156862745105,1.501937984496126,2.5309671272034104,1.7123287671230836,8.607430636318348,0.0988630746416214,1.291339069185499,1.764547357073975,1.0223975335509343,1.064745723797499,0.7486957609471403,1.4243564159538173,1.0775862068965336,2.69884108588658,3.588516746411267,1.1828327659756783,3.082485015697845,0.9001902463922752,1.1344702719914677,2.1582617038850955,1.6709346206626199,2.039926455091825,3.5747136725359967,2.0746151878264283,2.523017993827355,1.8314595238782685,2.530325838811961,1.9195665531202482,1.328273244781726,0.24958402662229656,0.0,1.3323464100666071,1.7291011755293173,2.3693355330127055,1.011930542977517,2.0943796394484098,1.9616157448791693,2.0854383057834607,0.0,3.1336092827576865,2.0865468611382068,0.5118408772748326,6.178713639738081,1.84971098265896,2.0601569222292837,1.8060702460925737,0.3380257584183738,0.0,1.4532744665193644,1.7735155018391897,3.3130412256679715,1.056921259861232,0.8211747570376574,1.9248143470455454,0.28262039195799604,2.849460060239427,4.12573673870378,1.7169650684879818,1.0733732036061732,0.7856284394964747,0.0,0.9472165870891425,1.763224181360229,28.913963328631993,1.365848893808903,3.815930640531178],\"sizemode\":\"area\",\"sizeref\":0.032126625920702215,\"symbol\":\"circle\"},\"mode\":\"markers\",\"name\":\"\",\"orientation\":\"v\",\"showlegend\":false,\"x\":[0.0061857788738183,0.0509513742071882,0.0065581531663548,0.0014605497816862,0.108226634638694,0.105345060893099,0.0035295488079521,0.0896791563832174,0.0312227938266719,0.0048230659152341,0.0062717770034843,0.018912,0.185427702996092,0.0730310262529833,0.0004504873454009,0.0924353133327602,0.145534897896983,0.0070349589987052,0.108602912016316,0.134416053125451,0.000641056307707,0.0242805755395683,0.0,0.001782088878863,0.0013043478260869,0.0007406529596492,0.0003438428106404,0.112638540571151,0.0145161290322581,0.0522793973782039,0.0006189111747851,0.127960199004975,0.0020654197322932,0.0174813587406794,0.159845091452034,0.0380168124892777,0.0063765182186234,0.0,0.0266761904761905,0.0856832847924162,0.0095274942214021,0.0258139176053078,0.0342599549211119,0.0547101449275362,0.0018665808068502,0.0002232142857142,0.0124434798336046,0.121558361564521,0.0031824294038547,0.0055440628878775,0.0879946164199192,0.073890756302521,0.0014449843915939,0.0556168224299065,0.0324034097199159,0.0006687898089171,0.0023871302542812,0.0228716645489199,0.0021485573971761,0.0376115166261152,0.13336746186137,0.0078804347826087,0.0110703521177059,0.0115526295452622,0.0694141414141414,0.0330044052863436,0.0734359384369378,0.0550238715277778,0.150927093007828,0.0127091491634033,0.0050592615526288,0.0409120704185785,0.0166506512919069,0.0033178897025855,0.0028408103358374,0.0205499893412918,0.0215802244464665,0.0,0.0697686645636172,0.0521904761904762,0.0085434173669467,0.0016607354685646,0.104760200429492,0.0933544303797468,0.0010147701419233,0.0043753267119707,0.002614319270309,0.0099815157116451,0.00166905338008,0.053448275862069,0.0091397849462365,0.000790513833992,0.129731125579066,5.9506099375186e-05,0.134405144694534,0.0233116377392078,0.0014470897773214,0.0146005509641873,0.0067842378983864,0.0828304803343448,0.0005013033888109,0.0025773195876288,0.0006821282401091,0.0007989715727175,0.140192307692308,0.0108037868943753,0.0325058349246764,0.0054164026432515,0.127363997198226,0.0386905582356995,0.127751035827443,0.0101386189211633,0.101631567973311,0.136070209653827,0.0977547944493529,0.0511200616084998,0.0016754169240271,0.0027027027027027,0.0,0.0085714285714285,0.0182557575411661,0.0040312947921643,0.0591059364668679,0.0009903472483389,0.094013181984621,0.171754636233952,0.0,0.0774468370564164,0.128867429411147,0.0016000364680676,0.0041756938584688,0.0264462809917355,0.11674857858726,0.111257817929117,0.0001187362852075,0.0,0.0009542215243386,0.0098612125639152,0.0602051109616678,0.0318676331848526,0.0007148947333901,0.0592058020967974,0.0093475148292084,0.167220071471114,3.51558576355175e-05,0.140103007778633,0.0136222033418295,0.0018171709486744,0.0,0.0042869610752312,3.63791329293517e-05,0.002061959364313,0.0045637510879025,0.0088542017089416],\"xaxis\":\"x\",\"y\":[4.5,22.3,26.6,6.8,28.5,20.9,30.4,21.9,19.9,3.4,24.8,26.6,24.5,22.4,8.2,18.7,19.4,16.1,22.3,27.4,4.5,10.6,3.5,9.5,6.3,4.8,6.6,22.1,8.4,25.7,9.0,27.1,26.7,22.6,28.5,21.3,12.2,28.2,26.9,19.3,31.1,22.7,23.8,13.5,3.6,30.0,24.9,23.2,13.4,8.7,23.3,25.7,9.7,27.4,18.8,6.6,8.2,19.2,20.5,19.4,28.6,23.1,3.8,6.9,25.5,27.4,26.9,26.7,22.9,24.4,4.4,33.4,21.3,6.0,4.9,37.0,15.4,4.5,25.7,31.3,13.5,8.6,28.4,24.2,4.5,4.7,15.3,7.9,7.1,31.0,11.3,11.5,28.4,19.6,24.9,25.6,6.0,15.0,3.8,23.1,32.0,21.8,4.7,7.8,23.9,25.0,22.9,7.8,22.5,19.0,19.1,6.0,25.6,23.2,24.5,25.7,4.8,23.8,45.5,10.6,35.0,7.4,23.5,7.5,22.4,22.5,20.5,27.0,27.1,5.4,7.4,26.5,22.1,21.2,10.8,2.9,7.1,19.7,27.3,32.2,4.1,26.1,29.9,29.5,7.1,37.3,28.9,15.3,23.5,25.2,2.1,14.1,6.5,12.3],\"yaxis\":\"y\",\"type\":\"scatter\"}],                        {\"template\":{\"data\":{\"barpolar\":[{\"marker\":{\"line\":{\"color\":\"white\",\"width\":0.5},\"pattern\":{\"fillmode\":\"overlay\",\"size\":10,\"solidity\":0.2}},\"type\":\"barpolar\"}],\"bar\":[{\"error_x\":{\"color\":\"rgb(36,36,36)\"},\"error_y\":{\"color\":\"rgb(36,36,36)\"},\"marker\":{\"line\":{\"color\":\"white\",\"width\":0.5},\"pattern\":{\"fillmode\":\"overlay\",\"size\":10,\"solidity\":0.2}},\"type\":\"bar\"}],\"carpet\":[{\"aaxis\":{\"endlinecolor\":\"rgb(36,36,36)\",\"gridcolor\":\"white\",\"linecolor\":\"white\",\"minorgridcolor\":\"white\",\"startlinecolor\":\"rgb(36,36,36)\"},\"baxis\":{\"endlinecolor\":\"rgb(36,36,36)\",\"gridcolor\":\"white\",\"linecolor\":\"white\",\"minorgridcolor\":\"white\",\"startlinecolor\":\"rgb(36,36,36)\"},\"type\":\"carpet\"}],\"choropleth\":[{\"colorbar\":{\"outlinewidth\":1,\"tickcolor\":\"rgb(36,36,36)\",\"ticks\":\"outside\"},\"type\":\"choropleth\"}],\"contourcarpet\":[{\"colorbar\":{\"outlinewidth\":1,\"tickcolor\":\"rgb(36,36,36)\",\"ticks\":\"outside\"},\"type\":\"contourcarpet\"}],\"contour\":[{\"colorbar\":{\"outlinewidth\":1,\"tickcolor\":\"rgb(36,36,36)\",\"ticks\":\"outside\"},\"colorscale\":[[0.0,\"#440154\"],[0.1111111111111111,\"#482878\"],[0.2222222222222222,\"#3e4989\"],[0.3333333333333333,\"#31688e\"],[0.4444444444444444,\"#26828e\"],[0.5555555555555556,\"#1f9e89\"],[0.6666666666666666,\"#35b779\"],[0.7777777777777778,\"#6ece58\"],[0.8888888888888888,\"#b5de2b\"],[1.0,\"#fde725\"]],\"type\":\"contour\"}],\"heatmapgl\":[{\"colorbar\":{\"outlinewidth\":1,\"tickcolor\":\"rgb(36,36,36)\",\"ticks\":\"outside\"},\"colorscale\":[[0.0,\"#440154\"],[0.1111111111111111,\"#482878\"],[0.2222222222222222,\"#3e4989\"],[0.3333333333333333,\"#31688e\"],[0.4444444444444444,\"#26828e\"],[0.5555555555555556,\"#1f9e89\"],[0.6666666666666666,\"#35b779\"],[0.7777777777777778,\"#6ece58\"],[0.8888888888888888,\"#b5de2b\"],[1.0,\"#fde725\"]],\"type\":\"heatmapgl\"}],\"heatmap\":[{\"colorbar\":{\"outlinewidth\":1,\"tickcolor\":\"rgb(36,36,36)\",\"ticks\":\"outside\"},\"colorscale\":[[0.0,\"#440154\"],[0.1111111111111111,\"#482878\"],[0.2222222222222222,\"#3e4989\"],[0.3333333333333333,\"#31688e\"],[0.4444444444444444,\"#26828e\"],[0.5555555555555556,\"#1f9e89\"],[0.6666666666666666,\"#35b779\"],[0.7777777777777778,\"#6ece58\"],[0.8888888888888888,\"#b5de2b\"],[1.0,\"#fde725\"]],\"type\":\"heatmap\"}],\"histogram2dcontour\":[{\"colorbar\":{\"outlinewidth\":1,\"tickcolor\":\"rgb(36,36,36)\",\"ticks\":\"outside\"},\"colorscale\":[[0.0,\"#440154\"],[0.1111111111111111,\"#482878\"],[0.2222222222222222,\"#3e4989\"],[0.3333333333333333,\"#31688e\"],[0.4444444444444444,\"#26828e\"],[0.5555555555555556,\"#1f9e89\"],[0.6666666666666666,\"#35b779\"],[0.7777777777777778,\"#6ece58\"],[0.8888888888888888,\"#b5de2b\"],[1.0,\"#fde725\"]],\"type\":\"histogram2dcontour\"}],\"histogram2d\":[{\"colorbar\":{\"outlinewidth\":1,\"tickcolor\":\"rgb(36,36,36)\",\"ticks\":\"outside\"},\"colorscale\":[[0.0,\"#440154\"],[0.1111111111111111,\"#482878\"],[0.2222222222222222,\"#3e4989\"],[0.3333333333333333,\"#31688e\"],[0.4444444444444444,\"#26828e\"],[0.5555555555555556,\"#1f9e89\"],[0.6666666666666666,\"#35b779\"],[0.7777777777777778,\"#6ece58\"],[0.8888888888888888,\"#b5de2b\"],[1.0,\"#fde725\"]],\"type\":\"histogram2d\"}],\"histogram\":[{\"marker\":{\"line\":{\"color\":\"white\",\"width\":0.6}},\"type\":\"histogram\"}],\"mesh3d\":[{\"colorbar\":{\"outlinewidth\":1,\"tickcolor\":\"rgb(36,36,36)\",\"ticks\":\"outside\"},\"type\":\"mesh3d\"}],\"parcoords\":[{\"line\":{\"colorbar\":{\"outlinewidth\":1,\"tickcolor\":\"rgb(36,36,36)\",\"ticks\":\"outside\"}},\"type\":\"parcoords\"}],\"pie\":[{\"automargin\":true,\"type\":\"pie\"}],\"scatter3d\":[{\"line\":{\"colorbar\":{\"outlinewidth\":1,\"tickcolor\":\"rgb(36,36,36)\",\"ticks\":\"outside\"}},\"marker\":{\"colorbar\":{\"outlinewidth\":1,\"tickcolor\":\"rgb(36,36,36)\",\"ticks\":\"outside\"}},\"type\":\"scatter3d\"}],\"scattercarpet\":[{\"marker\":{\"colorbar\":{\"outlinewidth\":1,\"tickcolor\":\"rgb(36,36,36)\",\"ticks\":\"outside\"}},\"type\":\"scattercarpet\"}],\"scattergeo\":[{\"marker\":{\"colorbar\":{\"outlinewidth\":1,\"tickcolor\":\"rgb(36,36,36)\",\"ticks\":\"outside\"}},\"type\":\"scattergeo\"}],\"scattergl\":[{\"marker\":{\"colorbar\":{\"outlinewidth\":1,\"tickcolor\":\"rgb(36,36,36)\",\"ticks\":\"outside\"}},\"type\":\"scattergl\"}],\"scattermapbox\":[{\"marker\":{\"colorbar\":{\"outlinewidth\":1,\"tickcolor\":\"rgb(36,36,36)\",\"ticks\":\"outside\"}},\"type\":\"scattermapbox\"}],\"scatterpolargl\":[{\"marker\":{\"colorbar\":{\"outlinewidth\":1,\"tickcolor\":\"rgb(36,36,36)\",\"ticks\":\"outside\"}},\"type\":\"scatterpolargl\"}],\"scatterpolar\":[{\"marker\":{\"colorbar\":{\"outlinewidth\":1,\"tickcolor\":\"rgb(36,36,36)\",\"ticks\":\"outside\"}},\"type\":\"scatterpolar\"}],\"scatter\":[{\"marker\":{\"colorbar\":{\"outlinewidth\":1,\"tickcolor\":\"rgb(36,36,36)\",\"ticks\":\"outside\"}},\"type\":\"scatter\"}],\"scatterternary\":[{\"marker\":{\"colorbar\":{\"outlinewidth\":1,\"tickcolor\":\"rgb(36,36,36)\",\"ticks\":\"outside\"}},\"type\":\"scatterternary\"}],\"surface\":[{\"colorbar\":{\"outlinewidth\":1,\"tickcolor\":\"rgb(36,36,36)\",\"ticks\":\"outside\"},\"colorscale\":[[0.0,\"#440154\"],[0.1111111111111111,\"#482878\"],[0.2222222222222222,\"#3e4989\"],[0.3333333333333333,\"#31688e\"],[0.4444444444444444,\"#26828e\"],[0.5555555555555556,\"#1f9e89\"],[0.6666666666666666,\"#35b779\"],[0.7777777777777778,\"#6ece58\"],[0.8888888888888888,\"#b5de2b\"],[1.0,\"#fde725\"]],\"type\":\"surface\"}],\"table\":[{\"cells\":{\"fill\":{\"color\":\"rgb(237,237,237)\"},\"line\":{\"color\":\"white\"}},\"header\":{\"fill\":{\"color\":\"rgb(217,217,217)\"},\"line\":{\"color\":\"white\"}},\"type\":\"table\"}]},\"layout\":{\"annotationdefaults\":{\"arrowhead\":0,\"arrowwidth\":1},\"autotypenumbers\":\"strict\",\"coloraxis\":{\"colorbar\":{\"outlinewidth\":1,\"tickcolor\":\"rgb(36,36,36)\",\"ticks\":\"outside\"}},\"colorscale\":{\"diverging\":[[0.0,\"rgb(103,0,31)\"],[0.1,\"rgb(178,24,43)\"],[0.2,\"rgb(214,96,77)\"],[0.3,\"rgb(244,165,130)\"],[0.4,\"rgb(253,219,199)\"],[0.5,\"rgb(247,247,247)\"],[0.6,\"rgb(209,229,240)\"],[0.7,\"rgb(146,197,222)\"],[0.8,\"rgb(67,147,195)\"],[0.9,\"rgb(33,102,172)\"],[1.0,\"rgb(5,48,97)\"]],\"sequential\":[[0.0,\"#440154\"],[0.1111111111111111,\"#482878\"],[0.2222222222222222,\"#3e4989\"],[0.3333333333333333,\"#31688e\"],[0.4444444444444444,\"#26828e\"],[0.5555555555555556,\"#1f9e89\"],[0.6666666666666666,\"#35b779\"],[0.7777777777777778,\"#6ece58\"],[0.8888888888888888,\"#b5de2b\"],[1.0,\"#fde725\"]],\"sequentialminus\":[[0.0,\"#440154\"],[0.1111111111111111,\"#482878\"],[0.2222222222222222,\"#3e4989\"],[0.3333333333333333,\"#31688e\"],[0.4444444444444444,\"#26828e\"],[0.5555555555555556,\"#1f9e89\"],[0.6666666666666666,\"#35b779\"],[0.7777777777777778,\"#6ece58\"],[0.8888888888888888,\"#b5de2b\"],[1.0,\"#fde725\"]]},\"colorway\":[\"#1F77B4\",\"#FF7F0E\",\"#2CA02C\",\"#D62728\",\"#9467BD\",\"#8C564B\",\"#E377C2\",\"#7F7F7F\",\"#BCBD22\",\"#17BECF\"],\"font\":{\"color\":\"rgb(36,36,36)\"},\"geo\":{\"bgcolor\":\"white\",\"lakecolor\":\"white\",\"landcolor\":\"white\",\"showlakes\":true,\"showland\":true,\"subunitcolor\":\"white\"},\"hoverlabel\":{\"align\":\"left\"},\"hovermode\":\"closest\",\"mapbox\":{\"style\":\"light\"},\"paper_bgcolor\":\"white\",\"plot_bgcolor\":\"white\",\"polar\":{\"angularaxis\":{\"gridcolor\":\"rgb(232,232,232)\",\"linecolor\":\"rgb(36,36,36)\",\"showgrid\":false,\"showline\":true,\"ticks\":\"outside\"},\"bgcolor\":\"white\",\"radialaxis\":{\"gridcolor\":\"rgb(232,232,232)\",\"linecolor\":\"rgb(36,36,36)\",\"showgrid\":false,\"showline\":true,\"ticks\":\"outside\"}},\"scene\":{\"xaxis\":{\"backgroundcolor\":\"white\",\"gridcolor\":\"rgb(232,232,232)\",\"gridwidth\":2,\"linecolor\":\"rgb(36,36,36)\",\"showbackground\":true,\"showgrid\":false,\"showline\":true,\"ticks\":\"outside\",\"zeroline\":false,\"zerolinecolor\":\"rgb(36,36,36)\"},\"yaxis\":{\"backgroundcolor\":\"white\",\"gridcolor\":\"rgb(232,232,232)\",\"gridwidth\":2,\"linecolor\":\"rgb(36,36,36)\",\"showbackground\":true,\"showgrid\":false,\"showline\":true,\"ticks\":\"outside\",\"zeroline\":false,\"zerolinecolor\":\"rgb(36,36,36)\"},\"zaxis\":{\"backgroundcolor\":\"white\",\"gridcolor\":\"rgb(232,232,232)\",\"gridwidth\":2,\"linecolor\":\"rgb(36,36,36)\",\"showbackground\":true,\"showgrid\":false,\"showline\":true,\"ticks\":\"outside\",\"zeroline\":false,\"zerolinecolor\":\"rgb(36,36,36)\"}},\"shapedefaults\":{\"fillcolor\":\"black\",\"line\":{\"width\":0},\"opacity\":0.3},\"ternary\":{\"aaxis\":{\"gridcolor\":\"rgb(232,232,232)\",\"linecolor\":\"rgb(36,36,36)\",\"showgrid\":false,\"showline\":true,\"ticks\":\"outside\"},\"baxis\":{\"gridcolor\":\"rgb(232,232,232)\",\"linecolor\":\"rgb(36,36,36)\",\"showgrid\":false,\"showline\":true,\"ticks\":\"outside\"},\"bgcolor\":\"white\",\"caxis\":{\"gridcolor\":\"rgb(232,232,232)\",\"linecolor\":\"rgb(36,36,36)\",\"showgrid\":false,\"showline\":true,\"ticks\":\"outside\"}},\"title\":{\"x\":0.05},\"xaxis\":{\"automargin\":true,\"gridcolor\":\"rgb(232,232,232)\",\"linecolor\":\"rgb(36,36,36)\",\"showgrid\":false,\"showline\":true,\"ticks\":\"outside\",\"title\":{\"standoff\":15},\"zeroline\":false,\"zerolinecolor\":\"rgb(36,36,36)\"},\"yaxis\":{\"automargin\":true,\"gridcolor\":\"rgb(232,232,232)\",\"linecolor\":\"rgb(36,36,36)\",\"showgrid\":false,\"showline\":true,\"ticks\":\"outside\",\"title\":{\"standoff\":15},\"zeroline\":false,\"zerolinecolor\":\"rgb(36,36,36)\"}}},\"xaxis\":{\"anchor\":\"y\",\"domain\":[0.0,1.0],\"title\":{\"text\":\"Deaths\"}},\"yaxis\":{\"anchor\":\"x\",\"domain\":[0.0,1.0],\"title\":{\"text\":\"Obesity\"}},\"legend\":{\"tracegroupgap\":0,\"itemsizing\":\"constant\"},\"margin\":{\"t\":60},\"shapes\":[{\"line\":{\"color\":\"crimson\",\"width\":4},\"type\":\"line\",\"x0\":0,\"x1\":0.185427702996092,\"y0\":18.449350649350656,\"y1\":18.449350649350656}]},                        {\"responsive\": true}                    ).then(function(){\n",
       "                            \n",
       "var gd = document.getElementById('6cd407d7-e441-45ab-82c2-f25f6afbda31');\n",
       "var x = new MutationObserver(function (mutations, observer) {{\n",
       "        var display = window.getComputedStyle(gd).display;\n",
       "        if (!display || display === 'none') {{\n",
       "            console.log([gd, 'removed!']);\n",
       "            Plotly.purge(gd);\n",
       "            observer.disconnect();\n",
       "        }}\n",
       "}});\n",
       "\n",
       "// Listen for the removal of the full notebook cells\n",
       "var notebookContainer = gd.closest('#notebook-container');\n",
       "if (notebookContainer) {{\n",
       "    x.observe(notebookContainer, {childList: true});\n",
       "}}\n",
       "\n",
       "// Listen for the clearing of the current output cell\n",
       "var outputEl = gd.closest('.output');\n",
       "if (outputEl) {{\n",
       "    x.observe(outputEl, {childList: true});\n",
       "}}\n",
       "\n",
       "                        })                };                });            </script>        </div>"
      ]
     },
     "metadata": {},
     "output_type": "display_data"
    }
   ],
   "source": [
    "fig = px.scatter(food_df, x=\"Deaths\", y = \"Obesity\", size = \"Mortality\", hover_name='Country', log_x=False,\n",
    "                 size_max=30, template=\"simple_white\")\n",
    "\n",
    "fig.add_shape(\n",
    "        # Line Horizontal\n",
    "            type=\"line\",\n",
    "            x0=0,\n",
    "            y0=food_df['Obesity'].mean(),\n",
    "            x1=food_df['Deaths'].max(),\n",
    "            y1=food_df['Obesity'].mean(),\n",
    "            line=dict(\n",
    "                color=\"crimson\",\n",
    "                width=4\n",
    "            ),\n",
    "    )\n",
    "\n",
    "fig.show()\n",
    "a,b = stats.pearsonr(food_df['Deaths'].values, food_df['Obesity'].values)"
   ]
  },
  {
   "cell_type": "markdown",
   "id": "0d708a11",
   "metadata": {
    "pycharm": {
     "name": "#%% md\n"
    }
   },
   "source": [
    "## *EDA #3* - Correlation of Undernourished, Mortality, and Deaths\n",
    "insert details"
   ]
  },
  {
   "cell_type": "code",
   "execution_count": null,
   "id": "df87a2bf",
   "metadata": {
    "pycharm": {
     "name": "#%%\n"
    }
   },
   "outputs": [],
   "source": [
    "# Figure to present the relationship between Undernourished and Mortality \n",
    "# (with each point representing a country and the varying sizes of each point \n",
    "# representing the country's corresponding death rate)\n",
    "\n",
    "fig = px.scatter(food_df, x=\"Mortality\", y = \"Undernourished\", size = \"Deaths\", hover_name='Country', log_x=False,\n",
    "                 size_max=30, template=\"simple_white\")\n",
    "\n",
    "fig.add_shape(\n",
    "    # Line Horizontal   \n",
    "    type=\"line\",\n",
    "    x0=0,\n",
    "    y0 = food_df['Obesity'].mean(),\n",
    "    x1 = food_df['Mortality'].max(),\n",
    "    y1 = food_df['Obesity'].mean(),\n",
    "    line=dict(\n",
    "        color=\"crimson\",\n",
    "        width=4\n",
    "    ),\n",
    ")\n",
    "\n",
    "fig.show()"
   ]
  },
  {
   "cell_type": "markdown",
   "id": "61ea866d",
   "metadata": {
    "pycharm": {
     "name": "#%% md\n"
    }
   },
   "source": [
    "explain visualization"
   ]
  },
  {
   "cell_type": "markdown",
   "id": "ae01e798",
   "metadata": {
    "pycharm": {
     "name": "#%% md\n"
    }
   },
   "source": [
    "verbose textual descriptions of your procedures and findings for EDA"
   ]
  },
  {
   "cell_type": "code",
   "execution_count": null,
   "id": "a0ab1fbc-f025-4b6c-aaa4-502ac0df2f54",
   "metadata": {
    "pycharm": {
     "name": "#%%\n"
    }
   },
   "outputs": [],
   "source": [
    "fig = px.scatter(food_df, x=\"Deaths\", y = \"Undernourished\", size = \"Mortality\", hover_name='Country', log_x=False,\n",
    "                 size_max=30, template=\"simple_white\")\n",
    "\n",
    "fig.add_shape(\n",
    "        # Line Horizontal\n",
    "            type=\"line\",\n",
    "            x0=0,\n",
    "            y0=food_df['Undernourished'].mean(),\n",
    "            x1=food_df['Deaths'].max(),\n",
    "            y1=food_df['Undernourished'].mean(),\n",
    "            line=dict(\n",
    "                color=\"crimson\",\n",
    "                width=4\n",
    "            ),\n",
    "    )\n",
    "\n",
    "fig.show()\n",
    "a,b = stats.pearsonr(food_df['Deaths'].values, food_df['Undernourished'].values)"
   ]
  },
  {
   "cell_type": "markdown",
   "id": "b0614fb9",
   "metadata": {
    "pycharm": {
     "name": "#%% md\n"
    }
   },
   "source": [
    "# IV. Research Question\n",
    "insert details"
   ]
  },
  {
   "cell_type": "markdown",
   "id": "e4db4adb",
   "metadata": {
    "pycharm": {
     "name": "#%% md\n"
    }
   },
   "source": [
    "## Can we categorize the health of countries based on their obesity, undernourished, deaths, and mortality rates?"
   ]
  },
  {
   "cell_type": "markdown",
   "id": "b0294c15",
   "metadata": {
    "pycharm": {
     "name": "#%% md\n"
    }
   },
   "source": [
    "explanation regarding the connection of the research question to the answers obtained from performing exploratory data analysis"
   ]
  },
  {
   "cell_type": "markdown",
   "id": "51298bd3",
   "metadata": {
    "pycharm": {
     "name": "#%% md\n"
    }
   },
   "source": [
    "importance and significance of the research question"
   ]
  }
 ],
 "metadata": {
  "kernelspec": {
   "display_name": "Python 3 (ipykernel)",
   "language": "python",
   "name": "python3"
  },
  "language_info": {
   "codemirror_mode": {
    "name": "ipython",
    "version": 3
   },
   "file_extension": ".py",
   "mimetype": "text/x-python",
   "name": "python",
   "nbconvert_exporter": "python",
   "pygments_lexer": "ipython3",
   "version": "3.9.12"
  },
  "vscode": {
   "interpreter": {
    "hash": "ec910b0e4d0395e14069f6b0633059fe919d083d0d249d3dfddc5d0b137a627c"
   }
  }
 },
 "nbformat": 4,
 "nbformat_minor": 5
}
