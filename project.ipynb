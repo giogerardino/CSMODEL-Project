{
 "cells": [
  {
   "cell_type": "code",
   "execution_count": 13,
   "id": "fac6bba5-068c-4c70-9b0b-dfc4a55931fc",
   "metadata": {},
   "outputs": [],
   "source": [
    "import numpy as np\n",
    "import pandas as pd\n",
    "food_df = pd.read_csv(\"Food_Supply_Quantity_kg_Data.csv\")"
   ]
  },
  {
   "cell_type": "code",
   "execution_count": 15,
   "id": "4ab14aa4-de72-4213-8b69-ff3074ed1e1b",
   "metadata": {},
   "outputs": [],
   "source": [
    "food_df = food_df.drop('Unit (all except Population)', axis=1)\n",
    "food_df = food_df.dropna()\n"
   ]
  },
  {
   "cell_type": "code",
   "execution_count": null,
   "id": "b4f16166-1fbd-48a5-89ac-2f2d40b94866",
   "metadata": {},
   "outputs": [],
   "source": []
  }
 ],
 "metadata": {
  "kernelspec": {
   "display_name": "Python 3 (ipykernel)",
   "language": "python",
   "name": "python3"
  },
  "language_info": {
   "codemirror_mode": {
    "name": "ipython",
    "version": 3
   },
   "file_extension": ".py",
   "mimetype": "text/x-python",
   "name": "python",
   "nbconvert_exporter": "python",
   "pygments_lexer": "ipython3",
   "version": "3.10.0"
  }
 },
 "nbformat": 4,
 "nbformat_minor": 5
}
